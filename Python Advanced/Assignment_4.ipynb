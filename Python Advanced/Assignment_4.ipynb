{
 "cells": [
  {
   "cell_type": "markdown",
   "id": "5d26a201",
   "metadata": {},
   "source": [
    "### Q1. Which two operator overloading methods can you use in your classes to support iteration?"
   ]
  },
  {
   "cell_type": "markdown",
   "id": "c4c7d4ff",
   "metadata": {},
   "source": [
    " `+` and `* `"
   ]
  },
  {
   "cell_type": "markdown",
   "id": "f7a1abaa",
   "metadata": {},
   "source": [
    "### Q2. In what contexts do the two operator overloading methods manage printing?"
   ]
  },
  {
   "cell_type": "code",
   "execution_count": null,
   "id": "f94d9527",
   "metadata": {},
   "outputs": [],
   "source": []
  },
  {
   "cell_type": "markdown",
   "id": "4f78e6b2",
   "metadata": {},
   "source": [
    "### Q3. In a class, how do you intercept slice operations?"
   ]
  },
  {
   "cell_type": "code",
   "execution_count": null,
   "id": "49bfe8c9",
   "metadata": {},
   "outputs": [],
   "source": []
  },
  {
   "cell_type": "markdown",
   "id": "bc2b9bbf",
   "metadata": {},
   "source": [
    "### Q4. In a class, how do you capture in-place addition?"
   ]
  },
  {
   "cell_type": "markdown",
   "id": "da592df2",
   "metadata": {},
   "source": [
    "we can use operator.iadd() method"
   ]
  },
  {
   "cell_type": "markdown",
   "id": "a0515618",
   "metadata": {},
   "source": [
    "### Q5. When is it appropriate to use operator overloading?"
   ]
  },
  {
   "cell_type": "markdown",
   "id": "4e6bfc37",
   "metadata": {},
   "source": [
    "\n",
    "1) To make code reusable, instead of writing multiple methods that differ slightly we can simply write one method and overload it.\n",
    "\n",
    "2) Needs code clarity and eliminates complexity.\n",
    "\n",
    "3) To makes code concise and simple to understand."
   ]
  },
  {
   "cell_type": "code",
   "execution_count": null,
   "id": "d3783b27",
   "metadata": {},
   "outputs": [],
   "source": []
  }
 ],
 "metadata": {
  "kernelspec": {
   "display_name": "Python 3 (ipykernel)",
   "language": "python",
   "name": "python3"
  },
  "language_info": {
   "codemirror_mode": {
    "name": "ipython",
    "version": 3
   },
   "file_extension": ".py",
   "mimetype": "text/x-python",
   "name": "python",
   "nbconvert_exporter": "python",
   "pygments_lexer": "ipython3",
   "version": "3.9.7"
  }
 },
 "nbformat": 4,
 "nbformat_minor": 5
}
