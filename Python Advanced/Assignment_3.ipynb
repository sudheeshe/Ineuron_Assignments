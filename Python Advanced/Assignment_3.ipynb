{
 "cells": [
  {
   "cell_type": "markdown",
   "id": "a155bb3e",
   "metadata": {},
   "source": [
    "### 1. What is the concept of an abstract superclass?"
   ]
  },
  {
   "cell_type": "markdown",
   "id": "daff1f47",
   "metadata": {},
   "source": [
    "Abstraction in Python is the process of hiding the real implementation of an application from the user and emphasizing only on usage of it."
   ]
  },
  {
   "cell_type": "markdown",
   "id": "bdabaea1",
   "metadata": {},
   "source": [
    "### 2. What happens when a class statement's top level contains a basic assignment statement?"
   ]
  },
  {
   "cell_type": "code",
   "execution_count": null,
   "id": "faba18fa",
   "metadata": {},
   "outputs": [],
   "source": []
  },
  {
   "cell_type": "markdown",
   "id": "b09a9f6a",
   "metadata": {},
   "source": [
    "### 3. Why does a class need to manually call a superclass's __init__ method?"
   ]
  },
  {
   "cell_type": "markdown",
   "id": "63faf4a4",
   "metadata": {},
   "source": [
    "If you need something from super's __init__ to be done in addition to what is being done in the current class's __init__, you must call it yourself, since that will not happen automatically. But if you don't need anything from super's __init__, no need to call it."
   ]
  },
  {
   "cell_type": "markdown",
   "id": "71c21cde",
   "metadata": {},
   "source": [
    "### 4. How can you augment, instead of completely replacing, an inherited method?"
   ]
  },
  {
   "cell_type": "markdown",
   "id": "adcdae52",
   "metadata": {},
   "source": [
    "We can do by Method Overriding \n",
    "\n",
    "Method overriding is an ability of any object-oriented programming language that allows a subclass or child class to provide a specific implementation of a method that is already provided by one of its super-classes or parent classes. When a method in a subclass has the same name, same parameters or signature and same return type(or sub-type) as a method in its super-class, then the method in the subclass is said to override the method in the super-class."
   ]
  },
  {
   "cell_type": "code",
   "execution_count": 4,
   "id": "42c775e7",
   "metadata": {},
   "outputs": [
    {
     "name": "stdout",
     "output_type": "stream",
     "text": [
      "Inside Parent\n",
      "Inside Child\n"
     ]
    }
   ],
   "source": [
    "class Parent():\n",
    "    \n",
    "    # Parent's show method\n",
    "    def show(self):\n",
    "        print(\"Inside Parent\")\n",
    "          \n",
    "# Defining child class\n",
    "class Child(Parent):\n",
    "           \n",
    "    # Child's show method\n",
    "    def show(self):\n",
    "        print(\"Inside Child\")\n",
    "          \n",
    "          \n",
    "# Driver's code\n",
    "obj1 = Parent()\n",
    "obj2 = Child()\n",
    "  \n",
    "obj1.show()\n",
    "obj2.show()"
   ]
  },
  {
   "cell_type": "markdown",
   "id": "9f5b795f",
   "metadata": {},
   "source": [
    "### 5. How is the local scope of a class different from that of a function?"
   ]
  },
  {
   "cell_type": "markdown",
   "id": "66d49df4",
   "metadata": {},
   "source": [
    "Class variable : Declaring a variable in a class (outside of a function): all class functions can access it (basically a public variable)\n",
    "\n",
    "Method variables: Declaring a variable inside a function inside a class: only that function can access it (it's in that function's scope)\n"
   ]
  },
  {
   "cell_type": "code",
   "execution_count": null,
   "id": "c71f49b4",
   "metadata": {},
   "outputs": [],
   "source": []
  }
 ],
 "metadata": {
  "kernelspec": {
   "display_name": "Python 3 (ipykernel)",
   "language": "python",
   "name": "python3"
  },
  "language_info": {
   "codemirror_mode": {
    "name": "ipython",
    "version": 3
   },
   "file_extension": ".py",
   "mimetype": "text/x-python",
   "name": "python",
   "nbconvert_exporter": "python",
   "pygments_lexer": "ipython3",
   "version": "3.9.7"
  }
 },
 "nbformat": 4,
 "nbformat_minor": 5
}
