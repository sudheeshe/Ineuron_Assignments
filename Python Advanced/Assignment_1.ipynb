{
 "cells": [
  {
   "cell_type": "markdown",
   "id": "51b703d5",
   "metadata": {},
   "source": [
    "### Q1. What is the purpose of Python's OOP?"
   ]
  },
  {
   "cell_type": "markdown",
   "id": "80aab454",
   "metadata": {},
   "source": [
    "OOPs is a programming paradigm that uses objects and classes in programming. It aims to implement real-world entities like inheritance, polymorphisms, encapsulation, etc."
   ]
  },
  {
   "cell_type": "markdown",
   "id": "d1052505",
   "metadata": {},
   "source": [
    "### Q2. Where does an inheritance search look for an attribute?"
   ]
  },
  {
   "cell_type": "code",
   "execution_count": null,
   "id": "becb38d7",
   "metadata": {},
   "outputs": [],
   "source": []
  },
  {
   "cell_type": "markdown",
   "id": "30f316e7",
   "metadata": {},
   "source": [
    "### Q3. How do you distinguish between a class object and an instance object?"
   ]
  },
  {
   "cell_type": "markdown",
   "id": "12ea3f3a",
   "metadata": {},
   "source": [
    "A `class` is an entity that determines how an object will behave and what the object will contain. In other words, it is a blueprint or a set of instruction to build a specific type of object. It provides initial values for member variables and member functions or methods.\n",
    "\n",
    "An `instance` is a unique copy of a Class that representing an Object. When a new instance of a class is created, the JVM will allocate a room of memory for that class instance."
   ]
  },
  {
   "cell_type": "markdown",
   "id": "6f22fcaf",
   "metadata": {},
   "source": [
    "### Q4. What makes the first argument in a class’s method function special?"
   ]
  },
  {
   "cell_type": "markdown",
   "id": "ddc79f34",
   "metadata": {},
   "source": [
    "`First argument` represents the instance of the class the first argument we usually name as `self` . By using the `self`  we can access the attributes and methods of the class in python. It binds the attributes with the given arguments.\n",
    "The reason you need to use `self` is because Python does not use the @ syntax to refer to instance attributes."
   ]
  },
  {
   "cell_type": "markdown",
   "id": "95a711a1",
   "metadata": {},
   "source": [
    "### Q5. What is the purpose of the __init__ method?"
   ]
  },
  {
   "cell_type": "markdown",
   "id": "1242b1d4",
   "metadata": {},
   "source": [
    "The `__init__` method is similar to constructors in C++ and Java. Constructors are used to initialize the object’s state. The task of constructors is to initialize(assign values) to the data members of the class when an object of class is created. Like methods, a constructor also contains collection of statements(i.e. instructions) that are executed at time of Object creation. It is run as soon as an object of a class is instantiated."
   ]
  },
  {
   "cell_type": "markdown",
   "id": "2bf3971e",
   "metadata": {},
   "source": [
    "### Q6. What is the process for creating a class instance?"
   ]
  },
  {
   "cell_type": "markdown",
   "id": "38d2c255",
   "metadata": {},
   "source": [
    "A `class` is a template for storing data and functions in an object. A class can be instantiated to create a unique instance. A class can accept parameters in the constructor.\n",
    "\n",
    "USE THE CLASS NAME TO CREATE A NEW INSTANCE\n",
    "\n",
    "eg: Call ClassName() to create a new instance of the class ClassName."
   ]
  },
  {
   "cell_type": "markdown",
   "id": "40c1deef",
   "metadata": {},
   "source": [
    "### Q7. What is the process for creating a class?"
   ]
  },
  {
   "cell_type": "markdown",
   "id": "c0dd92a2",
   "metadata": {},
   "source": [
    "In Python, a class can be created by using the keyword class, followed by the class name. The syntax to create a class is given below.\n",
    "\n",
    "A class contains a statement suite including fields, constructor, function, etc. definition.\n",
    "Consider the following example to create a class Employee which contains two fields as Employee id, and name.\n",
    "\n",
    "The class also contains a function display(), which is used to display the information of the Employee."
   ]
  },
  {
   "cell_type": "code",
   "execution_count": 5,
   "id": "a02a1bd2",
   "metadata": {},
   "outputs": [],
   "source": [
    "class Employee:    \n",
    "    id = 1   \n",
    "    name = \"Sudheesh\"    \n",
    "    def display (self):    \n",
    "        print(self.id,self.name)"
   ]
  },
  {
   "cell_type": "code",
   "execution_count": 6,
   "id": "f0bbeccd",
   "metadata": {},
   "outputs": [],
   "source": [
    "x = Employee()"
   ]
  },
  {
   "cell_type": "code",
   "execution_count": 7,
   "id": "03708159",
   "metadata": {},
   "outputs": [
    {
     "data": {
      "text/plain": [
       "1"
      ]
     },
     "execution_count": 7,
     "metadata": {},
     "output_type": "execute_result"
    }
   ],
   "source": [
    "x. id"
   ]
  },
  {
   "cell_type": "code",
   "execution_count": 8,
   "id": "f239aefc",
   "metadata": {},
   "outputs": [
    {
     "name": "stdout",
     "output_type": "stream",
     "text": [
      "1 Sudheesh\n"
     ]
    }
   ],
   "source": [
    "x.display()"
   ]
  },
  {
   "cell_type": "markdown",
   "id": "863e92b7",
   "metadata": {},
   "source": [
    "### Q8. How would you define the superclasses of a class?"
   ]
  },
  {
   "cell_type": "markdown",
   "id": "9a81f309",
   "metadata": {},
   "source": [
    "First way is we can use a Super Class Constructor in the child class\n",
    "\n",
    "`super().__init__()` \n",
    "\n",
    "and second way is \n",
    "\n",
    "`ParentClass.__init__(self)`"
   ]
  },
  {
   "cell_type": "code",
   "execution_count": null,
   "id": "dcab55fa",
   "metadata": {},
   "outputs": [],
   "source": []
  }
 ],
 "metadata": {
  "kernelspec": {
   "display_name": "Python 3 (ipykernel)",
   "language": "python",
   "name": "python3"
  },
  "language_info": {
   "codemirror_mode": {
    "name": "ipython",
    "version": 3
   },
   "file_extension": ".py",
   "mimetype": "text/x-python",
   "name": "python",
   "nbconvert_exporter": "python",
   "pygments_lexer": "ipython3",
   "version": "3.9.7"
  }
 },
 "nbformat": 4,
 "nbformat_minor": 5
}
