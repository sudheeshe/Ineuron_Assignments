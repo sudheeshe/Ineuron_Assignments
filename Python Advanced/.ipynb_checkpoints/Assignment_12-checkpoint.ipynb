{
 "cells": [
  {
   "cell_type": "markdown",
   "id": "ec13d639",
   "metadata": {},
   "source": [
    "### Q1. Does assigning a value to a string's indexed character violate Python's string immutability?"
   ]
  },
  {
   "cell_type": "markdown",
   "id": "9170613b",
   "metadata": {},
   "source": [
    "No , string is a Immutablle data type"
   ]
  },
  {
   "cell_type": "code",
   "execution_count": 3,
   "id": "2df3af16",
   "metadata": {},
   "outputs": [
    {
     "ename": "TypeError",
     "evalue": "'str' object does not support item assignment",
     "output_type": "error",
     "traceback": [
      "\u001b[1;31m---------------------------------------------------------------------------\u001b[0m",
      "\u001b[1;31mTypeError\u001b[0m                                 Traceback (most recent call last)",
      "\u001b[1;32mC:\\Users\\SUDHEE~1\\AppData\\Local\\Temp/ipykernel_25336/2857923798.py\u001b[0m in \u001b[0;36m<module>\u001b[1;34m\u001b[0m\n\u001b[0;32m      1\u001b[0m \u001b[0ma\u001b[0m \u001b[1;33m=\u001b[0m \u001b[1;34m\"Hello\"\u001b[0m\u001b[1;33m\u001b[0m\u001b[1;33m\u001b[0m\u001b[0m\n\u001b[0;32m      2\u001b[0m \u001b[1;33m\u001b[0m\u001b[0m\n\u001b[1;32m----> 3\u001b[1;33m \u001b[0ma\u001b[0m\u001b[1;33m[\u001b[0m\u001b[1;36m0\u001b[0m\u001b[1;33m]\u001b[0m\u001b[1;33m=\u001b[0m \u001b[1;34m'k'\u001b[0m\u001b[1;33m\u001b[0m\u001b[1;33m\u001b[0m\u001b[0m\n\u001b[0m",
      "\u001b[1;31mTypeError\u001b[0m: 'str' object does not support item assignment"
     ]
    }
   ],
   "source": [
    "a = \"Hello\"\n",
    "\n",
    "a[0]= 'k'"
   ]
  },
  {
   "cell_type": "markdown",
   "id": "b76ca7d9",
   "metadata": {},
   "source": [
    "### Q2. Does using the += operator to concatenate strings violate Python's string immutability? Why or why not?"
   ]
  },
  {
   "cell_type": "code",
   "execution_count": 4,
   "id": "0b4cc128",
   "metadata": {},
   "outputs": [],
   "source": [
    "a = 'Apple'\n",
    "\n",
    "a+='Macbook'"
   ]
  },
  {
   "cell_type": "code",
   "execution_count": 5,
   "id": "b1870463",
   "metadata": {},
   "outputs": [
    {
     "data": {
      "text/plain": [
       "'AppleMacbook'"
      ]
     },
     "execution_count": 5,
     "metadata": {},
     "output_type": "execute_result"
    }
   ],
   "source": [
    "a"
   ]
  },
  {
   "cell_type": "markdown",
   "id": "a301d15c",
   "metadata": {},
   "source": [
    "First `a` pointed to the string `Apple`. Then you changed the variable `a` to point at a new string `AppleMackook`. You didn't actually mutate the string `Apple`. Strings are immutable, variables `a` assigned to new string created that is `AppleMackook` ."
   ]
  },
  {
   "cell_type": "markdown",
   "id": "f09f7dab",
   "metadata": {},
   "source": [
    "### Q3. In Python, how many different ways are there to index a character?"
   ]
  },
  {
   "cell_type": "markdown",
   "id": "4469cda9",
   "metadata": {},
   "source": [
    "1) Accessing Characters by Positive Index Number\n",
    "\n",
    "2) Accessing Characters by Negative Index Number"
   ]
  },
  {
   "cell_type": "markdown",
   "id": "23a99efb",
   "metadata": {},
   "source": [
    "### Q4. What is the relationship between indexing and slicing?"
   ]
  },
  {
   "cell_type": "markdown",
   "id": "14c379b7",
   "metadata": {},
   "source": [
    "Indexing: Indexing is used to obtain individual elements.\n",
    "\n",
    "Slicing: Slicing is used to obtain a sequence of elements."
   ]
  },
  {
   "cell_type": "markdown",
   "id": "5bb93343",
   "metadata": {},
   "source": [
    "### Q5. What is an indexed character's exact data type? What is the data form of a slicing-generated substring?"
   ]
  },
  {
   "cell_type": "code",
   "execution_count": 6,
   "id": "39fe13b6",
   "metadata": {},
   "outputs": [
    {
     "name": "stdout",
     "output_type": "stream",
     "text": [
      "<class 'str'>\n",
      "<class 'str'>\n"
     ]
    }
   ],
   "source": [
    "a = 'Apple'\n",
    "\n",
    "print(type(a[0]))\n",
    "print(type(a[0:3]))"
   ]
  },
  {
   "cell_type": "markdown",
   "id": "0539d7d7",
   "metadata": {},
   "source": [
    "### Q6. What is the relationship between string and character \"types\" in Python?"
   ]
  },
  {
   "cell_type": "markdown",
   "id": "093f8bad",
   "metadata": {},
   "source": [
    "A `character` is anything you can type on the keyboard in one keystroke,\n",
    "like a letter, a number, or a backslash.\n",
    "\n",
    "A `string` is a sequence of characters."
   ]
  },
  {
   "cell_type": "markdown",
   "id": "eed69091",
   "metadata": {},
   "source": [
    "### Q7. Identify at least two operators and one method that allow you to combine one or more smaller strings to create a larger string."
   ]
  },
  {
   "cell_type": "code",
   "execution_count": 7,
   "id": "36f93e8c",
   "metadata": {},
   "outputs": [
    {
     "data": {
      "text/plain": [
       "'AppleApple'"
      ]
     },
     "execution_count": 7,
     "metadata": {},
     "output_type": "execute_result"
    }
   ],
   "source": [
    "a = 'Apple'\n",
    "\n",
    "a+a "
   ]
  },
  {
   "cell_type": "code",
   "execution_count": 8,
   "id": "4e62ceca",
   "metadata": {},
   "outputs": [
    {
     "data": {
      "text/plain": [
       "'AppleApple'"
      ]
     },
     "execution_count": 8,
     "metadata": {},
     "output_type": "execute_result"
    }
   ],
   "source": [
    "a*2"
   ]
  },
  {
   "cell_type": "code",
   "execution_count": 15,
   "id": "d72c3d16",
   "metadata": {},
   "outputs": [
    {
     "name": "stdout",
     "output_type": "stream",
     "text": [
      "'Apple''Apple'\n"
     ]
    }
   ],
   "source": [
    "print(\"%a%a\" %(a,a))"
   ]
  },
  {
   "cell_type": "code",
   "execution_count": 11,
   "id": "d324e05a",
   "metadata": {},
   "outputs": [
    {
     "data": {
      "text/plain": [
       "'Apple Apple'"
      ]
     },
     "execution_count": 11,
     "metadata": {},
     "output_type": "execute_result"
    }
   ],
   "source": [
    "\" \".join([a,a])"
   ]
  },
  {
   "cell_type": "markdown",
   "id": "b1c7f302",
   "metadata": {},
   "source": [
    "### Q8. What is the benefit of first checking the target string with in or not in before using the index method to find a substring?"
   ]
  },
  {
   "cell_type": "code",
   "execution_count": null,
   "id": "f65e0366",
   "metadata": {},
   "outputs": [],
   "source": []
  },
  {
   "cell_type": "markdown",
   "id": "d072decd",
   "metadata": {},
   "source": [
    "### Q9. Which operators and built-in string methods produce simple Boolean (true/false) results?"
   ]
  },
  {
   "cell_type": "markdown",
   "id": "1ed97221",
   "metadata": {},
   "source": [
    "== and != "
   ]
  },
  {
   "cell_type": "markdown",
   "id": "2840c4dc",
   "metadata": {},
   "source": [
    "str.isalnum()\tString consists of only alphanumeric characters (no symbols)\n",
    "\n",
    "str.isalpha()\tString consists of only alphabetic characters (no symbols)\n",
    "\n",
    "str.islower()\tString’s alphabetic characters are all lower case\n",
    "\n",
    "str.isnumeric()\tString consists of only numeric characters\n",
    "\n",
    "str.isspace()\tString consists of only whitespace characters\n",
    "\n",
    "str.istitle()\tString is in title case\n",
    "\n",
    "str.isupper()\tString’s alphabetic characters are all upper case"
   ]
  },
  {
   "cell_type": "code",
   "execution_count": null,
   "id": "cf726afb",
   "metadata": {},
   "outputs": [],
   "source": []
  }
 ],
 "metadata": {
  "kernelspec": {
   "display_name": "Python 3 (ipykernel)",
   "language": "python",
   "name": "python3"
  },
  "language_info": {
   "codemirror_mode": {
    "name": "ipython",
    "version": 3
   },
   "file_extension": ".py",
   "mimetype": "text/x-python",
   "name": "python",
   "nbconvert_exporter": "python",
   "pygments_lexer": "ipython3",
   "version": "3.9.7"
  }
 },
 "nbformat": 4,
 "nbformat_minor": 5
}
