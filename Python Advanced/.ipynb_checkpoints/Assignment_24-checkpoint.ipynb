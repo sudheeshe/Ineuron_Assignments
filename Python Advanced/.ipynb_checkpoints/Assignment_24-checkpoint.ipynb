{
 "cells": [
  {
   "cell_type": "markdown",
   "id": "6974c5ab",
   "metadata": {},
   "source": [
    "### Q1. Is it permissible to use several import statements to import the same module? What would the goal be? Can you think of a situation where it would be beneficial?"
   ]
  },
  {
   "cell_type": "code",
   "execution_count": 4,
   "id": "077cf578",
   "metadata": {},
   "outputs": [],
   "source": [
    "import sys"
   ]
  },
  {
   "cell_type": "code",
   "execution_count": 6,
   "id": "956c6130",
   "metadata": {},
   "outputs": [],
   "source": [
    "import sys as d"
   ]
  },
  {
   "cell_type": "code",
   "execution_count": 7,
   "id": "c9d08138",
   "metadata": {},
   "outputs": [],
   "source": [
    "import sys as f"
   ]
  },
  {
   "cell_type": "markdown",
   "id": "717f52d3",
   "metadata": {},
   "source": [
    "Nothing, if a module has already been imported, it's not loaded again. You will simply get a reference to the module that has already been imported"
   ]
  },
  {
   "cell_type": "markdown",
   "id": "4810e42d",
   "metadata": {},
   "source": [
    "### Q2. What are some of a module's characteristics? (Name at least one.)"
   ]
  },
  {
   "cell_type": "markdown",
   "id": "6d8b103f",
   "metadata": {},
   "source": [
    "Characteristics of Modules\n",
    "\n",
    "The following are the desirable characteristics of a module.\n",
    "\n",
    "1. Modules contain instructions, processing logic, and data.\n",
    "\n",
    "2. Modules can be separately compiled and stored in a library.\n",
    "\n",
    "3. Modules can be included in a program.\n",
    "\n",
    "4. Module segments can be used by invoking a name and some parameters.\n",
    "\n",
    "5. Module segments can be used by other modules."
   ]
  },
  {
   "cell_type": "markdown",
   "id": "ee236cd0",
   "metadata": {},
   "source": [
    "### Q3. Circular importing, such as when two modules import each other, can lead to dependencies and bugs that aren't visible. How can you go about creating a program that avoids mutual importing?"
   ]
  },
  {
   "cell_type": "markdown",
   "id": "4aaefb82",
   "metadata": {},
   "source": [
    "1) Importing The Module Itself : There is a good workaround Python circular import error that you can import the module itself rather than importing object/function from the module. This way you can import and use all the objects and variables from the module.\n",
    "\n",
    "2) Rename Your Working file : Sometimes, we can name our working file to module name without knowing its consequences (Even I did it many times :P). Renaming the file will work perfectly in such cases. For example, if you want to use the numpy module, you should avoid your working file naming numpy.py."
   ]
  },
  {
   "cell_type": "markdown",
   "id": "bf2f9dad",
   "metadata": {},
   "source": [
    "### Q4. Why is  _ _all_ _ in Python?"
   ]
  },
  {
   "cell_type": "markdown",
   "id": "c52fe6aa",
   "metadata": {},
   "source": [
    "`__all__` is a variable that can be set in the `__init__.py` file of a package.\n",
    "\n",
    "The `__all__` variable is a list of strings which defines those symbols that are imported when a program does\n",
    "\n",
    "from package import * \n",
    "If the `__all__` for this package was set as follows:\n",
    "\n",
    "`__all__ ` = `[‘echo’, ‘effect’, ‘reverb’]` \n",
    "\n",
    "then\n",
    "\n",
    "        from package import * \n",
    "\n",
    "would be equivalent to:\n",
    "\n",
    "        from package import echo \n",
    "\n",
    "        from package import effect \n",
    "\n",
    "        from package import reverb "
   ]
  },
  {
   "cell_type": "markdown",
   "id": "b52352fc",
   "metadata": {},
   "source": [
    "### Q5. In what situation is it useful to refer to the _ _name_ _ attribute or the string '_ _main_ _'?"
   ]
  },
  {
   "cell_type": "markdown",
   "id": "f685a889",
   "metadata": {},
   "source": [
    "Before executing code, Python interpreter reads source file and define few special variables/global variables. \n",
    "\n",
    "If the python interpreter is running that module (the source file) as the main program, it sets the special `__name__` variable to have a value `__main__`. If this file is being imported from another module, `__name__` will be set to the module’s name. Module’s name is available as value to `__name__` global variable. \n",
    "\n",
    "its is useful when we need to run a python file only if its a sourcs file as a condition"
   ]
  },
  {
   "cell_type": "markdown",
   "id": "37b61084",
   "metadata": {},
   "source": [
    "### Q6. What are some of the benefits of attaching a program counter to the RPN interpreter application, which interprets an RPN script line by line?"
   ]
  },
  {
   "cell_type": "code",
   "execution_count": null,
   "id": "2c4f85df",
   "metadata": {},
   "outputs": [],
   "source": []
  },
  {
   "cell_type": "markdown",
   "id": "131a9297",
   "metadata": {},
   "source": [
    "### Q7. What are the minimum expressions or statements (or both) that you'd need to render a basic programming language like RPN primitive but complete— that is, capable of carrying out any computerised task theoretically possible?"
   ]
  },
  {
   "cell_type": "code",
   "execution_count": null,
   "id": "b3831bf5",
   "metadata": {},
   "outputs": [],
   "source": []
  }
 ],
 "metadata": {
  "kernelspec": {
   "display_name": "Python 3 (ipykernel)",
   "language": "python",
   "name": "python3"
  },
  "language_info": {
   "codemirror_mode": {
    "name": "ipython",
    "version": 3
   },
   "file_extension": ".py",
   "mimetype": "text/x-python",
   "name": "python",
   "nbconvert_exporter": "python",
   "pygments_lexer": "ipython3",
   "version": "3.9.7"
  }
 },
 "nbformat": 4,
 "nbformat_minor": 5
}
