{
 "cells": [
  {
   "cell_type": "markdown",
   "id": "3ff1294d",
   "metadata": {},
   "source": [
    "### Q1. What is the difference between `__getattr__ and __getattribute__` ?"
   ]
  },
  {
   "cell_type": "markdown",
   "id": "dfce818f",
   "metadata": {},
   "source": [
    "`__getattr__` gets called if there is no attribute in the instance.\n",
    "\n",
    "It’s invoked “last”, if Python can’t find that attribute.(lowest priority)\n",
    "\n",
    "\n",
    "`__getattribute__` gets called all the times, whether there is the attribute or not.\n",
    "\n",
    "It’s invoked “first”(highest priority) — it actually “intercepts” every lookup.\n",
    "\n",
    "So, even if there is the attribute in the instance, Python calls `__getattribute__` first, with the attribute as an argument."
   ]
  },
  {
   "cell_type": "code",
   "execution_count": 5,
   "id": "44a27ae9",
   "metadata": {},
   "outputs": [
    {
     "name": "stdout",
     "output_type": "stream",
     "text": [
      "1\n",
      "10\n",
      "Not in class\n"
     ]
    }
   ],
   "source": [
    "# __getattr__ example:\n",
    "\n",
    "\n",
    "class Run:\n",
    "    def __init__(self, start, finish):\n",
    "        self.start=start\n",
    "        self.finish=finish\n",
    "\n",
    "\n",
    "    def __getattr__(self, item):\n",
    "        self.__dict__[item] = 0\n",
    "        return 'Not in class' \n",
    "\n",
    "\n",
    "obj1 = Run(1, 10)\n",
    "\n",
    "print(obj1.start)\n",
    "print(obj1.finish)\n",
    "\n",
    "\n",
    "print(obj1.a)  # `a` attribute is not there in the class and __getattr__ is called and return the val without rasing error msg\n",
    "\n"
   ]
  },
  {
   "cell_type": "code",
   "execution_count": 8,
   "id": "1c008241",
   "metadata": {},
   "outputs": [
    {
     "name": "stdout",
     "output_type": "stream",
     "text": [
      "1\n",
      "10\n"
     ]
    },
    {
     "ename": "AttributeError",
     "evalue": "",
     "output_type": "error",
     "traceback": [
      "\u001b[1;31m---------------------------------------------------------------------------\u001b[0m",
      "\u001b[1;31mAttributeError\u001b[0m                            Traceback (most recent call last)",
      "\u001b[1;32mC:\\Users\\SUDHEE~1\\AppData\\Local\\Temp/ipykernel_24816/3072698698.py\u001b[0m in \u001b[0;36m<module>\u001b[1;34m\u001b[0m\n\u001b[0;32m     23\u001b[0m \u001b[1;31m# 10\u001b[0m\u001b[1;33m\u001b[0m\u001b[1;33m\u001b[0m\u001b[0m\n\u001b[0;32m     24\u001b[0m \u001b[1;33m\u001b[0m\u001b[0m\n\u001b[1;32m---> 25\u001b[1;33m \u001b[0mprint\u001b[0m\u001b[1;33m(\u001b[0m\u001b[0mobj1\u001b[0m\u001b[1;33m.\u001b[0m\u001b[0manewone\u001b[0m\u001b[1;33m)\u001b[0m\u001b[1;33m\u001b[0m\u001b[1;33m\u001b[0m\u001b[0m\n\u001b[0m\u001b[0;32m     26\u001b[0m \u001b[1;31m# ... AttributeError\u001b[0m\u001b[1;33m\u001b[0m\u001b[1;33m\u001b[0m\u001b[0m\n\u001b[0;32m     27\u001b[0m \u001b[1;33m\u001b[0m\u001b[0m\n",
      "\u001b[1;32mC:\\Users\\SUDHEE~1\\AppData\\Local\\Temp/ipykernel_24816/3072698698.py\u001b[0m in \u001b[0;36m__getattribute__\u001b[1;34m(self, item)\u001b[0m\n\u001b[0;32m      9\u001b[0m     \u001b[1;32mdef\u001b[0m \u001b[0m__getattribute__\u001b[0m\u001b[1;33m(\u001b[0m\u001b[0mself\u001b[0m\u001b[1;33m,\u001b[0m \u001b[0mitem\u001b[0m\u001b[1;33m)\u001b[0m\u001b[1;33m:\u001b[0m\u001b[1;33m\u001b[0m\u001b[1;33m\u001b[0m\u001b[0m\n\u001b[0;32m     10\u001b[0m         \u001b[1;32mif\u001b[0m \u001b[0mitem\u001b[0m\u001b[1;33m.\u001b[0m\u001b[0mstartswith\u001b[0m\u001b[1;33m(\u001b[0m\u001b[1;34m'ane'\u001b[0m\u001b[1;33m)\u001b[0m\u001b[1;33m:\u001b[0m\u001b[1;33m\u001b[0m\u001b[1;33m\u001b[0m\u001b[0m\n\u001b[1;32m---> 11\u001b[1;33m             \u001b[1;32mraise\u001b[0m \u001b[0mAttributeError\u001b[0m\u001b[1;33m\u001b[0m\u001b[1;33m\u001b[0m\u001b[0m\n\u001b[0m\u001b[0;32m     12\u001b[0m         \u001b[1;32mreturn\u001b[0m \u001b[0mobject\u001b[0m\u001b[1;33m.\u001b[0m\u001b[0m__getattribute__\u001b[0m\u001b[1;33m(\u001b[0m\u001b[0mself\u001b[0m\u001b[1;33m,\u001b[0m\u001b[0mitem\u001b[0m\u001b[1;33m)\u001b[0m\u001b[1;33m\u001b[0m\u001b[1;33m\u001b[0m\u001b[0m\n\u001b[0;32m     13\u001b[0m \u001b[1;33m\u001b[0m\u001b[0m\n",
      "\u001b[1;31mAttributeError\u001b[0m: "
     ]
    }
   ],
   "source": [
    "# __getattribute__ example: \n",
    "\n",
    "class Running:\n",
    "    def __init__(self, start, finish):\n",
    "        self.start=start\n",
    "        self.finish=finish\n",
    "\n",
    "\n",
    "    def __getattribute__(self, item): \n",
    "        if item.startswith('ane'): \n",
    "            raise AttributeError    \n",
    "        return object.__getattribute__(self,item) \n",
    "       \n",
    "\n",
    "\n",
    "\n",
    "obj1 = Running(1, 10)\n",
    "\n",
    "print(obj1.start)\n",
    "# 1\n",
    "\n",
    "print(obj1.finish)\n",
    "# 10\n",
    "\n",
    "print(obj1.anewone)\n",
    "# ... AttributeError\n",
    "\n",
    "\n",
    "# Now you can see how the if condition looks for the substring “ane” at the beginning of every attribute’s name \n",
    "# and raise an exception AttributeError when it gets the condition."
   ]
  },
  {
   "cell_type": "markdown",
   "id": "2a98417d",
   "metadata": {},
   "source": [
    "### Q2. What is the difference between properties and descriptors?"
   ]
  },
  {
   "cell_type": "markdown",
   "id": "488e1def",
   "metadata": {},
   "source": [
    "Python descriptors are created to manage the attributes of different classes which use the object as reference. In descriptors we used three different methods that are `__getters__(), __setters__(), and __delete__()` . If any of those methods are defined for an object, it can be termed as a descriptor.\n",
    "\n",
    "\n",
    "\n",
    "The property() method takes the get, set and delete methods as arguments and returns an object of the property class."
   ]
  },
  {
   "cell_type": "markdown",
   "id": "04f57f36",
   "metadata": {},
   "source": [
    "### Q3. What are the key differences in functionality between __getattr__ and __getattribute__, as well as properties and descriptors?"
   ]
  },
  {
   "cell_type": "markdown",
   "id": "a8ee851c",
   "metadata": {},
   "source": [
    "`__getattr__ `\n",
    "\n",
    "It’s invoked “last”, if Python can’t find that attribute.(lowest priority)\n",
    "\n",
    "`__getattribute__`gets called all the times, whether there is the attribute or not.\n",
    "\n",
    "It’s invoked “first”(highest priority) — it actually “intercepts” every lookup.\n",
    "\n",
    "So, even if there is the attribute in the instance, Python calls `__getattribute__` first, with the attribute as an argument.\n",
    "\n",
    "\n",
    "\n",
    "\n",
    "`descriptors` we used three different methods that are `__getters__(), __setters__(), and __delete__()` . If any of those methods are defined for an object, it can be termed as a descriptor.\n",
    "\n",
    "\n",
    "The property() method takes the get, set and delete methods as arguments and returns an object of the property class"
   ]
  },
  {
   "cell_type": "code",
   "execution_count": null,
   "id": "91bcbf41",
   "metadata": {},
   "outputs": [],
   "source": []
  }
 ],
 "metadata": {
  "kernelspec": {
   "display_name": "Python 3 (ipykernel)",
   "language": "python",
   "name": "python3"
  },
  "language_info": {
   "codemirror_mode": {
    "name": "ipython",
    "version": 3
   },
   "file_extension": ".py",
   "mimetype": "text/x-python",
   "name": "python",
   "nbconvert_exporter": "python",
   "pygments_lexer": "ipython3",
   "version": "3.9.7"
  }
 },
 "nbformat": 4,
 "nbformat_minor": 5
}
