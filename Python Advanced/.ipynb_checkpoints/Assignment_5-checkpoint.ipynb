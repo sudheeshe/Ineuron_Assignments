{
 "cells": [
  {
   "cell_type": "markdown",
   "id": "0acafed3",
   "metadata": {},
   "source": [
    "### Q1. What is the meaning of multiple inheritance?"
   ]
  },
  {
   "cell_type": "markdown",
   "id": "049b733e",
   "metadata": {},
   "source": [
    "When a class is derived from more than one base class it is called multiple Inheritance. The derived class inherits all the features of the base case."
   ]
  },
  {
   "cell_type": "markdown",
   "id": "e7a35ae2",
   "metadata": {},
   "source": [
    "### Q2. What is the concept of delegation?"
   ]
  },
  {
   "cell_type": "markdown",
   "id": "037b0a03",
   "metadata": {},
   "source": [
    "the delegation pattern is an object-oriented design pattern that allows object composition to achieve the same code reuse as inheritance"
   ]
  },
  {
   "cell_type": "code",
   "execution_count": 8,
   "id": "c3e57130",
   "metadata": {},
   "outputs": [],
   "source": [
    "class A:\n",
    "    \n",
    "    def say_hi(self):\n",
    "        return 'Hello world'\n",
    "    \n",
    "class B:\n",
    "        def __init__(self, obj):\n",
    "            self.obj = obj\n",
    "        \n",
    "        def welcome(self):\n",
    "            return self.obj.say_hi()"
   ]
  },
  {
   "cell_type": "code",
   "execution_count": 9,
   "id": "a8957273",
   "metadata": {},
   "outputs": [],
   "source": [
    "x = A()"
   ]
  },
  {
   "cell_type": "code",
   "execution_count": 10,
   "id": "81f45f94",
   "metadata": {},
   "outputs": [],
   "source": [
    "y = B(x)"
   ]
  },
  {
   "cell_type": "code",
   "execution_count": 11,
   "id": "5abe93db",
   "metadata": {},
   "outputs": [
    {
     "data": {
      "text/plain": [
       "'Hello world'"
      ]
     },
     "execution_count": 11,
     "metadata": {},
     "output_type": "execute_result"
    }
   ],
   "source": [
    "y.welcome()"
   ]
  },
  {
   "cell_type": "markdown",
   "id": "49aca11b",
   "metadata": {},
   "source": [
    "### Q3. What is the concept of composition?"
   ]
  },
  {
   "cell_type": "markdown",
   "id": "75a77cd1",
   "metadata": {},
   "source": [
    "Composition basically enables us for creating complex types objects by combining other types of objects in the program.\n",
    "\n",
    "one class is container and other class is content and if you delete the container object then all of its contents objects are also deleted."
   ]
  },
  {
   "cell_type": "code",
   "execution_count": 13,
   "id": "c4d774b4",
   "metadata": {},
   "outputs": [
    {
     "name": "stdout",
     "output_type": "stream",
     "text": [
      "190000\n"
     ]
    }
   ],
   "source": [
    "class Salary:\n",
    "    \n",
    "    def __init__(self, pay, bonus):\n",
    "        self.pay=pay\n",
    "        self.bonus=bonus\n",
    "    def annual_salary(self):\n",
    "        return (self.pay*12) + self.bonus \n",
    "\n",
    "class Employee:\n",
    "    \n",
    "    def __init__(self, name, age, pay, bonus):\n",
    "        self.name=name\n",
    "        self.age=age\n",
    "        self.obj_salary= Salary(pay, bonus) # Salary class is called inside Employee class\n",
    "    \n",
    "    def total_salary(self):\n",
    "        return self.obj_salary.annual_salary()  \n",
    "\n",
    "    \n",
    "emp = Employee('max', 25, 15000, 10000)\n",
    "print(emp.total_salary())  \n"
   ]
  },
  {
   "cell_type": "markdown",
   "id": "82d6e3a7",
   "metadata": {},
   "source": [
    "### Q4. What are bound methods and how do we use them?"
   ]
  },
  {
   "cell_type": "markdown",
   "id": "c027c2ff",
   "metadata": {},
   "source": [
    "A bound method is the one which is dependent on the instance of the class as the first argument. It passes the instance as the first argument which is used to access the variables and functions. In Python 3 and newer versions of python, all functions in the class are by default bound methods."
   ]
  },
  {
   "cell_type": "code",
   "execution_count": 14,
   "id": "87d68bc0",
   "metadata": {},
   "outputs": [
    {
     "name": "stdout",
     "output_type": "stream",
     "text": [
      "<bound method A.func of <__main__.A object at 0x0000024D28491FD0>>\n"
     ]
    }
   ],
   "source": [
    "class A:\n",
    "  \n",
    "    def func(self, arg):\n",
    "        self.arg = arg\n",
    "        print(\"Value of arg = \", arg)\n",
    "  \n",
    "  \n",
    "# Creating an instance\n",
    "obj = A()  \n",
    "  \n",
    "# bound method\n",
    "print(obj.func)"
   ]
  },
  {
   "cell_type": "markdown",
   "id": "1c61df25",
   "metadata": {},
   "source": [
    "Here,\n",
    "\n",
    "`obj.func(arg)` is translated by python as `A.func(obj, arg)`."
   ]
  },
  {
   "cell_type": "markdown",
   "id": "e238e4d7",
   "metadata": {},
   "source": [
    "### Q5. What is the purpose of pseudoprivate attributes?"
   ]
  },
  {
   "cell_type": "markdown",
   "id": "eb3cb810",
   "metadata": {},
   "source": [
    "Pseudoprivate attributes are also useful in larger frameworks or tools, both to avoid introducing new method names that might accidentally hide definitions elsewhere in the class tree and to reduce the chance of internal methods being replaced by names defined lower in the tree"
   ]
  },
  {
   "cell_type": "code",
   "execution_count": null,
   "id": "d9dbac9c",
   "metadata": {},
   "outputs": [],
   "source": []
  }
 ],
 "metadata": {
  "kernelspec": {
   "display_name": "Python 3 (ipykernel)",
   "language": "python",
   "name": "python3"
  },
  "language_info": {
   "codemirror_mode": {
    "name": "ipython",
    "version": 3
   },
   "file_extension": ".py",
   "mimetype": "text/x-python",
   "name": "python",
   "nbconvert_exporter": "python",
   "pygments_lexer": "ipython3",
   "version": "3.9.7"
  }
 },
 "nbformat": 4,
 "nbformat_minor": 5
}
