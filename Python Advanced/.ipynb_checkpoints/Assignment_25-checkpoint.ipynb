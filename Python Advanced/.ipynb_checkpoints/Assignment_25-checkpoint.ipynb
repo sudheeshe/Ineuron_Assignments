{
 "cells": [
  {
   "cell_type": "markdown",
   "id": "141e4a9c",
   "metadata": {},
   "source": [
    "### Q1. What is the distinction between a numpy array and a pandas data frame? Is there a way to convert between the two if there is?"
   ]
  },
  {
   "cell_type": "markdown",
   "id": "88fdf447",
   "metadata": {},
   "source": [
    "The major differences between DataFrame and Array are listed below:\n",
    "\n",
    "    1) Numpy arrays can be multi-dimensional whereas DataFrame can only be two-dimensional.\n",
    "    2) Arrays contain similar types of objects or elements whereas DataFrame can have objects or multiple or similar data types.\n",
    "    3) Both array and DataFrames are mutable.\n",
    "    4)Elements in an array can be accessed using only integer positions whereas elements in a DataFrame can be accessed using both integer and index positions.\n",
    "    5) DataFrames are mostly in the form of SQL tables and are associated with tabular data whereas arrays are associated with numerical data and computation.\n",
    "    6)DataFrames can deal with dynamic data and mixed data types whereas arrays do not have the flexibility to handle such data."
   ]
  },
  {
   "cell_type": "code",
   "execution_count": null,
   "id": "6fed17c2",
   "metadata": {},
   "outputs": [],
   "source": [
    "import numpy as np\n",
    "import pandas as pd\n",
    "\n",
    "my_array = np.array([[11,22,33],[44,55,66]])\n",
    "\n",
    "df = pd.DataFrame(my_array, columns = ['Column_A','Column_B','Column_C'])\n",
    "\n",
    "print(df)"
   ]
  },
  {
   "cell_type": "markdown",
   "id": "3ce87b1b",
   "metadata": {},
   "source": [
    "### Q2. What can go wrong when an user enters in a stock-ticker symbol, and how do you handle it?"
   ]
  },
  {
   "cell_type": "code",
   "execution_count": null,
   "id": "b44712e8",
   "metadata": {},
   "outputs": [],
   "source": []
  },
  {
   "cell_type": "markdown",
   "id": "924d423f",
   "metadata": {},
   "source": [
    "### Q3. Identify some of the plotting techniques that are used to produce a stock-market chart."
   ]
  },
  {
   "cell_type": "markdown",
   "id": "3f200727",
   "metadata": {},
   "source": [
    "1) Lineplot\n",
    "\n",
    "2) Stacked Area Chart\n",
    "\n",
    "3) Bar Charts\n",
    "\n",
    "4) Gantt Chart\n",
    "\n",
    "5) Heat Map"
   ]
  },
  {
   "cell_type": "markdown",
   "id": "2a0aaa1f",
   "metadata": {},
   "source": [
    "### Q4. Why is it essential to print a legend on a stock market chart?"
   ]
  },
  {
   "cell_type": "markdown",
   "id": "6cd3b4da",
   "metadata": {},
   "source": [
    "By default, each plot of a Stock chart has a legend, its items representing the series on the plot. In addition, the legend displays information about the points that are currently hovered over or, if none are hovered over, about the last points shown on the plot."
   ]
  },
  {
   "cell_type": "markdown",
   "id": "52340f42",
   "metadata": {},
   "source": [
    "### Q5. What is the best way to limit the length of a pandas data frame to less than a year?"
   ]
  },
  {
   "cell_type": "markdown",
   "id": "0fbf7010",
   "metadata": {},
   "source": [
    "In order to select rows between two dates in pandas DataFrame, first, create a boolean mask using \n",
    "\n",
    "`mask = (df['InsertedDates'] > start_date) & (df['InsertedDates'] <= end_date)` \n",
    "\n",
    "to represent the start and end of the date range. Then you select the DataFrame that lies within the range using the \n",
    "\n",
    "`DataFrame.loc[] method.`"
   ]
  },
  {
   "cell_type": "markdown",
   "id": "1fd44c37",
   "metadata": {},
   "source": [
    "### Q6. What is the definition of a 180-day moving average?"
   ]
  },
  {
   "cell_type": "markdown",
   "id": "8fdf9bbb",
   "metadata": {},
   "source": [
    "The 180-day moving average is the average quantity eg: price over the past 180 days."
   ]
  },
  {
   "cell_type": "markdown",
   "id": "fc6524ab",
   "metadata": {},
   "source": [
    "### Q7. Did the chapter's final example use \"indirect\" importing? If so, how exactly do you do it?"
   ]
  },
  {
   "cell_type": "code",
   "execution_count": null,
   "id": "210e2e58",
   "metadata": {},
   "outputs": [],
   "source": []
  }
 ],
 "metadata": {
  "kernelspec": {
   "display_name": "Python 3 (ipykernel)",
   "language": "python",
   "name": "python3"
  },
  "language_info": {
   "codemirror_mode": {
    "name": "ipython",
    "version": 3
   },
   "file_extension": ".py",
   "mimetype": "text/x-python",
   "name": "python",
   "nbconvert_exporter": "python",
   "pygments_lexer": "ipython3",
   "version": "3.9.7"
  }
 },
 "nbformat": 4,
 "nbformat_minor": 5
}
