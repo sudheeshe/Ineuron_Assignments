{
 "cells": [
  {
   "cell_type": "markdown",
   "id": "389d9f61",
   "metadata": {},
   "source": [
    "### Q1. What is the benefit of regular expressions?"
   ]
  },
  {
   "cell_type": "markdown",
   "id": "19771307",
   "metadata": {},
   "source": [
    "A Regular Expression is used for identifying a search pattern in a text string. It also helps in finding out the correctness of the data and even operations such as finding, replacing and formatting the data is possible using Regular Expressions."
   ]
  },
  {
   "cell_type": "markdown",
   "id": "b5708871",
   "metadata": {},
   "source": [
    "### Q2. Describe the difference between the effects of \"(ab)c+\" and \"a(bc)+.\" Which of these, if any, is the unqualified pattern \"abc+\"?"
   ]
  },
  {
   "cell_type": "code",
   "execution_count": null,
   "id": "08902143",
   "metadata": {},
   "outputs": [],
   "source": []
  },
  {
   "cell_type": "markdown",
   "id": "23df82ae",
   "metadata": {},
   "source": [
    "### Q3. How much do you need to use the following sentence while using regular expressions?\n",
    "\n",
    "\n",
    "\n",
    "`import re`\n"
   ]
  },
  {
   "cell_type": "markdown",
   "id": "7ed65ac5",
   "metadata": {},
   "source": [
    "Only Once"
   ]
  },
  {
   "cell_type": "markdown",
   "id": "01032136",
   "metadata": {},
   "source": [
    "### Q4. Which characters have special significance in square brackets when expressing a range, and under what circumstances?"
   ]
  },
  {
   "cell_type": "markdown",
   "id": "36bfc19e",
   "metadata": {},
   "source": [
    "We can also specify a range of characters using – inside the square brackets. For example, \n",
    "\n",
    "`[0, 3] is sample as [0123]`\n",
    "\n",
    "`[a-c] is same as [abc]`\n",
    "\n",
    "\n",
    "We can also invert the character class using the caret(^) symbol. For example, \n",
    "\n",
    "`[^0-3] means any number except 0, 1, 2, or 3`\n",
    "\n",
    "`[^a-c] means any character except a, b, or c`"
   ]
  },
  {
   "cell_type": "markdown",
   "id": "779e639d",
   "metadata": {},
   "source": [
    "### Q5. How does compiling a regular-expression object benefit you?"
   ]
  },
  {
   "cell_type": "markdown",
   "id": "e56d2fe3",
   "metadata": {},
   "source": [
    "The method re. compile(pattern) returns a regular expression object from the pattern that provides basic regex methods such as pattern.search(string) , pattern. match(string) , and pattern."
   ]
  },
  {
   "cell_type": "markdown",
   "id": "428ba262",
   "metadata": {},
   "source": [
    "### Q6. What are some examples of how to use the match object returned by re.match and re.search?"
   ]
  },
  {
   "cell_type": "code",
   "execution_count": 6,
   "id": "5d732b10",
   "metadata": {},
   "outputs": [
    {
     "name": "stdout",
     "output_type": "stream",
     "text": [
      "<re.Match object; span=(25, 31), match='string'>\n",
      "None\n",
      "<re.Match object; span=(0, 6), match='string'>\n",
      "<re.Match object; span=(0, 6), match='string'>\n"
     ]
    }
   ],
   "source": [
    "import re\n",
    " \n",
    "Substring ='string'\n",
    " \n",
    " \n",
    "String1 ='''regex is very useful for string matching.'''\n",
    "\n",
    "String2 ='''string matching with regex'''\n",
    " \n",
    "# Use of re.search() Method\n",
    "print(re.search(Substring, String1, re.IGNORECASE))\n",
    "# Use of re.match() Method\n",
    "print(re.match(Substring, String1, re.IGNORECASE))\n",
    " \n",
    "# Use of re.search() Method\n",
    "print(re.search(Substring, String2, re.IGNORECASE))\n",
    "# Use of re.match() Method\n",
    "print(re.match(Substring, String2, re.IGNORECASE))"
   ]
  },
  {
   "cell_type": "markdown",
   "id": "7e05cbf5",
   "metadata": {},
   "source": [
    "`re.search()` is returning match object and implies that first match found.\n",
    "\n",
    "`re.match()` is returning none because match exists in the second line of the string and re.match() only works if the match is found at the beginning of the string. "
   ]
  },
  {
   "cell_type": "markdown",
   "id": "6caa25b7",
   "metadata": {},
   "source": [
    "### Q7. What is the difference between using a vertical bar (|) as an alteration and using square brackets as a character set?"
   ]
  },
  {
   "cell_type": "markdown",
   "id": "a1feed9e",
   "metadata": {},
   "source": [
    "`|` \tMeans OR (Matches with any of the characters separated by it.\n",
    "\n",
    "Square Brackets ([]) represent a character class consisting of a set of characters that we wish to match. For example, the character class [abc] will match any single a, b, or c. "
   ]
  },
  {
   "cell_type": "markdown",
   "id": "3696f644",
   "metadata": {},
   "source": [
    "### Q8. In regular-expression search patterns, why is it necessary to use the raw-string indicator (r)? In   replacement strings?"
   ]
  },
  {
   "cell_type": "markdown",
   "id": "60bbf09e",
   "metadata": {},
   "source": [
    "Raw strings help you get the \"source code\" of a RegEx safely to the RegEx parser, which will then assign meaning to character sequences like \\d , \\w , \\n , etc.."
   ]
  },
  {
   "cell_type": "code",
   "execution_count": null,
   "id": "c5354274",
   "metadata": {},
   "outputs": [],
   "source": []
  }
 ],
 "metadata": {
  "kernelspec": {
   "display_name": "Python 3 (ipykernel)",
   "language": "python",
   "name": "python3"
  },
  "language_info": {
   "codemirror_mode": {
    "name": "ipython",
    "version": 3
   },
   "file_extension": ".py",
   "mimetype": "text/x-python",
   "name": "python",
   "nbconvert_exporter": "python",
   "pygments_lexer": "ipython3",
   "version": "3.9.7"
  }
 },
 "nbformat": 4,
 "nbformat_minor": 5
}
