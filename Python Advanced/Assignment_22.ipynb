{
 "cells": [
  {
   "cell_type": "markdown",
   "id": "d44964e3",
   "metadata": {},
   "source": [
    "### Q1. What are the benefits of the built-in array package, if any?"
   ]
  },
  {
   "cell_type": "code",
   "execution_count": 1,
   "id": "92030b79",
   "metadata": {},
   "outputs": [],
   "source": [
    "import array"
   ]
  },
  {
   "cell_type": "markdown",
   "id": "ef2268ba",
   "metadata": {},
   "source": [
    "Arrays are similar to lists. The main difference is that arrays can store only one type of elements; whereas, lists can store different types of elements. When dealing with a huge number of elements, arrays use less memory than lists and they offer faster execution than lists.\n",
    "\n",
    "The size of the array is not fixed in Python. Hence, we need not specify how many elements we are going to store into an array in the beginning.\n",
    "\n",
    "Arrays can grow or shrink in memory dynamically (during runtime).\n",
    "\n",
    "Arrays are useful to handle a collection of elements like a group of numbers or characters.\n",
    "\n",
    "Methods that are useful to process the elements of any array are available in 'array' module."
   ]
  },
  {
   "cell_type": "markdown",
   "id": "ccdb3a0c",
   "metadata": {},
   "source": [
    "### Q2. What are some of the array package's limitations?"
   ]
  },
  {
   "cell_type": "code",
   "execution_count": 2,
   "id": "0cca3ad0",
   "metadata": {},
   "outputs": [
    {
     "data": {
      "text/plain": [
       "['ArrayType',\n",
       " '__doc__',\n",
       " '__loader__',\n",
       " '__name__',\n",
       " '__package__',\n",
       " '__spec__',\n",
       " '_array_reconstructor',\n",
       " 'array',\n",
       " 'typecodes']"
      ]
     },
     "execution_count": 2,
     "metadata": {},
     "output_type": "execute_result"
    }
   ],
   "source": [
    "dir(array)"
   ]
  },
  {
   "cell_type": "markdown",
   "id": "27da31f4",
   "metadata": {},
   "source": [
    "Only very limited functions are available in python built in arrays"
   ]
  },
  {
   "cell_type": "markdown",
   "id": "41d362b0",
   "metadata": {},
   "source": [
    "### Q3. Describe the main differences between the array and numpy packages."
   ]
  },
  {
   "cell_type": "markdown",
   "id": "35e47150",
   "metadata": {},
   "source": [
    "NumPy arrays facilitate advanced mathematical and other types of operations on large numbers of data. Typically, such operations are executed more efficiently and with less code than is possible using Python's built-in sequences"
   ]
  },
  {
   "cell_type": "markdown",
   "id": "83943514",
   "metadata": {},
   "source": [
    "### Q4. Explain the distinctions between the empty, ones, and zeros functions."
   ]
  },
  {
   "cell_type": "markdown",
   "id": "73e3d7cd",
   "metadata": {},
   "source": [
    "The `empty()` function of NumPy creates an uninitialized array having shape and dtype as given to the empty() function.\n",
    "\n",
    "The `zeros()` function of NumPy creates a ndarray initialized with 0 values having shape and dtype as given as input.\n",
    "\n",
    "The `ones()` function of NumPy creates a ndarray initialized with 1 having shape and dtype as given as input."
   ]
  },
  {
   "cell_type": "markdown",
   "id": "4bbbdc92",
   "metadata": {},
   "source": [
    "### Q5. In the fromfunction function, which is used to construct new arrays, what is the role of the callable argument?"
   ]
  },
  {
   "cell_type": "markdown",
   "id": "a91697cf",
   "metadata": {},
   "source": [
    "Here the callable argument is `function`\n",
    "\n",
    "function: \n",
    "            \n",
    "            The function is called with N parameters, where N is the rank of shape. Each parameter represents the coordinates of the array varying along a specific axis. For example, if shape were (2, 2), then the parameters would be array([[0, 0], [1, 1]]) and array([[0, 1], [0, 1]])"
   ]
  },
  {
   "cell_type": "markdown",
   "id": "3c47d3b4",
   "metadata": {},
   "source": [
    "### Q6. What happens when a numpy array is combined with a single-value operand (a scalar, such as an int or a floating-point value) through addition, as in the expression A + n?"
   ]
  },
  {
   "cell_type": "code",
   "execution_count": 1,
   "id": "eb7574fe",
   "metadata": {},
   "outputs": [],
   "source": [
    "import numpy as np"
   ]
  },
  {
   "cell_type": "code",
   "execution_count": 4,
   "id": "54da5ccf",
   "metadata": {},
   "outputs": [],
   "source": [
    "x = np.zeros([2,3])"
   ]
  },
  {
   "cell_type": "code",
   "execution_count": 5,
   "id": "bc15bca7",
   "metadata": {},
   "outputs": [
    {
     "data": {
      "text/plain": [
       "array([[10., 10., 10.],\n",
       "       [10., 10., 10.]])"
      ]
     },
     "execution_count": 5,
     "metadata": {},
     "output_type": "execute_result"
    }
   ],
   "source": [
    "x + 10"
   ]
  },
  {
   "cell_type": "markdown",
   "id": "351fcb37",
   "metadata": {},
   "source": [
    "Element wise addition is happend"
   ]
  },
  {
   "cell_type": "markdown",
   "id": "49673ea5",
   "metadata": {},
   "source": [
    "### Q7. Can array-to-scalar operations use combined operation-assign operators (such as += or *=)? What is the outcome?"
   ]
  },
  {
   "cell_type": "code",
   "execution_count": 8,
   "id": "6e32f4f0",
   "metadata": {},
   "outputs": [
    {
     "data": {
      "text/plain": [
       "array([[11., 11., 11.],\n",
       "       [11., 11., 11.]])"
      ]
     },
     "execution_count": 8,
     "metadata": {},
     "output_type": "execute_result"
    }
   ],
   "source": [
    "x = np.ones([2,3])\n",
    "\n",
    "x+=10\n",
    "\n",
    "x"
   ]
  },
  {
   "cell_type": "code",
   "execution_count": 10,
   "id": "238fccc2",
   "metadata": {},
   "outputs": [
    {
     "data": {
      "text/plain": [
       "array([[110000., 110000., 110000.],\n",
       "       [110000., 110000., 110000.]])"
      ]
     },
     "execution_count": 10,
     "metadata": {},
     "output_type": "execute_result"
    }
   ],
   "source": [
    "x*=100\n",
    "x"
   ]
  },
  {
   "cell_type": "markdown",
   "id": "492597b9",
   "metadata": {},
   "source": [
    "### Q8. Does a numpy array contain fixed-length strings? What happens if you allocate a longer string to one of these arrays?"
   ]
  },
  {
   "cell_type": "markdown",
   "id": "68ca33dc",
   "metadata": {},
   "source": [
    "NumPy arrays have a fixed size at creation, unlike Python lists (which can grow dynamically). Changing the size of an ndarray will create a new array and delete the original."
   ]
  },
  {
   "cell_type": "markdown",
   "id": "fbb8eede",
   "metadata": {},
   "source": [
    "### Q9. What happens when you combine two numpy arrays using an operation like addition (+) or multiplication (*)? What are the conditions for combining two numpy arrays?"
   ]
  },
  {
   "cell_type": "code",
   "execution_count": 12,
   "id": "ac92aac2",
   "metadata": {},
   "outputs": [
    {
     "data": {
      "text/plain": [
       "array([[2., 2., 2.],\n",
       "       [2., 2., 2.],\n",
       "       [2., 2., 2.]])"
      ]
     },
     "execution_count": 12,
     "metadata": {},
     "output_type": "execute_result"
    }
   ],
   "source": [
    "x = np.ones([3,3])\n",
    "\n",
    "y = np.ones([3,3])\n",
    "\n",
    "x + y"
   ]
  },
  {
   "cell_type": "code",
   "execution_count": 13,
   "id": "c708faa8",
   "metadata": {},
   "outputs": [
    {
     "data": {
      "text/plain": [
       "array([[1., 1., 1.],\n",
       "       [1., 1., 1.],\n",
       "       [1., 1., 1.]])"
      ]
     },
     "execution_count": 13,
     "metadata": {},
     "output_type": "execute_result"
    }
   ],
   "source": [
    "x*y"
   ]
  },
  {
   "cell_type": "markdown",
   "id": "fbbc46ff",
   "metadata": {},
   "source": [
    "The condition for cobining two arrays are both has to be in same shape and dimension"
   ]
  },
  {
   "cell_type": "markdown",
   "id": "73fee6ac",
   "metadata": {},
   "source": [
    "### Q10. What is the best way to use a Boolean array to mask another array?"
   ]
  },
  {
   "cell_type": "code",
   "execution_count": 14,
   "id": "7165e64a",
   "metadata": {},
   "outputs": [
    {
     "data": {
      "text/plain": [
       "array([[6.62130364, 2.3468978 , 5.51509096],\n",
       "       [2.02991119, 4.64153811, 1.32952951],\n",
       "       [3.70662941, 0.67421639, 9.28348779]])"
      ]
     },
     "execution_count": 14,
     "metadata": {},
     "output_type": "execute_result"
    }
   ],
   "source": [
    "A = 10 * np.random.random((3,3))\n",
    "A"
   ]
  },
  {
   "cell_type": "code",
   "execution_count": 16,
   "id": "2e36c83b",
   "metadata": {},
   "outputs": [
    {
     "data": {
      "text/plain": [
       "array([[False,  True, False],\n",
       "       [ True, False,  True],\n",
       "       [ True,  True, False]])"
      ]
     },
     "execution_count": 16,
     "metadata": {},
     "output_type": "execute_result"
    }
   ],
   "source": [
    "mask = A<4\n",
    "\n",
    "mask"
   ]
  },
  {
   "cell_type": "code",
   "execution_count": 17,
   "id": "28b23305",
   "metadata": {},
   "outputs": [
    {
     "data": {
      "text/plain": [
       "array([2.3468978 , 2.02991119, 1.32952951, 3.70662941, 0.67421639])"
      ]
     },
     "execution_count": 17,
     "metadata": {},
     "output_type": "execute_result"
    }
   ],
   "source": [
    "A[mask] "
   ]
  },
  {
   "cell_type": "markdown",
   "id": "596c6728",
   "metadata": {},
   "source": [
    "### Q11. What are three different ways to get the standard deviation of a wide collection of data using both standard Python and its packages? Sort the three of them by how quickly they execute."
   ]
  },
  {
   "cell_type": "code",
   "execution_count": 37,
   "id": "6ec9db06",
   "metadata": {},
   "outputs": [
    {
     "data": {
      "text/plain": [
       "0.9035079029052513"
      ]
     },
     "execution_count": 37,
     "metadata": {},
     "output_type": "execute_result"
    }
   ],
   "source": [
    "speed = [86,87,88,86,87,85,86]\n",
    "\n",
    "np.std(speed)"
   ]
  },
  {
   "cell_type": "code",
   "execution_count": 35,
   "id": "d43fd377",
   "metadata": {},
   "outputs": [
    {
     "data": {
      "text/plain": [
       "0.9759000729485332"
      ]
     },
     "execution_count": 35,
     "metadata": {},
     "output_type": "execute_result"
    }
   ],
   "source": [
    "from statistics import stdev\n",
    "\n",
    "stdev(speed)"
   ]
  },
  {
   "cell_type": "code",
   "execution_count": 38,
   "id": "bc586f83",
   "metadata": {},
   "outputs": [
    {
     "data": {
      "text/plain": [
       "0.9759000729485332"
      ]
     },
     "execution_count": 38,
     "metadata": {},
     "output_type": "execute_result"
    }
   ],
   "source": [
    "from scipy import stats\n",
    "\n",
    "stats.tstd(speed)"
   ]
  },
  {
   "cell_type": "markdown",
   "id": "0867ee1c",
   "metadata": {},
   "source": [
    "### 12. What is the dimensionality of a Boolean mask-generated array?"
   ]
  },
  {
   "cell_type": "markdown",
   "id": "97d0e988",
   "metadata": {},
   "source": [
    "One dimension"
   ]
  },
  {
   "cell_type": "code",
   "execution_count": null,
   "id": "41030a1d",
   "metadata": {},
   "outputs": [],
   "source": []
  }
 ],
 "metadata": {
  "kernelspec": {
   "display_name": "Python 3 (ipykernel)",
   "language": "python",
   "name": "python3"
  },
  "language_info": {
   "codemirror_mode": {
    "name": "ipython",
    "version": 3
   },
   "file_extension": ".py",
   "mimetype": "text/x-python",
   "name": "python",
   "nbconvert_exporter": "python",
   "pygments_lexer": "ipython3",
   "version": "3.9.7"
  },
  "vscode": {
   "interpreter": {
    "hash": "614dde0ddec1f112749d87eae420dce0ff8a679ee35e01ac889836b1df3e6e22"
   }
  }
 },
 "nbformat": 4,
 "nbformat_minor": 5
}
