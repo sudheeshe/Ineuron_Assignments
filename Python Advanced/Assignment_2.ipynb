{
 "cells": [
  {
   "cell_type": "markdown",
   "id": "12c5eff0",
   "metadata": {},
   "source": [
    "### Q1. What is the relationship between classes and modules?"
   ]
  },
  {
   "cell_type": "markdown",
   "id": "c9d68b33",
   "metadata": {},
   "source": [
    "`Modules` in Python are files with a .py extension using which we can reuse elements inside that file. When we create a python program, the program may contain inside it functions, variables, and classes.\n",
    "\n",
    " If we want to reuse the same piece of function code or the same class, rewriting it would make our code redundant and repetitive. Instead, we can import that entire file as a module into another program.\n",
    " \n",
    "classes are usually written inside the modules"
   ]
  },
  {
   "cell_type": "markdown",
   "id": "69aceedf",
   "metadata": {},
   "source": [
    "### Q2. How do you make instances and classes?"
   ]
  },
  {
   "cell_type": "markdown",
   "id": "ea31ff4c",
   "metadata": {},
   "source": [
    "* a class can be created by using the keyword class, followed by the class name. The syntax to create a class is given below.\n",
    "\n",
    "`eg:  class ClassName: `\n",
    "\n",
    "* All classes have a function called __init__(), which is always executed when the class is being initiated.\n",
    "\n",
    "  Use the __init__() function to assign values to object properties, or other operations that are necessary to do when the  object is being created:\n",
    "  \n",
    " `eg:  class Person:\n",
    "  def __init__(self, name, age):\n",
    "    self.name = name\n",
    "    self.age = age` \n",
    "\n",
    "\n",
    "* A class can have methods (functions)\n",
    "\n",
    "    eg:\n",
    "    \n",
    "`class Person:` \n",
    "    \n",
    "    `def __init__(self, name, age):`\n",
    "        `self.name = name`\n",
    "        `self.age = age`\n",
    "\n",
    "      `def myfunc(self):`\n",
    "        `print(\"Hello my name is \" + self.name)`\n",
    "\n",
    "* To create an instance we can call the class and assign to a variable, That variable will become Object of the class \n",
    "\n",
    "`p1 = Person(\"John\", 36)`\n",
    "\n",
    " `p1.myfunc()`"
   ]
  },
  {
   "cell_type": "markdown",
   "id": "17eb77a2",
   "metadata": {},
   "source": [
    "### Q3. Where and how should be class attributes created?"
   ]
  },
  {
   "cell_type": "markdown",
   "id": "4ad50383",
   "metadata": {},
   "source": [
    "The class attributes don’t associate with any specific instance of the class. But they’re shared by all instances of the class.\n",
    "\n",
    "To define a class attribute, you place it outside of the __init__() method. For example, the following defines pi as a class attribute:"
   ]
  },
  {
   "cell_type": "code",
   "execution_count": 1,
   "id": "6dedeb19",
   "metadata": {},
   "outputs": [],
   "source": [
    "class Circle:\n",
    "    pi = 3.14159  # This is a class attribute\n",
    "\n",
    "    def __init__(self, radius):\n",
    "        self.radius = radius\n",
    "\n",
    "    def area(self):\n",
    "        return self.pi * self.radius**2\n"
   ]
  },
  {
   "cell_type": "markdown",
   "id": "146d5ceb",
   "metadata": {},
   "source": [
    "### Q4. Where and how are instance attributes created?"
   ]
  },
  {
   "cell_type": "markdown",
   "id": "7865c22c",
   "metadata": {},
   "source": [
    "Instance attributes are attributes or properties attached to an instance of a class. Instance attributes are defined in the constructor."
   ]
  },
  {
   "cell_type": "code",
   "execution_count": 2,
   "id": "fe2bd9c8",
   "metadata": {},
   "outputs": [],
   "source": [
    "class Circle:\n",
    "    def __init__(self, radius):\n",
    "        self.pi = 3.14159 \n",
    "        self.radius = radius"
   ]
  },
  {
   "cell_type": "markdown",
   "id": "8fd68226",
   "metadata": {},
   "source": [
    "### Q5. What does the term \"self\" in a Python class mean?"
   ]
  },
  {
   "cell_type": "markdown",
   "id": "0e302c63",
   "metadata": {},
   "source": [
    "First argument represents the instance of the class the first argument we usually name as self . By using the self we can access the attributes and methods of the class in python. It binds the attributes with the given arguments. The reason you need to use self is because Python does not use the @ syntax to refer to instance attributes."
   ]
  },
  {
   "cell_type": "markdown",
   "id": "7ec66db0",
   "metadata": {},
   "source": [
    "### Q6. How does a Python class handle operator overloading?"
   ]
  },
  {
   "cell_type": "markdown",
   "id": "06bc4e7a",
   "metadata": {},
   "source": [
    "Operator overloading refers to the ability of a built-in operator to behave differently according to the different operands we use with it.\n",
    "\n",
    "For example, the operator ‘+’ is used to: \n",
    "\n",
    "1) Add two integers. \n",
    "\n",
    "2) Concatenate two strings.\n",
    "\n",
    "3) Merge two lists."
   ]
  },
  {
   "cell_type": "markdown",
   "id": "ac70eeb0",
   "metadata": {},
   "source": [
    "### Q7. When do you consider allowing operator overloading of your classes?"
   ]
  },
  {
   "cell_type": "markdown",
   "id": "f7dd3307",
   "metadata": {},
   "source": [
    "Advantages of Operator Overloading:\n",
    "    \n",
    "1) It provides reusability, instead of writing multiple methods that differ slightly we can simply write one method and overload it.\n",
    "\n",
    "2) It also improves code clarity and eliminates complexity.\n",
    "\n",
    "3) It makes code concise and simple to understand. "
   ]
  },
  {
   "cell_type": "markdown",
   "id": "ce24b436",
   "metadata": {},
   "source": [
    "### Q8. What is the most popular form of operator overloading?"
   ]
  },
  {
   "cell_type": "markdown",
   "id": "784cc384",
   "metadata": {},
   "source": [
    "A very popular and convenient example is the Addition (+) operator"
   ]
  },
  {
   "cell_type": "markdown",
   "id": "bad20155",
   "metadata": {},
   "source": [
    "### Q9. What are the two most important concepts to grasp in order to comprehend Python OOP code?"
   ]
  },
  {
   "cell_type": "markdown",
   "id": "bf0d0971",
   "metadata": {},
   "source": [
    "Class and Object"
   ]
  },
  {
   "cell_type": "code",
   "execution_count": null,
   "id": "fd6a19a0",
   "metadata": {},
   "outputs": [],
   "source": []
  }
 ],
 "metadata": {
  "kernelspec": {
   "display_name": "Python 3 (ipykernel)",
   "language": "python",
   "name": "python3"
  },
  "language_info": {
   "codemirror_mode": {
    "name": "ipython",
    "version": 3
   },
   "file_extension": ".py",
   "mimetype": "text/x-python",
   "name": "python",
   "nbconvert_exporter": "python",
   "pygments_lexer": "ipython3",
   "version": "3.9.7"
  }
 },
 "nbformat": 4,
 "nbformat_minor": 5
}
