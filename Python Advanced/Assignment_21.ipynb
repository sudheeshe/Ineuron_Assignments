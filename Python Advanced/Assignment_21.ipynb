{
 "cells": [
  {
   "cell_type": "markdown",
   "id": "f6518b4b",
   "metadata": {},
   "source": [
    "### Q1. What is a probability distribution, exactly? If the values are meant to be random, how can you predict them at all?"
   ]
  },
  {
   "cell_type": "markdown",
   "id": "cc24ffce",
   "metadata": {},
   "source": [
    "A `probability distribution` is a statistical function that describes all the possible values and likelihoods that a random variable can take within a given range\n",
    "\n",
    "\n",
    "The probability distribution of a continuous random variable  X  is an assignment of probabilities to intervals of decimal numbers using a function  f(x) , called a density function, in the following way: the probability that  X  assumes a value in the interval  [a,b]  is equal to the area of the region that is bounded above by the graph of the equation  y=f(x) , bounded below by the x-axis, and bounded on the left and right by the vertical lines through  a  and  b ,"
   ]
  },
  {
   "cell_type": "markdown",
   "id": "32115907",
   "metadata": {},
   "source": [
    "### Q2. Is there a distinction between true random numbers and pseudo-random numbers, if there is one? Why are the latter considered “good enough”?"
   ]
  },
  {
   "cell_type": "markdown",
   "id": "5379f1dd",
   "metadata": {},
   "source": [
    "For `truly random numbers`, the computer must use some external physical variable that is unpredictable. truly random number  use pre-calculated tables instead of mathematical formulas, but either way table or formula\n"
   ]
  },
  {
   "cell_type": "markdown",
   "id": "62c9f7e8",
   "metadata": {},
   "source": [
    "Software-generated random numbers only are pseudorandom. They are not truly random because the computer uses an algorithm based on a distribution, and are not secure because they rely on deterministic, predictable algorithms. Since a seed number can be set to replicate the “random” numbers generated, it is possible to predict the numbers if the seed is known. Pseudorandom number generation in everyday tools such as Python and Excel are based on the Mersenne Twister algorithm"
   ]
  },
  {
   "cell_type": "markdown",
   "id": "b0f74f50",
   "metadata": {},
   "source": [
    "### Q3. What are the two main factors that influence the behaviour of a \"normal\" probability distribution?"
   ]
  },
  {
   "cell_type": "markdown",
   "id": "40acaf5c",
   "metadata": {},
   "source": [
    "The graph of the normal distribution depends on two factors - the `mean` and the `standard deviation`."
   ]
  },
  {
   "cell_type": "markdown",
   "id": "172cf50b",
   "metadata": {},
   "source": [
    "### Q4. Provide a real-life example of a normal distribution."
   ]
  },
  {
   "cell_type": "markdown",
   "id": "0355005f",
   "metadata": {},
   "source": [
    "height of a population will be Normally distributed"
   ]
  },
  {
   "cell_type": "markdown",
   "id": "de5320fe",
   "metadata": {},
   "source": [
    "### Q5. In the short term, how can you expect a probability distribution to behave? What do you think will happen as the number of trials grows?"
   ]
  },
  {
   "cell_type": "markdown",
   "id": "563c9345",
   "metadata": {},
   "source": [
    "Since the fractional width decreases with increasing N, the number of outcomes for which there is an appreciable probability becomes a smaller and smaller fraction of all possible outcomes as the number of trials increases."
   ]
  },
  {
   "cell_type": "markdown",
   "id": "964bbd38",
   "metadata": {},
   "source": [
    "### Q6. What kind of object can be shuffled by using random.shuffle?"
   ]
  },
  {
   "cell_type": "markdown",
   "id": "806de10b",
   "metadata": {},
   "source": [
    "method takes a sequence, like a list, and reorganize the order of the items."
   ]
  },
  {
   "cell_type": "markdown",
   "id": "0c3dc40e",
   "metadata": {},
   "source": [
    "### Q7. Describe the math package's general categories of functions."
   ]
  },
  {
   "cell_type": "markdown",
   "id": "d9300034",
   "metadata": {},
   "source": [
    "* This is the most basic math module that is available in Python. It covers basic mathematical operations like sum, exponential, modulus, etc.\n",
    "\n",
    "* This library is not useful when dealing with complex mathematical operations like multiplication of matrices.\n",
    "\n",
    "* The calculations performed with the functions of the python math library are also much slower.\n",
    "\n",
    "* However, this library is adequate when you have to carry out basic mathematical operations."
   ]
  },
  {
   "cell_type": "code",
   "execution_count": 2,
   "id": "6f699d2b",
   "metadata": {},
   "outputs": [
    {
     "data": {
      "text/plain": [
       "['__doc__',\n",
       " '__loader__',\n",
       " '__name__',\n",
       " '__package__',\n",
       " '__spec__',\n",
       " 'acos',\n",
       " 'acosh',\n",
       " 'asin',\n",
       " 'asinh',\n",
       " 'atan',\n",
       " 'atan2',\n",
       " 'atanh',\n",
       " 'ceil',\n",
       " 'comb',\n",
       " 'copysign',\n",
       " 'cos',\n",
       " 'cosh',\n",
       " 'degrees',\n",
       " 'dist',\n",
       " 'e',\n",
       " 'erf',\n",
       " 'erfc',\n",
       " 'exp',\n",
       " 'expm1',\n",
       " 'fabs',\n",
       " 'factorial',\n",
       " 'floor',\n",
       " 'fmod',\n",
       " 'frexp',\n",
       " 'fsum',\n",
       " 'gamma',\n",
       " 'gcd',\n",
       " 'hypot',\n",
       " 'inf',\n",
       " 'isclose',\n",
       " 'isfinite',\n",
       " 'isinf',\n",
       " 'isnan',\n",
       " 'isqrt',\n",
       " 'lcm',\n",
       " 'ldexp',\n",
       " 'lgamma',\n",
       " 'log',\n",
       " 'log10',\n",
       " 'log1p',\n",
       " 'log2',\n",
       " 'modf',\n",
       " 'nan',\n",
       " 'nextafter',\n",
       " 'perm',\n",
       " 'pi',\n",
       " 'pow',\n",
       " 'prod',\n",
       " 'radians',\n",
       " 'remainder',\n",
       " 'sin',\n",
       " 'sinh',\n",
       " 'sqrt',\n",
       " 'tan',\n",
       " 'tanh',\n",
       " 'tau',\n",
       " 'trunc',\n",
       " 'ulp']"
      ]
     },
     "execution_count": 2,
     "metadata": {},
     "output_type": "execute_result"
    }
   ],
   "source": [
    "import math\n",
    "\n",
    "dir(math)"
   ]
  },
  {
   "cell_type": "markdown",
   "id": "a715df43",
   "metadata": {},
   "source": [
    "### Q8. What is the relationship between exponentiation and logarithms?"
   ]
  },
  {
   "cell_type": "markdown",
   "id": "344ca7eb",
   "metadata": {},
   "source": [
    "Logarithmic functions are the inverses of exponential functions. "
   ]
  },
  {
   "cell_type": "markdown",
   "id": "f6b69b83",
   "metadata": {},
   "source": [
    "### Q9. What are the three logarithmic functions that Python supports?"
   ]
  },
  {
   "cell_type": "markdown",
   "id": "93ad8cff",
   "metadata": {},
   "source": [
    "log2(x)\n",
    "\n",
    "log(x, Base)\n",
    "\n",
    "log10(x)\n",
    "\n",
    "log1p(x)"
   ]
  },
  {
   "cell_type": "code",
   "execution_count": null,
   "id": "b2574974",
   "metadata": {},
   "outputs": [],
   "source": []
  }
 ],
 "metadata": {
  "kernelspec": {
   "display_name": "Python 3 (ipykernel)",
   "language": "python",
   "name": "python3"
  },
  "language_info": {
   "codemirror_mode": {
    "name": "ipython",
    "version": 3
   },
   "file_extension": ".py",
   "mimetype": "text/x-python",
   "name": "python",
   "nbconvert_exporter": "python",
   "pygments_lexer": "ipython3",
   "version": "3.9.7"
  }
 },
 "nbformat": 4,
 "nbformat_minor": 5
}
