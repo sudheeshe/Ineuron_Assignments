{
 "cells": [
  {
   "cell_type": "markdown",
   "id": "cd47329f",
   "metadata": {},
   "source": [
    "### Q1. Define the relationship between a class and its instances. Is it a one-to-one or a one-to-many partnership, for example?"
   ]
  },
  {
   "cell_type": "markdown",
   "id": "0811a7bc",
   "metadata": {},
   "source": [
    "its one to many relationship between class and instance\n",
    "\n",
    "One class can have many objects\n",
    "\n"
   ]
  },
  {
   "cell_type": "code",
   "execution_count": 5,
   "id": "bedeaa3e",
   "metadata": {},
   "outputs": [],
   "source": [
    "class Fruits:\n",
    "    \n",
    "    def who_am_i(self):\n",
    "        print(\"Im belong to Fruits class\")"
   ]
  },
  {
   "cell_type": "code",
   "execution_count": 10,
   "id": "0c560379",
   "metadata": {},
   "outputs": [],
   "source": [
    "apple = Fruits()\n",
    "orange = Fruits()"
   ]
  },
  {
   "cell_type": "code",
   "execution_count": 11,
   "id": "11afa43c",
   "metadata": {},
   "outputs": [
    {
     "name": "stdout",
     "output_type": "stream",
     "text": [
      "Im belong to Fruits class\n"
     ]
    }
   ],
   "source": [
    "apple.who_am_i()"
   ]
  },
  {
   "cell_type": "code",
   "execution_count": 12,
   "id": "614b640b",
   "metadata": {},
   "outputs": [
    {
     "name": "stdout",
     "output_type": "stream",
     "text": [
      "Im belong to Fruits class\n"
     ]
    }
   ],
   "source": [
    "orange.who_am_i()"
   ]
  },
  {
   "cell_type": "markdown",
   "id": "bc28688c",
   "metadata": {},
   "source": [
    "### Q2. What kind of data is held only in an instance?"
   ]
  },
  {
   "cell_type": "markdown",
   "id": "2eb067e2",
   "metadata": {},
   "source": [
    "Both class data and data of itself are present in each Instances"
   ]
  },
  {
   "cell_type": "markdown",
   "id": "10fb5a05",
   "metadata": {},
   "source": [
    "### Q3. What kind of knowledge is stored in a class?"
   ]
  },
  {
   "cell_type": "markdown",
   "id": "8f855d36",
   "metadata": {},
   "source": [
    "A class is a user-defined blueprint or prototype from which objects are created. Classes provide a means of bundling data and functionality together. Creating a new class creates a new type of object, allowing new instances of that type to be made. Each class instance can have attributes attached to it for maintaining its state."
   ]
  },
  {
   "cell_type": "markdown",
   "id": "60a4d86c",
   "metadata": {},
   "source": [
    "### Q4. What exactly is a method, and how is it different from a regular function?"
   ]
  },
  {
   "cell_type": "markdown",
   "id": "5a72ec8e",
   "metadata": {},
   "source": [
    "Methods represent the behavior of an Object.\n",
    "\n",
    "A method is a piece of code that is associated with an object and operates upon the data of that object. In most respects, a method is identical to a function.\n",
    "\n",
    "Except for two major differences:\n",
    "\n",
    "It is associated with an object and we call it ‘on’ that object.\n",
    "It operates on the data which is contained within the class."
   ]
  },
  {
   "cell_type": "markdown",
   "id": "d6b928c3",
   "metadata": {},
   "source": [
    "Methods:\n",
    "    \n",
    "    Assosciated with objects\n",
    "    Cannot invoke by its name\n",
    "    Dependent on class\n",
    "    require 'self'\n",
    "    \n",
    "Functions:\n",
    "    \n",
    "    Not Assosciated with any objects\n",
    "    Can invoke by its name\n",
    "    independent\n",
    "    Don't require 'self'\n",
    "    \n",
    "    "
   ]
  },
  {
   "cell_type": "markdown",
   "id": "7c227d49",
   "metadata": {},
   "source": [
    "### Q5. Is inheritance supported in Python, and if so, what is the syntax?"
   ]
  },
  {
   "cell_type": "code",
   "execution_count": 14,
   "id": "6dbf2d12",
   "metadata": {},
   "outputs": [],
   "source": [
    "# Yes, Python supports Inheritance\n",
    "\n",
    "class A:\n",
    "    pass\n",
    "\n",
    "class B(A):\n",
    "    pass"
   ]
  },
  {
   "cell_type": "markdown",
   "id": "68cc0f1e",
   "metadata": {},
   "source": [
    "### Q6. How much encapsulation (making instance or class variables private) does Python support?"
   ]
  },
  {
   "cell_type": "markdown",
   "id": "d4f6046d",
   "metadata": {},
   "source": [
    "its in 3 types\n",
    "\n",
    "1) Public\n",
    "\n",
    "2) Private\n",
    "\n",
    "3) Protected"
   ]
  },
  {
   "cell_type": "markdown",
   "id": "f15019cc",
   "metadata": {},
   "source": [
    "### Q7. How do you distinguish between a class variable and an instance variable?"
   ]
  },
  {
   "cell_type": "markdown",
   "id": "81ac6aa9",
   "metadata": {},
   "source": [
    "Instance Variable :\n",
    "    \n",
    "        1) It is a variable whose value is instance-specific and now shared among instances. \n",
    "        \n",
    "        2) These variables cannot be shared between classes. Instead, they only belong to one specific class.\n",
    "\n",
    "        3) It usually reserves memory for data that the class needs.\n",
    "\n",
    "        4) It is generally created when an instance of the class is created.  \n",
    "\n",
    "        5) It normally retains values as long as the object exists.\n",
    "\n",
    "        6) It has many copies so every object has its own personal copy of the instance variable. \n",
    "\n",
    "        7) It can be accessed directly by calling variable names inside the class.\n",
    "\n",
    "        8) These variables are declared without using the static keyword.\n",
    "\n",
    "        9) Changes that are made to these variables through one object will not reflect in another object.\n",
    "\n",
    "\n",
    "\n",
    "Class Variable:\n",
    "\n",
    "        1) It is a variable that defines a specific attribute or property for a class.  \n",
    "        \n",
    "        2) These variables can be shared between class and its subclasses. \n",
    "        \n",
    "        3) It usually maintains a single shared value for all instances of class even if no instance object of the class    exists.  \n",
    "        \n",
    "        4) It is generally created when the program begins to execute.  \n",
    "        \n",
    "        5) It normally retains values until the program terminates.\n",
    "        \n",
    "        6) It has only one copy of the class variable so it is shared among different objects of the class.  \n",
    "        \n",
    "        7) It can be accessed by calling with the class name. \n",
    "        \n",
    "        8) These variables are declared using the keyword static.  \n",
    "        \n",
    "        9) Changes that are made to these variables through one object will reflect in another object. "
   ]
  },
  {
   "cell_type": "markdown",
   "id": "2e445866",
   "metadata": {},
   "source": [
    "### Q8. When, if ever, can self be included in a class's method definitions?"
   ]
  },
  {
   "cell_type": "markdown",
   "id": "adebde3f",
   "metadata": {},
   "source": [
    "The self is used to represent the instance of the class. With this keyword, you can access the attributes and methods of the class in python. It binds the attributes with the given arguments."
   ]
  },
  {
   "cell_type": "markdown",
   "id": "38f094bd",
   "metadata": {},
   "source": [
    "### Q9. What is the difference between the _ _add_ _ and the _ _radd_ _ methods?"
   ]
  },
  {
   "cell_type": "markdown",
   "id": "795a80e8",
   "metadata": {},
   "source": [
    "The radd() method adds each value in the DataFrame with a specified value.\n",
    "\n",
    "This method is called reverse add, and is similar to the add() method, but instead of calculating 100 + 15 it calculates 15 + 100, which in this case will give the same result."
   ]
  },
  {
   "cell_type": "markdown",
   "id": "9f0363ca",
   "metadata": {},
   "source": [
    "### Q10. When is it necessary to use a reflection method? When do you not need it, even though you support the operation in question?"
   ]
  },
  {
   "cell_type": "markdown",
   "id": "6b12c144",
   "metadata": {},
   "source": [
    "Reflection refers to the ability for code to be able to examine attributes about objects that might be passed as parameters to a function. For example, if we write type(obj) then Python will return an object which represents the type of obj.\n",
    "\n",
    "\n",
    "Reflection takes this a step further by enabling objects to be modified at runtime."
   ]
  },
  {
   "cell_type": "markdown",
   "id": "3c8276da",
   "metadata": {},
   "source": [
    "### Q11. What is the _ _iadd_ _ method called?"
   ]
  },
  {
   "cell_type": "code",
   "execution_count": 15,
   "id": "50519c13",
   "metadata": {},
   "outputs": [],
   "source": [
    "class NumString:\n",
    "\n",
    "    def __init__(self, value):\n",
    "        self.value = str(value)\n",
    "\n",
    "    def __int__(self):\n",
    "        return int(self.value)\n",
    "\n",
    "    def __str__(self):\n",
    "        return self.value\n",
    "\n",
    "    def __add__(self, other):\n",
    "        return int(self) + other\n",
    "\n",
    "    def __iadd__(self, other):\n",
    "        self.value = self + other\n",
    "        return self.value"
   ]
  },
  {
   "cell_type": "code",
   "execution_count": 16,
   "id": "3526c33e",
   "metadata": {},
   "outputs": [],
   "source": [
    "some_num1 = NumString(0) # Create an instance of NumString with 0 as value.\n",
    "\n",
    "str(some_num1) # Check what is contained within self.value in this instance.\n",
    "\n",
    "Output: '0'\n",
    "\n",
    "some_num1 + 1 # We add some_num1 to 1, this returns back the calculation using the __add__ method\n",
    "\n",
    "str(some_num1) # check what some_num1 is holding for a self.value\n",
    "\n",
    "Output: '0'\n",
    "\n",
    "some_num1 += 2 # We in-place add some_num1 to 2, this stores and returns the new stored value using __iadd__ method.\n",
    "\n",
    "str(some_num1) # check what some_num1 is holding now?\n",
    "\n",
    "Output: '2'"
   ]
  },
  {
   "cell_type": "markdown",
   "id": "08986589",
   "metadata": {},
   "source": [
    "`__iadd__ ` is storing the calculated value self.value and the `__add__` method is just calculating and returning it but NOT storing it."
   ]
  },
  {
   "cell_type": "markdown",
   "id": "98325a47",
   "metadata": {},
   "source": [
    "### Q12. Is the _ _init_ _ method inherited by subclasses? What do you do if you need to customize its behavior within a subclass?"
   ]
  },
  {
   "cell_type": "markdown",
   "id": "7a49c651",
   "metadata": {},
   "source": [
    "yes `__init__` will be inherted in sub classes"
   ]
  },
  {
   "cell_type": "markdown",
   "id": "da616457",
   "metadata": {},
   "source": [
    "Python constructor overriding mean one method will overrides the other. The parent class and child class both have the constructor and the child will override the parent constructor."
   ]
  },
  {
   "cell_type": "code",
   "execution_count": 30,
   "id": "be734980",
   "metadata": {},
   "outputs": [],
   "source": [
    "class Fruits:\n",
    "    \n",
    "    def __init__(self):\n",
    "        self.name = 'Grapes'\n",
    "        self.taste = 'Sweet and sour'"
   ]
  },
  {
   "cell_type": "code",
   "execution_count": 51,
   "id": "ef49d721",
   "metadata": {},
   "outputs": [],
   "source": [
    "class Apple(Fruits):\n",
    "    \n",
    "    def __init__(self, name, taste):\n",
    "        self.name = name\n",
    "        self.taste = taste"
   ]
  },
  {
   "cell_type": "code",
   "execution_count": 52,
   "id": "62e4c198",
   "metadata": {},
   "outputs": [],
   "source": [
    "x = Apple('Apple', 'Sweet')"
   ]
  },
  {
   "cell_type": "code",
   "execution_count": 53,
   "id": "6ee964da",
   "metadata": {},
   "outputs": [],
   "source": [
    "y = Fruits()"
   ]
  },
  {
   "cell_type": "code",
   "execution_count": 54,
   "id": "e9998e6b",
   "metadata": {},
   "outputs": [
    {
     "data": {
      "text/plain": [
       "'Apple'"
      ]
     },
     "execution_count": 54,
     "metadata": {},
     "output_type": "execute_result"
    }
   ],
   "source": [
    "x.name"
   ]
  },
  {
   "cell_type": "code",
   "execution_count": 55,
   "id": "d643a1a4",
   "metadata": {},
   "outputs": [
    {
     "data": {
      "text/plain": [
       "'Sweet'"
      ]
     },
     "execution_count": 55,
     "metadata": {},
     "output_type": "execute_result"
    }
   ],
   "source": [
    "x.taste"
   ]
  },
  {
   "cell_type": "code",
   "execution_count": 56,
   "id": "c7394938",
   "metadata": {},
   "outputs": [
    {
     "data": {
      "text/plain": [
       "'Grapes'"
      ]
     },
     "execution_count": 56,
     "metadata": {},
     "output_type": "execute_result"
    }
   ],
   "source": [
    "y.name"
   ]
  },
  {
   "cell_type": "code",
   "execution_count": 57,
   "id": "c6ac14d3",
   "metadata": {},
   "outputs": [
    {
     "data": {
      "text/plain": [
       "'Sweet and sour'"
      ]
     },
     "execution_count": 57,
     "metadata": {},
     "output_type": "execute_result"
    }
   ],
   "source": [
    "y.taste"
   ]
  },
  {
   "cell_type": "code",
   "execution_count": null,
   "id": "7d9e8999",
   "metadata": {},
   "outputs": [],
   "source": []
  }
 ],
 "metadata": {
  "kernelspec": {
   "display_name": "Python 3 (ipykernel)",
   "language": "python",
   "name": "python3"
  },
  "language_info": {
   "codemirror_mode": {
    "name": "ipython",
    "version": 3
   },
   "file_extension": ".py",
   "mimetype": "text/x-python",
   "name": "python",
   "nbconvert_exporter": "python",
   "pygments_lexer": "ipython3",
   "version": "3.9.7"
  }
 },
 "nbformat": 4,
 "nbformat_minor": 5
}
