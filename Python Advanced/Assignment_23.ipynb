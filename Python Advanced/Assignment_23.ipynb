{
 "cells": [
  {
   "cell_type": "markdown",
   "id": "838857f1",
   "metadata": {},
   "source": [
    "### Q1. If you have any, what are your choices for increasing the comparison between different figures on the same graph?"
   ]
  },
  {
   "cell_type": "markdown",
   "id": "053b19a2",
   "metadata": {},
   "source": [
    "We can use matplotlib using plt.show() \n",
    "\n",
    "we can also use seaborn FacetGrid"
   ]
  },
  {
   "cell_type": "markdown",
   "id": "21ef25e6",
   "metadata": {},
   "source": [
    "### Q2. Can you explain the benefit of compound interest over a higher rate of interest that does not compound after reading this chapter?"
   ]
  },
  {
   "cell_type": "code",
   "execution_count": null,
   "id": "988388fc",
   "metadata": {},
   "outputs": [],
   "source": []
  },
  {
   "cell_type": "markdown",
   "id": "2ee4dcfa",
   "metadata": {},
   "source": [
    "### Q3. What is a histogram, exactly? Name a numpy method for creating such a graph."
   ]
  },
  {
   "cell_type": "markdown",
   "id": "a94dd846",
   "metadata": {},
   "source": [
    "The histogram is a popular graphing tool. It is used to summarize discrete or continuous data that are measured on an interval scale. It is often used to illustrate the major features of the distribution of the data in a convenient form.\n",
    "\n",
    "\n",
    "numpy.histogram() method which represents the frequency of data distribution in the graphical form."
   ]
  },
  {
   "cell_type": "markdown",
   "id": "23036868",
   "metadata": {},
   "source": [
    "### Q4. If necessary, how do you change the aspect ratios between the X and Y axes?"
   ]
  },
  {
   "cell_type": "markdown",
   "id": "51928a57",
   "metadata": {},
   "source": [
    "in matplotlib we can use `axes.set_aspect()`"
   ]
  },
  {
   "cell_type": "markdown",
   "id": "c4a4be05",
   "metadata": {},
   "source": [
    "### Q5. Compare and contrast the three types of array multiplication between two numpy arrays: dot product, outer product, and regular multiplication of two numpy arrays."
   ]
  },
  {
   "cell_type": "code",
   "execution_count": 3,
   "id": "6ae7e223",
   "metadata": {},
   "outputs": [
    {
     "name": "stdout",
     "output_type": "stream",
     "text": [
      "[[ 6  2]\n",
      " [10  5]]\n",
      "[[2 5]\n",
      " [2 7]]\n"
     ]
    }
   ],
   "source": [
    "import numpy as np\n",
    "\n",
    "array1 = np.array([[6,2], [10,5]])\n",
    "array2 = np.array([[2,5], [2,7]])\n",
    "\n",
    "print(array1)\n",
    "print(array2)"
   ]
  },
  {
   "cell_type": "code",
   "execution_count": 4,
   "id": "0b4737de",
   "metadata": {},
   "outputs": [
    {
     "data": {
      "text/plain": [
       "array([[12, 30, 12, 42],\n",
       "       [ 4, 10,  4, 14],\n",
       "       [20, 50, 20, 70],\n",
       "       [10, 25, 10, 35]])"
      ]
     },
     "execution_count": 4,
     "metadata": {},
     "output_type": "execute_result"
    }
   ],
   "source": [
    "np.outer(array1, array2)"
   ]
  },
  {
   "cell_type": "code",
   "execution_count": 5,
   "id": "16bc44b1",
   "metadata": {},
   "outputs": [
    {
     "data": {
      "text/plain": [
       "array([[16, 44],\n",
       "       [30, 85]])"
      ]
     },
     "execution_count": 5,
     "metadata": {},
     "output_type": "execute_result"
    }
   ],
   "source": [
    "np.dot(array1, array2)"
   ]
  },
  {
   "cell_type": "code",
   "execution_count": 6,
   "id": "56fe70b0",
   "metadata": {},
   "outputs": [
    {
     "data": {
      "text/plain": [
       "array([[12, 10],\n",
       "       [20, 35]])"
      ]
     },
     "execution_count": 6,
     "metadata": {},
     "output_type": "execute_result"
    }
   ],
   "source": [
    "array1 * array2"
   ]
  },
  {
   "cell_type": "markdown",
   "id": "05409491",
   "metadata": {},
   "source": [
    "### Q6. Before you buy a home, which numpy function will you use to measure your monthly mortgage payment?"
   ]
  },
  {
   "cell_type": "markdown",
   "id": "787e6505",
   "metadata": {},
   "source": [
    "numpy.pmt()"
   ]
  },
  {
   "cell_type": "markdown",
   "id": "cc6e3709",
   "metadata": {},
   "source": [
    "### Q7. Can string data be stored in numpy arrays? If so, list at least one restriction that applies to this data."
   ]
  },
  {
   "cell_type": "markdown",
   "id": "64706304",
   "metadata": {},
   "source": [
    "yes, we can store strings in numpy array, \n",
    "\n",
    "Numpy arrays are Homogeneous. NumPy arrays can only hold elements of one datatype, so if we add an integer or a float value it will be converted to string datatype"
   ]
  },
  {
   "cell_type": "code",
   "execution_count": 12,
   "id": "a5581e50",
   "metadata": {},
   "outputs": [
    {
     "data": {
      "text/plain": [
       "numpy.str_"
      ]
     },
     "execution_count": 12,
     "metadata": {},
     "output_type": "execute_result"
    }
   ],
   "source": [
    "x = np.array([\"Hello\", 10])\n",
    "\n",
    "type(x[1])"
   ]
  }
 ],
 "metadata": {
  "kernelspec": {
   "display_name": "Python 3.9.5 64-bit (system)",
   "language": "python",
   "name": "python3"
  },
  "language_info": {
   "codemirror_mode": {
    "name": "ipython",
    "version": 3
   },
   "file_extension": ".py",
   "mimetype": "text/x-python",
   "name": "python",
   "nbconvert_exporter": "python",
   "pygments_lexer": "ipython3",
   "version": "3.9.5"
  },
  "vscode": {
   "interpreter": {
    "hash": "614dde0ddec1f112749d87eae420dce0ff8a679ee35e01ac889836b1df3e6e22"
   }
  }
 },
 "nbformat": 4,
 "nbformat_minor": 5
}
