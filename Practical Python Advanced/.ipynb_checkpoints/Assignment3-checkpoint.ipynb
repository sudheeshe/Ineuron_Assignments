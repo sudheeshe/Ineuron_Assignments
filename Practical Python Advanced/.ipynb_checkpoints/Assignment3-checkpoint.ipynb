{
 "cells": [
  {
   "cell_type": "markdown",
   "id": "bfea8b36",
   "metadata": {},
   "source": [
    "### 1. Create a function to perform basic arithmetic operations that includes addition, subtraction, multiplication and division on a string number (e.g. \"12 + 24\" or \"23 - 21\" or \"12 // 12\" or \"12 * 21\").\n",
    "\n",
    "Here, we have 1 followed by a space, operator followed by another space and 2. For the challenge, we are going to have only two numbers between 1 valid operator. The return value should be a number.\n",
    "\n",
    "eval() is not allowed. In case of division, whenever the second number equals \"0\" return -1.\n",
    "\n",
    "For example:\n",
    "\n",
    "\"15 // 0\"  ➞ -1\n",
    "\n",
    "Examples\n",
    "\n",
    "arithmetic_operation(\"12 + 12\") ➞ 24 // 12 + 12 = 24\n",
    "\n",
    "arithmetic_operation(\"12 - 12\") ➞ 24 // 12 - 12 = 0\n",
    "\n",
    "arithmetic_operation(\"12 * 12\") ➞ 144 // 12 * 12 = 144\n",
    "\n",
    "arithmetic_operation(\"12 // 0\") ➞ -1 // 12 / 0 = -1\n"
   ]
  },
  {
   "cell_type": "markdown",
   "id": "36ca496d",
   "metadata": {},
   "source": [
    "### Answer :"
   ]
  },
  {
   "cell_type": "code",
   "execution_count": null,
   "id": "d4f0a54e",
   "metadata": {},
   "outputs": [],
   "source": [
    "def arithmetic_operation(val_in_txt):\n",
    "    \n",
    "    temp = val_in_txt.split()\n",
    "    \n",
    "    if temp[1] == '+':\n",
    "        return int(temp[0]) + int(temp[2])\n",
    "    \n",
    "    elif temp[1] == '-':\n",
    "        return int(temp[0]) - int(temp[2])\n",
    "    \n",
    "    elif temp[1] == '*':\n",
    "        return int(temp[0]) * int(temp[2])\n",
    "    \n",
    "    elif temp[1] == '//':\n",
    "        \n",
    "        if int(temp[2]) == 0:\n",
    "            return -1\n",
    "        \n",
    "        else:\n",
    "            return int(temp[0]) // int(temp[2])\n",
    "    "
   ]
  },
  {
   "cell_type": "code",
   "execution_count": null,
   "id": "fba493e5",
   "metadata": {},
   "outputs": [],
   "source": [
    "arithmetic_operation(\"12 + 12\")"
   ]
  },
  {
   "cell_type": "code",
   "execution_count": null,
   "id": "ed5c0374",
   "metadata": {},
   "outputs": [],
   "source": [
    "arithmetic_operation(\"12 - 12\")"
   ]
  },
  {
   "cell_type": "code",
   "execution_count": null,
   "id": "32c38c99",
   "metadata": {},
   "outputs": [],
   "source": [
    "arithmetic_operation(\"12 * 12\")"
   ]
  },
  {
   "cell_type": "code",
   "execution_count": null,
   "id": "06442ee4",
   "metadata": {},
   "outputs": [],
   "source": [
    "arithmetic_operation(\"12 // 0\")"
   ]
  },
  {
   "cell_type": "markdown",
   "id": "586f2548",
   "metadata": {},
   "source": [
    "### 2. Write a function that takes the coordinates of three points in the form of a 2d array and returns the perimeter of the triangle. The given points are the vertices of a triangle on a two-dimensional plane.\n",
    "\n",
    "Examples\n",
    "\n",
    "perimeter( [ [15, 7], [5, 22], [11, 1] ] ) ➞ 47.08\n",
    "\n",
    "perimeter( [ [0, 0], [0, 1], [1, 0] ] ) ➞ 3.42\n",
    "\n",
    "perimeter( [ [-10, -10], [10, 10 ], [-10, 10] ] ) ➞ 68.28\n"
   ]
  },
  {
   "cell_type": "code",
   "execution_count": null,
   "id": "87e8def4",
   "metadata": {},
   "outputs": [],
   "source": [
    "def perimeter(coordinates):\n",
    "    \n",
    "    import math\n",
    "    temp = np.array(coordinates)\n",
    "    \n",
    "    ab = ((temp[1:2,0:1].item() - temp[0:1,0:1].item())**2) + ((temp[1:2,1:2].item() - temp[0:1,1:2].item())**2)\n",
    "    bc = ((temp[2:,0:1].item() - temp[1:2,0:1].item())**2) + ((temp[2:,1:2].item() - temp[1:2,1:2].item())**2)\n",
    "    ac = ((temp[2:,0:1].item() - temp[0:1,0:1].item())**2) + ((temp[2:,1:2].item() - temp[0:1,0:1].item())**2)\n",
    "    \n",
    "    return math.sqrt(ab) + math.sqrt(bc) + math.sqrt(ac)\n",
    "        "
   ]
  },
  {
   "cell_type": "markdown",
   "id": "f82027ab",
   "metadata": {},
   "source": [
    "### 3. A city skyline can be represented as a 2-D list with 1s representing buildings. In the example below, the height of the tallest building is 4 (second-most right column)."
   ]
  },
  {
   "cell_type": "code",
   "execution_count": null,
   "id": "7043c2e5",
   "metadata": {},
   "outputs": [],
   "source": [
    "\n",
    "\n",
    "[[0, 0, 0, 0, 0, 0],\n",
    "[0, 0, 0, 0, 1, 0],\n",
    "[0, 0, 1, 0, 1, 0],\n",
    "[0, 1, 1, 1, 1, 0],\n",
    "[1, 1, 1, 1, 1, 1]]\n",
    "\n",
    "Create a function that takes a skyline (2-D list of 0's and 1's) and returns the height of the tallest skyscraper.\n",
    "\n",
    "Examples\n",
    "\n",
    "tallest_skyscraper([\n",
    "  [0, 0, 0, 0],\n",
    "  [0, 1, 0, 0],\n",
    "  [0, 1, 1, 0],\n",
    "  [1, 1, 1, 1]\n",
    "]) ➞ 3\n",
    "\n",
    "tallest_skyscraper([\n",
    "  [0, 1, 0, 0],\n",
    "  [0, 1, 0, 0],\n",
    "  [0, 1, 1, 0],\n",
    "  [1, 1, 1, 1]\n",
    "]) ➞ 4\n",
    "\n",
    "tallest_skyscraper([\n",
    "  [0, 0, 0, 0],\n",
    "  [0, 0, 0, 0],\n",
    "  [1, 1, 1, 0],\n",
    "  [1, 1, 1, 1]\n",
    "]) ➞ 2\n",
    "\n"
   ]
  },
  {
   "cell_type": "markdown",
   "id": "10d39768",
   "metadata": {},
   "source": [
    "### Answer:"
   ]
  },
  {
   "cell_type": "code",
   "execution_count": null,
   "id": "ceae6d89",
   "metadata": {},
   "outputs": [],
   "source": [
    "def tallest_skyscraper(arr):\n",
    "    import numpy as np\n",
    "    \n",
    "    temp = np.array(arr)\n",
    "    x = np.sum(temp, axis=0)\n",
    "    \n",
    "    return np.argmax(x)"
   ]
  },
  {
   "cell_type": "code",
   "execution_count": null,
   "id": "ad7cae4d",
   "metadata": {},
   "outputs": [],
   "source": [
    "x = [\n",
    "  [0, 1, 0, 0],\n",
    "  [0, 1, 0, 0],\n",
    "  [0, 1, 1, 0],\n",
    "  [1, 1, 1, 1]\n",
    "]"
   ]
  },
  {
   "cell_type": "code",
   "execution_count": null,
   "id": "d21629dd",
   "metadata": {},
   "outputs": [],
   "source": [
    "tallest_skyscraper(x)"
   ]
  },
  {
   "cell_type": "markdown",
   "id": "e57fcc8a",
   "metadata": {},
   "source": [
    "### 4. A financial institution provides professional services to banks and claims charges from the customers based on the number of man-days provided. Internally, it has set a scheme to motivate and reward staff to meet and exceed targeted billable utilization and revenues by paying a bonus for each day claimed from customers in excess of a threshold target."
   ]
  },
  {
   "cell_type": "markdown",
   "id": "1074ab41",
   "metadata": {},
   "source": [
    "\n",
    "This quarterly scheme is calculated with a threshold target of 32 days per quarter, and the incentive payment for each billable day in excess of such threshold target is shown as follows:\n",
    "\n",
    "Days\t                             Bonus\n",
    "0 to 32 days\t                   Zero\n",
    "33 to 40 days\t         SGD$325 per billable day\n",
    "41 to 48 days\t         SGD$550 per billable day\n",
    "Greater than 48 days      SGD$600 per billable day\n",
    "\n",
    "Please note that incentive payment is calculated progressively. As an example, if an employee reached total billable days of 45 in a quarter, his/her incentive payment is computed as follows:\n",
    "\n",
    "32*0 + 8*325 + 5*550 = 5350\n",
    "\n",
    "Write a function to read the billable days of an employee and return the bonus he/she has obtained in that quarter.\n",
    "\n",
    "Examples\n",
    "\n",
    "bonus(15) ➞ 0\n",
    "\n",
    "bonus(37) ➞ 1625\n",
    "\n",
    "bonus(50) ➞ 8200\n"
   ]
  },
  {
   "cell_type": "markdown",
   "id": "92789aaa",
   "metadata": {},
   "source": [
    "### Answer:"
   ]
  },
  {
   "cell_type": "code",
   "execution_count": 54,
   "id": "c2f68aa5",
   "metadata": {},
   "outputs": [],
   "source": [
    "def bonus(days):\n",
    "    \n",
    "    if int(days) <= 32:\n",
    "        return 0\n",
    "    \n",
    "    elif 32 < int(days) <=40:\n",
    "        \n",
    "        temp = int(days) - 33 + 1\n",
    "        return temp*325\n",
    "    \n",
    "    elif 40< int(days) <=48:\n",
    "        \n",
    "        temp = int(days) - 40 + 1\n",
    "        return 8*325 + temp*550\n",
    "    \n",
    "    elif int(days)>48:\n",
    "        \n",
    "        temp =  int(days) - 49 + 1 \n",
    "        return 8*325 + 8*550 + temp*600\n",
    "             "
   ]
  },
  {
   "cell_type": "code",
   "execution_count": 55,
   "id": "f7cddda5",
   "metadata": {},
   "outputs": [
    {
     "data": {
      "text/plain": [
       "0"
      ]
     },
     "execution_count": 55,
     "metadata": {},
     "output_type": "execute_result"
    }
   ],
   "source": [
    "bonus(15)"
   ]
  },
  {
   "cell_type": "code",
   "execution_count": 56,
   "id": "e51873a9",
   "metadata": {},
   "outputs": [
    {
     "data": {
      "text/plain": [
       "1625"
      ]
     },
     "execution_count": 56,
     "metadata": {},
     "output_type": "execute_result"
    }
   ],
   "source": [
    "bonus(37)"
   ]
  },
  {
   "cell_type": "code",
   "execution_count": 57,
   "id": "980b66fa",
   "metadata": {},
   "outputs": [
    {
     "data": {
      "text/plain": [
       "8200"
      ]
     },
     "execution_count": 57,
     "metadata": {},
     "output_type": "execute_result"
    }
   ],
   "source": [
    "bonus(50)"
   ]
  },
  {
   "cell_type": "markdown",
   "id": "fcf009be",
   "metadata": {},
   "source": [
    "### 5. A number is said to be Disarium if the sum of its digits raised to their respective positions is the number itself."
   ]
  },
  {
   "cell_type": "code",
   "execution_count": null,
   "id": "dc9606a6",
   "metadata": {},
   "outputs": [],
   "source": [
    "Create a function that determines whether a number is a Disarium or not.\n",
    "\n",
    "Examples\n",
    "\n",
    "is_disarium(75) ➞ False\n",
    "# 7^1 + 5^2 = 7 + 25 = 32\n",
    "\n",
    "is_disarium(135) ➞ True\n",
    "# 1^1 + 3^2 + 5^3 = 1 + 9 + 125 = 135\n",
    "\n",
    "is_disarium(544) ➞ False\n",
    "\n",
    "is_disarium(518) ➞ True\n",
    "\n",
    "is_disarium(466) ➞ False\n",
    "\n",
    "is_disarium(8) ➞ True\n"
   ]
  },
  {
   "cell_type": "code",
   "execution_count": 71,
   "id": "45d96cfe",
   "metadata": {},
   "outputs": [],
   "source": [
    "def is_disarium(val):\n",
    "    Number = int(val)\n",
    "    length = len(str(Number))\n",
    "\n",
    "    Temp = Number\n",
    "    Sum = 0\n",
    "    rem = 0\n",
    "\n",
    "    while Temp > 0:\n",
    "        rem = Temp % 10\n",
    "        Sum = Sum + int(rem ** length)\n",
    "        Temp = Temp // 10\n",
    "        length = length - 1\n",
    "\n",
    "    if Sum == Number:\n",
    "        return True\n",
    "\n",
    "    else:\n",
    "        return False"
   ]
  },
  {
   "cell_type": "code",
   "execution_count": 72,
   "id": "66f6bc41",
   "metadata": {},
   "outputs": [
    {
     "data": {
      "text/plain": [
       "True"
      ]
     },
     "execution_count": 72,
     "metadata": {},
     "output_type": "execute_result"
    }
   ],
   "source": [
    "is_disarium(135)"
   ]
  },
  {
   "cell_type": "code",
   "execution_count": 73,
   "id": "ec9046aa",
   "metadata": {},
   "outputs": [
    {
     "data": {
      "text/plain": [
       "False"
      ]
     },
     "execution_count": 73,
     "metadata": {},
     "output_type": "execute_result"
    }
   ],
   "source": [
    "is_disarium(75)"
   ]
  },
  {
   "cell_type": "code",
   "execution_count": null,
   "id": "0023fc4a",
   "metadata": {},
   "outputs": [],
   "source": []
  }
 ],
 "metadata": {
  "kernelspec": {
   "display_name": "Python 3 (ipykernel)",
   "language": "python",
   "name": "python3"
  },
  "language_info": {
   "codemirror_mode": {
    "name": "ipython",
    "version": 3
   },
   "file_extension": ".py",
   "mimetype": "text/x-python",
   "name": "python",
   "nbconvert_exporter": "python",
   "pygments_lexer": "ipython3",
   "version": "3.9.7"
  }
 },
 "nbformat": 4,
 "nbformat_minor": 5
}
