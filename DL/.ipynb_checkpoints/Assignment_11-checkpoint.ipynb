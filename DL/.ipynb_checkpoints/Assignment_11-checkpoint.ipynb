{
 "cells": [
  {
   "cell_type": "markdown",
   "id": "fd9717e3",
   "metadata": {},
   "source": [
    "### 1.\tWrite the Python code to implement a single neuron."
   ]
  },
  {
   "cell_type": "code",
   "execution_count": null,
   "id": "2a5be499",
   "metadata": {},
   "outputs": [],
   "source": [
    "from numpy import exp, array, random, dot, tanh\n",
    "\n",
    "\n",
    "\n",
    "class NeuralNetwork():\n",
    "    def __init__(self):\n",
    "        # Using seed to make sure it'll\n",
    "        # generate same weights in every run\n",
    "        random.seed(1)\n",
    "\n",
    "        # 3x1 Weight matrix\n",
    "        self.weight_matrix = 2 * random.random((3, 1)) - 1\n",
    "\n",
    "    # tanh as activation function\n",
    "    def tanh(self, x):\n",
    "        return tanh(x)\n",
    "\n",
    "    # derivative of tanh function.\n",
    "    # Needed to calculate the gradients.\n",
    "    def tanh_derivative(self, x):\n",
    "        return 1.0 - tanh(x) ** 2\n",
    "\n",
    "    # forward propagation\n",
    "    def forward_propagation(self, inputs):\n",
    "        return self.tanh(dot(inputs, self.weight_matrix))\n",
    "\n",
    "     # training the neural network.\n",
    "    def train(self, train_inputs, train_outputs,num_train_iterations):\n",
    "\n",
    "        # Number of iterations we want to\n",
    "        # perform for this set of input.\n",
    "        for iteration in range(num_train_iterations):\n",
    "            output = self.forward_propagation(train_inputs)\n",
    "\n",
    "            # Calculate the error in the output.\n",
    "            error = train_outputs - output\n",
    "\n",
    "            # multiply the error by input and then\n",
    "            # by gradient of tanh function to calculate\n",
    "            # the adjustment needs to be made in weights\n",
    "            adjustment = dot(train_inputs.T, error *\n",
    "                                self.tanh_derivative(output))\n",
    "\n",
    "            # Adjust the weight matrix\n",
    "            self.weight_matrix += adjustment\n",
    "\n",
    "# Driver Code\n",
    "if __name__ == \"__main__\":\n",
    "\n",
    "    neural_network = NeuralNetwork()\n",
    "\n",
    "    print ('Random weights at the start of training')\n",
    "    print (neural_network.weight_matrix)\n",
    "\n",
    "    train_inputs = array([[0, 0, 1], [1, 1, 1], [1, 0, 1], [0, 1, 1]])\n",
    "    train_outputs = array([[0, 1, 1, 0]]).T\n",
    "\n",
    "    neural_network.train(train_inputs, train_outputs, 10000)\n",
    "\n",
    "    print ('New weights after training')\n",
    "    print (neural_network.weight_matrix)\n",
    "\n",
    "    # Test the neural network with a new situation.\n",
    "    print (\"Testing network on new examples ->\")\n",
    "    print (neural_network.forward_propagation(array([1, 0, 0])))\n"
   ]
  },
  {
   "cell_type": "markdown",
   "id": "6bdce6bc",
   "metadata": {},
   "source": [
    "### 2.\tWrite the Python code to implement ReLU."
   ]
  },
  {
   "cell_type": "code",
   "execution_count": 8,
   "id": "3e45d337",
   "metadata": {},
   "outputs": [],
   "source": [
    "def ReLU(x):\n",
    "  data = [0 if value<0 else value for value in x]\n",
    "  return np.array(data, dtype=float)"
   ]
  },
  {
   "cell_type": "markdown",
   "id": "de9c9c1b",
   "metadata": {},
   "source": [
    "### 3.\tWrite the Python code for a dense layer in terms of matrix multiplication."
   ]
  },
  {
   "cell_type": "code",
   "execution_count": null,
   "id": "8f594bad",
   "metadata": {},
   "outputs": [],
   "source": []
  },
  {
   "cell_type": "markdown",
   "id": "fced6806",
   "metadata": {},
   "source": [
    "### 4.\tWrite the Python code for a dense layer in plain Python (that is, with list comprehensions and functionality built into Python)."
   ]
  },
  {
   "cell_type": "code",
   "execution_count": null,
   "id": "3ac4abd7",
   "metadata": {},
   "outputs": [],
   "source": []
  },
  {
   "cell_type": "markdown",
   "id": "88aa5a92",
   "metadata": {},
   "source": [
    "### 5.\tWhat is the “hidden size” of a layer?"
   ]
  },
  {
   "cell_type": "raw",
   "id": "e35d79b3",
   "metadata": {},
   "source": [
    "The size of the hidden layer is normally between the size of the input layer and output layer."
   ]
  },
  {
   "cell_type": "markdown",
   "id": "08c8a471",
   "metadata": {},
   "source": [
    "### 6.\tWhat does the t method do in PyTorch?"
   ]
  },
  {
   "cell_type": "markdown",
   "id": "814d40df",
   "metadata": {},
   "source": [
    "This method give the transpose of the Input as Output "
   ]
  },
  {
   "cell_type": "markdown",
   "id": "a65521e6",
   "metadata": {},
   "source": [
    "### 7.\tWhy is matrix multiplication written in plain Python very slow?"
   ]
  },
  {
   "cell_type": "markdown",
   "id": "7b939220",
   "metadata": {},
   "source": [
    "With python matrix multiplication supports only CPU Operation, by which parallel processing cannot be achieved. So in core python the matrix multiplication will be comparitvely slower than Tensorflow or Pytorch matrix multiplication which by default supports GPU opeartion."
   ]
  },
  {
   "cell_type": "markdown",
   "id": "c86f1ab6",
   "metadata": {},
   "source": [
    "### 8.\tIn matmul, why is ac==br?"
   ]
  },
  {
   "cell_type": "markdown",
   "id": "a78e6bf9",
   "metadata": {},
   "source": [
    "if we have two matrices m1, and m2, Two matrices can be multiplied only if the number of columns in the first matrix (m1) is equal to the number of rows in the second matrix (m2). \n",
    "\n",
    "The product of the two matrices will have the order of a number of rows in the first row and the number of columns in the second matrix."
   ]
  },
  {
   "cell_type": "markdown",
   "id": "0a4669bb",
   "metadata": {},
   "source": [
    "### 9.\tIn Jupyter Notebook, how do you measure the time taken for a single cell to execute?"
   ]
  },
  {
   "cell_type": "markdown",
   "id": "cdc9a75a",
   "metadata": {},
   "source": [
    "We can use the timeit built-in library available in python.\n",
    "\n",
    "Where the timeit.timeit() function returns the number of seconds it took to execute the code."
   ]
  },
  {
   "cell_type": "markdown",
   "id": "dc8deb93",
   "metadata": {},
   "source": [
    "### 10.\tWhat is elementwise arithmetic?"
   ]
  },
  {
   "cell_type": "markdown",
   "id": "44515bc3",
   "metadata": {},
   "source": [
    "An element-wise operation is an operation between two tensors that operates on corresponding elements within the respective tensors. For example Elementwise multiplication means it computes a new matrix with elements that are the products of the corresponding elements of matrix1 and matrix2."
   ]
  },
  {
   "cell_type": "markdown",
   "id": "f9d59a4f",
   "metadata": {},
   "source": [
    "### 11.\tWrite the PyTorch code to test whether every element of a is greater than the corresponding element of b."
   ]
  },
  {
   "cell_type": "code",
   "execution_count": null,
   "id": "5e090e74",
   "metadata": {},
   "outputs": [],
   "source": []
  },
  {
   "cell_type": "markdown",
   "id": "db761c71",
   "metadata": {},
   "source": [
    "### 12.\tWhat is a rank-0 tensor? How do you convert it to a plain Python data type?"
   ]
  },
  {
   "cell_type": "markdown",
   "id": "8daef48b",
   "metadata": {},
   "source": [
    "A tensor with rank 0 is a zero-dimensional array. The element of a zero-dimensional array is a point. This is represented as a Scalar in Math and has magnitude. Eg: s = 48.3. Shape - [ ]"
   ]
  },
  {
   "cell_type": "markdown",
   "id": "aea3e682",
   "metadata": {},
   "source": [
    "### 13.\tHow does elementwise arithmetic help us speed up matmul?"
   ]
  },
  {
   "cell_type": "code",
   "execution_count": null,
   "id": "bf21a9ba",
   "metadata": {},
   "outputs": [],
   "source": []
  },
  {
   "cell_type": "markdown",
   "id": "864c87c4",
   "metadata": {},
   "source": [
    "### 14.\tWhat are the broadcasting rules?"
   ]
  },
  {
   "cell_type": "code",
   "execution_count": null,
   "id": "94145379",
   "metadata": {},
   "outputs": [],
   "source": []
  },
  {
   "cell_type": "markdown",
   "id": "df22f121",
   "metadata": {},
   "source": [
    "### 15.\tWhat is expand_as? Show an example of how it can be used to match the results of broadcasting."
   ]
  },
  {
   "cell_type": "code",
   "execution_count": null,
   "id": "c334ba71",
   "metadata": {},
   "outputs": [],
   "source": []
  }
 ],
 "metadata": {
  "kernelspec": {
   "display_name": "Python 3 (ipykernel)",
   "language": "python",
   "name": "python3"
  },
  "language_info": {
   "codemirror_mode": {
    "name": "ipython",
    "version": 3
   },
   "file_extension": ".py",
   "mimetype": "text/x-python",
   "name": "python",
   "nbconvert_exporter": "python",
   "pygments_lexer": "ipython3",
   "version": "3.9.7"
  }
 },
 "nbformat": 4,
 "nbformat_minor": 5
}
