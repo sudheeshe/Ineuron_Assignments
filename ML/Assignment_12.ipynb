{
 "cells": [
  {
   "cell_type": "markdown",
   "id": "1591f886",
   "metadata": {},
   "source": [
    "### 1. What is prior probability? Give an example."
   ]
  },
  {
   "cell_type": "markdown",
   "id": "7b7a4b17",
   "metadata": {},
   "source": [
    "Prior probability shows the likelihood of an outcome in a given dataset. For example, in the mortgage case, P(Y) is the default rate on a home mortgage, which is 2%. P(Y|X) is called the conditional probability, which provides the probability of an outcome given the evidence, that is, when the value of X is known."
   ]
  },
  {
   "cell_type": "markdown",
   "id": "e8b38d7f",
   "metadata": {},
   "source": [
    "### 2. What is posterior probability? Give an example."
   ]
  },
  {
   "cell_type": "markdown",
   "id": "2b0025d5",
   "metadata": {},
   "source": [
    "Posterior probability is a revised probability that takes into account new available information. For example, let there be two urns, urn A having 5 black balls and 10 red balls and urn B having 10 black balls and 5 red balls. Now if an urn is selected at random, the probability that urn A is chosen is 0.5."
   ]
  },
  {
   "cell_type": "markdown",
   "id": "2343d5a1",
   "metadata": {},
   "source": [
    "### 3. What is likelihood probability? Give an example."
   ]
  },
  {
   "cell_type": "markdown",
   "id": "c9e77c64",
   "metadata": {},
   "source": [
    "Probability is about a finite set of possible outcomes, given a probability. Likelihood is about an infinite set of possible probabilities, given an outcome.\n",
    "\n",
    "When the spinner is spun once, the number 2 has a chance of occurring more number of times than the numbers 1, 3, and 4. So, the spinner landing on the number 2 is most likely to occur."
   ]
  },
  {
   "cell_type": "markdown",
   "id": "9ebd9ad0",
   "metadata": {},
   "source": [
    "### 4. What is Naïve Bayes classifier? Why is it named so?"
   ]
  },
  {
   "cell_type": "markdown",
   "id": "be8ecfb5",
   "metadata": {},
   "source": [
    "Naive Bayes classifiers are a collection of classification algorithms based on Bayes' Theorem. It is not a single algorithm but a family of algorithms where all of them share a common principle, i.e. every pair of features being classified is independent of each other. To start with, let us consider a dataset."
   ]
  },
  {
   "cell_type": "markdown",
   "id": "836f192b",
   "metadata": {},
   "source": [
    "### 5. What is optimal Bayes classifier?"
   ]
  },
  {
   "cell_type": "markdown",
   "id": "e3f3d035",
   "metadata": {},
   "source": [
    "The Bayes optimal classifier is a probabilistic model that makes the most probable prediction for a new example, given the training dataset. This model is also referred to as the Bayes optimal learner, the Bayes classifier, Bayes optimal decision boundary, or the Bayes optimal discriminant function."
   ]
  },
  {
   "cell_type": "markdown",
   "id": "9f3da872",
   "metadata": {},
   "source": [
    "### 6. Write any two features of Bayesian learning methods."
   ]
  },
  {
   "cell_type": "markdown",
   "id": "589f112b",
   "metadata": {},
   "source": [
    "Bayes Theorem is a method to determine conditional probabilities – that is, the probability of one event occurring given that another event has already occurred. Because a conditional probability includes additional conditions – in other words, more data – it can contribute to more accurate results."
   ]
  },
  {
   "cell_type": "markdown",
   "id": "2f6301d4",
   "metadata": {},
   "source": [
    "### 7. Define the concept of consistent learners."
   ]
  },
  {
   "cell_type": "markdown",
   "id": "f765c53c",
   "metadata": {},
   "source": [
    "A learner L using a hypothesis H and training data D is said to be a consistent learner if it always outputs a hypothesis with zero error on D whenever H contains such a hypothesis."
   ]
  },
  {
   "cell_type": "markdown",
   "id": "538ac2e0",
   "metadata": {},
   "source": [
    "### 8. Write any two strengths of Bayes classifier."
   ]
  },
  {
   "cell_type": "markdown",
   "id": "2d3d16dc",
   "metadata": {},
   "source": [
    "The following are some of the benefits of the Naive Bayes classifier: \n",
    "\n",
    "- It is simple and easy to implement\n",
    "- It doesn’t require as much training data\n",
    "- It handles both continuous and discrete data\n",
    "- It is highly scalable with the number of predictors and data points\n",
    "- It is fast and can be used to make real-time predictions\n",
    "- It is not sensitive to irrelevant features "
   ]
  },
  {
   "cell_type": "markdown",
   "id": "6509d496",
   "metadata": {},
   "source": [
    "### 9. Write any two weaknesses of Bayes classifier."
   ]
  },
  {
   "cell_type": "markdown",
   "id": "b0f7e1ab",
   "metadata": {},
   "source": [
    "- Naive Bayes assumes that all predictors (or features) are independent, rarely happening in real life. This limits the applicability of this algorithm in real-world use cases.\n",
    "\n",
    "- This algorithm faces the ‘zero-frequency problem’ where it assigns zero probability to a categorical variable whose category in the test data set wasn’t available in the training dataset. It would be best if you used a smoothing technique to overcome this issue.\n",
    "\n",
    "- Its estimations can be wrong in some cases, so you shouldn’t take its probability outputs very seriously. "
   ]
  },
  {
   "cell_type": "markdown",
   "id": "59d5a065",
   "metadata": {},
   "source": [
    "### 10. Explain how Naïve Bayes classifier is used for\n",
    "\n",
    "        1. Text classification\n",
    "\n",
    "        2. Spam filtering\n",
    "\n",
    "        3. Market sentiment analysis\n"
   ]
  },
  {
   "cell_type": "code",
   "execution_count": null,
   "id": "222ef10f",
   "metadata": {},
   "outputs": [],
   "source": []
  }
 ],
 "metadata": {
  "kernelspec": {
   "display_name": "Python 3 (ipykernel)",
   "language": "python",
   "name": "python3"
  },
  "language_info": {
   "codemirror_mode": {
    "name": "ipython",
    "version": 3
   },
   "file_extension": ".py",
   "mimetype": "text/x-python",
   "name": "python",
   "nbconvert_exporter": "python",
   "pygments_lexer": "ipython3",
   "version": "3.9.7"
  }
 },
 "nbformat": 4,
 "nbformat_minor": 5
}
