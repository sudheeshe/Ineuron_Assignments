{
 "cells": [
  {
   "cell_type": "markdown",
   "id": "5e966612",
   "metadata": {},
   "source": [
    "### 1.\tDefine the Bayesian interpretation of probability."
   ]
  },
  {
   "cell_type": "markdown",
   "id": "4f02b2b5",
   "metadata": {},
   "source": [
    " Probability of an event A given B equals the probability of B and A happening together divided by the probability of B.” For example: Assume two partially intersecting sets A and B as shown below. Set A represents one set of events and Set B represents another."
   ]
  },
  {
   "cell_type": "markdown",
   "id": "fcbedaef",
   "metadata": {},
   "source": [
    "### 2.\tDefine probability of a union of two events with equation."
   ]
  },
  {
   "cell_type": "code",
   "execution_count": null,
   "id": "0e4445b4",
   "metadata": {},
   "outputs": [],
   "source": [
    "P(A or B) = P(A) + P(B)"
   ]
  },
  {
   "cell_type": "markdown",
   "id": "533253fd",
   "metadata": {},
   "source": [
    "### 3.\tWhat is joint probability? What is its formula?"
   ]
  },
  {
   "cell_type": "markdown",
   "id": "0652f860",
   "metadata": {},
   "source": [
    "Joint probability is a statistical measure that calculates the likelihood of two events occurring together and at the same point in time. Joint probability is the probability of event Y occurring at the same time that event X occurs."
   ]
  },
  {
   "cell_type": "code",
   "execution_count": null,
   "id": "68be6e7d",
   "metadata": {},
   "outputs": [],
   "source": [
    "Joint Probability: P(A and B) = P(A) * P(B)"
   ]
  },
  {
   "cell_type": "markdown",
   "id": "be43a18f",
   "metadata": {},
   "source": [
    "### 4.\tWhat is chain rule of probability?"
   ]
  },
  {
   "cell_type": "markdown",
   "id": "b7b4fdcd",
   "metadata": {},
   "source": [
    "the chain rule (also called the general product rule) permits the calculation of any member of the joint distribution of a set of random variables using only conditional probabilities."
   ]
  },
  {
   "cell_type": "markdown",
   "id": "4cfecdf9",
   "metadata": {},
   "source": [
    "### 5.\tWhat is conditional probability means? What is the formula of it?"
   ]
  },
  {
   "cell_type": "markdown",
   "id": "1e4b85dd",
   "metadata": {},
   "source": [
    "Conditional probability is defined as the likelihood of an event or outcome occurring, based on the occurrence of a previous event or outcome. Conditional probability is calculated by multiplying the probability of the preceding event by the updated probability of the succeeding, or conditional, event."
   ]
  },
  {
   "cell_type": "markdown",
   "id": "ce3554ed",
   "metadata": {},
   "source": [
    "P(A | B) = P(A ∩ B) / P(B)."
   ]
  },
  {
   "cell_type": "markdown",
   "id": "5827efb0",
   "metadata": {},
   "source": [
    "### 6.\tWhat are continuous random variables?"
   ]
  },
  {
   "cell_type": "markdown",
   "id": "d1a2aa58",
   "metadata": {},
   "source": [
    "A continuous random variable is one which takes an infinite number of possible values. Continuous random variables are usually measurements. Examples include height, weight, the amount of sugar in an orange, the time required to run a mile."
   ]
  },
  {
   "cell_type": "markdown",
   "id": "e79626b8",
   "metadata": {},
   "source": [
    "### 7.\tWhat are Bernoulli distributions? What is the formula of it?"
   ]
  },
  {
   "cell_type": "markdown",
   "id": "70eb8737",
   "metadata": {},
   "source": [
    "A Bernoulli distribution is a discrete probability distribution for a Bernoulli trial — a random experiment that has only two outcomes (usually called a “Success” or a “Failure”). For example, the probability of getting a heads (a “success”) while flipping a coin is 0.5."
   ]
  },
  {
   "attachments": {
    "download.png": {
     "image/png": "[encoded data removed]"
    }
   },
   "cell_type": "markdown",
   "id": "f9d0af19",
   "metadata": {},
   "source": [
    "![download.png](attachment:download.png)"
   ]
  },
  {
   "attachments": {
    "Screenshot%202022-06-19%20163123.jpg": {
     "image/jpeg": "[encoded data removed]"
    }
   },
   "cell_type": "markdown",
   "id": "7a96ad90",
   "metadata": {},
   "source": [
    "![Screenshot%202022-06-19%20163123.jpg](attachment:Screenshot%202022-06-19%20163123.jpg)"
   ]
  },
  {
   "cell_type": "markdown",
   "id": "5e1291b7",
   "metadata": {},
   "source": [
    "### 8.\tWhat is binomial distribution? What is the formula?"
   ]
  },
  {
   "cell_type": "markdown",
   "id": "025a3724",
   "metadata": {},
   "source": [
    "The binomial distribution is the discrete probability distribution that gives only two possible results in an experiment, either success or failure."
   ]
  },
  {
   "cell_type": "code",
   "execution_count": null,
   "id": "f1700519",
   "metadata": {},
   "outputs": [],
   "source": [
    "The formula for binomial distribution is:\n",
    "    \n",
    "P(x: n,p) = nCx px (q)n-x\n",
    "\n",
    "Where \n",
    "\n",
    "    p is the probability of success, \n",
    "    q is the probability of failure, \n",
    "    n= number of trials"
   ]
  },
  {
   "cell_type": "markdown",
   "id": "78c078a8",
   "metadata": {},
   "source": [
    "### 9.\tWhat is Poisson distribution? What is the formula?"
   ]
  },
  {
   "cell_type": "markdown",
   "id": "53466ee2",
   "metadata": {},
   "source": [
    "The Poisson distribution is a discrete probability function that means the variable can only take specific values in a given list of numbers, probably infinite. A Poisson distribution measures how many times an event is likely to occur within “x” period of time. In other words, we can define it as the probability distribution that results from the Poisson experiment. A Poisson experiment is a statistical experiment that classifies the experiment into two categories, such as success or failure. Poisson distribution is a limiting process of the binomial distribution."
   ]
  },
  {
   "cell_type": "code",
   "execution_count": null,
   "id": "c7baa968",
   "metadata": {},
   "outputs": [],
   "source": [
    "The formula for the Poisson distribution function is given by:\n",
    "\n",
    "f(x) =(e– λ λx)/x!\n",
    "\n",
    "Where,\n",
    "\n",
    "e is the base of the logarithm\n",
    "\n",
    "x is a Poisson random variable\n",
    "\n",
    "λ is an average rate of value"
   ]
  },
  {
   "cell_type": "markdown",
   "id": "81199784",
   "metadata": {},
   "source": [
    "### 10.\tDefine covariance."
   ]
  },
  {
   "cell_type": "markdown",
   "id": "4c88f7c3",
   "metadata": {},
   "source": [
    "Covariance is a statistical tool that is used to determine the relationship between the movements of two random variables. When two stocks tend to move together, they are seen as having a positive covariance; when they move inversely, the covariance is negative."
   ]
  },
  {
   "cell_type": "markdown",
   "id": "a275fe68",
   "metadata": {},
   "source": [
    "### 11.\tDefine correlation"
   ]
  },
  {
   "cell_type": "markdown",
   "id": "832c8a42",
   "metadata": {},
   "source": [
    "Correlation is a statistical tool which studies the relationship between two variables e.g. change in price leads to change in quantity demanded. Correlation studies and measures the direction and intensity of relationship among variables."
   ]
  },
  {
   "cell_type": "markdown",
   "id": "20af054b",
   "metadata": {},
   "source": [
    "### 12.\tDefine sampling with replacement. Give example."
   ]
  },
  {
   "cell_type": "markdown",
   "id": "c49daf84",
   "metadata": {},
   "source": [
    "Suppose a population size N=5 and sample size n=2, and sampling is done with replacement. Out of 5 elements, the first element can be selected in 5 ways. The selected unit is returned to the main lot and now the second unit can also be selected in 5 ways. The number of samples is given by Nn=52=25."
   ]
  },
  {
   "cell_type": "markdown",
   "id": "967251c8",
   "metadata": {},
   "source": [
    "### 13.\tWhat is sampling without replacement? Give example."
   ]
  },
  {
   "cell_type": "markdown",
   "id": "5554eb6a",
   "metadata": {},
   "source": [
    " Sampling without replacement – Selected subjects will not be in the “pool” for selection. All selected subjects are unique. In sampling without replacement, each sample unit of the population has only one chance to be selected in the sample. For example, if one draws a simple random sample such that no unit occurs more than one time in the sample, the sample is drawn without replacement."
   ]
  },
  {
   "cell_type": "markdown",
   "id": "4b9b7c6a",
   "metadata": {},
   "source": [
    "### 14.\tWhat is hypothesis? Give example."
   ]
  },
  {
   "cell_type": "markdown",
   "id": "1ca4dded",
   "metadata": {},
   "source": [
    "A hypothesis is an assumption made based on some evidence.\n",
    "\n",
    "Hypotheses are usually written as if/then statements, such as if someone eats a lot of sugar, then they will develop cavities in their teeth. These statements identify specific variables (in this case, eating a large amount of sugar) and propose a result (in this case, teeth developing cavities)."
   ]
  },
  {
   "cell_type": "code",
   "execution_count": null,
   "id": "6acd2a9a",
   "metadata": {},
   "outputs": [],
   "source": []
  }
 ],
 "metadata": {
  "kernelspec": {
   "display_name": "Python 3 (ipykernel)",
   "language": "python",
   "name": "python3"
  },
  "language_info": {
   "codemirror_mode": {
    "name": "ipython",
    "version": 3
   },
   "file_extension": ".py",
   "mimetype": "text/x-python",
   "name": "python",
   "nbconvert_exporter": "python",
   "pygments_lexer": "ipython3",
   "version": "3.9.7"
  }
 },
 "nbformat": 4,
 "nbformat_minor": 5
}
