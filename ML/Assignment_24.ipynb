{
 "cells": [
  {
   "cell_type": "markdown",
   "id": "ba322433",
   "metadata": {},
   "source": [
    "### 1. What is your definition of clustering? What are a few clustering algorithms you might think of?"
   ]
  },
  {
   "cell_type": "markdown",
   "id": "a28b62bc",
   "metadata": {},
   "source": [
    "Clustering is the task of dividing the population or data points into a number of groups such that data points in the same groups are more similar to other data points in the same group than those in other groups. In simple words, the aim is to segregate groups with similar traits and assign them into clusters.\n",
    "\n",
    "\n",
    "1) KMeans\n",
    "\n",
    "2) DB Scan\n",
    "\n",
    "3) hierarchical clustering\n"
   ]
  },
  {
   "cell_type": "markdown",
   "id": "3468dbe4",
   "metadata": {},
   "source": [
    "### 2. What are some of the most popular clustering algorithm applications?"
   ]
  },
  {
   "cell_type": "markdown",
   "id": "151c932c",
   "metadata": {},
   "source": [
    "1) KMeans\n",
    "\n",
    "2) DB Scan\n",
    "\n",
    "3) hierarchical clustering"
   ]
  },
  {
   "cell_type": "markdown",
   "id": "0aadf74c",
   "metadata": {},
   "source": [
    "### 3. When using K-Means, describe two strategies for selecting the appropriate number of clusters."
   ]
  },
  {
   "cell_type": "markdown",
   "id": "f2ae8011",
   "metadata": {},
   "source": [
    "- The Elbow Method\n",
    "\n",
    "- The Silhouette Method"
   ]
  },
  {
   "cell_type": "markdown",
   "id": "bae350e4",
   "metadata": {},
   "source": [
    "### 4. What is mark propagation and how does it work? Why would you do it, and how would you do it?"
   ]
  },
  {
   "cell_type": "code",
   "execution_count": null,
   "id": "7705cca2",
   "metadata": {},
   "outputs": [],
   "source": []
  },
  {
   "cell_type": "markdown",
   "id": "b96cd45f",
   "metadata": {},
   "source": [
    "### 5. Provide two examples of clustering algorithms that can handle large datasets. And two that look for high-density areas?"
   ]
  },
  {
   "cell_type": "markdown",
   "id": "49b970ab",
   "metadata": {},
   "source": [
    "`CLARA (clustering large applications.)` It is a sample-based method that randomly selects a small subset of data points instead of considering the whole observations, which means that it works well on a large dataset.\n",
    "\n",
    "The `DBSCAN algorithm` is a prevalent method of density-based clustering algorithms, the most important feature of which is the ability to detect arbitrary shapes and varied clusters and noise data."
   ]
  },
  {
   "cell_type": "markdown",
   "id": "73e4d6b9",
   "metadata": {},
   "source": [
    "### 6. Can you think of a scenario in which constructive learning will be advantageous? How can you go about putting it into action?"
   ]
  },
  {
   "cell_type": "code",
   "execution_count": null,
   "id": "88ef7754",
   "metadata": {},
   "outputs": [],
   "source": []
  },
  {
   "cell_type": "markdown",
   "id": "e0895311",
   "metadata": {},
   "source": [
    "### 7. How do you tell the difference between anomaly and novelty detection?"
   ]
  },
  {
   "cell_type": "markdown",
   "id": "2bbe8f46",
   "metadata": {},
   "source": [
    "In `novelty detection`, you have a dataset that contains only good data and you are trying to check if new observations are similar to the the good data. In other words, our goal is to check if new observations are outliers.\n",
    "\n",
    "\n",
    "In `outlier detection`, you dataset may already have outliers and your goal is to identify such outliers."
   ]
  },
  {
   "cell_type": "markdown",
   "id": "0128e649",
   "metadata": {},
   "source": [
    "### 8. What is a Gaussian mixture, and how does it work? What are some of the things you can do about it?"
   ]
  },
  {
   "cell_type": "markdown",
   "id": "907e2979",
   "metadata": {},
   "source": [
    "A Gaussian mixture model is a probabilistic model that assumes all the data points are generated from a mixture of a finite number of Gaussian distributions with unknown parameters.\n",
    "\n",
    "Gaussian mixture models (GMMs) are often used for data clustering. You can use GMMs to perform either hard clustering or soft clustering on query data. To perform hard clustering, the GMM assigns query data points to the multivariate normal components that maximize the component posterior probability, given the data."
   ]
  },
  {
   "cell_type": "markdown",
   "id": "7be6c124",
   "metadata": {},
   "source": [
    "### 9. When using a Gaussian mixture model, can you name two techniques for determining the correct number of clusters?"
   ]
  },
  {
   "cell_type": "markdown",
   "id": "3b31af7d",
   "metadata": {},
   "source": [
    "- Elbow Curve Method\n",
    "\n",
    "- Silhouette analysis"
   ]
  },
  {
   "cell_type": "code",
   "execution_count": null,
   "id": "3b5792fe",
   "metadata": {},
   "outputs": [],
   "source": []
  }
 ],
 "metadata": {
  "kernelspec": {
   "display_name": "Python 3 (ipykernel)",
   "language": "python",
   "name": "python3"
  },
  "language_info": {
   "codemirror_mode": {
    "name": "ipython",
    "version": 3
   },
   "file_extension": ".py",
   "mimetype": "text/x-python",
   "name": "python",
   "nbconvert_exporter": "python",
   "pygments_lexer": "ipython3",
   "version": "3.9.7"
  }
 },
 "nbformat": 4,
 "nbformat_minor": 5
}
