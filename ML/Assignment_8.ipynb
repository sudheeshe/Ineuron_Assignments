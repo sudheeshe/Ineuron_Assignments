{
 "cells": [
  {
   "cell_type": "markdown",
   "id": "0b9129a9",
   "metadata": {},
   "source": [
    "### 1. What exactly is a feature? Give an example to illustrate your point."
   ]
  },
  {
   "cell_type": "markdown",
   "id": "939ea1c6",
   "metadata": {},
   "source": [
    "`Feature` is an individual measurable property or characteristic of a phenomenon.Each feature, or column, represents a measurable piece of data that can be used for analysis: Name, Age, Sex, Fare, and so on."
   ]
  },
  {
   "cell_type": "markdown",
   "id": "32531be9",
   "metadata": {},
   "source": [
    "### 2. What are the various circumstances in which feature construction is required?"
   ]
  },
  {
   "cell_type": "markdown",
   "id": "8b3242ce",
   "metadata": {},
   "source": [
    "The raw feature will be decrease the performance of the ML models. So Feature engineering is useful to improve the performance of machine learning algorithms and is often considered as applied machine learning.\n",
    "\n",
    "Feature engineering is the process that takes raw data and transforms it into features that can be used to create a predictive model using machine learning or statistical modeling, such as deep learning."
   ]
  },
  {
   "cell_type": "markdown",
   "id": "9e55a608",
   "metadata": {},
   "source": [
    "### 3. Describe how nominal variables are encoded."
   ]
  },
  {
   "cell_type": "markdown",
   "id": "41b1e52f",
   "metadata": {},
   "source": [
    "`Nominal Encoding`\n",
    "When we have a feature where variables are just names and there is no order or rank to this variable's feature. For Example: City of person lives in, Gender of person, Marital Status, etc…\n",
    "\n",
    "I this type of variable we can do One hot encoding"
   ]
  },
  {
   "cell_type": "markdown",
   "id": "5110857b",
   "metadata": {},
   "source": [
    "### 4. Describe how numeric features are converted to categorical features."
   ]
  },
  {
   "cell_type": "code",
   "execution_count": null,
   "id": "8071275d",
   "metadata": {},
   "outputs": [],
   "source": []
  },
  {
   "cell_type": "markdown",
   "id": "9fe8eac0",
   "metadata": {},
   "source": [
    "### 5. Describe the feature selection wrapper approach. State the advantages and disadvantages of this approach?"
   ]
  },
  {
   "cell_type": "markdown",
   "id": "1e9501ab",
   "metadata": {},
   "source": [
    "feature selection becomes very important. Since some features may be irrelevant or less significant to the dependent \n",
    "variable so their unnecessary inclusion to the model leads to\n",
    "\n",
    "- Increase in complexity of a model and makes it harder to interpret.\n",
    "\n",
    "- Increase in time complexity for a model to get trained.\n",
    "\n",
    "- Result in a dumb model with inaccurate or less reliable predictions."
   ]
  },
  {
   "cell_type": "markdown",
   "id": "8d3c8a21",
   "metadata": {},
   "source": [
    "`Wrapper methods`\n",
    "In wrapper methods, the feature selection process is based on a specific machine learning algorithm that we are trying to fit on a given dataset.\n",
    "\n",
    "It follows a greedy search approach by evaluating all the possible combinations of features against the evaluation criterion. The evaluation criterion is simply the performance measure which depends on the type of problem,  Finally, it selects the combination of features that gives the optimal results for the specified machine learning algorithm.\n",
    "\n",
    "Most commonly used techniques under wrapper methods are:\n",
    "\n",
    "- Forward selection\n",
    "\n",
    "- Backward elimination\n",
    "\n",
    "- Bi-directional elimination(Stepwise Selection)"
   ]
  },
  {
   "cell_type": "markdown",
   "id": "e93c7062",
   "metadata": {},
   "source": [
    "### 6. When is a feature considered irrelevant? What can be said to quantify it?"
   ]
  },
  {
   "cell_type": "markdown",
   "id": "26c4a69d",
   "metadata": {},
   "source": [
    "For example, if two features {X1, X2} are highly correlated, then the two features become redundant features since they have same information in terms of correlation measure. In other words, the correlation measure provides statistical association between any given a pair of features.\n",
    "\n",
    "1) We can do by calculating correlation coeff\n",
    "\n",
    "2) We can do ANOVA test\n",
    "\n",
    "3) Chi-square Test\n"
   ]
  },
  {
   "cell_type": "markdown",
   "id": "87108afd",
   "metadata": {},
   "source": [
    "### 7. When is a function considered redundant? What criteria are used to identify features that could be redundant?"
   ]
  },
  {
   "cell_type": "markdown",
   "id": "4771ef7a",
   "metadata": {},
   "source": [
    "For example, if two features {X1, X2} are highly correlated, then the two features become redundant features since they have same information in terms of correlation measure. In other words, the correlation measure provides statistical association between any given a pair of features.\n",
    "\n",
    "We can use Correlation coefficient"
   ]
  },
  {
   "cell_type": "markdown",
   "id": "9d834cb7",
   "metadata": {},
   "source": [
    "### 8. What are the various distance measurements used to determine feature similarity?"
   ]
  },
  {
   "cell_type": "markdown",
   "id": "0b3420ec",
   "metadata": {},
   "source": [
    "Most clustering approaches use distance measures to assess the similarities or differences between a pair of objects, the most popular distance measures used are:\n",
    "\n",
    "- Euclidean Distance\n",
    "- Manhattan Distance\n",
    "- Jaccard Index\n",
    "- Minkowski distance\n",
    "- Cosine Index"
   ]
  },
  {
   "cell_type": "markdown",
   "id": "6f9d9e2b",
   "metadata": {},
   "source": [
    "### 9. State difference between Euclidean and Manhattan distances?"
   ]
  },
  {
   "attachments": {
    "manhattan_distance.jpg": {
     "image/jpeg": "[encoded data removed]"
    }
   },
   "cell_type": "markdown",
   "id": "c1e8583f",
   "metadata": {},
   "source": [
    "Euclidean distance is the shortest path between source and destination which is a straight line as shown in Figure 1.3. but Manhattan distance is sum of all the real distances between source(s) and destination(d) and each distance are always the straight lines\n",
    "\n",
    "![manhattan_distance.jpg](attachment:manhattan_distance.jpg)"
   ]
  },
  {
   "cell_type": "markdown",
   "id": "c3217e8f",
   "metadata": {},
   "source": [
    "### 10. Distinguish between feature transformation and feature selection."
   ]
  },
  {
   "cell_type": "markdown",
   "id": "9cbe641a",
   "metadata": {},
   "source": [
    "feature transformation: transformation of data to improve the accuracy of the algorithm; feature selection: removing unnecessary features."
   ]
  },
  {
   "cell_type": "markdown",
   "id": "01be60c2",
   "metadata": {},
   "source": [
    "### 11. Make brief notes on any two of the following:\n",
    "\n",
    "          1.SVD (Standard Variable Diameter)\n",
    "\n",
    "          2. Collection of features using a hybrid approach\n",
    "\n",
    "          3. The width of the silhouette\n",
    "\n",
    "          4. Receiver operating characteristic curve\n"
   ]
  },
  {
   "cell_type": "markdown",
   "id": "3894263b",
   "metadata": {},
   "source": [
    "`Collection of features using a hybrid approach:`\n",
    "\n",
    "A hybrid feature selection method is proposed for classification in small sample size data sets. The filter step is based on instance learning taking advantage of the small sample size of data. A few candidate feature subsets are generated since their number corresponds to the number of instances.\n",
    "\n",
    "`Silhouette:`\n",
    "\n",
    "Silhouette analysis can be used to study the separation distance between the resulting clusters.\n",
    "\n",
    "\n",
    "`ROC Curve:`\n",
    "\n",
    "An ROC curve (receiver operating characteristic curve) is a graph showing the performance of a classification model at all classification thresholds. This curve plots two parameters: True Positive Rate. False Positive Rate."
   ]
  },
  {
   "cell_type": "code",
   "execution_count": null,
   "id": "987d06dd",
   "metadata": {},
   "outputs": [],
   "source": []
  }
 ],
 "metadata": {
  "kernelspec": {
   "display_name": "Python 3 (ipykernel)",
   "language": "python",
   "name": "python3"
  },
  "language_info": {
   "codemirror_mode": {
    "name": "ipython",
    "version": 3
   },
   "file_extension": ".py",
   "mimetype": "text/x-python",
   "name": "python",
   "nbconvert_exporter": "python",
   "pygments_lexer": "ipython3",
   "version": "3.9.7"
  }
 },
 "nbformat": 4,
 "nbformat_minor": 5
}
