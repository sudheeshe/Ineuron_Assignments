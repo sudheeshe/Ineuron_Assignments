{
 "cells": [
  {
   "cell_type": "markdown",
   "id": "76079aca",
   "metadata": {},
   "source": [
    "### 1.Explain the term machine learning, and how does it work? Explain two machine learning applications in the business world. What are some of the ethical concerns that machine learning applications could raise?"
   ]
  },
  {
   "cell_type": "markdown",
   "id": "7ba9e6eb",
   "metadata": {},
   "source": [
    "Machine learning is a branch of artificial intelligence (AI) and computer science which focuses on the use of data and algorithms to imitate the way that humans learn, gradually improving its accuracy\n",
    "\n",
    "machine learning applications are :\n",
    "\n",
    "    1) Autonomus cars\n",
    "\n",
    "    2) Auto mail reply\n",
    "\n",
    "    3) recommendations\n",
    "\n",
    "    4) Fraud detection\n",
    "\n"
   ]
  },
  {
   "cell_type": "markdown",
   "id": "26eaa1a3",
   "metadata": {},
   "source": [
    "Ethical concerns are:\n",
    "\n",
    "    1) Cost to innovation\n",
    "\n",
    "    2) Security problems\n",
    "\n",
    "    3) Lack of quality data\n",
    "\n",
    "    4) Disappearance of jobs\n",
    "\n",
    "    5) Power asymmetries\n",
    "\n",
    "    6) Lack of privacy\n",
    "\n",
    "    7) Potential for military use\n",
    "\n",
    "    8) Bias and discrimination\n",
    "\n",
    "    9) Unfairness\n",
    "\n",
    "    10) Misuse of personal data"
   ]
  },
  {
   "cell_type": "markdown",
   "id": "d64a24cc",
   "metadata": {},
   "source": [
    "### 2. Describe the process of human learning:\n",
    "           i. Under the supervision of experts\n",
    "\n",
    "           ii. With the assistance of experts in an indirect manner\n",
    "\n",
    "           iii. Self-education\n"
   ]
  },
  {
   "cell_type": "markdown",
   "id": "5a175be3",
   "metadata": {},
   "source": [
    "Supervised Learning\n",
    "\n",
    "Unsupervised learning\n",
    "\n",
    "Reinforced learing"
   ]
  },
  {
   "cell_type": "markdown",
   "id": "03f2c114",
   "metadata": {},
   "source": [
    "### 3. Provide a few examples of various types of machine learning."
   ]
  },
  {
   "cell_type": "markdown",
   "id": "c8d5a122",
   "metadata": {},
   "source": [
    "Supervised Learning : Predicting Sales, Predicting weather\n",
    "    \n",
    "UnSupervised: Customer segmentation\n",
    "\n",
    "Reinforcement learning: Autonomous cars"
   ]
  },
  {
   "cell_type": "markdown",
   "id": "37f383e9",
   "metadata": {},
   "source": [
    "### 4. Examine the various forms of machine learning."
   ]
  },
  {
   "cell_type": "markdown",
   "id": "08c4f417",
   "metadata": {},
   "source": [
    "Supervised Machine Learning.\n",
    "\n",
    "Unsupervised Machine Learning.\n",
    "\n",
    "Semi-Supervised Machine Learning.\n",
    "\n",
    "Reinforcement Learning."
   ]
  },
  {
   "cell_type": "markdown",
   "id": "adae16cf",
   "metadata": {},
   "source": [
    "### 5. Can you explain what a well-posed learning problem is? Explain the main characteristics that must be present to identify a learning problem properly."
   ]
  },
  {
   "cell_type": "markdown",
   "id": "3d5e4f5a",
   "metadata": {},
   "source": [
    "`Well Posed Learning Problem`:\n",
    "\n",
    "– A computer program is said to learn from experience E in context to some task T and some performance measure P, if its performance on T, as was measured by P, upgrades with experience E.\n",
    "\n",
    "\n",
    "Any problem can be segregated as well-posed learning problem if it has three traits – \n",
    "\n",
    "    - Task\n",
    "    - Performance Measure \n",
    "    - Experience \n",
    "    \n",
    "Example:\n",
    "\n",
    "Face Recognition Problem\n",
    "\n",
    "    Task – predicting different types of faces\n",
    "    Performance Measure – able to predict maximum types of faces\n",
    "    Experience – training machine with maximum amount of datasets of different face images"
   ]
  },
  {
   "cell_type": "markdown",
   "id": "aeaccda4",
   "metadata": {},
   "source": [
    "### 6. Is machine learning capable of solving all problems? Give a detailed explanation of your answer."
   ]
  },
  {
   "cell_type": "markdown",
   "id": "8d1be8d2",
   "metadata": {},
   "source": [
    "ML cannot solve all the problems.\n",
    "\n",
    "* Each narrow application needs to be specially trained\n",
    "* Require large amounts of hand-crafted, structured training data\n",
    "* Learning must generally be supervised: Training data must be tagged\n",
    "* Require lengthy offline/ batch training\n",
    "* Do not learn incrementally or interactively, in real time\n",
    "* Poor transfer learning ability, re-usability of modules, and integration\n",
    "* Systems are opaque, making them very hard to debug\n",
    "* Performance cannot be audited or guaranteed at the ‘long tail’\n",
    "* They encode correlation, not causation or ontological relationships\n",
    "* Do not encode entities, or spatial relationships between entities\n",
    "* Only handle very narrow aspects of natural language\n",
    "* Not well suited for high-level, symbolic reasoning or planning\n",
    "\n"
   ]
  },
  {
   "cell_type": "markdown",
   "id": "8f3937ca",
   "metadata": {},
   "source": [
    "### 7. What are the various methods and technologies for solving machine learning problems? Any two of them should be defined in detail."
   ]
  },
  {
   "cell_type": "markdown",
   "id": "ae8b64a3",
   "metadata": {},
   "source": [
    "* Regression\n",
    "* Classification\n",
    "* Clustering\n",
    "* Dimensionality Reduction\n",
    "* Ensemble Methods\n",
    "* Neural Nets and Deep Learning\n",
    "* Transfer Learning\n",
    "* Reinforcement Learning\n",
    "* Natural Language Processing\n",
    "* Word Embeddings"
   ]
  },
  {
   "cell_type": "markdown",
   "id": "fedd8550",
   "metadata": {},
   "source": [
    "`Regression: `\n",
    "\n",
    "Regression methods fall within the category of supervised ML. They help to predict or explain a particular numerical value based on a set of prior data, for example predicting the price of a property based on previous pricing data for similar properties.\n",
    "\n",
    "`Classification: `\n",
    "\n",
    "Another class of supervised ML, classification methods predict or explain a class value. For example, they can help predict whether or not an online customer will buy a product. The output can be yes or no: buyer or not buyer."
   ]
  },
  {
   "cell_type": "markdown",
   "id": "f1d7c9be",
   "metadata": {},
   "source": [
    "### 8. Can you explain the various forms of supervised learning? Explain each one with an example application."
   ]
  },
  {
   "cell_type": "markdown",
   "id": "d943ee38",
   "metadata": {},
   "source": [
    "- Regression\n",
    "- Classification"
   ]
  },
  {
   "cell_type": "markdown",
   "id": "7812b200",
   "metadata": {},
   "source": [
    "`Regression:`\n",
    "\n",
    "Regression methods fall within the category of supervised ML. They help to predict or explain a particular numerical value based on a set of prior data, for example predicting the price of a property based on previous pricing data for similar properties.\n",
    "\n",
    "`Classification:`\n",
    "\n",
    "Another class of supervised ML, classification methods predict or explain a class value. For example, they can help predict whether or not an online customer will buy a product. The output can be yes or no: buyer or not buyer."
   ]
  },
  {
   "cell_type": "markdown",
   "id": "7b6c2e5e",
   "metadata": {},
   "source": [
    "### 9. What is the difference between supervised and unsupervised learning? With a sample application in each region, explain the differences."
   ]
  },
  {
   "cell_type": "markdown",
   "id": "be9c80e3",
   "metadata": {},
   "source": [
    "Supervised Learning:\n",
    "    \n",
    "    - Supervised learning algorithms are trained using labeled data.\n",
    "    - Supervised learning model takes direct feedback to check if it is predicting correct output or not.\n",
    "    - Supervised learning model predicts the output.\n",
    "    - In supervised learning, input data is provided to the model along with the output.\n",
    "    - The goal of supervised learning is to train the model so that it can predict the output when it is given new data.\n",
    "    - Supervised learning can be categorized in Classification and Regression problems.\n",
    "    - Supervised learning can be used for those cases where we know the input as well as corresponding outputs.\n",
    "    \n",
    "    Example: Weather forecasting, Sales prediction\n",
    "    \n",
    "Unsupervised Learning:\n",
    "    \n",
    "    - Unsupervised learning algorithms are trained using unlabeled data.\n",
    "    - Unsupervised learning model does not take any feedback.\n",
    "    - Unsupervised learning model finds the hidden patterns in data.\n",
    "    - In unsupervised learning, only input data is provided to the model.\n",
    "    - The goal of unsupervised learning is to find the hidden patterns and useful insights from the unknown dataset.\n",
    "    - Unsupervised learning does not need any supervision to train the model.\n",
    "    - Unsupervised Learning can be classified in Clustering and Associations problems.\n",
    "    - Unsupervised learning can be used for those cases where we have only input data and no corresponding output data.\n",
    "    \n",
    "    Example: Customer Segmentation, Personalized Recommendations"
   ]
  },
  {
   "cell_type": "markdown",
   "id": "7037c0d3",
   "metadata": {},
   "source": [
    "### 10. Describe the machine learning process in depth."
   ]
  },
  {
   "cell_type": "markdown",
   "id": "5da4cda9",
   "metadata": {},
   "source": [
    "`1) Collecting Data:`\n",
    "    \n",
    "it is of the utmost importance to collect reliable data so that your machine learning model can find the correct patterns. The quality of the data that you feed to the machine will determine how accurate your model is. If you have incorrect or outdated data, you will have wrong outcomes or predictions which are not relevant.  \n",
    "    \n",
    "`2) Preparing the Data:`\n",
    "    \n",
    "- Cleaning the data to remove unwanted data, missing values, rows, and columns, duplicate values, data type conversion, etc. You might even have to restructure the dataset and change the rows and columns or index of rows and columns. \n",
    "    \n",
    "- Visualize the data to understand how it is structured and understand the relationship between various variables and classes present. \n",
    "    \n",
    "- Splitting the cleaned data into two sets - a training set and a testing set. The training set is the set your model learns from. A testing set is used to check the accuracy of your model after training.\n",
    "        \n",
    "        \n",
    "`3) Choosing a Model:` \n",
    "\n",
    "A machine learning model determines the output you get after running a machine learning algorithm on the collected data. It is important to choose a model which is relevant to the task at hand. Over the years, scientists and engineers developed various models suited for different tasks like speech recognition, image recognition, prediction, etc. Apart from this, you also have to see if your model is suited for numerical or categorical data and choose accordingly.\n",
    "        \n",
    "\n",
    "`4) Training the Model:`\n",
    "\n",
    "Training is the most important step in machine learning. In training, you pass the prepared data to your machine learning model to find patterns and make predictions. It results in the model learning from the data so that it can accomplish the task set. Over time, with training, the model gets better at predicting. \n",
    "        \n",
    "\n",
    "`5) Evaluating the Model:`\n",
    "\n",
    "After training your model, you have to check to see how it’s performing. This is done by testing the performance of the model on previously unseen data. The unseen data used is the testing set that you split our data into earlier. If testing was done on the same data which is used for training, you will not get an accurate measure, as the model is already used to the data, and finds the same patterns in it, as it previously did. This will give you disproportionately high accuracy. \n",
    "            \n",
    "\n",
    "`6) Parameter Tuning:`\n",
    "\n",
    "Once you have created and evaluated your model, see if its accuracy can be improved in any way. This is done by tuning the parameters present in your model. Parameters are the variables in the model that the programmer generally decides. At a particular value of your parameter, the accuracy will be the maximum. Parameter tuning refers to finding these values.\n",
    "        \n",
    "        \n",
    "`7. Making Predictions:`\n",
    "\n",
    "In the end, you can use your model on unseen data to make predictions accurately."
   ]
  },
  {
   "cell_type": "markdown",
   "id": "06c1b84d",
   "metadata": {},
   "source": [
    "### 11. Make a comparison between:-\n",
    "\n",
    "         1. Generalization and abstraction\n",
    "\n",
    "         2. Learning that is guided and unsupervised\n",
    "\n",
    "         3. Regression and classification\n"
   ]
  },
  {
   "cell_type": "markdown",
   "id": "fa54d426",
   "metadata": {},
   "source": [
    "`Generalization and abstraction:`\n",
    "    \n",
    "    \n",
    " While abstraction reduces complexity by hiding irrelevant detail, generalization reduces complexity by replacing multiple entities which perform similar functions with a single construct."
   ]
  },
  {
   "cell_type": "markdown",
   "id": "cda4c6e8",
   "metadata": {},
   "source": [
    "`Learning that is guided and unsupervised:`\n",
    "    \n",
    "    - Supervised learning algorithms are trained using labeled data.\n",
    "    - Supervised learning model takes direct feedback to check if it is predicting correct output or not.\n",
    "    - Supervised learning model predicts the output.\n",
    "    \n",
    "    \n",
    "    - Unsupervised learning algorithms are trained using unlabeled data.\n",
    "    - Unsupervised learning model does not take any feedback.\n",
    "    - Unsupervised learning model finds the hidden patterns in data.\n",
    "\n",
    "\n"
   ]
  },
  {
   "cell_type": "markdown",
   "id": "ff0f3413",
   "metadata": {},
   "source": [
    "`Regression and classification:`\n",
    "    \n",
    "   `Regression:`\n",
    "\n",
    "Regression methods fall within the category of supervised ML. They help to predict or explain a particular numerical value based on a set of prior data, for example predicting the price of a property based on previous pricing data for similar properties.\n",
    "\n",
    "   `Classification:`\n",
    "\n",
    "Another class of supervised ML, classification methods predict or explain a class value. For example, they can help predict whether or not an online customer will buy a product. The output can be yes or no: buyer or not buyer."
   ]
  },
  {
   "cell_type": "code",
   "execution_count": null,
   "id": "8f9ef54b",
   "metadata": {},
   "outputs": [],
   "source": []
  }
 ],
 "metadata": {
  "kernelspec": {
   "display_name": "Python 3 (ipykernel)",
   "language": "python",
   "name": "python3"
  },
  "language_info": {
   "codemirror_mode": {
    "name": "ipython",
    "version": 3
   },
   "file_extension": ".py",
   "mimetype": "text/x-python",
   "name": "python",
   "nbconvert_exporter": "python",
   "pygments_lexer": "ipython3",
   "version": "3.9.7"
  }
 },
 "nbformat": 4,
 "nbformat_minor": 5
}
