{
 "cells": [
  {
   "cell_type": "markdown",
   "id": "7ec0c722",
   "metadata": {},
   "source": [
    "### 1. What is the concept of human learning? Please give two examples."
   ]
  },
  {
   "cell_type": "markdown",
   "id": "d13d3fff",
   "metadata": {},
   "source": [
    "It is the form of learning which requires higher order mental processes like thinking, reasoning, intelligence, etc\n",
    "\n",
    "1) Identifying a known person voice\n",
    "\n",
    "2) Understanding Language"
   ]
  },
  {
   "cell_type": "markdown",
   "id": "e93270dd",
   "metadata": {},
   "source": [
    "### 2. What different forms of human learning are there? Are there any machine learning equivalents?"
   ]
  },
  {
   "cell_type": "markdown",
   "id": "394a85b2",
   "metadata": {},
   "source": [
    "The common forms are \n",
    "\n",
    "concept learning  - supervised learning, \n",
    "\n",
    "Hebbian learning - unsupervised learning, and \n",
    "\n",
    "operant conditioning - reinforcement learning.\n",
    "\n"
   ]
  },
  {
   "cell_type": "markdown",
   "id": "4f9b9714",
   "metadata": {},
   "source": [
    "### 3. What is machine learning, and how does it work? What are the key responsibilities of machine learning?"
   ]
  },
  {
   "cell_type": "markdown",
   "id": "4ad9601f",
   "metadata": {},
   "source": [
    "`Machine Learning:`\n",
    "\n",
    "ML is the study of making machines more human-like in their behaviour and decisions by giving them the ability to learn and develop their own programs. This is done with minimum human intervention, i.e., no explicit programming. The learning process is automated and improved based on the experiences of the machines throughout the process.\n",
    "\n",
    "The ML models uses mathematical algorithms to extract the patterns from the past data and apply the pattern which learned to the present or future data.\n",
    "\n",
    "The Key responsibilty of ML is Automation and Scaling of the business by adressing the business problems which it can handle"
   ]
  },
  {
   "cell_type": "markdown",
   "id": "59e54cc4",
   "metadata": {},
   "source": [
    "### 4. Define the terms \"penalty\" and \"reward\" in the context of reinforcement learning."
   ]
  },
  {
   "cell_type": "markdown",
   "id": "db42c5ba",
   "metadata": {},
   "source": [
    "In Reinforcement Learning (RL), agents are trained on a reward and punishment mechanism. The agent is rewarded for correct moves and punished for the wrong ones. In doing so, the agent tries to minimize wrong moves and maximize the right ones."
   ]
  },
  {
   "cell_type": "markdown",
   "id": "e7870cfa",
   "metadata": {},
   "source": [
    "### 5. Explain the term \"learning as a search\"?"
   ]
  },
  {
   "cell_type": "markdown",
   "id": "7aa21a5a",
   "metadata": {},
   "source": [
    "Learning can be viewed as a search through the space of all sentences in a concept description language for a sentence that best describes the data. Alternatively, it can be viewed as a search through all hypotheses in a hypothesis space."
   ]
  },
  {
   "cell_type": "markdown",
   "id": "bb7de6de",
   "metadata": {},
   "source": [
    "### 6. What are the various goals of machine learning? What is the relationship between these and human learning?"
   ]
  },
  {
   "cell_type": "markdown",
   "id": "00a13fec",
   "metadata": {},
   "source": [
    "    1) To make the computers smarter, more intelligent. The more direct objective in this aspect is to develop systems (programs) for specific practical learning tasks in application domains.\n",
    "    \n",
    "    2) To dev elop computational models of human learning process and perform computer simulations. The study in this aspect is also called cognitive modeling.\n",
    "    \n",
    "    3) To explore new learning methods and develop general learning algorithms independent of applications\n",
    "\n"
   ]
  },
  {
   "cell_type": "markdown",
   "id": "a8e17644",
   "metadata": {},
   "source": [
    "### 7. Illustrate the various elements of machine learning using a real-life illustration."
   ]
  },
  {
   "cell_type": "markdown",
   "id": "9da2d0d0",
   "metadata": {},
   "source": [
    "1) Chat bots\n",
    "\n",
    "2) Autonomuos vehicles\n",
    "\n",
    "3) Product recommendations\n",
    "\n",
    "4) Smart survalience systems\n",
    "\n",
    "5) Face recognition cameras\n",
    "\n",
    "6) Language translations\n"
   ]
  },
  {
   "cell_type": "markdown",
   "id": "428676cb",
   "metadata": {},
   "source": [
    "### 8. Provide an example of the abstraction method."
   ]
  },
  {
   "cell_type": "markdown",
   "id": "99db15ed",
   "metadata": {},
   "source": [
    "In simple terms, abstraction “displays” only the relevant attributes of objects and “hides” the unnecessary details.\n",
    "\n",
    "For example, when we are driving a car, we are only concerned about driving the car like start/stop the car, accelerate/ break, etc. We are not concerned about how the actual start/stop mechanism or accelerate/brake process works internally. We are just not interested in those details."
   ]
  },
  {
   "cell_type": "markdown",
   "id": "0636fa25",
   "metadata": {},
   "source": [
    "### 9. What is the concept of generalization? What function does it play in the machine learning process?"
   ]
  },
  {
   "cell_type": "markdown",
   "id": "ff5d0080",
   "metadata": {},
   "source": [
    "In machine learning, generalization is a definition to demonstrate how well is a trained model to classify or forecast unseen data.  drawn from the same or similar distribution as the one used to create the model.\n",
    "\n",
    "A model's ability to generalize is central to the success of a model. If a model has been trained too well on training data, it will be unable to generalize. It will make inaccurate predictions when given new data, making the model useless even though it is able to make accurate predictions for the training data"
   ]
  },
  {
   "cell_type": "markdown",
   "id": "0e35fa99",
   "metadata": {},
   "source": [
    "### 10 What is classification, exactly? What are the main distinctions between classification and regression?"
   ]
  },
  {
   "cell_type": "markdown",
   "id": "f78b7ebd",
   "metadata": {},
   "source": [
    "Classification is a supervised form of learning, where you teach the computer to do something with data that's already labeled by humans to a already known classes. \n",
    "\n",
    "Classification is the task of predicting a discrete class label. Regression is the task of predicting a continuous quantity.\n",
    "\n",
    "The main difference between Regression and Classification algorithms that Regression algorithms are used to predict the continuous values such as price, salary, age, etc. and Classification algorithms are used to predict/Classify the discrete values such as Male or Female, True or False, Spam or Not Spam, etc."
   ]
  },
  {
   "cell_type": "markdown",
   "id": "8eff5d8f",
   "metadata": {},
   "source": [
    "### 11. What is regression, and how does it work? Give an example of a real-world problem that was solved using regression."
   ]
  },
  {
   "cell_type": "markdown",
   "id": "7b55e711",
   "metadata": {},
   "source": [
    "`Regression:`\n",
    "\n",
    "The mathematical approach to find the relationship between two or more variables is known as Regression in AI \n",
    "\n",
    "`Example:` Suppose we want to do weather forecasting, so for this, we will use the Regression algorithm. In weather prediction, the model is trained on the past data, and once the training is completed, it can easily predict the weather for future days."
   ]
  },
  {
   "cell_type": "markdown",
   "id": "0b64a2a6",
   "metadata": {},
   "source": [
    "### 12. Describe the clustering mechanism in detail."
   ]
  },
  {
   "cell_type": "markdown",
   "id": "b437bf59",
   "metadata": {},
   "source": [
    "`Clustering`:\n",
    "\n",
    "Clustering is the task of dividing the population or data points into a number of groups such that data points in the same groups are more similar to other data points in the same group and dissimilar to the data points in other groups. It is basically a collection of objects on the basis of similarity and dissimilarity between them. "
   ]
  },
  {
   "cell_type": "markdown",
   "id": "9e984376",
   "metadata": {},
   "source": [
    "### 13. Make brief observations on two of the following topics:\n",
    "\n",
    "i. Machine learning algorithms are used\n",
    "\n",
    "ii. Studying under supervision\n",
    "\n",
    "iii. Studying without supervision\n",
    "\n",
    "iv. Reinforcement learning is a form of learning based on positive reinforcement.\n"
   ]
  },
  {
   "cell_type": "markdown",
   "id": "a5d94a9b",
   "metadata": {},
   "source": [
    "i. Machine learning algorithms are used : \n",
    "\n",
    "ii. Studying under supervision : Supervised Machine Learning\n",
    "\n",
    "iii. Studying without supervision: Unsupervised Machine Learing\n",
    "\n",
    "iv. Reinforcement learning is a form of learning based on positive reinforcement.: \n"
   ]
  },
  {
   "cell_type": "code",
   "execution_count": null,
   "id": "add2eaf4",
   "metadata": {},
   "outputs": [],
   "source": []
  }
 ],
 "metadata": {
  "kernelspec": {
   "display_name": "Python 3 (ipykernel)",
   "language": "python",
   "name": "python3"
  },
  "language_info": {
   "codemirror_mode": {
    "name": "ipython",
    "version": 3
   },
   "file_extension": ".py",
   "mimetype": "text/x-python",
   "name": "python",
   "nbconvert_exporter": "python",
   "pygments_lexer": "ipython3",
   "version": "3.9.7"
  }
 },
 "nbformat": 4,
 "nbformat_minor": 5
}
