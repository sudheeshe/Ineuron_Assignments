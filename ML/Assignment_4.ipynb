{
 "cells": [
  {
   "cell_type": "markdown",
   "id": "fb272eb8",
   "metadata": {},
   "source": [
    "### 1. What are the key tasks involved in getting ready to work with machine learning modeling?"
   ]
  },
  {
   "cell_type": "markdown",
   "id": "dee6fc49",
   "metadata": {},
   "source": [
    "Step 1: Collect Data\n",
    "\n",
    "Step 2: Prepare the data\n",
    "\n",
    "Step 3: Choose the model\n",
    "\n",
    "Step 4 Train your machine model\n",
    "\n",
    "Step 5: Evaluation\n",
    "\n",
    "Step 6: Parameter Tuning\n",
    "\n",
    "Step 7: Prediction or Inference"
   ]
  },
  {
   "cell_type": "markdown",
   "id": "7fda11cb",
   "metadata": {},
   "source": [
    "### 2. What are the different forms of data used in machine learning? Give a specific example for each of them."
   ]
  },
  {
   "cell_type": "markdown",
   "id": "ec257881",
   "metadata": {},
   "source": [
    "The Data Type Is Broadly Classified Into\n",
    "\n",
    "        - Quantitative\n",
    "        - Qualitative  \n",
    "\n",
    "\n",
    "\n",
    "`1. Quantitative Data Type:`\n",
    "        \n",
    " This Type Of Data Type Consists Of Numerical Values. Anything Which Is Measured By Numbers.\n",
    "\n",
    " E.G., Profit, Quantity Sold, Height, Weight, Temperature, Etc.\n",
    "\n",
    " This Is Again Of Two Types\n",
    "\n",
    "`A.)  Discrete Data Type:`\n",
    "       \n",
    "The Numeric Data Which Have Discrete Values Or Whole Numbers. This Type Of Variable Value If Expressed In Decimal Format Will Have No Proper Meaning. Their Values Can Be Counted.\n",
    "\n",
    "E.G.: – No. Of Cars You Have, No. Of Marbles In Containers, Students In A Class, Etc.\n",
    "\n",
    "`B.) Continuous Data Type:`\n",
    "\n",
    "The Numerical Measures Which Can Take The Value Within A Certain Range. This Type Of Variable Value If Expressed In Decimal Format Has True Meaning. Their Values Can Not Be Counted But Measured. The Value Can Be Infinite\n",
    "\n",
    "E.G.: – Height, Weight, Time, Area, Distance, Measurement Of Rainfall, Etc."
   ]
  },
  {
   "cell_type": "markdown",
   "id": "b8178df2",
   "metadata": {},
   "source": [
    "`2. Qualitative Data Type:`\n",
    "\n",
    "These Are The Data Types That Cannot Be Expressed In Numbers. This Describes Categories Or Groups And Is Hence Known As The Categorical Data Type.\n",
    "\n",
    " This Can Be Divided Into:-\n",
    "\n",
    "`A. Structured Data:`\n",
    "\n",
    "This Type Of Data Is Either Number Or Words. This Can Take Numerical Values But Mathematical Operations Cannot Be Performed On It. This Type Of Data Is Expressed In Tabular Format.\n",
    "\n",
    "`B. Unstructured Data:`\n",
    "\n",
    "This Type Of Data Does Not Have The Proper Format And Therefore Known As Unstructured Data.This Comprises Textual Data, Sounds, Images, Videos, Etc."
   ]
  },
  {
   "cell_type": "markdown",
   "id": "10e30796",
   "metadata": {},
   "source": [
    "### 3. Distinguish:\n",
    "\n",
    "           1. Numeric vs. categorical attributes\n",
    "\n",
    "           2. Feature selection vs. dimensionality reduction\n"
   ]
  },
  {
   "cell_type": "markdown",
   "id": "61eea284",
   "metadata": {},
   "source": [
    "`Numeric: `\n",
    "    \n",
    "    Numerical data is a data type expressed in numbers, rather than natural language description. Sometimes called quantitative data, numerical data is always collected in number form.\n",
    "    \n",
    "`categorical: `\n",
    "\n",
    "    Categorical data is a collection of information that is divided into groups."
   ]
  },
  {
   "cell_type": "markdown",
   "id": "7e2626be",
   "metadata": {},
   "source": [
    "`Feature selection vs. dimensionality reduction`\n",
    "\n",
    "While both methods are used for reducing the number of features in a dataset, there is an important difference. Feature selection is simply selecting and excluding given features without changing them. Dimensionality reduction transforms features into a lower dimension."
   ]
  },
  {
   "cell_type": "markdown",
   "id": "cbee176e",
   "metadata": {},
   "source": [
    "4. Make quick notes on any two of the following:\n",
    "\n",
    "            1. The histogram\n",
    "\n",
    "            2. Use a scatter plot\n",
    "\n",
    "            3. PCA (Personal Computer Aid)\n"
   ]
  },
  {
   "cell_type": "markdown",
   "id": "cfb14d58",
   "metadata": {},
   "source": [
    "`histogram: `\n",
    "\n",
    "A histogram is an approximate representation of the distribution of numerical data. \n",
    "\n"
   ]
  },
  {
   "cell_type": "markdown",
   "id": "25f52eb8",
   "metadata": {},
   "source": [
    "`Scatter plot:`\n",
    "\n",
    "Scatter plots are the graphs that present the relationship between two variables in a data-set. It represents data points on a two-dimensional plane or on a Cartesian system. The independent variable or attribute is plotted on the X-axis, while the dependent variable is plotted on the Y-axis."
   ]
  },
  {
   "cell_type": "markdown",
   "id": "3ed585d2",
   "metadata": {},
   "source": [
    "### 5. Why is it necessary to investigate data? Is there a discrepancy in how qualitative and quantitative data are explored?"
   ]
  },
  {
   "cell_type": "code",
   "execution_count": null,
   "id": "d4405edc",
   "metadata": {},
   "outputs": [],
   "source": []
  },
  {
   "cell_type": "markdown",
   "id": "4a04ae1c",
   "metadata": {},
   "source": [
    "### 6. What are the various histogram shapes? What exactly are ‘bins'?"
   ]
  },
  {
   "cell_type": "markdown",
   "id": "9a69b901",
   "metadata": {},
   "source": [
    "Histogram Shapes are:\n",
    "    \n",
    "    1) Bell-shaped\n",
    "    \n",
    "    2) Bimodal\n",
    "    \n",
    "    3) Skewed right\n",
    "    \n",
    "    4) Skewed left\n",
    "    \n",
    "    5) Uniform\n",
    "    \n",
    "    6) Random\n",
    "    \n",
    "\n",
    "The towers or bars of a histogram are called bins. The height of each bin shows how many values from that data fall into that range."
   ]
  },
  {
   "cell_type": "markdown",
   "id": "cf9537f7",
   "metadata": {},
   "source": [
    "### 7. How do we deal with data outliers?"
   ]
  },
  {
   "cell_type": "markdown",
   "id": "c2d1ade2",
   "metadata": {},
   "source": [
    "- Trimming/removing the outlier\n",
    "- Quantile based flooring and capping\n",
    "- Mean/Median imputation\n",
    "- Try a transformation"
   ]
  },
  {
   "cell_type": "markdown",
   "id": "fdf670ce",
   "metadata": {},
   "source": [
    "### 8. What are the various central inclination measures? Why does mean vary too much from median in certain data sets?"
   ]
  },
  {
   "cell_type": "markdown",
   "id": "a271d8b9",
   "metadata": {},
   "source": [
    "`Mean, Median, and Mode`. A measure of central tendency is an important aspect of quantitative data. It is an estimate of a “typical” value.\n",
    "\n",
    "                                       `mean = sum of terms / number of terms`\n",
    "\n",
    "An outlier can affect the mean by being unusually small or unusually large. In the previous example, Bill Gates had an unusually large income, which caused the mean to be misleading. The mean score is 84.6. However, if we remove the “0” score from the dataset, then the mean score becomes 94"
   ]
  },
  {
   "cell_type": "markdown",
   "id": "e240aef7",
   "metadata": {},
   "source": [
    "### 9. Describe how a scatter plot can be used to investigate bivariate relationships. Is it possible to find outliers using a scatter plot?"
   ]
  },
  {
   "cell_type": "markdown",
   "id": "649601af",
   "metadata": {},
   "source": [
    "The scatter plot is a fundamental tool for looking at bivariate data. It shows the important characteristics of the data and can be used to decide what model may describe the relationship between the variables.\n",
    "\n",
    "We can see outliers using scatter plots"
   ]
  },
  {
   "cell_type": "markdown",
   "id": "d6756f0f",
   "metadata": {},
   "source": [
    "### 10. Describe how cross-tabs can be used to figure out how two variables are related."
   ]
  },
  {
   "cell_type": "markdown",
   "id": "0e69b3d3",
   "metadata": {},
   "source": [
    "Cross tabulation is a method to quantitatively analyze the relationship between multiple variables. Also known as contingency tables or cross tabs, cross tabulation groups variables to understand the correlation between different variables. It also shows how correlations change from one variable grouping to another"
   ]
  },
  {
   "cell_type": "code",
   "execution_count": null,
   "id": "f552b8e6",
   "metadata": {},
   "outputs": [],
   "source": []
  }
 ],
 "metadata": {
  "kernelspec": {
   "display_name": "Python 3 (ipykernel)",
   "language": "python",
   "name": "python3"
  },
  "language_info": {
   "codemirror_mode": {
    "name": "ipython",
    "version": 3
   },
   "file_extension": ".py",
   "mimetype": "text/x-python",
   "name": "python",
   "nbconvert_exporter": "python",
   "pygments_lexer": "ipython3",
   "version": "3.9.7"
  }
 },
 "nbformat": 4,
 "nbformat_minor": 5
}
