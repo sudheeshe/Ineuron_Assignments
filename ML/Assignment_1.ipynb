{
 "cells": [
  {
   "cell_type": "markdown",
   "id": "59f3f260",
   "metadata": {},
   "source": [
    "### 1. What does one mean by the term \"machine learning\"?"
   ]
  },
  {
   "cell_type": "markdown",
   "id": "3b43ffbc",
   "metadata": {},
   "source": [
    "Machine learning is a branch of artificial intelligence (AI) and computer science which focuses on the use of data and algorithms to imitate the way that humans learn, gradually improving its accuracy"
   ]
  },
  {
   "cell_type": "markdown",
   "id": "5e429db0",
   "metadata": {},
   "source": [
    "### 2.Can you think of 4 distinct types of issues where it shines?"
   ]
  },
  {
   "cell_type": "markdown",
   "id": "72707379",
   "metadata": {},
   "source": [
    "Autonomus cars\n",
    "\n",
    "Auto mail reply\n",
    "\n",
    "recommendations\n",
    "\n",
    "Fraud detection"
   ]
  },
  {
   "cell_type": "markdown",
   "id": "3bd01136",
   "metadata": {},
   "source": [
    "### 3.What is a labeled training set, and how does it work?"
   ]
  },
  {
   "cell_type": "markdown",
   "id": "4948184e",
   "metadata": {},
   "source": [
    "A label data is used in Supervised learning of algorithms in which the ML models have the data and its real output which the ML model should learn."
   ]
  },
  {
   "cell_type": "markdown",
   "id": "b018e286",
   "metadata": {},
   "source": [
    "### 4.What are the two most important tasks that are supervised?"
   ]
  },
  {
   "cell_type": "markdown",
   "id": "70fa6f67",
   "metadata": {},
   "source": [
    "regression and classification"
   ]
  },
  {
   "cell_type": "markdown",
   "id": "384bdda1",
   "metadata": {},
   "source": [
    "### 5.Can you think of four examples of unsupervised tasks?"
   ]
  },
  {
   "cell_type": "markdown",
   "id": "7d6960fc",
   "metadata": {},
   "source": [
    "Clutering of customers\n",
    "\n",
    "Dimensinality reduction\n",
    "\n",
    "target marketing campaigns\n",
    "\n",
    "recommendations"
   ]
  },
  {
   "cell_type": "markdown",
   "id": "b1da850f",
   "metadata": {},
   "source": [
    "### 6.State the machine learning model that would be best to make a robot walk through various unfamiliar terrains?"
   ]
  },
  {
   "cell_type": "markdown",
   "id": "9ca36474",
   "metadata": {},
   "source": [
    "Reinforcement learning"
   ]
  },
  {
   "cell_type": "markdown",
   "id": "1c972fe2",
   "metadata": {},
   "source": [
    "### 7.Which algorithm will you use to divide your customers into different groups?"
   ]
  },
  {
   "cell_type": "markdown",
   "id": "61d05058",
   "metadata": {},
   "source": [
    "Clustering Algorithms"
   ]
  },
  {
   "cell_type": "markdown",
   "id": "b5e5fabf",
   "metadata": {},
   "source": [
    "### 8.Will you consider the problem of spam detection to be a supervised or unsupervised learning problem?"
   ]
  },
  {
   "cell_type": "markdown",
   "id": "30552e73",
   "metadata": {},
   "source": [
    "We can treat this problem as a supervised ML problem"
   ]
  },
  {
   "cell_type": "markdown",
   "id": "466b3a34",
   "metadata": {},
   "source": [
    "### 9.What is the concept of an online learning system?"
   ]
  },
  {
   "cell_type": "markdown",
   "id": "ccfd3a2d",
   "metadata": {},
   "source": [
    "The concept is real_time learning, The data is fed to the model may be like a streaming data or else like a batch of data within a timespan"
   ]
  },
  {
   "cell_type": "markdown",
   "id": "07cf5f6e",
   "metadata": {},
   "source": [
    "### 10.What is out-of-core learning, and how does it differ from core learning?"
   ]
  },
  {
   "cell_type": "markdown",
   "id": "15931cef",
   "metadata": {},
   "source": [
    "Out-of-core learning is used when a dataset is too large to fit into a computer's memory. The algorithm loads part of the data, runs a training step, then repeats the process until it has run on all the data"
   ]
  },
  {
   "cell_type": "markdown",
   "id": "d391f9d0",
   "metadata": {},
   "source": [
    "### 12.What's the difference between a model parameter and a hyperparameter in a learning algorithm?"
   ]
  },
  {
   "cell_type": "markdown",
   "id": "d92e824f",
   "metadata": {},
   "source": [
    "`Parameters:` \n",
    "\n",
    "It is a variable of the selceted model which can be estimated by filling the given data to the model\n",
    "\n",
    "\n",
    "`Hyperparameter:` \n",
    "\n",
    "its the paramter whose value is set befoere model starts training they cannot be learned by fitting the model to the data\n",
    "    \n"
   ]
  },
  {
   "cell_type": "markdown",
   "id": "1016efe2",
   "metadata": {},
   "source": [
    "### 13.What are the criteria that model-based learning algorithms look for? What is the most popular method they use to achieve success? What method do they use to make predictions?"
   ]
  },
  {
   "cell_type": "markdown",
   "id": "34549133",
   "metadata": {},
   "source": [
    "The goal of model is to able to give a generalized prediction of the new data with minimum error or loss.\n",
    "\n",
    "This is achieved by cost functions which helps to find the parametrs of the model with bare mininmum loss or error\n",
    "\n",
    "To make a prediction, a new instance's features are fed into a hypothesis function which uses the minimized theta found by repeatedly running the cost function.\n"
   ]
  },
  {
   "cell_type": "markdown",
   "id": "5875b4ec",
   "metadata": {},
   "source": [
    "### 14.Can you name four of the most important Machine Learning challenges?"
   ]
  },
  {
   "cell_type": "markdown",
   "id": "16a29c59",
   "metadata": {},
   "source": [
    "Data: No enough data or Noisy data or No data at all\n",
    "    \n",
    "Continous training is required\n",
    "\n",
    "Data cleaning\n",
    "\n",
    "Productionizing "
   ]
  },
  {
   "cell_type": "markdown",
   "id": "bcfd6aae",
   "metadata": {},
   "source": [
    "### 15.What happens if the model performs well on the training data but fails to generalize the results to new situations? Can you think of three different options?"
   ]
  },
  {
   "cell_type": "markdown",
   "id": "01d31694",
   "metadata": {},
   "source": [
    "The issue is called Overfitting\n",
    "\n",
    "Solutions are:\n",
    "    \n",
    "    \n",
    "    1) Increase data\n",
    "    2) Do Hyperparameter tuning\n",
    "    3) Choose a better model"
   ]
  },
  {
   "cell_type": "markdown",
   "id": "e1fde3cc",
   "metadata": {},
   "source": [
    "### 16.What exactly is a test set, and why would you need one?"
   ]
  },
  {
   "cell_type": "markdown",
   "id": "996d8804",
   "metadata": {},
   "source": [
    "A test set in machine learning is a secondary (or tertiary) data set that is used to test a machine learning program after it has been trained on an initial training data set.\n",
    "\n",
    "\n",
    "The test set informs us about the final accuracy of the model after completing the training phase."
   ]
  },
  {
   "cell_type": "markdown",
   "id": "60970cb8",
   "metadata": {},
   "source": [
    "### 17.What is a validation set's purpose?"
   ]
  },
  {
   "cell_type": "markdown",
   "id": "68f6b663",
   "metadata": {},
   "source": [
    "The validation set is a set of data, separate from the training set, that is used to validate our model performance during training. This validation process gives information that helps us tune the model's hyperparameters and configurations accordingly."
   ]
  },
  {
   "cell_type": "markdown",
   "id": "9f02e5c0",
   "metadata": {},
   "source": [
    "### 18.What precisely is the train-dev kit, when will you need it, how do you put it to use?"
   ]
  },
  {
   "cell_type": "code",
   "execution_count": null,
   "id": "0e1de621",
   "metadata": {},
   "outputs": [],
   "source": []
  },
  {
   "cell_type": "markdown",
   "id": "00a907a8",
   "metadata": {},
   "source": [
    "### 19.What could go wrong if you use the test set to tune hyperparameters?"
   ]
  },
  {
   "cell_type": "markdown",
   "id": "e9ea54f7",
   "metadata": {},
   "source": [
    "`Validation Set:`\n",
    "\n",
    "Now the validation dataset is useful when it comes to hyper-parameter tuning and model selection. The validation examples included in this set will be used to find the optimal values for the hyper-parameters of the model under consideration.\n",
    "\n",
    "\n",
    "`Testing Set:`\n",
    "\n",
    "Now that you have tuned the model by performing hyper-parameter optimisation, you should end up with the final model. The testing set is used to evaluate the performance of this model and ensure that it can generalise well to new, unseen data points.\n",
    "\n",
    "\n",
    "\n",
    "The validation set is then used to evaluate the models in order to perform model selection. On the other hand, the test set is used to evaluate whether final model (that was selected in the previous step) can generalise well to new, unseen data. Ideally, training, validation and testing sets should contain mutually exclusive data points.\n",
    "\n",
    "\n",
    "if we use Test set for Hyperparamter tuning the testing error of the final model will be smaller than the actual (or true) error.Therefore, the evaluation of your final model will be misleading with respect to the ability of your model to generalise to new data points."
   ]
  },
  {
   "cell_type": "code",
   "execution_count": null,
   "id": "f23bc20e",
   "metadata": {},
   "outputs": [],
   "source": []
  }
 ],
 "metadata": {
  "kernelspec": {
   "display_name": "Python 3 (ipykernel)",
   "language": "python",
   "name": "python3"
  },
  "language_info": {
   "codemirror_mode": {
    "name": "ipython",
    "version": 3
   },
   "file_extension": ".py",
   "mimetype": "text/x-python",
   "name": "python",
   "nbconvert_exporter": "python",
   "pygments_lexer": "ipython3",
   "version": "3.9.7"
  }
 },
 "nbformat": 4,
 "nbformat_minor": 5
}
