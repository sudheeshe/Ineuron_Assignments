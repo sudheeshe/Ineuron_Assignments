{
 "cells": [
  {
   "cell_type": "markdown",
   "id": "f042645e",
   "metadata": {},
   "source": [
    "### 1. What exactly is a feature?"
   ]
  },
  {
   "cell_type": "markdown",
   "id": "bb357275",
   "metadata": {},
   "source": [
    "Features are parts or patterns of an object in an image that help to identify it. For example — a square has 4 corners and 4 edges, they can be called features of the square, and they help us humans identify it's a square. Features include properties like corners, edges, regions of interest points, ridges, etc"
   ]
  },
  {
   "cell_type": "markdown",
   "id": "e4ad8916",
   "metadata": {},
   "source": [
    "### 2. For a top edge detector, write out the convolutional kernel matrix."
   ]
  },
  {
   "cell_type": "code",
   "execution_count": null,
   "id": "57f16a4c",
   "metadata": {},
   "outputs": [],
   "source": [
    "top_edge_detector = [\n",
    "    \n",
    "    [1,1,1],\n",
    "    [0,0,0],\n",
    "    [0,0,0]    \n",
    "]"
   ]
  },
  {
   "cell_type": "markdown",
   "id": "9a5f6102",
   "metadata": {},
   "source": [
    "### 3. Describe the mathematical operation that a 3x3 kernel performs on a single pixel in an image."
   ]
  },
  {
   "attachments": {
    "image.jpg": {
     "image/jpeg": "[encoded data removed]"
    }
   },
   "cell_type": "markdown",
   "id": "5069b94b",
   "metadata": {},
   "source": [
    "Let consider the below matrix as a part of an image\n",
    "\n",
    "![image.jpg](attachment:image.jpg)"
   ]
  },
  {
   "attachments": {
    "Kernal.jpg": {
     "image/jpeg": "[encoded data removed]"
    }
   },
   "cell_type": "markdown",
   "id": "fd5770f2",
   "metadata": {},
   "source": [
    "Lets consider a kernal of 3*3\n",
    "\n",
    "![Kernal.jpg](attachment:Kernal.jpg)"
   ]
  },
  {
   "cell_type": "code",
   "execution_count": 3,
   "id": "8e9c4765",
   "metadata": {},
   "outputs": [],
   "source": [
    "first_fm_element = 1*1 + 0*1 + 1*1 + 0*0 + 1*1 + 1*0 + 0*1 + 0*1 + 1*1"
   ]
  },
  {
   "cell_type": "code",
   "execution_count": 4,
   "id": "a3ada922",
   "metadata": {},
   "outputs": [
    {
     "data": {
      "text/plain": [
       "4"
      ]
     },
     "execution_count": 4,
     "metadata": {},
     "output_type": "execute_result"
    }
   ],
   "source": [
    "first_fm_element"
   ]
  },
  {
   "cell_type": "code",
   "execution_count": 5,
   "id": "b88f2562",
   "metadata": {},
   "outputs": [],
   "source": [
    "second_fm_dlement = 1*1+ 0*1+ 0*1 + 0*1 + 1*1 + 0*1 + 1*0 + 0*1 + 1*1"
   ]
  },
  {
   "cell_type": "code",
   "execution_count": 6,
   "id": "a07d6a3d",
   "metadata": {},
   "outputs": [
    {
     "data": {
      "text/plain": [
       "3"
      ]
     },
     "execution_count": 6,
     "metadata": {},
     "output_type": "execute_result"
    }
   ],
   "source": [
    "second_fm_dlement"
   ]
  },
  {
   "attachments": {
    "feature%20map.jpg": {
     "image/jpeg": "[encoded data removed]"
    }
   },
   "cell_type": "markdown",
   "id": "81065960",
   "metadata": {},
   "source": [
    "The resultant feature map would be \n",
    "\n",
    "![feature%20map.jpg](attachment:feature%20map.jpg)"
   ]
  },
  {
   "cell_type": "markdown",
   "id": "dc597084",
   "metadata": {},
   "source": [
    "### 4. What is the significance of a convolutional kernel added to a 3x3 matrix of zeroes?"
   ]
  },
  {
   "cell_type": "code",
   "execution_count": null,
   "id": "b97601fe",
   "metadata": {},
   "outputs": [],
   "source": []
  },
  {
   "cell_type": "markdown",
   "id": "7a12fc57",
   "metadata": {},
   "source": [
    "### 5. What exactly is padding?"
   ]
  },
  {
   "cell_type": "markdown",
   "id": "b693704e",
   "metadata": {},
   "source": [
    "the convolutional layers reduce the size of the output. So in cases where we want to increase the size of the output and save the information presented in the corners we can use padding layers where padding helps by adding extra rows and columns on the outer dimension of the images. So the size of input data will remain similar to the output data."
   ]
  },
  {
   "cell_type": "markdown",
   "id": "c8e92692",
   "metadata": {},
   "source": [
    "### 6. What is the concept of stride?"
   ]
  },
  {
   "cell_type": "markdown",
   "id": "e558c74e",
   "metadata": {},
   "source": [
    "Stride is a component of convolutional neural networks, or neural networks tuned for the compression of images and video data. Stride is a parameter of the neural network's filter that modifies the amount of movement over the image or video."
   ]
  },
  {
   "cell_type": "markdown",
   "id": "aac4110b",
   "metadata": {},
   "source": [
    "### 7. What are the shapes of PyTorch's 2D convolution's input and weight parameters?"
   ]
  },
  {
   "cell_type": "code",
   "execution_count": null,
   "id": "8f161aa7",
   "metadata": {},
   "outputs": [],
   "source": []
  },
  {
   "cell_type": "markdown",
   "id": "6ed47641",
   "metadata": {},
   "source": [
    "### 8. What exactly is a channel?"
   ]
  },
  {
   "cell_type": "markdown",
   "id": "ea69fd6a",
   "metadata": {},
   "source": [
    "In the context of a digital image, a channel is simply an array of values, one per pixel, that together specify one aspect or dimension of the image. For example, you can describe an image by specifying the red, green, and blue values for each of the pixels in the image. This is known as RGB (for red, green, blue)."
   ]
  },
  {
   "cell_type": "markdown",
   "id": "c69a093e",
   "metadata": {},
   "source": [
    "### 9.Explain relationship between matrix multiplication and a convolution?"
   ]
  },
  {
   "cell_type": "markdown",
   "id": "d65b37e4",
   "metadata": {},
   "source": [
    "Matrix multiplication is done during feature map creation, Feature map is created by matrix multiplication between image and kernal with strides upon image"
   ]
  },
  {
   "cell_type": "code",
   "execution_count": null,
   "id": "c5a1be86",
   "metadata": {},
   "outputs": [],
   "source": []
  }
 ],
 "metadata": {
  "kernelspec": {
   "display_name": "Python 3 (ipykernel)",
   "language": "python",
   "name": "python3"
  },
  "language_info": {
   "codemirror_mode": {
    "name": "ipython",
    "version": 3
   },
   "file_extension": ".py",
   "mimetype": "text/x-python",
   "name": "python",
   "nbconvert_exporter": "python",
   "pygments_lexer": "ipython3",
   "version": "3.9.7"
  }
 },
 "nbformat": 4,
 "nbformat_minor": 5
}
