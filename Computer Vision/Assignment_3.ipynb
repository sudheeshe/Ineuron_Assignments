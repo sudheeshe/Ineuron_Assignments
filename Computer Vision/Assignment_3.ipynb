{
 "cells": [
  {
   "cell_type": "markdown",
   "id": "124c064e",
   "metadata": {},
   "source": [
    "### 1. After each stride-2 conv, why do we double the number of filters?"
   ]
  },
  {
   "cell_type": "markdown",
   "id": "18d3518a",
   "metadata": {},
   "source": [
    "A stride 2 conv with the default padding (1) and kernal_sizes (3) will reduce the activation map dimension by half.\n",
    "\n",
    "   `Formula: (n + 2*pad - ks)//stride + 1. `\n",
    "\n",
    "As the activation map dimension reduces by half we double the number of filters. This results in no overall change in computation as the network gets deeper and deeper."
   ]
  },
  {
   "cell_type": "markdown",
   "id": "b2e288b6",
   "metadata": {},
   "source": [
    "### 2. Why do we use a larger kernel with MNIST (with simple cnn) in the first conv?"
   ]
  },
  {
   "cell_type": "markdown",
   "id": "d3867664",
   "metadata": {},
   "source": [
    "Initial layers do things like color and edge detection. Everything has color, nearly everything has edges. You can detect and represent these image attributes with a relatively larger kernel."
   ]
  },
  {
   "cell_type": "markdown",
   "id": "d98645fa",
   "metadata": {},
   "source": [
    "### 3. What data is saved by ActivationStats for each layer?"
   ]
  },
  {
   "attachments": {
    "Activationrecord.png": {
     "image/png": "[encoded data removed]"
    }
   },
   "cell_type": "markdown",
   "id": "c4908d93",
   "metadata": {},
   "source": [
    "An activation record is a contiguous block of storage that manages information required by a single execution of a procedure. When you enter a procedure, you allocate an activation record, and when you exit that procedure, you de-allocate it. Basically, it stores the status of the current activation function. So, whenever a function call occurs, then a new activation record is created and it will be pushed onto the top of the stack. It will be in function till the execution of that function. So, once the procedure is completed and it is returned to the calling function, this activation function will be popped out of the stack.\n",
    "\n",
    "Activation Record includes some fields which are – \n",
    "Return values, parameter list, control links, access links, saved machine status, local data, and temporaries.\n",
    "\n",
    "![Activationrecord.png](attachment:Activationrecord.png)"
   ]
  },
  {
   "cell_type": "markdown",
   "id": "2d6d4170",
   "metadata": {},
   "source": [
    "### 4. How do we get a learner's callback after they've completed training?"
   ]
  },
  {
   "cell_type": "markdown",
   "id": "81628a2e",
   "metadata": {},
   "source": [
    "`How to use Callbacks`\n",
    "\n",
    "1. First define the callbacks\n",
    "2. Pass the callbacks when calling the model.fit()"
   ]
  },
  {
   "cell_type": "markdown",
   "id": "b7b6be16",
   "metadata": {},
   "source": [
    "Tensorboard allows us to display information regarding the training process like Metrics, Training graphs, Activation function histograms, and other distribution of gradients."
   ]
  },
  {
   "cell_type": "markdown",
   "id": "71acc1c2",
   "metadata": {},
   "source": [
    "### 5. What are the drawbacks of activations above zero?"
   ]
  },
  {
   "cell_type": "markdown",
   "id": "daec220c",
   "metadata": {},
   "source": [
    "The activations above zero may cause Exploding gradient problems in functions like Relu, LeakyRelu etc."
   ]
  },
  {
   "cell_type": "markdown",
   "id": "2d47c459",
   "metadata": {},
   "source": [
    "### 6.Draw up the benefits and drawbacks of practicing in larger batches?"
   ]
  },
  {
   "cell_type": "markdown",
   "id": "d5db8be5",
   "metadata": {},
   "source": [
    "bigger the batch size, lesser is the noise in the gradients and so better is the gradient estimate.\n",
    "\n",
    "Bigger batch causes gradient to descend very slowly, which causes higher training time, and It will fail to reach global minima due to slow descending gradient"
   ]
  },
  {
   "cell_type": "markdown",
   "id": "5962843f",
   "metadata": {},
   "source": [
    "### 7. Why should we avoid starting training with a high learning rate?"
   ]
  },
  {
   "cell_type": "markdown",
   "id": "0f445ea6",
   "metadata": {},
   "source": [
    "To avaoid overshooting problem"
   ]
  },
  {
   "cell_type": "markdown",
   "id": "daee7c9a",
   "metadata": {},
   "source": [
    "### 8. What are the pros of studying with a high rate of learning?"
   ]
  },
  {
   "cell_type": "markdown",
   "id": "0942b426",
   "metadata": {},
   "source": [
    "- Less training time\n",
    "\n",
    "- cause the model to converge too quickly to a suboptimal solution which reduces loss"
   ]
  },
  {
   "cell_type": "markdown",
   "id": "a04f09e0",
   "metadata": {},
   "source": [
    "### 9. Why do we want to end the training with a low learning rate?"
   ]
  },
  {
   "cell_type": "markdown",
   "id": "05f6838e",
   "metadata": {},
   "source": [
    "- To avoid overshooting the global minima\n",
    "\n",
    "- A smaller learning rate may allow the model to learn a more optimal or even globally optimal set of weights but may take significantly longer to train."
   ]
  },
  {
   "cell_type": "code",
   "execution_count": null,
   "id": "a75f415c",
   "metadata": {},
   "outputs": [],
   "source": []
  }
 ],
 "metadata": {
  "kernelspec": {
   "display_name": "Python 3 (ipykernel)",
   "language": "python",
   "name": "python3"
  },
  "language_info": {
   "codemirror_mode": {
    "name": "ipython",
    "version": 3
   },
   "file_extension": ".py",
   "mimetype": "text/x-python",
   "name": "python",
   "nbconvert_exporter": "python",
   "pygments_lexer": "ipython3",
   "version": "3.9.7"
  }
 },
 "nbformat": 4,
 "nbformat_minor": 5
}
