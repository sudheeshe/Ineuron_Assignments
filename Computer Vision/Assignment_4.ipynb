{
 "cells": [
  {
   "cell_type": "markdown",
   "id": "feb58f52",
   "metadata": {},
   "source": [
    "### 1. What is the concept of cyclical momentum?"
   ]
  },
  {
   "cell_type": "markdown",
   "id": "139c5daf",
   "metadata": {},
   "source": [
    " A technique to set and change and tweak LR during training. This methodology aims to train neural network with a LR that changes in a cyclical way for each batch, instead of a non-cyclic LR that is either constant or changes on every epoch.\n",
    " \n",
    " \n",
    " When using a cyclical LR, we have to calculate two things :\n",
    "1) The bounds between which the learning rate will vary — base_lr and max_lr.\n",
    "\n",
    "2) The step_size — in how many epochs the learning rate will reach from one bound to the other.\n",
    "\n",
    "\n",
    "\n",
    "`Why it works?`\n",
    "\n",
    "\n",
    "We have always learnt that we should keep decreasing LR as training progresses so that we converge with time.\n",
    "\n",
    "In CLR, we vary the LR between a lower and higher threshold. The logic is that periodic higher learning rates within each epoch helps to come out of any saddle points or local minima if it encounters into one. If saddle point happens to be an elaborated plateau, lower learning rates will probably never generate enough gradient to come out of it, resulting in difficulty in minimising the loss."
   ]
  },
  {
   "cell_type": "markdown",
   "id": "241b73d1",
   "metadata": {},
   "source": [
    "### 2. What callback keeps track of hyperparameter values (along with other data) during training?"
   ]
  },
  {
   "cell_type": "markdown",
   "id": "44cd82a4",
   "metadata": {},
   "source": [
    "we can use `hparams` tensorboard plugin by importing `tensorboard.plugins.hparams` "
   ]
  },
  {
   "cell_type": "markdown",
   "id": "99ae4ec0",
   "metadata": {},
   "source": [
    "### 3. In the color dim plot, what does one column of pixels represent?"
   ]
  },
  {
   "cell_type": "code",
   "execution_count": null,
   "id": "415f969a",
   "metadata": {},
   "outputs": [],
   "source": []
  },
  {
   "cell_type": "markdown",
   "id": "0f63c873",
   "metadata": {},
   "source": [
    "### 4. In color dim, what does \"poor teaching\" look like? What is the reason for this?"
   ]
  },
  {
   "cell_type": "code",
   "execution_count": null,
   "id": "0efb1d69",
   "metadata": {},
   "outputs": [],
   "source": []
  },
  {
   "cell_type": "markdown",
   "id": "5365392f",
   "metadata": {},
   "source": [
    "### 5. Does a batch normalization layer have any trainable parameters?"
   ]
  },
  {
   "cell_type": "markdown",
   "id": "70e642fc",
   "metadata": {},
   "source": [
    "No, there is no trainiable parametersassosciated with Normalization layer"
   ]
  },
  {
   "cell_type": "markdown",
   "id": "27cab84d",
   "metadata": {},
   "source": [
    "### 6. In batch normalization during preparation, what statistics are used to normalize? What about during the validation process?"
   ]
  },
  {
   "cell_type": "markdown",
   "id": "f5c58a32",
   "metadata": {},
   "source": [
    "Batch normalization is a technique for training very deep neural networks that normalizes the contributions to a layer for every mini-batch. This has the impact of settling the learning process and drastically decreasing the number of training epochs required to train deep neural networks.\n",
    "\n",
    "Its job is to take the outputs from the first hidden layer and normalize them before passing them on as the input of the next hidden layer."
   ]
  },
  {
   "cell_type": "markdown",
   "id": "ffeb91dc",
   "metadata": {},
   "source": [
    "### 7. Why do batch normalization layers help models generalize better?"
   ]
  },
  {
   "cell_type": "markdown",
   "id": "98e353d2",
   "metadata": {},
   "source": [
    "Batch normalization is a technique to standardize the inputs to a network, applied to ether the activations of a prior layer or inputs directly. Batch normalization accelerates training, in some cases by halving the epochs or better, and provides some regularization, reducing generalization error."
   ]
  },
  {
   "cell_type": "markdown",
   "id": "6543a101",
   "metadata": {},
   "source": [
    "### 8.Explain between MAX POOLING and AVERAGE POOLING."
   ]
  },
  {
   "cell_type": "markdown",
   "id": "4713a6a6",
   "metadata": {},
   "source": [
    "`Max Pooling:`\n",
    "    \n",
    "Max pooling is a pooling operation that selects the maximum element from the region of the feature map covered by the filter. Thus, the output after max-pooling layer would be a feature map containing the most prominent features of the previous feature map.\n",
    "\n",
    "`Average Pooling:`\n",
    "\n",
    "Average Pooling returns the average of all the values from the portion of the image covered by the Kernel."
   ]
  },
  {
   "cell_type": "markdown",
   "id": "a3442005",
   "metadata": {},
   "source": [
    "### 9. What is the purpose of the POOLING LAYER?"
   ]
  },
  {
   "cell_type": "markdown",
   "id": "32678398",
   "metadata": {},
   "source": [
    "Pooling layers are used to reduce the dimensions of the feature maps. Thus, it reduces the number of parameters to learn and the amount of computation performed in the network. The pooling layer summarises the features present in a region of the feature map generated by a convolution layer."
   ]
  },
  {
   "cell_type": "markdown",
   "id": "7433289d",
   "metadata": {},
   "source": [
    "### 10. Why do we end up with Completely CONNECTED LAYERS?"
   ]
  },
  {
   "cell_type": "markdown",
   "id": "85222277",
   "metadata": {},
   "source": [
    "Fully connected layers are responsible for doing the main purpose of a network. For example if we a have a CNN netowrk for classification the Convllution layer is only doing the feature extraction then the extracted data is given to fuly connected layer for doing the classification."
   ]
  },
  {
   "cell_type": "markdown",
   "id": "8f10bae2",
   "metadata": {},
   "source": [
    "### 11. What do you mean by PARAMETERS?"
   ]
  },
  {
   "cell_type": "markdown",
   "id": "14f707ef",
   "metadata": {},
   "source": [
    "The parameters of a neural network are typically the weights and bias of the connections. In this case, these parameters are learned during the training stage."
   ]
  },
  {
   "cell_type": "markdown",
   "id": "9f5ab9f8",
   "metadata": {},
   "source": [
    "### 12. What formulas are used to measure these PARAMETERS?"
   ]
  },
  {
   "attachments": {
    "bp_update_formula.png": {
     "image/png": "[encoded data removed]"
    }
   },
   "cell_type": "markdown",
   "id": "8065079b",
   "metadata": {},
   "source": [
    "![bp_update_formula.png](attachment:bp_update_formula.png)"
   ]
  },
  {
   "cell_type": "code",
   "execution_count": null,
   "id": "9f924702",
   "metadata": {},
   "outputs": [],
   "source": []
  }
 ],
 "metadata": {
  "kernelspec": {
   "display_name": "Python 3 (ipykernel)",
   "language": "python",
   "name": "python3"
  },
  "language_info": {
   "codemirror_mode": {
    "name": "ipython",
    "version": 3
   },
   "file_extension": ".py",
   "mimetype": "text/x-python",
   "name": "python",
   "nbconvert_exporter": "python",
   "pygments_lexer": "ipython3",
   "version": "3.9.7"
  }
 },
 "nbformat": 4,
 "nbformat_minor": 5
}
