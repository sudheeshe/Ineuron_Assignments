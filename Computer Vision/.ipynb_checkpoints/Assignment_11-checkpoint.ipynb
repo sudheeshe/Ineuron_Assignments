{
 "cells": [
  {
   "cell_type": "markdown",
   "id": "9ae0d9a1",
   "metadata": {},
   "source": [
    "### 1. What do REGION PROPOSALS entail?"
   ]
  },
  {
   "cell_type": "markdown",
   "id": "3693334a",
   "metadata": {},
   "source": [
    "The region proposal network (RPN) in the faster region-based convolutional neural network (Faster R-CNN) is used to decide “where” to look in order to reduce the computational requirements of the overall inference process. The RPN quickly and efficiently scans every location in order to assess whether further processing needs to be carried out in a given region. It does that by outputting k bounding box proposals each with 2 scores representing probability of object or not at each location."
   ]
  },
  {
   "cell_type": "markdown",
   "id": "d89c4d15",
   "metadata": {},
   "source": [
    "### 2. What do you mean by NON-MAXIMUM SUPPRESSION? (NMS)"
   ]
  },
  {
   "cell_type": "markdown",
   "id": "9cee2c00",
   "metadata": {},
   "source": [
    "The purpose of non-max suppression is to select the best bounding box for an object and reject or “suppress” all other bounding boxes. The NMS takes two things into account. The objectiveness score is given by the model. The overlap or IOU of the bounding boxes."
   ]
  },
  {
   "cell_type": "markdown",
   "id": "33dc9359",
   "metadata": {},
   "source": [
    "### 3. What exactly is mAP?"
   ]
  },
  {
   "cell_type": "markdown",
   "id": "8bd8efa0",
   "metadata": {},
   "source": [
    "To evaluate object detection models like R-CNN and YOLO, the mean average precision (mAP) is used. The mAP compares the ground-truth bounding box to the detected box and returns a score. The higher the score, the more accurate the model is in its detections. The mAP is calculated by finding Average Precision(AP) for each class and then average over a number of classes. The mAP incorporates the trade-off between precision and recall and considers both false positives (FP) and false negatives (FN). This property makes mAP a suitable metric for most detection applications."
   ]
  },
  {
   "cell_type": "markdown",
   "id": "a5a53ece",
   "metadata": {},
   "source": [
    "### 4. What is a frames per second (FPS)?"
   ]
  },
  {
   "cell_type": "markdown",
   "id": "f04bcadf",
   "metadata": {},
   "source": [
    "Frame rate, then, is the speed at which those images are shown, or how fast you “flip” through the book. It's usually expressed as “frames per second,” or FPS. So if a video is captured and played back at 24fps, that means each second of video shows 24 distinct still images."
   ]
  },
  {
   "cell_type": "markdown",
   "id": "7c0815d6",
   "metadata": {},
   "source": [
    "### 5. What is an IOU (INTERSECTION OVER UNION)?"
   ]
  },
  {
   "cell_type": "markdown",
   "id": "8ce7181f",
   "metadata": {},
   "source": [
    "Intersection over Union is an evaluation metric used to measure the accuracy of an object detector on a particular dataset."
   ]
  },
  {
   "cell_type": "markdown",
   "id": "742c87c6",
   "metadata": {},
   "source": [
    "### 6. Describe the PRECISION-RECALL CURVE (PR CURVE)"
   ]
  },
  {
   "cell_type": "markdown",
   "id": "02f2b39f",
   "metadata": {},
   "source": [
    "A precision-recall curve is a plot of the precision (y-axis) and the recall (x-axis) for different thresholds, much like the ROC curve. A no-skill classifier is one that cannot discriminate between the classes and would predict a random class or a constant class in all cases."
   ]
  },
  {
   "cell_type": "markdown",
   "id": "623588d9",
   "metadata": {},
   "source": [
    "### 7. What is the term \"selective search\"?"
   ]
  },
  {
   "cell_type": "markdown",
   "id": "dcf7e853",
   "metadata": {},
   "source": [
    "Selective Search is a region proposal algorithm used in object detection. It is designed to be fast with a very high recall. It is based on computing hierarchical grouping of similar regions based on color, texture, size and shape compatibility."
   ]
  },
  {
   "cell_type": "markdown",
   "id": "fecda507",
   "metadata": {},
   "source": [
    "### 8. Describe the R-CNN model's four components."
   ]
  },
  {
   "attachments": {
    "rcnn.png": {
     "image/png": "[encoded data removed]"
    }
   },
   "cell_type": "markdown",
   "id": "c768483c",
   "metadata": {},
   "source": [
    "The R-CNN detector [2] first generates region proposals using an algorithm such as Edge Boxes[1]. The proposal regions are cropped out of the image and resized. Then, the CNN classifies the cropped and resized regions. Finally, the region proposal bounding boxes are refined by a support vector machine (SVM) that is trained using CNN features.\n",
    "\n",
    "![rcnn.png](attachment:rcnn.png)"
   ]
  },
  {
   "cell_type": "markdown",
   "id": "279e2b03",
   "metadata": {},
   "source": [
    "### 9. What exactly is the Localization Module?"
   ]
  },
  {
   "cell_type": "markdown",
   "id": "5895d9f8",
   "metadata": {},
   "source": [
    "Image localization is a spin-off of regular CNN vision algorithms. These algorithms predict classes with discrete numbers. In object localization, the algorithm predicts a set of 4 continuous numbers, namely, x coordinate, y coordinate, height, and width, to draw a bounding box around an object of interest."
   ]
  },
  {
   "cell_type": "markdown",
   "id": "5ca8fc8a",
   "metadata": {},
   "source": [
    "### 10. What are the R-CNN DISADVANTAGES?"
   ]
  },
  {
   "cell_type": "markdown",
   "id": "8819c010",
   "metadata": {},
   "source": [
    "- Training is a multi-stage pipeline.\n",
    "- Training is expensive in space and time.\n",
    "- Test-time detection is slow. -"
   ]
  },
  {
   "cell_type": "code",
   "execution_count": null,
   "id": "adc17780",
   "metadata": {},
   "outputs": [],
   "source": []
  }
 ],
 "metadata": {
  "kernelspec": {
   "display_name": "Python 3 (ipykernel)",
   "language": "python",
   "name": "python3"
  },
  "language_info": {
   "codemirror_mode": {
    "name": "ipython",
    "version": 3
   },
   "file_extension": ".py",
   "mimetype": "text/x-python",
   "name": "python",
   "nbconvert_exporter": "python",
   "pygments_lexer": "ipython3",
   "version": "3.9.7"
  }
 },
 "nbformat": 4,
 "nbformat_minor": 5
}
