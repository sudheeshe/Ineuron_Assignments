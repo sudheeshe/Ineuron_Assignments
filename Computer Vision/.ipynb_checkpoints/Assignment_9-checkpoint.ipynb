{
 "cells": [
  {
   "cell_type": "markdown",
   "id": "b35026fa",
   "metadata": {},
   "source": [
    "### 1. What are the advantages of a CNN for image classification over a completely linked DNN?"
   ]
  },
  {
   "cell_type": "markdown",
   "id": "6e2ca764",
   "metadata": {},
   "source": [
    "Convolutional neural network is better than a feed-forward network since CNN has features parameter sharing and dimensionality reduction. Because of parameter sharing in CNN, the number of parameters is reduced thus the computations also decreased."
   ]
  },
  {
   "cell_type": "markdown",
   "id": "97753b9a",
   "metadata": {},
   "source": [
    "### 2. Consider a CNN with three convolutional layers, each of which has three kernels, a stride of two, and SAME padding. The bottom layer generates 100 function maps, the middle layer 200, and the top layer 400. RGB images with a size of 200 x 300 pixels are used as input. How many criteria does the CNN have in total? How much RAM would this network need when making a single instance prediction if we're using 32-bit floats? What if you were to practice on a batch of 50 images?"
   ]
  },
  {
   "cell_type": "code",
   "execution_count": null,
   "id": "a155d867",
   "metadata": {},
   "outputs": [],
   "source": []
  },
  {
   "cell_type": "markdown",
   "id": "a831210f",
   "metadata": {},
   "source": [
    "### 3. What are five things you might do to fix the problem if your GPU runs out of memory while training a CNN?"
   ]
  },
  {
   "cell_type": "markdown",
   "id": "33d95ee5",
   "metadata": {},
   "source": [
    "- reduce your batch size, which might hinder both your training speed and accuracy.\n",
    "\n",
    "- distribute your model among multiple GPU(s), which is a complicated process in itself.\n",
    "\n",
    "- reduce your model size, if you find yourself unwilling to do the aforementioned options , or you have already tried these options but they’re not good."
   ]
  },
  {
   "cell_type": "markdown",
   "id": "a1af968a",
   "metadata": {},
   "source": [
    "### 4. Why would you use a max pooling layer instead with a convolutional layer of the same stride?"
   ]
  },
  {
   "cell_type": "markdown",
   "id": "b23de05c",
   "metadata": {},
   "source": [
    "After a convolution operation we usually perform pooling to reduce the dimensionality. This enables us to reduce the number of parameters, which both shortens the training time and combats overfitting. Max-pooling helps in extracting low-level features like edges, points, etc. While Avg-pooling goes for smooth features. If time constraint is not a problem, then one can skip the pooling layer and use a convolutional layer to do the same."
   ]
  },
  {
   "cell_type": "markdown",
   "id": "4b385cbd",
   "metadata": {},
   "source": [
    "### 5. When would a local response normalization layer be useful?"
   ]
  },
  {
   "cell_type": "markdown",
   "id": "f92823e6",
   "metadata": {},
   "source": [
    "LRN creates competition such that if there is a strong peak response, the competition among neurons in that neighborhood is such that the strong response will suppress the weak ones hence enhancing the peak. But if there is a flat strong response, each of those strong responses will suppress each other almost equally as such the whole neighborhood will go low.\n",
    "\n",
    "The LRN process thus improves recognition performance."
   ]
  },
  {
   "cell_type": "markdown",
   "id": "6673c651",
   "metadata": {},
   "source": [
    "### 6. In comparison to LeNet-5, what are the main innovations in AlexNet? What about GoogLeNet and ResNet's core innovations?"
   ]
  },
  {
   "cell_type": "markdown",
   "id": "55c3898d",
   "metadata": {},
   "source": [
    "- The main innovation introduced by AlexNet was its sheer size. AlexNet main elements are the same: a sequence of convolutional and pooling layers followed by a couple of fully-connected layers.\n",
    "\n",
    "- In GoogleNet it achieves efficiency is through reduction of the input image, whilst simultaneously retaining important spatial information. \n",
    "\n",
    "-  Resnet Introduced Residual Block: In order to solve the problem of the vanishing/exploding gradient, this architecture introduced the concept called Residual Network."
   ]
  },
  {
   "cell_type": "markdown",
   "id": "b6bfc891",
   "metadata": {},
   "source": [
    "### 7. On MNIST, build your own CNN and strive to achieve the best possible accuracy."
   ]
  },
  {
   "cell_type": "code",
   "execution_count": null,
   "id": "7b30505e",
   "metadata": {},
   "outputs": [],
   "source": []
  },
  {
   "cell_type": "markdown",
   "id": "8af94115",
   "metadata": {},
   "source": [
    "### 8. Using Inception v3 to classify broad images. a.\n",
    "Images of different animals can be downloaded. Load them in Python using the matplotlib.image.mpimg.imread() or scipy.misc.imread() functions, for example. Resize and/or crop them to 299 x 299 pixels, and make sure they only have three channels (RGB) and no transparency. The photos used to train the Inception model were preprocessed to have values ranging from -1.0 to 1.0, so make sure yours do as well.\n"
   ]
  },
  {
   "cell_type": "code",
   "execution_count": null,
   "id": "125ea6db",
   "metadata": {},
   "outputs": [],
   "source": []
  },
  {
   "cell_type": "markdown",
   "id": "70d72b2a",
   "metadata": {},
   "source": [
    "### 9. Large-scale image recognition using transfer learning.\n",
    "a. Make a training set of at least 100 images for each class. You might, for example, identify your own photos based on their position (beach, mountain, area, etc.) or use an existing dataset, such as the flowers dataset or MIT's places dataset (requires registration, and it is huge).\n",
    "b. Create a preprocessing phase that resizes and crops the image to 299 x 299 pixels while also adding some randomness for data augmentation.\n",
    "c. Using the previously trained Inception v3 model, freeze all layers up to the bottleneck layer (the last layer before output layer) and replace output layer with  appropriate number of outputs for your new classification task (e.g., the flowers dataset has five mutually exclusive classes so the output layer must have five neurons and use softmax activation function).\n",
    "d. Separate the data into two sets: a training and a test set. The training set is used to train the model, and the test set is used to evaluate it.\n"
   ]
  },
  {
   "cell_type": "code",
   "execution_count": null,
   "id": "90d81041",
   "metadata": {},
   "outputs": [],
   "source": []
  }
 ],
 "metadata": {
  "kernelspec": {
   "display_name": "Python 3 (ipykernel)",
   "language": "python",
   "name": "python3"
  },
  "language_info": {
   "codemirror_mode": {
    "name": "ipython",
    "version": 3
   },
   "file_extension": ".py",
   "mimetype": "text/x-python",
   "name": "python",
   "nbconvert_exporter": "python",
   "pygments_lexer": "ipython3",
   "version": "3.9.7"
  }
 },
 "nbformat": 4,
 "nbformat_minor": 5
}
