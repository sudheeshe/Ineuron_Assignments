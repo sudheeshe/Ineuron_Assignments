{
 "cells": [
  {
   "cell_type": "markdown",
   "id": "9cec10ce",
   "metadata": {},
   "source": [
    "### 1. What is the difference between TRAINABLE and NON-TRAINABLE PARAMETERS?"
   ]
  },
  {
   "cell_type": "markdown",
   "id": "5d69da97",
   "metadata": {},
   "source": [
    "Trainable parameters are those which value is adjusted/modified during training as per their gradient. \n",
    "\n",
    "Non trainable parameters are those which value is not optimized during the training as per their gradient. There are mainly two types of non-trainable weights:\n",
    "\n",
    "- The ones that you have chosen to keep constant when training. This means that keras won't update these weights during training at all.\n",
    "\n",
    "- The ones that work like statistics in BatchNormalization layers. They're updated with mean and variance, but they're not \"trained with backpropagation\"."
   ]
  },
  {
   "cell_type": "markdown",
   "id": "2be841d2",
   "metadata": {},
   "source": [
    "### 2. In the CNN architecture, where does the DROPOUT LAYER go?"
   ]
  },
  {
   "cell_type": "markdown",
   "id": "11f560a7",
   "metadata": {},
   "source": [
    "Usually, dropout is placed on the fully connected layers only because they are the one with the greater number of parameters and thus they're likely to excessively co-adapting themselves causing overfitting."
   ]
  },
  {
   "cell_type": "markdown",
   "id": "ab74bfac",
   "metadata": {},
   "source": [
    "### 3. What is the optimal number of hidden layers to stack?"
   ]
  },
  {
   "cell_type": "markdown",
   "id": "ffda2974",
   "metadata": {},
   "source": [
    "There is no optimal number for hidden layer its more over like trial and error."
   ]
  },
  {
   "cell_type": "markdown",
   "id": "bc16e592",
   "metadata": {},
   "source": [
    "### 4. In each layer, how many secret units or filters should there be?"
   ]
  },
  {
   "cell_type": "markdown",
   "id": "296c84a6",
   "metadata": {},
   "source": [
    "In CNN models there are often there are many more than three convolutional kernels, 16 kernels or even 64 kernels in a convolutional layer is common. These different convolution kernels each act as a different filter creating a channel/feature map representing something different. So there is no rules it more over a trial and error."
   ]
  },
  {
   "cell_type": "markdown",
   "id": "866eb5d2",
   "metadata": {},
   "source": [
    "### . What should your initial learning rate be?"
   ]
  },
  {
   "cell_type": "markdown",
   "id": "1015723d",
   "metadata": {},
   "source": [
    "A traditional default value for the learning rate is 0.1 or 0.01, and this may represent a good starting point on your problem."
   ]
  },
  {
   "cell_type": "markdown",
   "id": "ae52d3f4",
   "metadata": {},
   "source": [
    "### 6. What do you do with the activation function?"
   ]
  },
  {
   "cell_type": "markdown",
   "id": "b8a3b4ff",
   "metadata": {},
   "source": [
    "an activation function is a function that is added into an artificial neural network in order to help the network learn complex patterns in the data."
   ]
  },
  {
   "cell_type": "markdown",
   "id": "c79574e3",
   "metadata": {},
   "source": [
    "### 7. What is NORMALIZATION OF DATA?"
   ]
  },
  {
   "cell_type": "markdown",
   "id": "b5802f90",
   "metadata": {},
   "source": [
    "It is a scaling technique method in which data points are shifted and rescaled so that they end up in a range of 0 to 1."
   ]
  },
  {
   "cell_type": "markdown",
   "id": "32963b44",
   "metadata": {},
   "source": [
    "### 8. What is IMAGE AUGMENTATION and how does it work?"
   ]
  },
  {
   "cell_type": "markdown",
   "id": "bf0e2d60",
   "metadata": {},
   "source": [
    "Image data augmentation is a technique that can be used to artificially expand the size of a training dataset by creating modified versions of images in the dataset."
   ]
  },
  {
   "cell_type": "markdown",
   "id": "9715bfab",
   "metadata": {},
   "source": [
    "### 9. What is DECLINE IN LEARNING RATE?"
   ]
  },
  {
   "attachments": {
    "Screenshot%202022-06-23%20191313.jpg": {
     "image/jpeg": "[encoded data removed]"
    }
   },
   "cell_type": "markdown",
   "id": "bcf054a5",
   "metadata": {},
   "source": [
    "It starts with a large learning rate and then decays it multiple times. It is empirically observed to help both optimization and generalization. Decaying learning rate helps for finding global minima without overshooting\n",
    "\n",
    "![Screenshot%202022-06-23%20191313.jpg](attachment:Screenshot%202022-06-23%20191313.jpg)"
   ]
  },
  {
   "cell_type": "markdown",
   "id": "9dafac9d",
   "metadata": {},
   "source": [
    "### 10. What does EARLY STOPPING CRITERIA mean?"
   ]
  },
  {
   "cell_type": "markdown",
   "id": "a0e78c7b",
   "metadata": {},
   "source": [
    "Early stopping is a method that allows you to specify an arbitrary large number of training epochs and stop training once the model performance stops improving on a hold out validation dataset."
   ]
  },
  {
   "cell_type": "code",
   "execution_count": null,
   "id": "c25f7937",
   "metadata": {},
   "outputs": [],
   "source": []
  }
 ],
 "metadata": {
  "kernelspec": {
   "display_name": "Python 3 (ipykernel)",
   "language": "python",
   "name": "python3"
  },
  "language_info": {
   "codemirror_mode": {
    "name": "ipython",
    "version": 3
   },
   "file_extension": ".py",
   "mimetype": "text/x-python",
   "name": "python",
   "nbconvert_exporter": "python",
   "pygments_lexer": "ipython3",
   "version": "3.9.7"
  }
 },
 "nbformat": 4,
 "nbformat_minor": 5
}
