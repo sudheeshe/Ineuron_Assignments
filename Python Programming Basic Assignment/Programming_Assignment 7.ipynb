{
  "nbformat": 4,
  "nbformat_minor": 0,
  "metadata": {
    "colab": {
      "name": "Programming_Assignment 7.ipynb",
      "provenance": [],
      "collapsed_sections": []
    },
    "kernelspec": {
      "name": "python3",
      "display_name": "Python 3"
    },
    "language_info": {
      "name": "python"
    }
  },
  "cells": [
    {
      "cell_type": "markdown",
      "source": [
        "1.\tWrite a Python Program to find sum of array?"
      ],
      "metadata": {
        "id": "UA-2APiqiuu8"
      }
    },
    {
      "cell_type": "code",
      "source": [
        "import numpy as np"
      ],
      "metadata": {
        "id": "vpWtomiii3d9"
      },
      "execution_count": null,
      "outputs": []
    },
    {
      "cell_type": "code",
      "execution_count": null,
      "metadata": {
        "colab": {
          "base_uri": "https://localhost:8080/"
        },
        "id": "HcgK5vlwiWBs",
        "outputId": "d8cdff73-a817-4a9e-c848-b1da035aecc0"
      },
      "outputs": [
        {
          "output_type": "execute_result",
          "data": {
            "text/plain": [
              "54"
            ]
          },
          "metadata": {},
          "execution_count": 3
        }
      ],
      "source": [
        "def sum_of_array(array):\n",
        "    x = np.array(array)\n",
        "    \n",
        "    return sum(x)\n",
        "\n",
        "sum_of_array([2,3,4,5,6,7,8,9,10])"
      ]
    },
    {
      "cell_type": "markdown",
      "source": [
        "2.\tWrite a Python Program to find largest element in an array?"
      ],
      "metadata": {
        "id": "aobG3u9pixND"
      }
    },
    {
      "cell_type": "code",
      "source": [
        "def largest_of_array(array):\n",
        "    x = np.array(array)\n",
        "    \n",
        "    return max(x)\n",
        "\n",
        "largest_of_array([2,3,4,5,6,7,8,9,10])"
      ],
      "metadata": {
        "colab": {
          "base_uri": "https://localhost:8080/"
        },
        "id": "YvC71VRliy-V",
        "outputId": "a14ef841-37bb-4bcc-b118-4a99723e3f66"
      },
      "execution_count": null,
      "outputs": [
        {
          "output_type": "execute_result",
          "data": {
            "text/plain": [
              "10"
            ]
          },
          "metadata": {},
          "execution_count": 6
        }
      ]
    },
    {
      "cell_type": "markdown",
      "source": [
        "3.\tWrite a Python Program for array rotation?"
      ],
      "metadata": {
        "id": "ILSnoWCojFkl"
      }
    },
    {
      "cell_type": "code",
      "source": [
        "def rotating_array(arr, rotate_by):\n",
        "  n=len(arr)\n",
        "  arr = arr[rotate_by:n]+arr[0:rotate_by]\n",
        "  return arr\n",
        "\n",
        "rotating_array([1,2,3,4,5,6,7,8,9], 5)"
      ],
      "metadata": {
        "colab": {
          "base_uri": "https://localhost:8080/"
        },
        "id": "Et4QE48eL4tZ",
        "outputId": "f01ce4e3-1dfe-413d-a808-0054c402c461"
      },
      "execution_count": 20,
      "outputs": [
        {
          "output_type": "execute_result",
          "data": {
            "text/plain": [
              "[6, 7, 8, 9, 1, 2, 3, 4, 5]"
            ]
          },
          "metadata": {},
          "execution_count": 20
        }
      ]
    },
    {
      "cell_type": "markdown",
      "source": [
        "4.\tWrite a Python Program to Split the array and add the first part to the end?"
      ],
      "metadata": {
        "id": "Yw1XAvz1Ovc_"
      }
    },
    {
      "cell_type": "code",
      "source": [
        "def split_array(arr, split_at):\n",
        "\n",
        "  arr = arr[split_at:len(arr)] + arr[0:split_at]\n",
        "  return arr\n",
        "\n",
        "split_array([1,2,3,4,5,6,7,8], 2)"
      ],
      "metadata": {
        "colab": {
          "base_uri": "https://localhost:8080/"
        },
        "id": "SpzDQ0t6M6Rz",
        "outputId": "24296a28-029d-4e45-e1a3-bf1385bfb70d"
      },
      "execution_count": 21,
      "outputs": [
        {
          "output_type": "execute_result",
          "data": {
            "text/plain": [
              "[3, 4, 5, 6, 7, 8, 1, 2]"
            ]
          },
          "metadata": {},
          "execution_count": 21
        }
      ]
    },
    {
      "cell_type": "markdown",
      "source": [
        "5.\tWrite a Python Program to check if given array is Monotonic?"
      ],
      "metadata": {
        "id": "wG6D22I_PNlH"
      }
    },
    {
      "cell_type": "code",
      "source": [
        "def check_monotonic(arr):\n",
        "  n= len(arr)\n",
        "\n",
        "  if (all(arr[i] <= arr[i + 1] for i in range(len(arr) - 1)) or\n",
        "      all(arr[i] >= arr[i + 1] for i in range(len(arr) - 1))):\n",
        "    return True\n",
        "  else:\n",
        "    return False\n",
        "\n",
        "check_monotonic([1, 2, 3, 4, 7, 10])"
      ],
      "metadata": {
        "colab": {
          "base_uri": "https://localhost:8080/"
        },
        "id": "cyjl2GgaPJAN",
        "outputId": "078fac1e-4bd5-4fdd-902f-70487f32def0"
      },
      "execution_count": 36,
      "outputs": [
        {
          "output_type": "execute_result",
          "data": {
            "text/plain": [
              "True"
            ]
          },
          "metadata": {},
          "execution_count": 36
        }
      ]
    }
  ]
}