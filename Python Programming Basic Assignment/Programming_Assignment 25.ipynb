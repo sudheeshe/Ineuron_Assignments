{
  "nbformat": 4,
  "nbformat_minor": 0,
  "metadata": {
    "colab": {
      "name": "Programming_Assignment 18.ipynb",
      "provenance": [],
      "collapsed_sections": []
    },
    "kernelspec": {
      "name": "python3",
      "display_name": "Python 3"
    },
    "language_info": {
      "name": "python"
    }
  },
  "cells": [
    {
      "cell_type": "markdown",
      "source": [
        "# **Question1**\n",
        "\n",
        "Create a function that takes three integer arguments (a, b, c) and returns the amount of integers which are of equal value.\n",
        "\n",
        "# **Examples**\n",
        "\n",
        "equal(3, 4, 3) ➞ 2\n",
        "\n",
        "equal(1, 1, 1) ➞ 3\n",
        "\n",
        "equal(3, 4, 1) ➞ 0 \n",
        "\n",
        "# **Notes**\n",
        "\n",
        "Your function must return 0, 2 or 3.\n"
      ],
      "metadata": {
        "id": "jZ-b7jutC_DA"
      }
    },
    {
      "cell_type": "code",
      "source": [
        "def equal(a,b,c):\n",
        "\n",
        "  temp = [a,b,c]\n",
        "\n",
        "  x = set(temp.count(i) if temp.count(i)>1 else 0 for i in temp)\n",
        "  return max(x)\n"
      ],
      "metadata": {
        "id": "hylvmxgxDGpR"
      },
      "execution_count": 220,
      "outputs": []
    },
    {
      "cell_type": "code",
      "source": [
        "equal(3, 4, 3) "
      ],
      "metadata": {
        "colab": {
          "base_uri": "https://localhost:8080/"
        },
        "id": "PAtAEwiaDjLD",
        "outputId": "a9dddb88-c050-47c3-f0b2-e86f768b11c5"
      },
      "execution_count": 221,
      "outputs": [
        {
          "output_type": "execute_result",
          "data": {
            "text/plain": [
              "2"
            ]
          },
          "metadata": {},
          "execution_count": 221
        }
      ]
    },
    {
      "cell_type": "code",
      "source": [
        "equal(3, 4, 1)"
      ],
      "metadata": {
        "colab": {
          "base_uri": "https://localhost:8080/"
        },
        "id": "OfCu8uyIDk04",
        "outputId": "324f809b-80ae-4bd4-df74-19fb890e268d"
      },
      "execution_count": 222,
      "outputs": [
        {
          "output_type": "execute_result",
          "data": {
            "text/plain": [
              "0"
            ]
          },
          "metadata": {},
          "execution_count": 222
        }
      ]
    },
    {
      "cell_type": "code",
      "source": [
        "equal(1, 1, 1)"
      ],
      "metadata": {
        "colab": {
          "base_uri": "https://localhost:8080/"
        },
        "id": "JHQvesIYE6EX",
        "outputId": "57050d3a-cb2b-4367-bbfe-6b61ed6d7ace"
      },
      "execution_count": 223,
      "outputs": [
        {
          "output_type": "execute_result",
          "data": {
            "text/plain": [
              "3"
            ]
          },
          "metadata": {},
          "execution_count": 223
        }
      ]
    },
    {
      "cell_type": "markdown",
      "source": [
        "# **Question2**\n",
        "\n",
        "Write a function that converts a dictionary into a list of keys-values tuples.\n",
        "\n",
        "# **Examples**\n",
        "\n",
        "dict_to_list({\n",
        "  \"D\": 1,\n",
        "  \"B\": 2,\n",
        "  \"C\": 3\n",
        "}) ➞ [(\"B\", 2), (\"C\", 3), (\"D\", 1)]\n",
        "\n",
        "dict_to_list({\n",
        "  \"likes\": 2,\n",
        "  \"dislikes\": 3,\n",
        "  \"followers\": 10\n",
        "}) ➞ [(\"dislikes\", 3), (\"followers\", 10), (\"likes\", 2)]\n",
        "\n",
        "# **Notes**\n",
        "\n",
        "Return the elements in the list in alphabetical order.\n"
      ],
      "metadata": {
        "id": "SNUXMKCPFFo4"
      }
    },
    {
      "cell_type": "code",
      "source": [
        "def dict_to_list(dict_):\n",
        "\n",
        "  sorted_dict = {i:dict_[i] for i in sorted(dict_.keys())}\n",
        "  temp = [(i,j) for i,j in sorted_dict.items()]\n",
        "  return temp\n",
        "    \n",
        "  "
      ],
      "metadata": {
        "id": "UrOA27cQFBGJ"
      },
      "execution_count": 236,
      "outputs": []
    },
    {
      "cell_type": "code",
      "source": [
        "dict_to_list({ \"D\": 1, \"B\": 2, \"C\": 3 })"
      ],
      "metadata": {
        "colab": {
          "base_uri": "https://localhost:8080/"
        },
        "id": "pbXwsEPvGV8A",
        "outputId": "e4f36b87-0f31-4ec6-c68b-9e2c654a14de"
      },
      "execution_count": 237,
      "outputs": [
        {
          "output_type": "execute_result",
          "data": {
            "text/plain": [
              "[('B', 2), ('C', 3), ('D', 1)]"
            ]
          },
          "metadata": {},
          "execution_count": 237
        }
      ]
    },
    {
      "cell_type": "code",
      "source": [
        "dict_to_list({ \"likes\": 2, \"dislikes\": 3, \"followers\": 10 })"
      ],
      "metadata": {
        "colab": {
          "base_uri": "https://localhost:8080/"
        },
        "id": "sR8Q7lZJGXng",
        "outputId": "e52a227c-d1ac-48a5-bc51-a9fcff53b248"
      },
      "execution_count": 238,
      "outputs": [
        {
          "output_type": "execute_result",
          "data": {
            "text/plain": [
              "[('dislikes', 3), ('followers', 10), ('likes', 2)]"
            ]
          },
          "metadata": {},
          "execution_count": 238
        }
      ]
    },
    {
      "cell_type": "markdown",
      "source": [
        "# **Question3**\n",
        "\n",
        "Write a function that creates a dictionary with each (key, value) pair being the (lower case, upper case) versions of a letter, respectively.\n",
        "\n",
        "# **Examples**\n",
        "\n",
        "mapping([\"p\", \"s\"]) ➞ { \"p\": \"P\", \"s\": \"S\" }\n",
        "\n",
        "mapping([\"a\", \"b\", \"c\"]) ➞ { \"a\": \"A\", \"b\": \"B\", \"c\": \"C\" }\n",
        "\n",
        "mapping([\"a\", \"v\", \"y\", \"z\"]) ➞ { \"a\": \"A\", \"v\": \"V\", \"y\": \"Y\", \"z\": \"Z\" }\n",
        "\n",
        "## **Notes**\n",
        "\n",
        "All of the letters in the input list will always be lowercase.\n"
      ],
      "metadata": {
        "id": "8dPUPD3oHo4L"
      }
    },
    {
      "cell_type": "code",
      "source": [
        "def mapping(list_):\n",
        "\n",
        "  temp = {i:i.upper() for i in list_}\n",
        "  return temp"
      ],
      "metadata": {
        "id": "JNaMBEdyHlTP"
      },
      "execution_count": 239,
      "outputs": []
    },
    {
      "cell_type": "code",
      "source": [
        "mapping([\"p\", \"s\"])"
      ],
      "metadata": {
        "colab": {
          "base_uri": "https://localhost:8080/"
        },
        "id": "kQ92moQoIEfl",
        "outputId": "805a5d89-a294-4d78-94d5-59601ea1a2a5"
      },
      "execution_count": 240,
      "outputs": [
        {
          "output_type": "execute_result",
          "data": {
            "text/plain": [
              "{'p': 'P', 's': 'S'}"
            ]
          },
          "metadata": {},
          "execution_count": 240
        }
      ]
    },
    {
      "cell_type": "code",
      "source": [
        "mapping([\"a\", \"b\", \"c\"])"
      ],
      "metadata": {
        "colab": {
          "base_uri": "https://localhost:8080/"
        },
        "id": "Ew3PogYXIGOc",
        "outputId": "bce3c082-2912-406f-cf82-8dd979690ab5"
      },
      "execution_count": 241,
      "outputs": [
        {
          "output_type": "execute_result",
          "data": {
            "text/plain": [
              "{'a': 'A', 'b': 'B', 'c': 'C'}"
            ]
          },
          "metadata": {},
          "execution_count": 241
        }
      ]
    },
    {
      "cell_type": "markdown",
      "source": [
        "# **Question4**\n",
        "\n",
        "Write a function, that replaces all vowels in a string with a specified vowel.\n",
        "\n",
        "# **Examples**\n",
        "\n",
        "vow_replace(\"apples and bananas\", \"u\") ➞ \"upplus und bununus\"\n",
        "\n",
        "vow_replace(\"cheese casserole\", \"o\") ➞ \"chooso cossorolo\"\n",
        "\n",
        "vow_replace(\"stuffed jalapeno poppers\", \"e\") ➞ \"steffed jelepene peppers\"\n",
        "\n",
        "# **Notes**\n",
        "\n",
        "All words will be lowercase. Y is not considered a vowel.\n"
      ],
      "metadata": {
        "id": "p1YHxOIkIKvy"
      }
    },
    {
      "cell_type": "code",
      "source": [
        "def vow_replace(txt, replace_with):\n",
        "\n",
        "  vowels = ['a', 'e', 'i', 'o', 'u']\n",
        "\n",
        "  for i in txt:\n",
        "    if i in vowels:\n",
        "      txt = txt.replace(i, replace_with)\n",
        "  \n",
        "  return txt"
      ],
      "metadata": {
        "id": "ANs-F7mLIITi"
      },
      "execution_count": 242,
      "outputs": []
    },
    {
      "cell_type": "code",
      "source": [
        "vow_replace(\"apples and bananas\", \"u\")"
      ],
      "metadata": {
        "colab": {
          "base_uri": "https://localhost:8080/",
          "height": 36
        },
        "id": "Wk80anAcI4Ii",
        "outputId": "d4053190-2110-4b6c-ccdb-7dfde2c9880d"
      },
      "execution_count": 243,
      "outputs": [
        {
          "output_type": "execute_result",
          "data": {
            "text/plain": [
              "'upplus und bununus'"
            ],
            "application/vnd.google.colaboratory.intrinsic+json": {
              "type": "string"
            }
          },
          "metadata": {},
          "execution_count": 243
        }
      ]
    },
    {
      "cell_type": "code",
      "source": [
        "vow_replace(\"cheese casserole\", \"o\")"
      ],
      "metadata": {
        "colab": {
          "base_uri": "https://localhost:8080/",
          "height": 36
        },
        "id": "sQeYdhaCI55C",
        "outputId": "78364ba9-d6ef-466a-f1db-1c1e99b81969"
      },
      "execution_count": 244,
      "outputs": [
        {
          "output_type": "execute_result",
          "data": {
            "text/plain": [
              "'chooso cossorolo'"
            ],
            "application/vnd.google.colaboratory.intrinsic+json": {
              "type": "string"
            }
          },
          "metadata": {},
          "execution_count": 244
        }
      ]
    },
    {
      "cell_type": "markdown",
      "source": [
        "# **Question5**\n",
        "\n",
        "Create a function that takes a string as input and capitalizes a letter if its ASCII code is even and returns its lower case version if its ASCII code is odd.\n",
        "\n",
        "# **Examples**\n",
        "\n",
        "ascii_capitalize(\"to be or not to be!\") ➞ \"To Be oR NoT To Be!\"\n",
        "\n",
        "ascii_capitalize(\"THE LITTLE MERMAID\") ➞ \"THe LiTTLe meRmaiD\"\n",
        "\n",
        "ascii_capitalize(\"Oh what a beautiful morning.\") ➞ \"oH wHaT a BeauTiFuL moRNiNg.\"\n"
      ],
      "metadata": {
        "id": "XRUggiEoJAm9"
      }
    },
    {
      "cell_type": "code",
      "source": [
        "def ascii_capitalize(txt):\n",
        "\n",
        "  temp = \"\"\n",
        "\n",
        "  for i in range(len(txt)):\n",
        "    if ord(txt[i])%2 == 0:\n",
        "      temp = temp + txt[i].upper()\n",
        "    \n",
        "    else:\n",
        "      temp = temp + txt[i].lower()\n",
        "\n",
        "\n",
        "  return temp"
      ],
      "metadata": {
        "id": "dzFJHJpbI8bc"
      },
      "execution_count": 282,
      "outputs": []
    },
    {
      "cell_type": "code",
      "source": [
        "ascii_capitalize(\"to be or not to be!\")"
      ],
      "metadata": {
        "colab": {
          "base_uri": "https://localhost:8080/",
          "height": 36
        },
        "id": "vCfzlJbLJVJn",
        "outputId": "321b73bd-af2e-4d04-c4ef-5b4a18c1cd7f"
      },
      "execution_count": 283,
      "outputs": [
        {
          "output_type": "execute_result",
          "data": {
            "text/plain": [
              "'To Be oR NoT To Be!'"
            ],
            "application/vnd.google.colaboratory.intrinsic+json": {
              "type": "string"
            }
          },
          "metadata": {},
          "execution_count": 283
        }
      ]
    },
    {
      "cell_type": "code",
      "source": [
        "ascii_capitalize(\"THE LITTLE MERMAID\")"
      ],
      "metadata": {
        "colab": {
          "base_uri": "https://localhost:8080/",
          "height": 36
        },
        "id": "CB552W_pKF5p",
        "outputId": "f80aedb7-0020-4afc-b640-9296292ead1d"
      },
      "execution_count": 284,
      "outputs": [
        {
          "output_type": "execute_result",
          "data": {
            "text/plain": [
              "'THe LiTTLe meRmaiD'"
            ],
            "application/vnd.google.colaboratory.intrinsic+json": {
              "type": "string"
            }
          },
          "metadata": {},
          "execution_count": 284
        }
      ]
    },
    {
      "cell_type": "code",
      "source": [
        "ascii_capitalize(\"Oh what a beautiful morning.\")"
      ],
      "metadata": {
        "colab": {
          "base_uri": "https://localhost:8080/",
          "height": 36
        },
        "id": "9b7j-ns7NImi",
        "outputId": "7bd727d5-ab49-470f-dbfb-7a315b14c804"
      },
      "execution_count": 285,
      "outputs": [
        {
          "output_type": "execute_result",
          "data": {
            "text/plain": [
              "'oH wHaT a BeauTiFuL moRNiNg.'"
            ],
            "application/vnd.google.colaboratory.intrinsic+json": {
              "type": "string"
            }
          },
          "metadata": {},
          "execution_count": 285
        }
      ]
    },
    {
      "cell_type": "code",
      "source": [
        ""
      ],
      "metadata": {
        "id": "ONl5DhgJNLGy"
      },
      "execution_count": null,
      "outputs": []
    }
  ]
}