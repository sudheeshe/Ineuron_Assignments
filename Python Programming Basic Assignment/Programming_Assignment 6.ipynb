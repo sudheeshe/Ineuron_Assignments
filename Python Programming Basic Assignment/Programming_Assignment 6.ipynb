{
 "cells": [
  {
   "cell_type": "markdown",
   "id": "29b4c2fb",
   "metadata": {},
   "source": [
    "1.\tWrite a Python Program to Display Fibonacci Sequence Using Recursion?"
   ]
  },
  {
   "cell_type": "code",
   "execution_count": 4,
   "id": "ca71537b",
   "metadata": {},
   "outputs": [
    {
     "name": "stdout",
     "output_type": "stream",
     "text": [
      "0\n",
      "1\n",
      "1\n",
      "2\n",
      "3\n",
      "5\n",
      "8\n",
      "13\n",
      "21\n",
      "34\n"
     ]
    }
   ],
   "source": [
    "def fibo(val):\n",
    "    if val <= 1:\n",
    "        return val\n",
    "    else:\n",
    "        return(fibo(val-1) + fibo(val-2))\n",
    "    \n",
    "    \n",
    "for i in range(10):\n",
    "       print(fibo(i))"
   ]
  },
  {
   "cell_type": "markdown",
   "id": "dec1a461",
   "metadata": {},
   "source": [
    "2.\tWrite a Python Program to Find Factorial of Number Using Recursion?"
   ]
  },
  {
   "cell_type": "code",
   "execution_count": 6,
   "id": "ba283e23",
   "metadata": {},
   "outputs": [
    {
     "data": {
      "text/plain": [
       "3628800"
      ]
     },
     "execution_count": 6,
     "metadata": {},
     "output_type": "execute_result"
    }
   ],
   "source": [
    "def factorial(val):\n",
    "    if val == 1:\n",
    "        return val\n",
    "    else:\n",
    "        return val*factorial(val-1)\n",
    "    \n",
    "factorial(10)"
   ]
  },
  {
   "cell_type": "markdown",
   "id": "4828e36c",
   "metadata": {},
   "source": [
    "3.\tWrite a Python Program to calculate your Body Mass Index?"
   ]
  },
  {
   "cell_type": "code",
   "execution_count": 9,
   "id": "89693ac8",
   "metadata": {},
   "outputs": [
    {
     "data": {
      "text/plain": [
       "21.64532402096181"
      ]
     },
     "execution_count": 9,
     "metadata": {},
     "output_type": "execute_result"
    }
   ],
   "source": [
    "def BMI(height_in_meter, weight_in_kg):\n",
    "    \n",
    "    bmi = weight_in_kg/(height_in_meter**2)\n",
    "    return bmi\n",
    "\n",
    "BMI(1.79832, 70)"
   ]
  },
  {
   "cell_type": "markdown",
   "id": "fa5048dd",
   "metadata": {},
   "source": [
    "4.\tWrite a Python Program to calculate the natural logarithm of any number?"
   ]
  },
  {
   "cell_type": "code",
   "execution_count": 10,
   "id": "1a67a8b8",
   "metadata": {},
   "outputs": [
    {
     "data": {
      "text/plain": [
       "4.612344389736092"
      ]
     },
     "execution_count": 10,
     "metadata": {},
     "output_type": "execute_result"
    }
   ],
   "source": [
    "import math\n",
    "def natural_log(val):\n",
    "    return math.log(val)\n",
    "\n",
    "natural_log(100.72)"
   ]
  },
  {
   "cell_type": "markdown",
   "id": "be9a73f3",
   "metadata": {},
   "source": [
    "5.\tWrite a Python Program for cube sum of first n natural numbers?"
   ]
  },
  {
   "cell_type": "code",
   "execution_count": 13,
   "id": "bf70d394",
   "metadata": {},
   "outputs": [
    {
     "data": {
      "text/plain": [
       "3025"
      ]
     },
     "execution_count": 13,
     "metadata": {},
     "output_type": "execute_result"
    }
   ],
   "source": [
    "def sum_of_n_nautural_nums(n):\n",
    "    \n",
    "    sum = 0\n",
    "    for i in range(n+1):\n",
    "        sum+=i**3\n",
    "    return sum\n",
    "   \n",
    "sum_of_n_nautural_nums(10)"
   ]
  },
  {
   "cell_type": "code",
   "execution_count": null,
   "id": "6ef4ad8c",
   "metadata": {},
   "outputs": [],
   "source": []
  }
 ],
 "metadata": {
  "kernelspec": {
   "display_name": "Python 3 (ipykernel)",
   "language": "python",
   "name": "python3"
  },
  "language_info": {
   "codemirror_mode": {
    "name": "ipython",
    "version": 3
   },
   "file_extension": ".py",
   "mimetype": "text/x-python",
   "name": "python",
   "nbconvert_exporter": "python",
   "pygments_lexer": "ipython3",
   "version": "3.9.7"
  }
 },
 "nbformat": 4,
 "nbformat_minor": 5
}
