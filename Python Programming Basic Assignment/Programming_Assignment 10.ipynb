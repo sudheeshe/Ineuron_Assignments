{
  "nbformat": 4,
  "nbformat_minor": 0,
  "metadata": {
    "colab": {
      "name": "Programming_Assignment 10.ipynb",
      "provenance": [],
      "collapsed_sections": []
    },
    "kernelspec": {
      "name": "python3",
      "display_name": "Python 3"
    },
    "language_info": {
      "name": "python"
    }
  },
  "cells": [
    {
      "cell_type": "markdown",
      "source": [
        "1.\tWrite a Python program to find sum of elements in list?"
      ],
      "metadata": {
        "id": "TxcwrL1BdSXM"
      }
    },
    {
      "cell_type": "code",
      "source": [
        "def sum_of_list(list_):\n",
        "  sum_ = 0\n",
        "  for i in list_:\n",
        "    sum_+=i\n",
        "  return sum_\n",
        "\n",
        "\n",
        "a = [1,2,3,4,5,6]\n",
        "sum_of_list(a)"
      ],
      "metadata": {
        "colab": {
          "base_uri": "https://localhost:8080/"
        },
        "id": "GSGt7E9GAla1",
        "outputId": "63073eb7-a9ad-47a7-c56b-af0b491899fa"
      },
      "execution_count": 25,
      "outputs": [
        {
          "output_type": "execute_result",
          "data": {
            "text/plain": [
              "21"
            ]
          },
          "metadata": {},
          "execution_count": 25
        }
      ]
    },
    {
      "cell_type": "markdown",
      "source": [
        "2.\tWrite a Python program to  Multiply all numbers in the list?"
      ],
      "metadata": {
        "id": "5XeAtlVgDJHy"
      }
    },
    {
      "cell_type": "code",
      "source": [
        "def product_of_list(list_):\n",
        "  mul = 1\n",
        "  for i in list_:\n",
        "    mul = mul*i\n",
        "  return mul\n",
        "\n",
        "a = [1,2,3,4,5,6]\n",
        "product_of_list(a)"
      ],
      "metadata": {
        "colab": {
          "base_uri": "https://localhost:8080/"
        },
        "id": "ck4QkCFJDByn",
        "outputId": "806b96ad-9618-4947-f13e-0136d359d498"
      },
      "execution_count": 28,
      "outputs": [
        {
          "output_type": "execute_result",
          "data": {
            "text/plain": [
              "720"
            ]
          },
          "metadata": {},
          "execution_count": 28
        }
      ]
    },
    {
      "cell_type": "markdown",
      "source": [
        "3.\tWrite a Python program to find smallest number in a list?"
      ],
      "metadata": {
        "id": "qZ9Smf32DlmX"
      }
    },
    {
      "cell_type": "code",
      "source": [
        "def smallest_in_list(list_):\n",
        "\n",
        "  return min(list_)\n",
        "\n",
        "\n",
        "a = [1,2,3,4,5,6]\n",
        "smallest_in_list(a)"
      ],
      "metadata": {
        "colab": {
          "base_uri": "https://localhost:8080/"
        },
        "id": "LHABmpYsDcd8",
        "outputId": "f72133c0-33a3-4808-e19a-eca9066a2162"
      },
      "execution_count": 31,
      "outputs": [
        {
          "output_type": "execute_result",
          "data": {
            "text/plain": [
              "1"
            ]
          },
          "metadata": {},
          "execution_count": 31
        }
      ]
    },
    {
      "cell_type": "markdown",
      "source": [
        "4.\tWrite a Python program to find largest number in a list?"
      ],
      "metadata": {
        "id": "lC8Rwb-WD0gc"
      }
    },
    {
      "cell_type": "code",
      "source": [
        "def largest_in_list(list_):\n",
        "\n",
        "  return max(list_)\n",
        "\n",
        "\n",
        "a = [1,2,3,100, 204,4,5,6]\n",
        "largest_in_list(a)"
      ],
      "metadata": {
        "colab": {
          "base_uri": "https://localhost:8080/"
        },
        "id": "xwxsXgzQDtmD",
        "outputId": "929ebca1-c2ec-488a-d91e-f7105fe11ee6"
      },
      "execution_count": 40,
      "outputs": [
        {
          "output_type": "execute_result",
          "data": {
            "text/plain": [
              "204"
            ]
          },
          "metadata": {},
          "execution_count": 40
        }
      ]
    },
    {
      "cell_type": "markdown",
      "source": [
        "5.\tWrite a Python program to find second largest number in a list?"
      ],
      "metadata": {
        "id": "RbPBLtBWD9Rq"
      }
    },
    {
      "cell_type": "code",
      "source": [
        "def second_largest(list_):\n",
        "  temp = sorted(list_)\n",
        "  return temp[-2]\n",
        "\n",
        "second_largest(a)"
      ],
      "metadata": {
        "colab": {
          "base_uri": "https://localhost:8080/"
        },
        "id": "BgDH3znzD54l",
        "outputId": "1fabed6a-39bd-45e2-d86c-7c3e4bf03687"
      },
      "execution_count": 41,
      "outputs": [
        {
          "output_type": "execute_result",
          "data": {
            "text/plain": [
              "100"
            ]
          },
          "metadata": {},
          "execution_count": 41
        }
      ]
    },
    {
      "cell_type": "markdown",
      "source": [
        "6.\tWrite a Python program to find N largest elements from a list?"
      ],
      "metadata": {
        "id": "d29UzFrfE6in"
      }
    },
    {
      "cell_type": "code",
      "source": [
        "def n_largest_nums(list_, n):\n",
        "\n",
        "  temp = sorted(list_)\n",
        "  return temp[-n:]\n",
        "\n",
        "\n",
        "n_largest_nums(a,2)"
      ],
      "metadata": {
        "colab": {
          "base_uri": "https://localhost:8080/"
        },
        "id": "1rh3QdRjEP9v",
        "outputId": "58fb6d31-4aa3-4989-9685-3ca423a769ab"
      },
      "execution_count": 45,
      "outputs": [
        {
          "output_type": "execute_result",
          "data": {
            "text/plain": [
              "[100, 204]"
            ]
          },
          "metadata": {},
          "execution_count": 45
        }
      ]
    },
    {
      "cell_type": "markdown",
      "source": [
        "7.\tWrite a Python program to print even numbers in a list?"
      ],
      "metadata": {
        "id": "xIpXnwImFq6w"
      }
    },
    {
      "cell_type": "code",
      "source": [
        "def even_num_in_list(list_):\n",
        "\n",
        "  even_num = []\n",
        "  for i in list_:\n",
        "    if i%2 == 0:\n",
        "      even_num.append(i)\n",
        "    else:\n",
        "      pass\n",
        "  return even_num\n",
        "\n",
        "\n",
        "even_num_in_list(a)"
      ],
      "metadata": {
        "colab": {
          "base_uri": "https://localhost:8080/"
        },
        "id": "29NkBiicFdkN",
        "outputId": "7a637e00-1c4f-4e1a-f3bd-d667e2248243"
      },
      "execution_count": 46,
      "outputs": [
        {
          "output_type": "execute_result",
          "data": {
            "text/plain": [
              "[2, 100, 204, 4, 6]"
            ]
          },
          "metadata": {},
          "execution_count": 46
        }
      ]
    },
    {
      "cell_type": "markdown",
      "source": [
        "8.\tWrite a Python program to print odd numbers in a List?"
      ],
      "metadata": {
        "id": "XJuByI18GJ60"
      }
    },
    {
      "cell_type": "code",
      "source": [
        "def even_num_in_list(list_):\n",
        "\n",
        "  odd_num = []\n",
        "  for i in list_:\n",
        "    if i%2 != 0:\n",
        "      odd_num.append(i)\n",
        "    else:\n",
        "      pass\n",
        "  return odd_num\n",
        "\n",
        "\n",
        "even_num_in_list(a)"
      ],
      "metadata": {
        "colab": {
          "base_uri": "https://localhost:8080/"
        },
        "id": "ew-iolptGB65",
        "outputId": "66b92182-6e5e-4abc-c4a1-f5bfe05ff4c2"
      },
      "execution_count": 47,
      "outputs": [
        {
          "output_type": "execute_result",
          "data": {
            "text/plain": [
              "[1, 3, 5]"
            ]
          },
          "metadata": {},
          "execution_count": 47
        }
      ]
    },
    {
      "cell_type": "markdown",
      "source": [
        "9.\tWrite a Python program to Remove empty List from List?"
      ],
      "metadata": {
        "id": "pnxaLSsXGYew"
      }
    },
    {
      "cell_type": "code",
      "source": [
        "def rm_empy_list(list_):\n",
        "\n",
        "  temp = []\n",
        "  for i in list_:\n",
        "    if len(i) == 0:\n",
        "      continue\n",
        "    else:\n",
        "      temp.append(i)\n",
        "  return temp\n",
        "\n",
        "a = [[1,2,3,4], [], [4,5,6]]\n",
        "\n",
        "rm_empy_list(a)"
      ],
      "metadata": {
        "colab": {
          "base_uri": "https://localhost:8080/"
        },
        "id": "f91-_Y8RGT2A",
        "outputId": "0734ee14-4533-4ede-d8f8-d2dd44077da4"
      },
      "execution_count": 49,
      "outputs": [
        {
          "output_type": "execute_result",
          "data": {
            "text/plain": [
              "[[1, 2, 3, 4], [4, 5, 6]]"
            ]
          },
          "metadata": {},
          "execution_count": 49
        }
      ]
    },
    {
      "cell_type": "markdown",
      "source": [
        "10.\tWrite a Python program to Cloning or Copying a list?"
      ],
      "metadata": {
        "id": "cPAjVElsHQ8D"
      }
    },
    {
      "cell_type": "code",
      "source": [
        "def copy_list(list_):\n",
        "  return list_.copy()\n",
        "\n",
        "\n",
        "copy_list([1,2,3,4,'a'])"
      ],
      "metadata": {
        "colab": {
          "base_uri": "https://localhost:8080/"
        },
        "id": "RFxwRcyxGfTf",
        "outputId": "104b64a0-bb1d-4563-f0ff-86916fcf50c2"
      },
      "execution_count": 51,
      "outputs": [
        {
          "output_type": "execute_result",
          "data": {
            "text/plain": [
              "[1, 2, 3, 4, 'a']"
            ]
          },
          "metadata": {},
          "execution_count": 51
        }
      ]
    },
    {
      "cell_type": "markdown",
      "source": [
        "11.\tWrite a Python program to Count occurrences of an element in a list?"
      ],
      "metadata": {
        "id": "89BRFlIpHzHw"
      }
    },
    {
      "cell_type": "code",
      "source": [
        "def count_occurance(list_):\n",
        "  unique_ = list(set(list_))\n",
        "  dict = {}\n",
        "  for x in unique_:\n",
        "    count = 0\n",
        "    for ele in list_:\n",
        "      if (ele == x):\n",
        "        count = count + 1\n",
        "    dict[x] = count\n",
        "\n",
        "\n",
        "  return dict\n",
        "\n",
        "list1 = [10,10,10,10,20,20,30,30,30]\n",
        "count_occurance(list1)"
      ],
      "metadata": {
        "colab": {
          "base_uri": "https://localhost:8080/"
        },
        "id": "Yj9YLfFMHsIJ",
        "outputId": "4b99bea8-2050-41e3-ca7a-cd3a1584869f"
      },
      "execution_count": 63,
      "outputs": [
        {
          "output_type": "execute_result",
          "data": {
            "text/plain": [
              "{10: 4, 20: 2, 30: 3}"
            ]
          },
          "metadata": {},
          "execution_count": 63
        }
      ]
    },
    {
      "cell_type": "code",
      "source": [
        "def count_an_element(list_, ele):\n",
        "  return list_.count(ele)\n",
        "\n",
        "count_an_element(list1, 10)"
      ],
      "metadata": {
        "colab": {
          "base_uri": "https://localhost:8080/"
        },
        "id": "XwEiCWjAJp4n",
        "outputId": "31a3b33f-4bf2-4511-cce6-95d0dc93d78f"
      },
      "execution_count": 64,
      "outputs": [
        {
          "output_type": "execute_result",
          "data": {
            "text/plain": [
              "4"
            ]
          },
          "metadata": {},
          "execution_count": 64
        }
      ]
    },
    {
      "cell_type": "code",
      "source": [
        ""
      ],
      "metadata": {
        "id": "D5zujY5ZM7qp"
      },
      "execution_count": null,
      "outputs": []
    }
  ]
}