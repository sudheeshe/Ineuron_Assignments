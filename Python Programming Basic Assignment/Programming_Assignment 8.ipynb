{
  "nbformat": 4,
  "nbformat_minor": 0,
  "metadata": {
    "colab": {
      "name": "Programming_Assignment 7.ipynb",
      "provenance": [],
      "collapsed_sections": []
    },
    "kernelspec": {
      "name": "python3",
      "display_name": "Python 3"
    },
    "language_info": {
      "name": "python"
    }
  },
  "cells": [
    {
      "cell_type": "markdown",
      "source": [
        "1.\tWrite a Python Program to Add Two Matrices?"
      ],
      "metadata": {
        "id": "xS5OpQlUT_Ep"
      }
    },
    {
      "cell_type": "code",
      "source": [
        "import numpy as np"
      ],
      "metadata": {
        "id": "I2eSAHJ6T-3O"
      },
      "execution_count": 37,
      "outputs": []
    },
    {
      "cell_type": "code",
      "source": [
        "def mat_addition(mat_1, mat_2):\n",
        "  result = np.zeros(shape=(np.shape(mat_1)))\n",
        "\n",
        "  for i in range(len(mat_1)):\n",
        "    for j in range(len(mat_1[0])):\n",
        "      result[i][j] = mat_1[i][j] + mat_2[i][j]\n",
        "  return result\n",
        "\n",
        "\n",
        "\n",
        "x = [[2,2,1],\n",
        "    [1 ,1,1],\n",
        "    [3 ,3,3]]\n",
        "\n",
        "y = np.ones((3,3))\n",
        "\n",
        "mat_addition(x,y)"
      ],
      "metadata": {
        "colab": {
          "base_uri": "https://localhost:8080/"
        },
        "id": "yBYl4pY3UZJP",
        "outputId": "1919c348-5271-47e4-ea20-224520ddaa32"
      },
      "execution_count": 72,
      "outputs": [
        {
          "output_type": "execute_result",
          "data": {
            "text/plain": [
              "array([[3., 3., 2.],\n",
              "       [2., 2., 2.],\n",
              "       [4., 4., 4.]])"
            ]
          },
          "metadata": {},
          "execution_count": 72
        }
      ]
    },
    {
      "cell_type": "markdown",
      "source": [
        "2.\tWrite a Python Program to Multiply Two Matrices?"
      ],
      "metadata": {
        "id": "e6qxb_XRY7yq"
      }
    },
    {
      "cell_type": "code",
      "source": [
        "def mat_multiplication(mat_1, mat_2):\n",
        "  result = np.zeros(shape=(np.shape(mat_1)))\n",
        "\n",
        "  for i in range(len(mat_1)):\n",
        "    for j in range(len(mat_1[0])):\n",
        "      result[i][j] = mat_1[i][j] * mat_2[i][j]\n",
        "  return result\n",
        "\n",
        "\n",
        "\n",
        "x = [[2,2,1],\n",
        "    [1 ,1,1],\n",
        "    [3 ,3,3]]\n",
        "\n",
        "y = np.ones((3,3))\n",
        "\n",
        "mat_multiplication(x,y)"
      ],
      "metadata": {
        "colab": {
          "base_uri": "https://localhost:8080/"
        },
        "id": "GkLHGqpFWJBM",
        "outputId": "b365e802-8351-4058-f174-97be8f1519a3"
      },
      "execution_count": 73,
      "outputs": [
        {
          "output_type": "execute_result",
          "data": {
            "text/plain": [
              "array([[2., 2., 1.],\n",
              "       [1., 1., 1.],\n",
              "       [3., 3., 3.]])"
            ]
          },
          "metadata": {},
          "execution_count": 73
        }
      ]
    },
    {
      "cell_type": "markdown",
      "source": [
        "3.\tWrite a Python Program to Transpose a Matrix?"
      ],
      "metadata": {
        "id": "H7aAWGL7ZH4i"
      }
    },
    {
      "cell_type": "code",
      "source": [
        "def mat_transpose(mat):\n",
        "  return [[mat[j][i] for j in range(len(mat))] for i in range(len(mat[0]))]\n",
        "\n",
        "\n",
        "x = [[2,2,1],\n",
        "    [1 ,1,1],\n",
        "    [3 ,3,3]]\n",
        "\n",
        "mat_transpose(x)"
      ],
      "metadata": {
        "colab": {
          "base_uri": "https://localhost:8080/"
        },
        "id": "ed3BTfM_ZJwx",
        "outputId": "e5da8f33-d7ee-4d48-81c9-35bc894f7719"
      },
      "execution_count": 75,
      "outputs": [
        {
          "output_type": "execute_result",
          "data": {
            "text/plain": [
              "[[2, 1, 3], [2, 1, 3], [1, 1, 3]]"
            ]
          },
          "metadata": {},
          "execution_count": 75
        }
      ]
    },
    {
      "cell_type": "markdown",
      "source": [
        "4.\tWrite a Python Program to Sort Words in Alphabetic Order?"
      ],
      "metadata": {
        "id": "HCRQtPWZaG9u"
      }
    },
    {
      "cell_type": "code",
      "source": [
        "def sort_words(txt):\n",
        "  \n",
        "  words = [i for i in txt.split()]\n",
        "  words.sort()\n",
        "  return words\n",
        "\n",
        "\n",
        "txt = 'A BB CC DD AA AB BC'\n",
        "\n",
        "sort_words(txt)"
      ],
      "metadata": {
        "colab": {
          "base_uri": "https://localhost:8080/"
        },
        "id": "NnHIs4A1ZYIW",
        "outputId": "226b4476-55e2-4a92-a0a8-7e6e8f554e94"
      },
      "execution_count": 78,
      "outputs": [
        {
          "output_type": "execute_result",
          "data": {
            "text/plain": [
              "['A', 'AA', 'AB', 'BB', 'BC', 'CC', 'DD']"
            ]
          },
          "metadata": {},
          "execution_count": 78
        }
      ]
    },
    {
      "cell_type": "markdown",
      "source": [
        "5.\tWrite a Python Program to Remove Punctuation From a String?"
      ],
      "metadata": {
        "id": "yqLCU6uWbBx0"
      }
    },
    {
      "cell_type": "code",
      "source": [
        "def remove_punctuations(txt):\n",
        "\n",
        "  punctuations = ['!', '@', '-'] # Taking only these 3 as punctution example\n",
        "\n",
        "  clean_txt = \"\"\n",
        "  for i in txt:\n",
        "    if i not in punctuations:\n",
        "      clean_txt = clean_txt + i\n",
        "  \n",
        "  return clean_txt\n",
        "\n",
        "\n",
        "txt = 'Hi !!!! Hello --- world'\n",
        "\n",
        "remove_punctuations(txt)"
      ],
      "metadata": {
        "colab": {
          "base_uri": "https://localhost:8080/",
          "height": 36
        },
        "id": "goGEjv7FaoH6",
        "outputId": "07a00505-663f-4b3a-dae6-d6c73ea54196"
      },
      "execution_count": 81,
      "outputs": [
        {
          "output_type": "execute_result",
          "data": {
            "text/plain": [
              "'Hi  Hello  world'"
            ],
            "application/vnd.google.colaboratory.intrinsic+json": {
              "type": "string"
            }
          },
          "metadata": {},
          "execution_count": 81
        }
      ]
    },
    {
      "cell_type": "code",
      "source": [
        ""
      ],
      "metadata": {
        "id": "P1LMCDBNcFaf"
      },
      "execution_count": null,
      "outputs": []
    }
  ]
}