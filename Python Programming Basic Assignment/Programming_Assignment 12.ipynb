{
  "nbformat": 4,
  "nbformat_minor": 0,
  "metadata": {
    "colab": {
      "name": "Programming_Assignment 11.ipynb",
      "provenance": [],
      "collapsed_sections": []
    },
    "kernelspec": {
      "name": "python3",
      "display_name": "Python 3"
    },
    "language_info": {
      "name": "python"
    }
  },
  "cells": [
    {
      "cell_type": "markdown",
      "source": [
        "1.\tWrite a Python program to Extract Unique values dictionary values?"
      ],
      "metadata": {
        "id": "hKpJYqjAV0OZ"
      }
    },
    {
      "cell_type": "code",
      "source": [
        "def unique_dic_values(dict):\n",
        "\n",
        "  val = dict.values()\n",
        "  val = set(val)\n",
        "\n",
        "  return val\n",
        "\n",
        "\n",
        "dict = {\"a\": \"AA\", \"b\": \"AA\", \"c\": \"CC\", \"d\": \"AB\"}\n",
        "unique_dic_values(dict)"
      ],
      "metadata": {
        "colab": {
          "base_uri": "https://localhost:8080/"
        },
        "id": "UuS6ZvsPV2pb",
        "outputId": "752feabb-5323-4028-c303-0a67de4f0ad2"
      },
      "execution_count": 74,
      "outputs": [
        {
          "output_type": "execute_result",
          "data": {
            "text/plain": [
              "{'AA', 'AB', 'CC'}"
            ]
          },
          "metadata": {},
          "execution_count": 74
        }
      ]
    },
    {
      "cell_type": "markdown",
      "source": [
        "2.\tWrite a Python program to find the sum of all items in a dictionary?"
      ],
      "metadata": {
        "id": "Q4uG3VC6WbMt"
      }
    },
    {
      "cell_type": "code",
      "source": [
        "def sum_dic_values(dict):\n",
        "\n",
        "  val = dict.values()\n",
        "  sum_ = sum(val)\n",
        "\n",
        "  return sum_\n",
        "\n",
        "\n",
        "dict = {\"a\": 100, \"b\": 200, \"c\": 300, \"d\": 400}\n",
        "sum_dic_values(dict)"
      ],
      "metadata": {
        "colab": {
          "base_uri": "https://localhost:8080/"
        },
        "id": "FXRy6--FWYKY",
        "outputId": "0176846c-7664-445f-eec7-83571d56605b"
      },
      "execution_count": 76,
      "outputs": [
        {
          "output_type": "execute_result",
          "data": {
            "text/plain": [
              "1000"
            ]
          },
          "metadata": {},
          "execution_count": 76
        }
      ]
    },
    {
      "cell_type": "markdown",
      "source": [
        "3.\tWrite a Python program to Merging two Dictionaries?"
      ],
      "metadata": {
        "id": "gpInrX3AXInP"
      }
    },
    {
      "cell_type": "code",
      "source": [
        "def merge_dicts(dict_1, dict_2):\n",
        "  \n",
        "  dict_1.update(dict_2)\n",
        "  return dict_1\n",
        "\n",
        "\n",
        "dict_1 = {\"a\": 100, \"b\": 200, \"c\": 300, \"d\": 400}\n",
        "dict_2 = {\"a\": 555, \"e\": 200, \"c\": 145, \"d\": 425}\n",
        "\n",
        "merge_dicts(dict_1, dict_2)"
      ],
      "metadata": {
        "colab": {
          "base_uri": "https://localhost:8080/"
        },
        "id": "Pmf2ZbLNW1U4",
        "outputId": "84ed3a89-e8a2-4ab1-fe39-1287ec684386"
      },
      "execution_count": 81,
      "outputs": [
        {
          "output_type": "execute_result",
          "data": {
            "text/plain": [
              "{'a': 555, 'b': 200, 'c': 145, 'd': 425, 'e': 200}"
            ]
          },
          "metadata": {},
          "execution_count": 81
        }
      ]
    },
    {
      "cell_type": "markdown",
      "source": [
        "4.\tWrite a Python program to convert key-values list to flat dictionary?"
      ],
      "metadata": {
        "id": "ePdHXf-1Yey6"
      }
    },
    {
      "cell_type": "code",
      "source": [
        ""
      ],
      "metadata": {
        "id": "rm1vPUiTbvcZ"
      },
      "execution_count": null,
      "outputs": []
    },
    {
      "cell_type": "markdown",
      "source": [
        "5.\tWrite a Python program to insertion at the beginning in OrderedDict?"
      ],
      "metadata": {
        "id": "IVto5G0Cb4wr"
      }
    },
    {
      "cell_type": "code",
      "source": [
        ""
      ],
      "metadata": {
        "id": "ihmMKA-cb66Y"
      },
      "execution_count": null,
      "outputs": []
    },
    {
      "cell_type": "markdown",
      "source": [
        "7.\tWrite a Python program to sort Python Dictionaries by Key or Value?"
      ],
      "metadata": {
        "id": "g_rbBj68isPC"
      }
    },
    {
      "cell_type": "code",
      "source": [
        "def sorted_dict(dict_):\n",
        "  temp = {}\n",
        "  for key in sorted(dict_):\n",
        "    temp[key] = dict_[key]\n",
        "  return temp"
      ],
      "metadata": {
        "id": "7yQHaqqoiqWE"
      },
      "execution_count": 95,
      "outputs": []
    },
    {
      "cell_type": "code",
      "source": [
        "dict_3 = {\"a\": 555, \"z\": 10000000,\"e\": 200, \"c\": 145, \"d\": 425}"
      ],
      "metadata": {
        "id": "KTmLgzTYlRM8"
      },
      "execution_count": 99,
      "outputs": []
    },
    {
      "cell_type": "code",
      "source": [
        "sorted_dict(dict_3)"
      ],
      "metadata": {
        "colab": {
          "base_uri": "https://localhost:8080/"
        },
        "id": "9hy3SNVNjA9r",
        "outputId": "2fd50f87-cae8-46ba-df62-a96ccabc1b73"
      },
      "execution_count": 100,
      "outputs": [
        {
          "output_type": "execute_result",
          "data": {
            "text/plain": [
              "{'a': 555, 'c': 145, 'd': 425, 'e': 200, 'z': 10000000}"
            ]
          },
          "metadata": {},
          "execution_count": 100
        }
      ]
    },
    {
      "cell_type": "code",
      "source": [
        ""
      ],
      "metadata": {
        "id": "Tef6dhLelLVA"
      },
      "execution_count": null,
      "outputs": []
    }
  ]
}