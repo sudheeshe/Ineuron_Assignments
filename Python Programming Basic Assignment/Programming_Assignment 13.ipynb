{
  "nbformat": 4,
  "nbformat_minor": 0,
  "metadata": {
    "colab": {
      "name": "Programming_Assignment 11.ipynb",
      "provenance": [],
      "collapsed_sections": []
    },
    "kernelspec": {
      "name": "python3",
      "display_name": "Python 3"
    },
    "language_info": {
      "name": "python"
    }
  },
  "cells": [
    {
      "cell_type": "markdown",
      "source": [
        "## **Question 1:**\n",
        "\n",
        "Write a program that calculates and prints the value according to the given formula:\n",
        "\n",
        "Q = Square root of [(2 * C * D)/H]\n",
        "\n",
        "Following are the fixed values of C and H:\n",
        "\n",
        "C is 50. H is 30.\n",
        "\n",
        "D is the variable whose values should be input to your program in a comma-separated sequence.\n",
        "\n",
        "## **Example**\n",
        "\n",
        "Let us assume the following comma separated input sequence is given to the program:\n",
        "\n",
        "100,150,180\n",
        "\n",
        "The output of the program should be:\n",
        "\n",
        "18,22,24\n"
      ],
      "metadata": {
        "id": "TMdxEOb8l_5G"
      }
    },
    {
      "cell_type": "code",
      "source": [
        "import math\n",
        "def sample_pgm_1(D):\n",
        "\n",
        "  list_ = []\n",
        "  for i in D:\n",
        "    x = int(math.sqrt((2*50*i)/30))\n",
        "    list_.append(x)\n",
        "\n",
        "  return list_\n",
        "\n",
        "D = [100,150,180]\n",
        "sample_pgm_1(D)"
      ],
      "metadata": {
        "colab": {
          "base_uri": "https://localhost:8080/"
        },
        "id": "DcvRDJJ5mAxe",
        "outputId": "5820685c-9632-4d49-c9b5-545820d527c7"
      },
      "execution_count": 32,
      "outputs": [
        {
          "output_type": "execute_result",
          "data": {
            "text/plain": [
              "[18, 22, 24]"
            ]
          },
          "metadata": {},
          "execution_count": 32
        }
      ]
    },
    {
      "cell_type": "markdown",
      "source": [
        "## **Question 2:**\n",
        "Write a program which takes 2 digits, X,Y as input and generates a 2-dimensional array. The element value in the i-th row and j-th column of the array should be i*j.\n",
        "\n",
        "Note: i=0,1.., X-1; j=0,1,¡¬Y-1.\n",
        "\n",
        "## **Example**\n",
        "\n",
        "Suppose the following inputs are given to the program:\n",
        "\n",
        "3,5\n",
        "\n",
        "Then, the output of the program should be:\n",
        "\n",
        "[[0, 0, 0, 0, 0], [0, 1, 2, 3, 4], [0, 2, 4, 6, 8]] \n"
      ],
      "metadata": {
        "id": "U1AAuanxnOvn"
      }
    },
    {
      "cell_type": "code",
      "source": [
        "import numpy as np\n",
        "\n",
        "def create_matrix(row, column):\n",
        "\n",
        "  mat = np.zeros([row,column])\n",
        "  \n",
        "  for i in range(row):\n",
        "    for j in range(column):\n",
        "      mat[i][j] = i*j\n",
        "\n",
        "  return mat\n",
        "\n",
        "create_matrix(3,5)"
      ],
      "metadata": {
        "id": "ldd3skElnEKn",
        "colab": {
          "base_uri": "https://localhost:8080/"
        },
        "outputId": "cf72b6c9-ba5d-4d85-e85e-2b9abb243903"
      },
      "execution_count": 33,
      "outputs": [
        {
          "output_type": "execute_result",
          "data": {
            "text/plain": [
              "array([[0., 0., 0., 0., 0.],\n",
              "       [0., 1., 2., 3., 4.],\n",
              "       [0., 2., 4., 6., 8.]])"
            ]
          },
          "metadata": {},
          "execution_count": 33
        }
      ]
    },
    {
      "cell_type": "markdown",
      "source": [
        "## **Question 3:**\n",
        "\n",
        "Write a program that accepts a comma separated sequence of words as input and prints the words in a comma-separated sequence after sorting them alphabetically.\n",
        "\n",
        "Suppose the following input is supplied to the program:\n",
        "\n",
        "without,hello,bag,world\n",
        "\n",
        "Then, the output should be:\n",
        "\n",
        "bag,hello,without,world\n"
      ],
      "metadata": {
        "id": "NRag5wL43Yl7"
      }
    },
    {
      "cell_type": "code",
      "source": [
        "def sort_txt(txt):\n",
        "  temp = txt.split(\",\")\n",
        "  return sorted(temp)\n",
        "\n",
        "\n",
        "txt = 'without,hello,bag,world,apple'\n",
        "\n",
        "sort_txt(txt)"
      ],
      "metadata": {
        "colab": {
          "base_uri": "https://localhost:8080/"
        },
        "id": "GZd0KRy92oZ7",
        "outputId": "e7acd58b-27ca-4aca-d848-e0de1973562c"
      },
      "execution_count": 34,
      "outputs": [
        {
          "output_type": "execute_result",
          "data": {
            "text/plain": [
              "['apple', 'bag', 'hello', 'without', 'world']"
            ]
          },
          "metadata": {},
          "execution_count": 34
        }
      ]
    },
    {
      "cell_type": "markdown",
      "source": [
        "### **Question 4:**\n",
        "\n",
        "Write a program that accepts a sequence of whitespace separated words as input and prints the words after removing all duplicate words and sorting them alphanumerically.\n",
        "\n",
        "Suppose the following input is supplied to the program:\n",
        "\n",
        "hello world and practice makes perfect and hello world again\n",
        "\n",
        "Then, the output should be:\n",
        "\n",
        "again and hello makes perfect practice world\n"
      ],
      "metadata": {
        "id": "h4p0RJhG44Gp"
      }
    },
    {
      "cell_type": "code",
      "source": [
        "def sort_and_rm_dulpicate(txt):\n",
        "\n",
        "  temp = txt.split()\n",
        "  temp = [i.lower() for i in temp]\n",
        "  temp = sorted(temp)\n",
        "  \n",
        "  return set(temp)\n",
        "\n",
        "txt = 'hello world and practice makes perfect and hello world again'\n",
        "sort_and_rm_dulpicate(txt)"
      ],
      "metadata": {
        "colab": {
          "base_uri": "https://localhost:8080/"
        },
        "id": "jbeCWYlx465h",
        "outputId": "a41ca403-d581-4d27-9291-5f97f7ecfbcf"
      },
      "execution_count": 35,
      "outputs": [
        {
          "output_type": "execute_result",
          "data": {
            "text/plain": [
              "{'again', 'and', 'hello', 'makes', 'perfect', 'practice', 'world'}"
            ]
          },
          "metadata": {},
          "execution_count": 35
        }
      ]
    },
    {
      "cell_type": "markdown",
      "source": [
        "## **Question 5:**\n",
        "\n",
        "Write a program that accepts a sentence and calculate the number of letters and digits.\n",
        "\n",
        "Suppose the following input is supplied to the program:\n",
        "\n",
        "hello world! 123\n",
        "\n",
        "Then, the output should be:\n",
        "\n",
        "LETTERS 10\n",
        "\n",
        "DIGITS 3\n"
      ],
      "metadata": {
        "id": "aPDbidDf6HHV"
      }
    },
    {
      "cell_type": "code",
      "source": [
        "def num_of_letters_and_digits(txt):\n",
        "\n",
        "  num_letter = 0\n",
        "  num_digit = 0\n",
        "\n",
        "  for i in txt:\n",
        "    if i.isalpha():\n",
        "      num_letter+=1\n",
        "    elif i.isnumeric():\n",
        "      num_digit+=1\n",
        "  \n",
        "  return {\"LETTER\": num_letter, \"DIGITS\": num_digit}\n"
      ],
      "metadata": {
        "id": "DT-POF925xd7"
      },
      "execution_count": 36,
      "outputs": []
    },
    {
      "cell_type": "code",
      "source": [
        "txt = 'hello world! 123'\n",
        "\n",
        "num_of_letters_and_digits(txt)"
      ],
      "metadata": {
        "colab": {
          "base_uri": "https://localhost:8080/"
        },
        "id": "ajrpHWEr6za6",
        "outputId": "d736d668-2ada-4cc5-a7a1-a63de36945a5"
      },
      "execution_count": 37,
      "outputs": [
        {
          "output_type": "execute_result",
          "data": {
            "text/plain": [
              "{'DIGITS': 3, 'LETTER': 10}"
            ]
          },
          "metadata": {},
          "execution_count": 37
        }
      ]
    },
    {
      "cell_type": "markdown",
      "source": [
        "## **Question 6:**\n",
        "\n",
        "A website requires the users to input username and password to register. Write a program to check the validity of password input by users.\n",
        "\n",
        "Following are the criteria for checking the password:\n",
        "\n",
        "1. At least 1 letter between [a-z]\n",
        "\n",
        "2. At least 1 number between [0-9]\n",
        "\n",
        "1. At least 1 letter between [A-Z]\n",
        "\n",
        "3. At least 1 character from [$#@]\n",
        "\n",
        "4. Minimum length of transaction password: 6\n",
        "\n",
        "5. Maximum length of transaction password: 12\n",
        "\n",
        "Your program should accept a sequence of comma separated passwords and will check them according to the above criteria. Passwords that match the criteria are to be printed, each separated by a comma.\n",
        "\n",
        "Example\n",
        "\n",
        "If the following passwords are given as input to the program:\n",
        "\n",
        "ABd1234@1,a F1#,2w3E*,2We3345\n",
        "\n",
        "Then, the output of the program should be:\n",
        "\n",
        "ABd1234@1\n"
      ],
      "metadata": {
        "id": "p2k-I5HRknA0"
      }
    },
    {
      "cell_type": "code",
      "source": [
        "import re\n",
        "\n",
        "def passwrd_check(txt, min, max):\n",
        "  \n",
        "  valid_passwrd = []\n",
        "  reg = \"^(?=.*[a-z])(?=.*[A-Z])(?=.*\\d)(?=.*[@$!%*#?&])[A-Za-z\\d@$!#%*?&]{6,20}$\"\n",
        "  patt = re.compile(reg)\n",
        "  for i in txt:\n",
        "    if (min <= len(i) <= max):\n",
        "      if re.search(patt, i):\n",
        "        valid_passwrd.append(i)\n",
        "\n",
        "\n",
        "    return valid_passwrd\n",
        "\n",
        "txt = ['ABd1234@1','a F1#','2w3E*','2We3345']\n",
        "\n",
        "passwrd_check(txt, 6, 12)"
      ],
      "metadata": {
        "colab": {
          "base_uri": "https://localhost:8080/"
        },
        "id": "1UpA_0HLLBBo",
        "outputId": "428482f2-da50-4080-9af2-7e511414b81e"
      },
      "execution_count": 41,
      "outputs": [
        {
          "output_type": "execute_result",
          "data": {
            "text/plain": [
              "['ABd1234@1']"
            ]
          },
          "metadata": {},
          "execution_count": 41
        }
      ]
    }
  ]
}