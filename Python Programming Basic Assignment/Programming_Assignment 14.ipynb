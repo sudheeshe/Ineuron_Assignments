{
  "nbformat": 4,
  "nbformat_minor": 0,
  "metadata": {
    "colab": {
      "name": "Programming_Assignment 11.ipynb",
      "provenance": [],
      "collapsed_sections": []
    },
    "kernelspec": {
      "name": "python3",
      "display_name": "Python 3"
    },
    "language_info": {
      "name": "python"
    }
  },
  "cells": [
    {
      "cell_type": "markdown",
      "source": [
        "Question 1:\n",
        "\n",
        "Define a class with a generator which can iterate the numbers, which are divisible by 7, between a given range 0 and n.\n"
      ],
      "metadata": {
        "id": "GxiayruIPaba"
      }
    },
    {
      "cell_type": "code",
      "source": [
        "def divisible_by_7_gen(n):\n",
        "\n",
        "  for i in range(0,n):\n",
        "    j = i\n",
        "    i=i+1\n",
        "    if j%7 ==0:\n",
        "      yield j\n",
        "\n",
        "\n",
        "for x in divisible_by_7_gen(100):\n",
        "  print(x)"
      ],
      "metadata": {
        "colab": {
          "base_uri": "https://localhost:8080/"
        },
        "id": "8fLvQGYwEF1C",
        "outputId": "3fe232a1-797e-4277-ba5b-29dcfef9f03f"
      },
      "execution_count": 4,
      "outputs": [
        {
          "output_type": "stream",
          "name": "stdout",
          "text": [
            "0\n",
            "7\n",
            "14\n",
            "21\n",
            "28\n",
            "35\n",
            "42\n",
            "49\n",
            "56\n",
            "63\n",
            "70\n",
            "77\n",
            "84\n",
            "91\n",
            "98\n"
          ]
        }
      ]
    },
    {
      "cell_type": "markdown",
      "source": [
        "### **Question 2:**\n",
        "Write a program to compute the frequency of the words from the input. The output should output after sorting the key alphanumerically. \n",
        "\n",
        "Suppose the following input is supplied to the program:\n",
        "\n",
        "New to Python or choosing between Python 2 and Python 3? Read Python 2 or Python 3.\n",
        "\n",
        "Then, the output should be:\n",
        "\n",
        "2:2\n",
        "\n",
        "3.:1\n",
        "\n",
        "3?:1\n",
        "\n",
        "New:1\n",
        "\n",
        "Python:5\n",
        "\n",
        "Read:1\n",
        "\n",
        "and:1\n",
        "\n",
        "between:1\n",
        "\n",
        "choosing:1\n",
        "\n",
        "or:2\n",
        "\n"
      ],
      "metadata": {
        "id": "iKybu4BlFkbO"
      }
    },
    {
      "cell_type": "code",
      "source": [
        "def word_freq(txt):\n",
        "\n",
        "  temp = txt.split()\n",
        "  unique = set(temp)\n",
        "  dict_ = dict()\n",
        "\n",
        "  for i in unique:\n",
        "    count = 0\n",
        "    for j in temp:\n",
        "      if j==i:\n",
        "        count+=1\n",
        "    dict_[i] = count\n",
        "\n",
        "  return dict_\n",
        "\n",
        "txt = \"New to Python or choosing between Python 2 and Python 3? Read Python 2 or Python 3\"\n",
        "\n",
        "word_freq(txt)"
      ],
      "metadata": {
        "colab": {
          "base_uri": "https://localhost:8080/"
        },
        "id": "3w6fvK3WFI5w",
        "outputId": "01738b20-543a-4374-841f-9356b7a02749"
      },
      "execution_count": 11,
      "outputs": [
        {
          "output_type": "execute_result",
          "data": {
            "text/plain": [
              "{'2': 2,\n",
              " '3': 1,\n",
              " '3?': 1,\n",
              " 'New': 1,\n",
              " 'Python': 5,\n",
              " 'Read': 1,\n",
              " 'and': 1,\n",
              " 'between': 1,\n",
              " 'choosing': 1,\n",
              " 'or': 2,\n",
              " 'to': 1}"
            ]
          },
          "metadata": {},
          "execution_count": 11
        }
      ]
    },
    {
      "cell_type": "markdown",
      "source": [
        "### **Question 3:**\n",
        "\n",
        "\n",
        "\n",
        "Define a class Person and its two child classes: Male and Female. All classes have a method \"getGender\" which can print \"Male\" for Male class and \"Female\" for Female class.\n"
      ],
      "metadata": {
        "id": "NKrJnj_SG-oe"
      }
    },
    {
      "cell_type": "code",
      "source": [
        "class Person:\n",
        "\n",
        "  def __init__(self):\n",
        "    self.gender = 'None'\n",
        "\n",
        "  def getGender(self):\n",
        "    return self.gender\n",
        "\n",
        "\n",
        "class Male(Person):\n",
        "  \n",
        "  def __init__(self):\n",
        "    Person.__init__(self)\n",
        "    self.gender = 'Male'\n",
        "\n",
        "\n",
        "class Female(Person):\n",
        "\n",
        "  def __init__(self):\n",
        "    Person.__init__(self)\n",
        "    self.gender = 'Female'"
      ],
      "metadata": {
        "id": "fvJrbyiGNUtD"
      },
      "execution_count": 29,
      "outputs": []
    },
    {
      "cell_type": "code",
      "source": [
        "x= Person()\n",
        "x.getGender()"
      ],
      "metadata": {
        "colab": {
          "base_uri": "https://localhost:8080/",
          "height": 36
        },
        "id": "zV2ZQsjWXu_N",
        "outputId": "50761590-1202-4a65-85b9-b7ae4daf594c"
      },
      "execution_count": 31,
      "outputs": [
        {
          "output_type": "execute_result",
          "data": {
            "text/plain": [
              "'None'"
            ],
            "application/vnd.google.colaboratory.intrinsic+json": {
              "type": "string"
            }
          },
          "metadata": {},
          "execution_count": 31
        }
      ]
    },
    {
      "cell_type": "code",
      "source": [
        "x = Male()\n",
        "\n",
        "x.getGender()"
      ],
      "metadata": {
        "colab": {
          "base_uri": "https://localhost:8080/",
          "height": 36
        },
        "id": "6ryg9VMAVWL2",
        "outputId": "0d91ee53-7d9e-4878-bf22-9d01ab6f2c88"
      },
      "execution_count": 28,
      "outputs": [
        {
          "output_type": "execute_result",
          "data": {
            "text/plain": [
              "'Male'"
            ],
            "application/vnd.google.colaboratory.intrinsic+json": {
              "type": "string"
            }
          },
          "metadata": {},
          "execution_count": 28
        }
      ]
    },
    {
      "cell_type": "code",
      "source": [
        "x = Female()\n",
        "\n",
        "x.getGender()"
      ],
      "metadata": {
        "colab": {
          "base_uri": "https://localhost:8080/",
          "height": 36
        },
        "id": "At6-DHpuVbm0",
        "outputId": "aad85acd-b397-4a16-85de-4072278e9c26"
      },
      "execution_count": 30,
      "outputs": [
        {
          "output_type": "execute_result",
          "data": {
            "text/plain": [
              "'Female'"
            ],
            "application/vnd.google.colaboratory.intrinsic+json": {
              "type": "string"
            }
          },
          "metadata": {},
          "execution_count": 30
        }
      ]
    },
    {
      "cell_type": "markdown",
      "source": [
        "## **Question 4:**\n",
        "\n",
        "Please write a program to generate all sentences where subject is in [\"I\", \"You\"] and verb is in [\"Play\", \"Love\"] and the object is in [\"Hockey\",\"Football\"].\n"
      ],
      "metadata": {
        "id": "O_HPs_rNX51V"
      }
    },
    {
      "cell_type": "code",
      "source": [
        ""
      ],
      "metadata": {
        "id": "-U7nHqBKX8WN"
      },
      "execution_count": null,
      "outputs": []
    },
    {
      "cell_type": "markdown",
      "source": [
        "### **Question 5:**\n",
        "\n",
        "Please write a program to compress and decompress the string \"hello world!hello world!hello world!hello world!\".\n"
      ],
      "metadata": {
        "id": "ZjYlaB20Y2-v"
      }
    },
    {
      "cell_type": "code",
      "source": [
        ""
      ],
      "metadata": {
        "id": "PTt0FgumY18z"
      },
      "execution_count": null,
      "outputs": []
    },
    {
      "cell_type": "markdown",
      "source": [
        "### **Question 6:**\n",
        "\n",
        "Please write a binary search function which searches an item in a sorted list. The function should return the index of element to be searched in the list.\n"
      ],
      "metadata": {
        "id": "G0XUirgKY1V3"
      }
    },
    {
      "cell_type": "code",
      "source": [
        ""
      ],
      "metadata": {
        "id": "SI-k1YtJY9Kd"
      },
      "execution_count": null,
      "outputs": []
    }
  ]
}