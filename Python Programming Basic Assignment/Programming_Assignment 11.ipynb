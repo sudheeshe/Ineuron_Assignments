{
  "nbformat": 4,
  "nbformat_minor": 0,
  "metadata": {
    "colab": {
      "name": "Programming_Assignment 11.ipynb",
      "provenance": [],
      "collapsed_sections": []
    },
    "kernelspec": {
      "name": "python3",
      "display_name": "Python 3"
    },
    "language_info": {
      "name": "python"
    }
  },
  "cells": [
    {
      "cell_type": "markdown",
      "source": [
        "1.\tWrite a Python program to find words which are greater than given length k?"
      ],
      "metadata": {
        "id": "TxcwrL1BdSXM"
      }
    },
    {
      "cell_type": "code",
      "source": [
        "def find_words(txt, length):\n",
        "  temp = []\n",
        "  for i in txt.split():\n",
        "    if len(i)>length:\n",
        "      temp.append(i)\n",
        "    else:\n",
        "      continue\n",
        "  \n",
        "  return temp\n",
        "\n",
        "txt = \"Hi Everyone, Hope you are doing fine\"\n",
        "find_words(txt, 3)"
      ],
      "metadata": {
        "colab": {
          "base_uri": "https://localhost:8080/"
        },
        "id": "WVDn8AC6FkLQ",
        "outputId": "36db59c7-7f9f-435c-f39f-e14b8769f6ea"
      },
      "execution_count": 59,
      "outputs": [
        {
          "output_type": "execute_result",
          "data": {
            "text/plain": [
              "['Everyone,', 'Hope', 'doing', 'fine']"
            ]
          },
          "metadata": {},
          "execution_count": 59
        }
      ]
    },
    {
      "cell_type": "markdown",
      "source": [
        "2.\tWrite a Python program for removing i-th character from a string?"
      ],
      "metadata": {
        "id": "n5FozUIJGfQ9"
      }
    },
    {
      "cell_type": "code",
      "source": [
        "def remove_char(string, char): \n",
        "  \n",
        "    for j in range(len(string)):\n",
        "        if j == char:\n",
        "            string = string.replace(string[char], \"\", 1)\n",
        "    return string\n",
        "\n",
        "\n",
        "txt = 'Hello World'\n",
        "remove_char(txt, 3)"
      ],
      "metadata": {
        "colab": {
          "base_uri": "https://localhost:8080/",
          "height": 36
        },
        "id": "HXo3X4c9F26P",
        "outputId": "67d29c59-2ac9-43bb-a5d6-aaa1c28c39bf"
      },
      "execution_count": 60,
      "outputs": [
        {
          "output_type": "execute_result",
          "data": {
            "text/plain": [
              "'Helo World'"
            ],
            "application/vnd.google.colaboratory.intrinsic+json": {
              "type": "string"
            }
          },
          "metadata": {},
          "execution_count": 60
        }
      ]
    },
    {
      "cell_type": "markdown",
      "source": [
        "3.\tWrite a Python program to split and join a string?"
      ],
      "metadata": {
        "id": "98oYius8Ih9y"
      }
    },
    {
      "cell_type": "code",
      "source": [
        "def split_and_join(txt, split_by, join_by):\n",
        "\n",
        "  temp = txt.split(split_by)\n",
        "\n",
        "  join = \"-\".join(temp)\n",
        "\n",
        "  return temp, join\n",
        "\n",
        "\n",
        "txt = \"Hello World\"\n",
        "split_and_join(txt, \" \", \"_\")"
      ],
      "metadata": {
        "colab": {
          "base_uri": "https://localhost:8080/"
        },
        "id": "payOpTYGH24n",
        "outputId": "e3200b43-70cc-4b2c-ab79-74d897026e6d"
      },
      "execution_count": 61,
      "outputs": [
        {
          "output_type": "execute_result",
          "data": {
            "text/plain": [
              "(['Hello', 'World'], 'Hello-World')"
            ]
          },
          "metadata": {},
          "execution_count": 61
        }
      ]
    },
    {
      "cell_type": "markdown",
      "source": [
        "4.\tWrite a Python to check if a given string is binary string or not?"
      ],
      "metadata": {
        "id": "JkAIcZHtJUUH"
      }
    },
    {
      "cell_type": "code",
      "source": [
        "def is_binary(txt):\n",
        "  for i in txt:\n",
        "    if i == str(0) or i == str(1):\n",
        "      return True\n",
        "    \n",
        "    else:\n",
        "      return False\n",
        "\n",
        "\n",
        "is_binary('01010101011111')"
      ],
      "metadata": {
        "colab": {
          "base_uri": "https://localhost:8080/"
        },
        "id": "uzAEaOL6JOs7",
        "outputId": "2c3953f0-a305-472d-b710-25d957a53ab4"
      },
      "execution_count": 62,
      "outputs": [
        {
          "output_type": "execute_result",
          "data": {
            "text/plain": [
              "True"
            ]
          },
          "metadata": {},
          "execution_count": 62
        }
      ]
    },
    {
      "cell_type": "markdown",
      "source": [
        "5.\tWrite a Python program to find uncommon words from two Strings?"
      ],
      "metadata": {
        "id": "uSmRZ50jLe3V"
      }
    },
    {
      "cell_type": "code",
      "source": [
        "def uncommon_words(txt_1,txt_2):\n",
        "\n",
        "  temp_1 = txt_1.lower().split()\n",
        "  temp_1 = set(temp_1)\n",
        "\n",
        "  temp_2 = txt_2.lower().split()\n",
        "  temp_2 = set(temp_2)\n",
        "  \n",
        "  x = []\n",
        "  for i in temp_1:\n",
        "    if i in temp_2:\n",
        "      continue\n",
        "    else:\n",
        "      x.append(i)\n",
        "  \n",
        "  for j in temp_2:\n",
        "    if j in temp_1:\n",
        "      continue\n",
        "    else:\n",
        "      x.append(j)\n",
        "\n",
        "  return set(x)"
      ],
      "metadata": {
        "id": "93FSWN37LLhD"
      },
      "execution_count": 63,
      "outputs": []
    },
    {
      "cell_type": "code",
      "source": [
        "txt_1 = 'Hello world hello'\n",
        "txt_2 = \"Hello Leaners helloooo\"\n",
        "\n",
        "uncommon_words(txt_1, txt_2)"
      ],
      "metadata": {
        "colab": {
          "base_uri": "https://localhost:8080/"
        },
        "id": "0mljhqksMGXi",
        "outputId": "e7933999-a808-4726-a52a-ddcf6b2caf71"
      },
      "execution_count": 64,
      "outputs": [
        {
          "output_type": "execute_result",
          "data": {
            "text/plain": [
              "{'helloooo', 'leaners', 'world'}"
            ]
          },
          "metadata": {},
          "execution_count": 64
        }
      ]
    },
    {
      "cell_type": "markdown",
      "source": [
        "6.\tWrite a Python to find all duplicate characters in string?"
      ],
      "metadata": {
        "id": "KR4eGB-bR2pP"
      }
    },
    {
      "cell_type": "code",
      "source": [
        "def uncommon_words(txt_1,txt_2):\n",
        "\n",
        "  temp_1 = txt_1.lower().split()\n",
        "  temp_1 = set(temp_1)\n",
        "\n",
        "  temp_2 = txt_2.lower().split()\n",
        "  temp_2 = set(temp_2)\n",
        "  \n",
        "  x = []\n",
        "  for i in temp_1:\n",
        "    if i in temp_2:\n",
        "      x.append(i)\n",
        "    else:\n",
        "      continue\n",
        "  \n",
        "  for j in temp_2:\n",
        "    if j in temp_1:\n",
        "      x.append(j)\n",
        "    else:\n",
        "      continue\n",
        "\n",
        "  return set(x)"
      ],
      "metadata": {
        "id": "z0l4xW4TNOla"
      },
      "execution_count": 65,
      "outputs": []
    },
    {
      "cell_type": "code",
      "source": [
        "txt_1 = 'Hello world hello'\n",
        "txt_2 = \"Hello Leaners helloooo World\"\n",
        "\n",
        "uncommon_words(txt_1, txt_2)"
      ],
      "metadata": {
        "colab": {
          "base_uri": "https://localhost:8080/"
        },
        "id": "etBcco9ZSEg2",
        "outputId": "8e637bf1-24ec-48fb-a66f-5d5d6db4c391"
      },
      "execution_count": 67,
      "outputs": [
        {
          "output_type": "execute_result",
          "data": {
            "text/plain": [
              "{'hello', 'world'}"
            ]
          },
          "metadata": {},
          "execution_count": 67
        }
      ]
    },
    {
      "cell_type": "markdown",
      "source": [
        "7.\tWrite a Python Program to check if a string contains any special character?"
      ],
      "metadata": {
        "id": "Ym7Gwd9NTphD"
      }
    },
    {
      "cell_type": "code",
      "source": [
        "import re\n",
        "\n",
        "def check_special_char(txt):\n",
        " \n",
        "    regex = re.compile('[@_!#$%^&*()<>?/\\|}{~:]')\n",
        "      \n",
        "    if(regex.search(txt) == None):\n",
        "        return False\n",
        "         \n",
        "    else:\n",
        "        return True\n",
        "\n",
        "\n",
        "txt = \"Hello world!!!!!!!!!\"\n",
        "check_special_char(txt)"
      ],
      "metadata": {
        "colab": {
          "base_uri": "https://localhost:8080/"
        },
        "id": "OygyaFsxSFDI",
        "outputId": "2d556875-fce6-45d7-cea9-544f3c6eec2b"
      },
      "execution_count": 72,
      "outputs": [
        {
          "output_type": "execute_result",
          "data": {
            "text/plain": [
              "True"
            ]
          },
          "metadata": {},
          "execution_count": 72
        }
      ]
    },
    {
      "cell_type": "code",
      "source": [
        ""
      ],
      "metadata": {
        "id": "Lx0QKkH6Ud3c"
      },
      "execution_count": null,
      "outputs": []
    }
  ]
}