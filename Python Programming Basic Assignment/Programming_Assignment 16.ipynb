{
  "nbformat": 4,
  "nbformat_minor": 0,
  "metadata": {
    "colab": {
      "name": "Programming_Assignment 15.ipynb",
      "provenance": [],
      "collapsed_sections": []
    },
    "kernelspec": {
      "name": "python3",
      "display_name": "Python 3"
    },
    "language_info": {
      "name": "python"
    }
  },
  "cells": [
    {
      "cell_type": "markdown",
      "source": [
        "# **Question1.** \n",
        "\n",
        "Write a function that stutters a word as if someone is struggling to read it. The first two letters are repeated twice with an ellipsis ... and space after each, and then the word is pronounced with a question mark ?.\n",
        "\n",
        "# **Examples**\n",
        "\n",
        "stutter(\"incredible\") ➞ \"in... in... incredible?\"\n",
        "\n",
        "stutter(\"enthusiastic\") ➞ \"en... en... enthusiastic?\"\n",
        "\n",
        "stutter(\"outstanding\") ➞ \"ou... ou... outstanding?\"\n",
        "\n",
        "Hint :- Assume all input is in lower case and at least two characters long.\n"
      ],
      "metadata": {
        "id": "-ax_OMi77Ry5"
      }
    },
    {
      "cell_type": "code",
      "source": [
        "def stutter(txt):\n",
        "\n",
        "  first_two_lttr = txt[0:2]\n",
        "  first_two_lttr = first_two_lttr + \"..\"\n",
        "  temp_ = txt + '?'\n",
        "\n",
        "  return first_two_lttr + \" \" + first_two_lttr + \" \" + temp_\n",
        "\n",
        "print(stutter(\"incredible\"))\n",
        "print(stutter('enthusiastic'))\n",
        "print(stutter(\"outstanding\"))"
      ],
      "metadata": {
        "colab": {
          "base_uri": "https://localhost:8080/"
        },
        "id": "qEhgRDLa8AQK",
        "outputId": "9b1820db-b22b-493c-d9eb-3ba740e60fb2"
      },
      "execution_count": 42,
      "outputs": [
        {
          "output_type": "stream",
          "name": "stdout",
          "text": [
            "in.. in.. incredible?\n",
            "en.. en.. enthusiastic?\n",
            "ou.. ou.. outstanding?\n"
          ]
        }
      ]
    },
    {
      "cell_type": "markdown",
      "source": [
        "# **Question 2.**\n",
        "\n",
        "Create a function that takes an angle in radians and returns the corresponding angle in degrees rounded to one decimal place.\n",
        "\n",
        "# **Examples**\n",
        "\n",
        "\n",
        "radians_to_degrees(1) ➞ 57.3\n",
        "\n",
        "radians_to_degrees(20) ➞ 1145.9\n",
        "\n",
        "radians_to_degrees(50) ➞ 2864.8\n"
      ],
      "metadata": {
        "id": "UWUP9dxx_AMe"
      }
    },
    {
      "cell_type": "code",
      "source": [
        "def radians_to_degree(angle_in_radians):\n",
        "\n",
        "  temp = angle_in_radians * 57.2958\n",
        "\n",
        "  return round(temp,1)\n",
        "\n",
        "radians_to_degree(50)"
      ],
      "metadata": {
        "colab": {
          "base_uri": "https://localhost:8080/"
        },
        "id": "Z3-CYYvN9710",
        "outputId": "066f42e5-16d9-46e8-b419-103d037701f3"
      },
      "execution_count": 48,
      "outputs": [
        {
          "output_type": "execute_result",
          "data": {
            "text/plain": [
              "2864.8"
            ]
          },
          "metadata": {},
          "execution_count": 48
        }
      ]
    },
    {
      "cell_type": "markdown",
      "source": [
        "## **Question 3.**\n",
        "\n",
        "In this challenge, establish if a given integer num is a Curzon number. If 1 plus 2 elevated to num is exactly divisible by 1 plus 2 multiplied by num, then num is a Curzon number.\n",
        "Given a non-negative integer num, implement a function that returns True if num is a Curzon number, or False otherwise.\n",
        "\n",
        "## **Examples**\n",
        "\n",
        "is_curzon(5) ➞ True\n",
        "\n",
        "2 ** 5 + 1 = 33\n",
        "\n",
        "2 * 5 + 1 = 11\n",
        "\n",
        "33 is a multiple of 11\n",
        "\n",
        "\n",
        "is_curzon(10) ➞ False\n",
        "\n",
        "2 ** 10 + 1 = 1025\n",
        "\n",
        "2 * 10 + 1 = 21\n",
        "\n",
        "1025 is not a multiple of 21\n",
        "\n",
        "\n",
        "is_curzon(14) ➞ True\n",
        "\n",
        "2 ** 14 + 1 = 16385\n",
        "\n",
        "2 * 14 + 1 = 29\n",
        "\n",
        "16385 is a multiple of 29\n"
      ],
      "metadata": {
        "id": "WAqkP8W5AM6P"
      }
    },
    {
      "cell_type": "code",
      "source": [
        "def is_curzon(num):\n",
        "\n",
        "  temp_1 = (2**num) + 1\n",
        "  temp_2 = (2*num) + 1\n",
        "\n",
        "  if temp_1 % temp_2 == 0:\n",
        "    return True\n",
        "  else:\n",
        "    return False"
      ],
      "metadata": {
        "id": "ffRs7l_2_xOz"
      },
      "execution_count": 6,
      "outputs": []
    },
    {
      "cell_type": "code",
      "source": [
        "print(is_curzon(5))\n",
        "print(is_curzon(10))\n",
        "print(is_curzon(14))"
      ],
      "metadata": {
        "colab": {
          "base_uri": "https://localhost:8080/"
        },
        "id": "zCT5MtYZ8m16",
        "outputId": "dcabc591-327a-4ea5-9166-0e12390f93f9"
      },
      "execution_count": 9,
      "outputs": [
        {
          "output_type": "stream",
          "name": "stdout",
          "text": [
            "True\n",
            "False\n",
            "True\n"
          ]
        }
      ]
    },
    {
      "cell_type": "markdown",
      "source": [
        "## **Question 4.**\n",
        "\n",
        "Given the side length x find the area of a hexagon.\n",
        " \n",
        "## **Examples**\n",
        "\n",
        "area_of_hexagon(1) ➞ 2.6\n",
        "\n",
        "area_of_hexagon(2) ➞ 10.4\n",
        "\n",
        "area_of_hexagon(3) ➞ 23.4\n"
      ],
      "metadata": {
        "id": "JiNL2L2-9Ltl"
      }
    },
    {
      "cell_type": "code",
      "source": [
        "import math\n",
        "def area_of_hexagon(x):\n",
        "\n",
        "  temp = (3 * math.sqrt(3) * x**2) / 2\n",
        "\n",
        "  return round(temp, 1)"
      ],
      "metadata": {
        "id": "u98Cajgr8yeP"
      },
      "execution_count": 22,
      "outputs": []
    },
    {
      "cell_type": "code",
      "source": [
        "area_of_hexagon(1)"
      ],
      "metadata": {
        "colab": {
          "base_uri": "https://localhost:8080/"
        },
        "id": "DOAx74cK-isu",
        "outputId": "5afa1109-ac9c-4005-a5a4-181aa5851396"
      },
      "execution_count": 23,
      "outputs": [
        {
          "output_type": "execute_result",
          "data": {
            "text/plain": [
              "2.6"
            ]
          },
          "metadata": {},
          "execution_count": 23
        }
      ]
    },
    {
      "cell_type": "code",
      "source": [
        "area_of_hexagon(2)"
      ],
      "metadata": {
        "colab": {
          "base_uri": "https://localhost:8080/"
        },
        "id": "PwnKCvRZ-jz6",
        "outputId": "521ac826-73aa-4e9a-e902-2ebc547b8ecb"
      },
      "execution_count": 24,
      "outputs": [
        {
          "output_type": "execute_result",
          "data": {
            "text/plain": [
              "10.4"
            ]
          },
          "metadata": {},
          "execution_count": 24
        }
      ]
    },
    {
      "cell_type": "code",
      "source": [
        "area_of_hexagon(3)"
      ],
      "metadata": {
        "colab": {
          "base_uri": "https://localhost:8080/"
        },
        "id": "dWbwr6gm_D5A",
        "outputId": "8a398123-b053-4b72-8a34-11fe15a080c4"
      },
      "execution_count": 25,
      "outputs": [
        {
          "output_type": "execute_result",
          "data": {
            "text/plain": [
              "23.4"
            ]
          },
          "metadata": {},
          "execution_count": 25
        }
      ]
    },
    {
      "cell_type": "markdown",
      "source": [
        "## **Question 5**\n",
        "\n",
        "Create a function that returns a base-2 (binary) representation of a base-10 (decimal) string number. To convert is simple: ((2) means base-2 and (10) means base-10) 010101001(2) = 1 + 8 + 32 + 128.\n",
        "Going from right to left, the value of the most right bit is 1, now from that every bit to the left will be x2 the value, value of an 8 bit binary numbers are (256, 128, 64, 32, 16, 8, 4, 2, 1).\n",
        "\n",
        "## **Examples**\n",
        "\n",
        "binary(1) ➞ \"1\"\n",
        "\n",
        "1*1 = 1\n",
        "\n",
        "binary(5) ➞ \"101\"\n",
        "\n",
        "1*1 + 1*4 = 5\n",
        "\n",
        "binary(10) ➞ \"1010\"\n",
        "\n",
        "1*2 + 1*8 = 10\n"
      ],
      "metadata": {
        "id": "X7FwRIgi_RVi"
      }
    },
    {
      "cell_type": "code",
      "source": [
        "def binaryToDecimal(n):\n",
        "    num = n;\n",
        "    dec_value = 0;\n",
        "    base = 1;\n",
        "     \n",
        "    temp = num;\n",
        "    while(temp):\n",
        "        last_digit = temp % 10;\n",
        "        temp = int(temp / 10);\n",
        "         \n",
        "        dec_value += last_digit * base;\n",
        "        base = base * 2;\n",
        "    return dec_value;\n",
        " \n",
        "\n",
        "num = 1010\n",
        "print(binaryToDecimal(num))"
      ],
      "metadata": {
        "colab": {
          "base_uri": "https://localhost:8080/"
        },
        "id": "oCCryNkE_Kss",
        "outputId": "e80a4cca-5adf-45e4-dc36-952514d6a46c"
      },
      "execution_count": 30,
      "outputs": [
        {
          "output_type": "stream",
          "name": "stdout",
          "text": [
            "10\n"
          ]
        }
      ]
    },
    {
      "cell_type": "code",
      "source": [
        ""
      ],
      "metadata": {
        "id": "_s3I6tpmCU5H"
      },
      "execution_count": null,
      "outputs": []
    }
  ]
}