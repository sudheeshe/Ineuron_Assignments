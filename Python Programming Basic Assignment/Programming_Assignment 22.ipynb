{
  "nbformat": 4,
  "nbformat_minor": 0,
  "metadata": {
    "colab": {
      "name": "Programming_Assignment 18.ipynb",
      "provenance": [],
      "collapsed_sections": []
    },
    "kernelspec": {
      "name": "python3",
      "display_name": "Python 3"
    },
    "language_info": {
      "name": "python"
    }
  },
  "cells": [
    {
      "cell_type": "markdown",
      "source": [
        "# **Question1**\n",
        "\n",
        "Create a function that takes three parameters where:\n",
        "\n",
        "•\tx is the start of the range (inclusive).\n",
        "\n",
        "•\ty is the end of the range (inclusive).\n",
        "\n",
        "•\tn is the divisor to be checked against.\n",
        "\n",
        "Return an ordered list with numbers in the range that are divisible by the third parameter n. Return an empty list if there are no numbers that are divisible by n.\n",
        "\n",
        "# **Examples**\n",
        "\n",
        "list_operation(1, 10, 3) ➞ [3, 6, 9]\n",
        "\n",
        "list_operation(7, 9, 2) ➞ [8]\n",
        "\n",
        "list_operation(15, 20, 7) ➞ []\n"
      ],
      "metadata": {
        "id": "SHM4Ga6oV8Cy"
      }
    },
    {
      "cell_type": "code",
      "source": [
        "def list_operation(x,y,n):\n",
        "  temp = []\n",
        "  for i in range(x,y+1):\n",
        "    if i%n == 0:\n",
        "      temp.append(i)\n",
        "  \n",
        "  return temp\n"
      ],
      "metadata": {
        "id": "oX9N87YUWRHa"
      },
      "execution_count": 46,
      "outputs": []
    },
    {
      "cell_type": "code",
      "source": [
        "list_operation(1, 10, 3)"
      ],
      "metadata": {
        "colab": {
          "base_uri": "https://localhost:8080/"
        },
        "id": "dxDSho9OWyl8",
        "outputId": "521f863f-7698-4ea3-aba7-4797c52f9327"
      },
      "execution_count": 47,
      "outputs": [
        {
          "output_type": "execute_result",
          "data": {
            "text/plain": [
              "[3, 6, 9]"
            ]
          },
          "metadata": {},
          "execution_count": 47
        }
      ]
    },
    {
      "cell_type": "code",
      "source": [
        "list_operation(7, 9, 2)"
      ],
      "metadata": {
        "colab": {
          "base_uri": "https://localhost:8080/"
        },
        "id": "yUegWMCFWzOF",
        "outputId": "ac9d39f6-94d2-499a-9dcf-271382d8ed18"
      },
      "execution_count": 48,
      "outputs": [
        {
          "output_type": "execute_result",
          "data": {
            "text/plain": [
              "[8]"
            ]
          },
          "metadata": {},
          "execution_count": 48
        }
      ]
    },
    {
      "cell_type": "code",
      "source": [
        "list_operation(15, 20, 7)"
      ],
      "metadata": {
        "colab": {
          "base_uri": "https://localhost:8080/"
        },
        "id": "3XECq-87W1vu",
        "outputId": "6a445348-084a-4b66-bc8b-c7e927eed6f1"
      },
      "execution_count": 49,
      "outputs": [
        {
          "output_type": "execute_result",
          "data": {
            "text/plain": [
              "[]"
            ]
          },
          "metadata": {},
          "execution_count": 49
        }
      ]
    },
    {
      "cell_type": "markdown",
      "source": [
        "# **Question2**\n",
        "\n",
        "Create a function that takes in two lists and returns True if the second list follows the first list by one element, and False otherwise. In other words, determine if the second list is the first list shifted to the right by 1.\n",
        "\n",
        "# **Examples**\n",
        "\n",
        "simon_says([1, 2], [5, 1]) ➞ True\n",
        "\n",
        "simon_says([1, 2], [5, 5]) ➞ False\n",
        "\n",
        "simon_says([1, 2, 3, 4, 5], [0, 1, 2, 3, 4]) ➞ True\n",
        "\n",
        "simon_says([1, 2, 3, 4, 5], [5, 5, 1, 2, 3]) ➞ False\n",
        "\n",
        "# **Notes**\n",
        "\n",
        "•\tBoth input lists will be of the same length, and will have a minimum length of 2.\n",
        "\n",
        "•\tThe values of the 0-indexed element in the second list and the n-1th indexed element in the first list do not matter.\n"
      ],
      "metadata": {
        "id": "c2yNzCgSW9oN"
      }
    },
    {
      "cell_type": "code",
      "source": [
        ""
      ],
      "metadata": {
        "id": "CCHOaptNW31c"
      },
      "execution_count": null,
      "outputs": []
    },
    {
      "cell_type": "markdown",
      "source": [
        "# **Question3**\n",
        "\n",
        "A group of friends have decided to start a secret society. The name will be the first letter of each of their names, sorted in alphabetical order.\n",
        "Create a function that takes in a list of names and returns the name of the secret society.\n",
        "\n",
        "# **Examples**\n",
        "\n",
        "society_name([\"Adam\", \"Sarah\", \"Malcolm\"]) ➞ \"AMS\"\n",
        "\n",
        "society_name([\"Harry\", \"Newt\", \"Luna\", \"Cho\"]) ➞ \"CHLN\"\n",
        "\n",
        "society_name([\"Phoebe\", \"Chandler\", \"Rachel\", \"Ross\", \"Monica\", \"Joey\"])\n"
      ],
      "metadata": {
        "id": "uSHmwgHJiNGc"
      }
    },
    {
      "cell_type": "code",
      "source": [
        "def society_name(list_):\n",
        "\n",
        "  temp = \"\"\n",
        "  for i in list_:\n",
        "    temp = temp + i[0]\n",
        "  sort = sorted(temp)\n",
        "  return \"\".join(sort)"
      ],
      "metadata": {
        "id": "-_-ajt1eiSfu"
      },
      "execution_count": 64,
      "outputs": []
    },
    {
      "cell_type": "code",
      "source": [
        "society_name([\"Adam\", \"Sarah\", \"Malcolm\"])"
      ],
      "metadata": {
        "colab": {
          "base_uri": "https://localhost:8080/",
          "height": 36
        },
        "id": "XGTNy1SqitaG",
        "outputId": "d0a8eed7-0937-4ff6-b4d4-6598c988aed4"
      },
      "execution_count": 65,
      "outputs": [
        {
          "output_type": "execute_result",
          "data": {
            "text/plain": [
              "'AMS'"
            ],
            "application/vnd.google.colaboratory.intrinsic+json": {
              "type": "string"
            }
          },
          "metadata": {},
          "execution_count": 65
        }
      ]
    },
    {
      "cell_type": "code",
      "source": [
        "society_name([\"Harry\", \"Newt\", \"Luna\", \"Cho\"])"
      ],
      "metadata": {
        "colab": {
          "base_uri": "https://localhost:8080/",
          "height": 36
        },
        "id": "Ms6u6_bait1a",
        "outputId": "3ca19323-347f-4e75-8cf4-9183561b1ee1"
      },
      "execution_count": 66,
      "outputs": [
        {
          "output_type": "execute_result",
          "data": {
            "text/plain": [
              "'CHLN'"
            ],
            "application/vnd.google.colaboratory.intrinsic+json": {
              "type": "string"
            }
          },
          "metadata": {},
          "execution_count": 66
        }
      ]
    },
    {
      "cell_type": "code",
      "source": [
        "society_name([\"Phoebe\", \"Chandler\", \"Rachel\", \"Ross\", \"Monica\", \"Joey\"])"
      ],
      "metadata": {
        "colab": {
          "base_uri": "https://localhost:8080/",
          "height": 36
        },
        "id": "yvZUXpSXkBmz",
        "outputId": "e5a26c1c-d874-4f00-b2cd-7e5df840dd36"
      },
      "execution_count": 67,
      "outputs": [
        {
          "output_type": "execute_result",
          "data": {
            "text/plain": [
              "'CJMPRR'"
            ],
            "application/vnd.google.colaboratory.intrinsic+json": {
              "type": "string"
            }
          },
          "metadata": {},
          "execution_count": 67
        }
      ]
    },
    {
      "cell_type": "markdown",
      "source": [
        "# **Question4**\n",
        "\n",
        "An isogram is a word that has no duplicate letters. Create a function that takes a string and returns either True or False depending on whether or not it's an \"isogram\".\n",
        "\n",
        "# **Examples**\n",
        "\n",
        "is_isogram(\"Algorism\") ➞ True\n",
        "\n",
        "is_isogram(\"PasSword\") ➞ False\n",
        "Not case sensitive.\n",
        "\n",
        "is_isogram(\"Consecutive\") ➞ False\n",
        "\n",
        "# **Notes**\n",
        "\n",
        "•\tIgnore letter case (should not be case sensitive).\n",
        "\n",
        "•\tAll test cases contain valid one word strings.\n"
      ],
      "metadata": {
        "id": "CEbapAhmkI6P"
      }
    },
    {
      "cell_type": "code",
      "source": [
        "def is_isogram(txt):\n",
        "\n",
        "    temp = set(txt)\n",
        "    temp_list = []\n",
        "    \n",
        "    for i in temp:\n",
        "        count = 0\n",
        "        for j in txt:\n",
        "            if count <= 1:\n",
        "                if i == j:\n",
        "                    count += 1\n",
        "                    temp_list.append(count)\n",
        "\n",
        "    if any(i>1for i in temp_list):\n",
        "        print(False)\n",
        "\n",
        "    else:\n",
        "        print(True)"
      ],
      "metadata": {
        "id": "9KLzOeRZkEB8"
      },
      "execution_count": 74,
      "outputs": []
    },
    {
      "cell_type": "code",
      "source": [
        "is_isogram(\"Algorismm\")"
      ],
      "metadata": {
        "colab": {
          "base_uri": "https://localhost:8080/"
        },
        "id": "qvF_hlJ7mXHC",
        "outputId": "8090d95e-abd7-4494-9118-ee72e7fb65c4"
      },
      "execution_count": 75,
      "outputs": [
        {
          "output_type": "stream",
          "name": "stdout",
          "text": [
            "False\n"
          ]
        }
      ]
    },
    {
      "cell_type": "code",
      "source": [
        "is_isogram(\"Password\")"
      ],
      "metadata": {
        "colab": {
          "base_uri": "https://localhost:8080/"
        },
        "id": "vQQDp1WYmZnf",
        "outputId": "d4277870-6cbc-4212-abe3-6fa75a189c4e"
      },
      "execution_count": 77,
      "outputs": [
        {
          "output_type": "stream",
          "name": "stdout",
          "text": [
            "False\n"
          ]
        }
      ]
    },
    {
      "cell_type": "code",
      "source": [
        "is_isogram(\"PasSword\")"
      ],
      "metadata": {
        "colab": {
          "base_uri": "https://localhost:8080/"
        },
        "id": "SWZr6R3Cmdg6",
        "outputId": "1c9f2cb0-ed39-4a02-b187-017cd715006f"
      },
      "execution_count": 78,
      "outputs": [
        {
          "output_type": "stream",
          "name": "stdout",
          "text": [
            "True\n"
          ]
        }
      ]
    },
    {
      "cell_type": "code",
      "source": [
        "is_isogram(\"Consecutive\")"
      ],
      "metadata": {
        "colab": {
          "base_uri": "https://localhost:8080/"
        },
        "id": "By6WuoVyqT0v",
        "outputId": "428aea5d-bb8a-4b5b-dbc7-1a6340f59322"
      },
      "execution_count": 80,
      "outputs": [
        {
          "output_type": "stream",
          "name": "stdout",
          "text": [
            "False\n"
          ]
        }
      ]
    },
    {
      "cell_type": "markdown",
      "source": [
        "# **Question5**\n",
        "\n",
        "Create a function that takes a string and returns True or False, depending on whether the characters are in order or not.\n",
        "\n",
        "# **Examples**\n",
        "\n",
        "is_in_order(\"abc\") ➞ True\n",
        "\n",
        "is_in_order(\"edabit\") ➞ False\n",
        "\n",
        "is_in_order(\"123\") ➞ True\n",
        "\n",
        "is_in_order(\"xyzz\") ➞ True\n",
        "\n",
        "# **Notes**\n",
        "\n",
        "You don't have to handle empty strings.\n"
      ],
      "metadata": {
        "id": "iNGtilrMqYtw"
      }
    },
    {
      "cell_type": "code",
      "source": [
        "def is_in_order(txt):\n",
        "\n",
        "  temp = sorted(txt)\n",
        "  temp = \"\".join(temp)\n",
        "\n",
        "  if temp == txt:\n",
        "    return True\n",
        "  else:\n",
        "    return False"
      ],
      "metadata": {
        "id": "IY2pERxSqV7L"
      },
      "execution_count": 83,
      "outputs": []
    },
    {
      "cell_type": "code",
      "source": [
        "is_in_order(\"abc\")"
      ],
      "metadata": {
        "colab": {
          "base_uri": "https://localhost:8080/"
        },
        "id": "GT_TbEEfq5kL",
        "outputId": "fde9466f-1722-43e1-93ec-271e62a3a546"
      },
      "execution_count": 86,
      "outputs": [
        {
          "output_type": "execute_result",
          "data": {
            "text/plain": [
              "True"
            ]
          },
          "metadata": {},
          "execution_count": 86
        }
      ]
    },
    {
      "cell_type": "code",
      "source": [
        "is_in_order(\"edabit\")"
      ],
      "metadata": {
        "colab": {
          "base_uri": "https://localhost:8080/"
        },
        "id": "sY2HJ0syrLIW",
        "outputId": "3f91db0b-16e8-4fda-d6bb-03ebbe084a43"
      },
      "execution_count": 87,
      "outputs": [
        {
          "output_type": "execute_result",
          "data": {
            "text/plain": [
              "False"
            ]
          },
          "metadata": {},
          "execution_count": 87
        }
      ]
    },
    {
      "cell_type": "code",
      "source": [
        "is_in_order(\"123\")"
      ],
      "metadata": {
        "colab": {
          "base_uri": "https://localhost:8080/"
        },
        "id": "wETcEZ8hrP5q",
        "outputId": "0eb39590-aee7-48b1-dfba-d34601ed22af"
      },
      "execution_count": 88,
      "outputs": [
        {
          "output_type": "execute_result",
          "data": {
            "text/plain": [
              "True"
            ]
          },
          "metadata": {},
          "execution_count": 88
        }
      ]
    },
    {
      "cell_type": "code",
      "source": [
        "is_in_order(\"xyzz\")"
      ],
      "metadata": {
        "colab": {
          "base_uri": "https://localhost:8080/"
        },
        "id": "g85jgNS8rR8W",
        "outputId": "55f094ef-73bb-4d50-af5f-e044b93a95e1"
      },
      "execution_count": 89,
      "outputs": [
        {
          "output_type": "execute_result",
          "data": {
            "text/plain": [
              "True"
            ]
          },
          "metadata": {},
          "execution_count": 89
        }
      ]
    },
    {
      "cell_type": "code",
      "source": [
        ""
      ],
      "metadata": {
        "id": "UemkuLnFrUMI"
      },
      "execution_count": null,
      "outputs": []
    }
  ]
}