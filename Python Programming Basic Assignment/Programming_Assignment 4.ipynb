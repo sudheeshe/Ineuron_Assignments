{
 "cells": [
  {
   "cell_type": "markdown",
   "id": "508a01c4",
   "metadata": {},
   "source": [
    "1.\tWrite a Python Program to Find the Factorial of a Number?"
   ]
  },
  {
   "cell_type": "code",
   "execution_count": 2,
   "id": "9670aa70",
   "metadata": {},
   "outputs": [
    {
     "name": "stdout",
     "output_type": "stream",
     "text": [
      "The factorial of 4 is 24\n"
     ]
    }
   ],
   "source": [
    "def factorial(val):\n",
    "    factorial = 1\n",
    "\n",
    "    if val < 0:\n",
    "        print(\"Sorry, factorial does not exist for negative numbers\")\n",
    "    elif val == 0:\n",
    "        print(\"The factorial of 0 is 1\")\n",
    "    else:\n",
    "        for i in range(1,val + 1):\n",
    "            factorial = factorial*i\n",
    "        print(\"The factorial of\",val,\"is\",factorial)\n",
    "        \n",
    "\n",
    "factorial(4)"
   ]
  },
  {
   "cell_type": "markdown",
   "id": "690f5b02",
   "metadata": {},
   "source": [
    "2.\tWrite a Python Program to Display the multiplication Table?"
   ]
  },
  {
   "cell_type": "code",
   "execution_count": 3,
   "id": "6de4e38c",
   "metadata": {},
   "outputs": [
    {
     "name": "stdout",
     "output_type": "stream",
     "text": [
      "10 x 1 = 10\n",
      "10 x 2 = 20\n",
      "10 x 3 = 30\n",
      "10 x 4 = 40\n",
      "10 x 5 = 50\n",
      "10 x 6 = 60\n",
      "10 x 7 = 70\n",
      "10 x 8 = 80\n",
      "10 x 9 = 90\n",
      "10 x 10 = 100\n"
     ]
    }
   ],
   "source": [
    "def mul_table(val):\n",
    "    \n",
    "    for i in range(1, 11):\n",
    "        print(val, 'x', i, '=', val*i)\n",
    "        \n",
    "mul_table(10)"
   ]
  },
  {
   "cell_type": "code",
   "execution_count": 5,
   "id": "52bd13b1",
   "metadata": {},
   "outputs": [
    {
     "name": "stdout",
     "output_type": "stream",
     "text": [
      "Fibonacci sequence:\n",
      "0\n",
      "1\n",
      "1\n",
      "2\n",
      "3\n"
     ]
    }
   ],
   "source": [
    "def fib_num(val):\n",
    "    # first two terms\n",
    "    n1, n2 = 0, 1\n",
    "    count = 0\n",
    "\n",
    "    # check if the number of terms is valid\n",
    "    if val <= 0:\n",
    "        print(\"Please enter a positive integer\")\n",
    "    # if there is only one term, return n1\n",
    "    elif val == 1:\n",
    "        print(\"Fibonacci sequence upto\",val,\":\")\n",
    "        print(n1)\n",
    "    # generate fibonacci sequence\n",
    "    else:\n",
    "        print(\"Fibonacci sequence:\")\n",
    "        while count < val:\n",
    "            print(n1)\n",
    "            nth = n1 + n2\n",
    "            # update values\n",
    "            n1 = n2\n",
    "            n2 = nth\n",
    "            count += 1\n",
    "            \n",
    "\n",
    "fib_num(5)"
   ]
  },
  {
   "cell_type": "markdown",
   "id": "82124279",
   "metadata": {},
   "source": [
    "4.\tWrite a Python Program to Check Armstrong Number?"
   ]
  },
  {
   "cell_type": "code",
   "execution_count": 9,
   "id": "4292a927",
   "metadata": {},
   "outputs": [
    {
     "name": "stdout",
     "output_type": "stream",
     "text": [
      "500 is not an Armstrong number\n"
     ]
    }
   ],
   "source": [
    "def Armstrong_Number(val):\n",
    "    \n",
    "    sum = 0\n",
    "    temp = val\n",
    "    while temp > 0:\n",
    "        digit = temp % 10\n",
    "        sum += digit ** 3\n",
    "        temp //= 10\n",
    "\n",
    "\n",
    "    if val == sum:\n",
    "        print(val,\"is an Armstrong number\")\n",
    "    else:\n",
    "        print(val,\"is not an Armstrong number\")\n",
    "        \n",
    "\n",
    "Armstrong_Number(500)\n"
   ]
  },
  {
   "cell_type": "markdown",
   "id": "d70ccc5b",
   "metadata": {},
   "source": [
    "5.\tWrite a Python Program to Find Armstrong Number in an Interval?"
   ]
  },
  {
   "cell_type": "code",
   "execution_count": 11,
   "id": "b4cfd19d",
   "metadata": {},
   "outputs": [
    {
     "name": "stdout",
     "output_type": "stream",
     "text": [
      "153\n",
      "370\n",
      "371\n",
      "407\n"
     ]
    }
   ],
   "source": [
    "def Armstrong_num_in_range(min_val, max_val):\n",
    "    \n",
    "    for num in range(min_val, max_val + 1):\n",
    "        order = len(str(num))\n",
    "        sum = 0\n",
    "        temp = num\n",
    "        while temp > 0:\n",
    "            digit = temp % 10\n",
    "            sum += digit ** order\n",
    "            temp //= 10\n",
    "\n",
    "        if num == sum:\n",
    "            print(num)\n",
    "\n",
    "Armstrong_num_in_range(100, 1000)"
   ]
  },
  {
   "cell_type": "markdown",
   "id": "82d15c23",
   "metadata": {},
   "source": [
    "6.\tWrite a Python Program to Find the Sum of Natural Numbers?"
   ]
  },
  {
   "cell_type": "code",
   "execution_count": 15,
   "id": "1f40a688",
   "metadata": {},
   "outputs": [
    {
     "name": "stdout",
     "output_type": "stream",
     "text": [
      "The sum is 210\n"
     ]
    }
   ],
   "source": [
    "def sum_of_natural_nums(val):\n",
    "    \n",
    "    if val < 0:\n",
    "        print(\"Enter a positive number\")\n",
    "    else:\n",
    "        sum = 0\n",
    "        while(val > 0):\n",
    "            sum += val\n",
    "            val -= 1\n",
    "        print(\"The sum is\", sum)\n",
    "\n",
    "sum_of_natural_nums(20)       "
   ]
  },
  {
   "cell_type": "code",
   "execution_count": null,
   "id": "3c285ae3",
   "metadata": {},
   "outputs": [],
   "source": []
  }
 ],
 "metadata": {
  "kernelspec": {
   "display_name": "Python 3 (ipykernel)",
   "language": "python",
   "name": "python3"
  },
  "language_info": {
   "codemirror_mode": {
    "name": "ipython",
    "version": 3
   },
   "file_extension": ".py",
   "mimetype": "text/x-python",
   "name": "python",
   "nbconvert_exporter": "python",
   "pygments_lexer": "ipython3",
   "version": "3.9.7"
  }
 },
 "nbformat": 4,
 "nbformat_minor": 5
}
