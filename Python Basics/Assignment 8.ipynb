{
 "cells": [
  {
   "cell_type": "markdown",
   "id": "d93ac839",
   "metadata": {},
   "source": [
    "### 1. Is the Python Standard Library included with PyInputPlus?"
   ]
  },
  {
   "cell_type": "markdown",
   "id": "c7c1d003",
   "metadata": {},
   "source": [
    "No, PyInputPlus is not available on Python standard library"
   ]
  },
  {
   "cell_type": "markdown",
   "id": "09d83734",
   "metadata": {},
   "source": [
    "### 2. Why is PyInputPlus commonly imported with import pyinputplus as pypi?"
   ]
  },
  {
   "cell_type": "markdown",
   "id": "2b6354df",
   "metadata": {},
   "source": [
    "Its the `pypi` alias name is the commonly used one among the Coders Globally\n",
    "\n",
    "we can use any alias, there is no rule to only use `pypi` as such"
   ]
  },
  {
   "cell_type": "markdown",
   "id": "10a67154",
   "metadata": {},
   "source": [
    "### 3. How do you distinguish between inputInt() and inputFloat()?"
   ]
  },
  {
   "cell_type": "markdown",
   "id": "6239277a",
   "metadata": {},
   "source": [
    "inputInt() only take the Integer data\n",
    "\n",
    "inputFloat() takes both float and Integer and convert integer into flaot"
   ]
  },
  {
   "cell_type": "markdown",
   "id": "32ece6f7",
   "metadata": {},
   "source": [
    "### 4. Using PyInputPlus, how do you ensure that the user enters a whole number between 0 and 99?"
   ]
  },
  {
   "cell_type": "code",
   "execution_count": 5,
   "id": "4373c359",
   "metadata": {},
   "outputs": [
    {
     "name": "stdout",
     "output_type": "stream",
     "text": [
      "Enter an Integer... 100\n",
      "Number must be at maximum 99.\n",
      "Enter an Integer... -1\n",
      "Number must be at minimum 0.\n",
      "Enter an Integer... 2\n",
      "2\n"
     ]
    }
   ],
   "source": [
    "inp = pyip.inputInt(prompt = \"Enter an Integer... \", \n",
    "                    default = 0, min=0,\n",
    "    max=99,)\n",
    "  \n",
    "print(inp)"
   ]
  },
  {
   "cell_type": "markdown",
   "id": "042a1996",
   "metadata": {},
   "source": [
    "### 5. What is transferred to the keyword arguments allowRegexes and blockRegexes?"
   ]
  },
  {
   "cell_type": "markdown",
   "id": "b06cb680",
   "metadata": {},
   "source": [
    "The `allowRegexes` and `blockRegexes` keyword arguments take a list of regular expression strings to determine what the PyInputPlus function will accept or reject as valid input."
   ]
  },
  {
   "cell_type": "markdown",
   "id": "ce19ccf8",
   "metadata": {},
   "source": [
    "### 6. If a blank input is entered three times, what does inputStr(limit=3) do?"
   ]
  },
  {
   "cell_type": "code",
   "execution_count": 9,
   "id": "74a18819",
   "metadata": {},
   "outputs": [
    {
     "name": "stdout",
     "output_type": "stream",
     "text": [
      "Enter an Integer... safa\n",
      "'safa' is not an integer.\n",
      "Enter an Integer... asdfas\n",
      "'asdfas' is not an integer.\n",
      "Enter an Integer... sada\n",
      "'sada' is not an integer.\n",
      "0\n"
     ]
    }
   ],
   "source": [
    "## It will break the code after 3 wrong entries and return the default value\n",
    "\n",
    "inp = pyip.inputInt(prompt = \"Enter an Integer... \", \n",
    "                    default = 0, limit=3)\n",
    "  \n",
    "print(inp)"
   ]
  },
  {
   "cell_type": "markdown",
   "id": "d6cb3260",
   "metadata": {},
   "source": [
    "### 7. If blank input is entered three times, what does inputStr(limit=3, default='hello') do?"
   ]
  },
  {
   "cell_type": "code",
   "execution_count": 10,
   "id": "e3e1d1aa",
   "metadata": {},
   "outputs": [
    {
     "name": "stdout",
     "output_type": "stream",
     "text": [
      "Enter an Integer... \n",
      "Blank values are not allowed.\n",
      "Enter an Integer... \n",
      "Blank values are not allowed.\n",
      "Enter an Integer... \n",
      "Blank values are not allowed.\n",
      "Hello\n"
     ]
    }
   ],
   "source": [
    "inp = pyip.inputInt(prompt = \"Enter an Integer... \", \n",
    "                    default = 'Hello', limit=3)\n",
    "  \n",
    "print(inp)"
   ]
  },
  {
   "cell_type": "code",
   "execution_count": null,
   "id": "0474f584",
   "metadata": {},
   "outputs": [],
   "source": []
  }
 ],
 "metadata": {
  "kernelspec": {
   "display_name": "Python 3 (ipykernel)",
   "language": "python",
   "name": "python3"
  },
  "language_info": {
   "codemirror_mode": {
    "name": "ipython",
    "version": 3
   },
   "file_extension": ".py",
   "mimetype": "text/x-python",
   "name": "python",
   "nbconvert_exporter": "python",
   "pygments_lexer": "ipython3",
   "version": "3.9.7"
  }
 },
 "nbformat": 4,
 "nbformat_minor": 5
}
