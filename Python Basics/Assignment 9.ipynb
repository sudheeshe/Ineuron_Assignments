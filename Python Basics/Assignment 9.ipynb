{
 "cells": [
  {
   "cell_type": "markdown",
   "id": "280b213c",
   "metadata": {},
   "source": [
    "### 1. To what does a relative path refer?"
   ]
  },
  {
   "cell_type": "markdown",
   "id": "fe4e3938",
   "metadata": {},
   "source": [
    "A relative path refers to a location that is relative to a current directory"
   ]
  },
  {
   "cell_type": "markdown",
   "id": "71de8354",
   "metadata": {},
   "source": [
    "### 2. What does an absolute path start with your operating system?"
   ]
  },
  {
   "cell_type": "markdown",
   "id": "0ea68c5e",
   "metadata": {},
   "source": [
    "An absolute path refers to the complete details needed to locate a file or folder, starting from the root element and ending with the other subdirectories."
   ]
  },
  {
   "cell_type": "markdown",
   "id": "da43ef2c",
   "metadata": {},
   "source": [
    "### 3. What do the functions os.getcwd() and os.chdir() do?"
   ]
  },
  {
   "cell_type": "markdown",
   "id": "4155a04c",
   "metadata": {},
   "source": [
    "`os. getcwd()` returns the absolute path of the working directory where Python is currently running as a string str\n",
    "\n",
    "`os.chdir()` method in Python used to change the current working directory to specified path"
   ]
  },
  {
   "cell_type": "markdown",
   "id": "219d47eb",
   "metadata": {},
   "source": [
    "### 4. What are the . and .. folders?"
   ]
  },
  {
   "cell_type": "code",
   "execution_count": null,
   "id": "5f6aa38c",
   "metadata": {},
   "outputs": [],
   "source": []
  },
  {
   "cell_type": "markdown",
   "id": "9284ca6c",
   "metadata": {},
   "source": [
    "### 5. In C:\\bacon\\eggs\\spam.txt, which part is the dir name, and which part is the base name?"
   ]
  },
  {
   "cell_type": "code",
   "execution_count": 8,
   "id": "80789ff4",
   "metadata": {},
   "outputs": [],
   "source": [
    "import os\n",
    "path = \"C:\\bacon\\eggs\\spam.txt\""
   ]
  },
  {
   "cell_type": "code",
   "execution_count": 10,
   "id": "89c3f1a7",
   "metadata": {},
   "outputs": [
    {
     "name": "stdout",
     "output_type": "stream",
     "text": [
      "C:\bacon\\eggs\n"
     ]
    }
   ],
   "source": [
    "dirname = os.path.dirname(path)\n",
    "\n",
    "print(dirname)"
   ]
  },
  {
   "cell_type": "code",
   "execution_count": 11,
   "id": "406ab483",
   "metadata": {},
   "outputs": [
    {
     "name": "stdout",
     "output_type": "stream",
     "text": [
      "spam.txt\n"
     ]
    }
   ],
   "source": [
    "basename = os.path.basename(path)\n",
    " \n",
    "print(basename)"
   ]
  },
  {
   "cell_type": "markdown",
   "id": "55c39502",
   "metadata": {},
   "source": [
    "### 6. What are the three “mode” arguments that can be passed to the open() function?"
   ]
  },
  {
   "cell_type": "markdown",
   "id": "0165551e",
   "metadata": {},
   "source": [
    "1) Read\n",
    "\n",
    "2) Write\n",
    "\n",
    "3) Append"
   ]
  },
  {
   "cell_type": "markdown",
   "id": "634247a1",
   "metadata": {},
   "source": [
    "### 8. How do you tell the difference between read() and readlines()?"
   ]
  },
  {
   "cell_type": "markdown",
   "id": "93cf4266",
   "metadata": {},
   "source": [
    "`read()` reads the file as an individual string, and so allows relatively easy file-wide manipulations\n",
    "\n",
    "`f.readline()` reads a single line of the file, allowing the user to parse a single line without necessarily reading the entire file. "
   ]
  },
  {
   "cell_type": "markdown",
   "id": "6c6e6aee",
   "metadata": {},
   "source": [
    "### 9. What data structure does a shelf value resemble?"
   ]
  },
  {
   "cell_type": "markdown",
   "id": "79a6d710",
   "metadata": {},
   "source": [
    "A shelf value resembles a dictionary value; it has keys and values, along with keys() and values() methods that work similarly to the dictionary methods of the same names."
   ]
  },
  {
   "cell_type": "code",
   "execution_count": null,
   "id": "669e286a",
   "metadata": {},
   "outputs": [],
   "source": []
  }
 ],
 "metadata": {
  "kernelspec": {
   "display_name": "Python 3 (ipykernel)",
   "language": "python",
   "name": "python3"
  },
  "language_info": {
   "codemirror_mode": {
    "name": "ipython",
    "version": 3
   },
   "file_extension": ".py",
   "mimetype": "text/x-python",
   "name": "python",
   "nbconvert_exporter": "python",
   "pygments_lexer": "ipython3",
   "version": "3.9.7"
  }
 },
 "nbformat": 4,
 "nbformat_minor": 5
}
