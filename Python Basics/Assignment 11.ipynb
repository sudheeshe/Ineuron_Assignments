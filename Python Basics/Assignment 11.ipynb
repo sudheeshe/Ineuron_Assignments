{
 "cells": [
  {
   "cell_type": "markdown",
   "id": "1ec1a742",
   "metadata": {},
   "source": [
    "### 1. Create an assert statement that throws an AssertionError if the variable spam is a negative integer."
   ]
  },
  {
   "cell_type": "code",
   "execution_count": 24,
   "id": "28c85f10",
   "metadata": {},
   "outputs": [
    {
     "ename": "AssertionError",
     "evalue": "",
     "output_type": "error",
     "traceback": [
      "\u001b[1;31m---------------------------------------------------------------------------\u001b[0m",
      "\u001b[1;31mAssertionError\u001b[0m                            Traceback (most recent call last)",
      "\u001b[1;32mC:\\Users\\SUDHEE~1\\AppData\\Local\\Temp/ipykernel_2220/4120909466.py\u001b[0m in \u001b[0;36m<module>\u001b[1;34m\u001b[0m\n\u001b[0;32m      1\u001b[0m \u001b[0mspam\u001b[0m \u001b[1;33m=\u001b[0m \u001b[1;33m-\u001b[0m\u001b[1;36m1\u001b[0m\u001b[1;33m\u001b[0m\u001b[1;33m\u001b[0m\u001b[0m\n\u001b[0;32m      2\u001b[0m \u001b[1;33m\u001b[0m\u001b[0m\n\u001b[1;32m----> 3\u001b[1;33m \u001b[1;32massert\u001b[0m \u001b[0mspam\u001b[0m \u001b[1;33m>=\u001b[0m \u001b[1;36m0\u001b[0m\u001b[1;33m\u001b[0m\u001b[1;33m\u001b[0m\u001b[0m\n\u001b[0m",
      "\u001b[1;31mAssertionError\u001b[0m: "
     ]
    }
   ],
   "source": [
    "spam = -1\n",
    "\n",
    "\n",
    "assert spam >= 0"
   ]
  },
  {
   "cell_type": "markdown",
   "id": "828898e5",
   "metadata": {},
   "source": [
    "### 2. Write an assert statement that triggers an AssertionError if the variables eggs and bacon contain strings that are the same as each other, even if their cases are different (that is, 'hello' and 'hello' are considered the same, and 'goodbye' and 'GOODbye' are also considered the same)."
   ]
  },
  {
   "cell_type": "code",
   "execution_count": 35,
   "id": "0768ed2c",
   "metadata": {},
   "outputs": [
    {
     "ename": "AssertionError",
     "evalue": "",
     "output_type": "error",
     "traceback": [
      "\u001b[1;31m---------------------------------------------------------------------------\u001b[0m",
      "\u001b[1;31mAssertionError\u001b[0m                            Traceback (most recent call last)",
      "\u001b[1;32mC:\\Users\\SUDHEE~1\\AppData\\Local\\Temp/ipykernel_2220/3891048049.py\u001b[0m in \u001b[0;36m<module>\u001b[1;34m\u001b[0m\n\u001b[0;32m      3\u001b[0m \u001b[1;33m\u001b[0m\u001b[0m\n\u001b[0;32m      4\u001b[0m \u001b[1;33m\u001b[0m\u001b[0m\n\u001b[1;32m----> 5\u001b[1;33m \u001b[1;32massert\u001b[0m \u001b[0meggs\u001b[0m\u001b[1;33m.\u001b[0m\u001b[0mlower\u001b[0m\u001b[1;33m(\u001b[0m\u001b[1;33m)\u001b[0m \u001b[1;33m!=\u001b[0m \u001b[0mbacon\u001b[0m\u001b[1;33m.\u001b[0m\u001b[0mlower\u001b[0m\u001b[1;33m(\u001b[0m\u001b[1;33m)\u001b[0m\u001b[1;33m\u001b[0m\u001b[1;33m\u001b[0m\u001b[0m\n\u001b[0m",
      "\u001b[1;31mAssertionError\u001b[0m: "
     ]
    }
   ],
   "source": [
    "eggs = \"goodbye\"\n",
    "bacon = 'GOODbye'\n",
    "\n",
    "\n",
    "assert eggs.lower() != bacon.lower()"
   ]
  },
  {
   "cell_type": "markdown",
   "id": "ad9ddaf1",
   "metadata": {},
   "source": [
    "### 3. Create an assert statement that throws an AssertionError every time."
   ]
  },
  {
   "cell_type": "code",
   "execution_count": 36,
   "id": "6082b5e5",
   "metadata": {},
   "outputs": [
    {
     "ename": "AssertionError",
     "evalue": "",
     "output_type": "error",
     "traceback": [
      "\u001b[1;31m---------------------------------------------------------------------------\u001b[0m",
      "\u001b[1;31mAssertionError\u001b[0m                            Traceback (most recent call last)",
      "\u001b[1;32mC:\\Users\\SUDHEE~1\\AppData\\Local\\Temp/ipykernel_2220/3859624662.py\u001b[0m in \u001b[0;36m<module>\u001b[1;34m\u001b[0m\n\u001b[1;32m----> 1\u001b[1;33m \u001b[1;32massert\u001b[0m \u001b[1;36m10\u001b[0m\u001b[1;33m>\u001b[0m\u001b[1;36m10\u001b[0m\u001b[1;33m\u001b[0m\u001b[1;33m\u001b[0m\u001b[0m\n\u001b[0m",
      "\u001b[1;31mAssertionError\u001b[0m: "
     ]
    }
   ],
   "source": [
    "assert 10>10"
   ]
  },
  {
   "cell_type": "markdown",
   "id": "2f5257be",
   "metadata": {},
   "source": [
    "### 4. What are the two lines that must be present in your software in order to call logging.debug()?"
   ]
  },
  {
   "cell_type": "markdown",
   "id": "8e9cf074",
   "metadata": {},
   "source": [
    "import logging\n",
    "\n",
    "logging.basicConfig()"
   ]
  },
  {
   "cell_type": "markdown",
   "id": "9d60a7ea",
   "metadata": {},
   "source": [
    "### 5. What are the two lines that your program must have in order to have logging.debug() send a logging message to a file named programLog.txt?"
   ]
  },
  {
   "cell_type": "markdown",
   "id": "227bef3e",
   "metadata": {},
   "source": [
    "import logging\n",
    "\n",
    "logging.basicConfig(filename='programLog.txt')"
   ]
  },
  {
   "cell_type": "markdown",
   "id": "37a4198e",
   "metadata": {},
   "source": [
    "### 6. What are the five levels of logging?"
   ]
  },
  {
   "cell_type": "markdown",
   "id": "0e86ac52",
   "metadata": {},
   "source": [
    "DEBUG=10.\n",
    "\n",
    "INFO=20.\n",
    "\n",
    "WARN=30.\n",
    "\n",
    "ERROR=40.\n",
    "\n",
    "CRITICAL=50."
   ]
  },
  {
   "cell_type": "markdown",
   "id": "b1562b38",
   "metadata": {},
   "source": [
    "### 7. What line of code would you add to your software to disable all logging messages?"
   ]
  },
  {
   "cell_type": "code",
   "execution_count": 37,
   "id": "3979145f",
   "metadata": {},
   "outputs": [],
   "source": [
    "import logging"
   ]
  },
  {
   "cell_type": "code",
   "execution_count": 38,
   "id": "f5c34262",
   "metadata": {},
   "outputs": [],
   "source": [
    "logger = logging.getLogger()\n",
    "logger.disabled = True"
   ]
  },
  {
   "cell_type": "markdown",
   "id": "cef4b150",
   "metadata": {},
   "source": [
    "### 8.Why is using logging messages better than using print() to display the same message?"
   ]
  },
  {
   "cell_type": "markdown",
   "id": "18855715",
   "metadata": {},
   "source": [
    "The Python logging library lets you:\n",
    "\n",
    "1) Control what’s emitted\n",
    "\n",
    "2) Define what types of information you want to include in your logs\n",
    "\n",
    "3) Configure how it looks when it’s emitted\n",
    "\n",
    "4) Most importantly, set the destination for your logs\n",
    "\n",
    "5) We Can Log messages based on Severity Levels"
   ]
  },
  {
   "cell_type": "markdown",
   "id": "b1949933",
   "metadata": {},
   "source": [
    "### 9. What are the differences between the Step Over, Step In, and Step Out buttons in the debugger?"
   ]
  },
  {
   "cell_type": "markdown",
   "id": "e94bfc90",
   "metadata": {},
   "source": [
    "`Step over` – An action to take in the debugger that will step over a given line. If the line contains a function the function will be executed and the result returned without debugging each line.\n",
    "\n",
    "`Step into` – An action to take in the debugger. If the line does not contain a function it behaves the same as “step over” but if it does the debugger will enter the called function and continue line-by-line debugging there.\n",
    "\n",
    "`Step out` – An action to take in the debugger that returns to the line where the current function was called."
   ]
  },
  {
   "cell_type": "markdown",
   "id": "b4bd9911",
   "metadata": {},
   "source": [
    "### 10.After you click Continue, when will the debugger stop ?"
   ]
  },
  {
   "cell_type": "markdown",
   "id": "b4f5403d",
   "metadata": {},
   "source": [
    "the debugger will stop when it has reached the end of the program or a line with a breakpoint."
   ]
  },
  {
   "cell_type": "markdown",
   "id": "6c023ffd",
   "metadata": {},
   "source": [
    "### 11. What is the concept of a breakpoint?"
   ]
  },
  {
   "cell_type": "markdown",
   "id": "b3ecbca2",
   "metadata": {},
   "source": [
    "The `Python breakpoint()` built-in function is a tool that allows developers to set points in code at which a debugger is called. \n",
    "\n",
    "By default, this function results in an instantiation of Python’s native debugger class. \n",
    "\n",
    "Since 3.7 however, developers can easily override this behavior and use the Python breakpoint() function to execute custom actions."
   ]
  },
  {
   "cell_type": "code",
   "execution_count": null,
   "id": "a9ffb72f",
   "metadata": {},
   "outputs": [],
   "source": []
  }
 ],
 "metadata": {
  "kernelspec": {
   "display_name": "Python 3 (ipykernel)",
   "language": "python",
   "name": "python3"
  },
  "language_info": {
   "codemirror_mode": {
    "name": "ipython",
    "version": 3
   },
   "file_extension": ".py",
   "mimetype": "text/x-python",
   "name": "python",
   "nbconvert_exporter": "python",
   "pygments_lexer": "ipython3",
   "version": "3.9.7"
  }
 },
 "nbformat": 4,
 "nbformat_minor": 5
}
