{
 "cells": [
  {
   "cell_type": "markdown",
   "id": "349ca853",
   "metadata": {},
   "source": [
    "### 1. In what modes should the PdfFileReader() and PdfFileWriter() File objects will be opened?"
   ]
  },
  {
   "cell_type": "markdown",
   "id": "4e859a4d",
   "metadata": {},
   "source": [
    "files will be opened in binary mode., \n",
    "\n",
    "read binary (rb) for PdfFileReader() \n",
    "\n",
    "and write binary (wb) PdfFileWriter()"
   ]
  },
  {
   "cell_type": "markdown",
   "id": "65378a6b",
   "metadata": {},
   "source": [
    "### 2. From a PdfFileReader object, how do you get a Page object for page 5?"
   ]
  },
  {
   "cell_type": "code",
   "execution_count": null,
   "id": "dffa3238",
   "metadata": {},
   "outputs": [],
   "source": [
    "import PyPDF2\n",
    " \n",
    "# creating a pdf file object\n",
    "pdfFileObj = open('example.pdf', 'rb')\n",
    " \n",
    "# creating a pdf reader object\n",
    "pdfReader = PyPDF2.PdfFileReader(pdfFileObj)\n",
    " \n",
    "# printing number of pages in pdf file\n",
    "print(pdfReader.numPages)\n",
    " \n",
    "# creating a page object\n",
    "pageObj = pdfReader.getPage(5)\n",
    " \n",
    "# extracting text from page\n",
    "print(pageObj.extractText())"
   ]
  },
  {
   "cell_type": "markdown",
   "id": "8b6d522f",
   "metadata": {},
   "source": [
    "### 3. What PdfFileReader variable stores the number of pages in the PDF document?"
   ]
  },
  {
   "cell_type": "markdown",
   "id": "75784641",
   "metadata": {},
   "source": [
    "obj.numPages"
   ]
  },
  {
   "cell_type": "markdown",
   "id": "1a640eb3",
   "metadata": {},
   "source": [
    "### 4. If a PdfFileReader object’s PDF is encrypted with the password swordfish, what must you do before you can obtain Page objects from it?"
   ]
  },
  {
   "cell_type": "code",
   "execution_count": null,
   "id": "0920663a",
   "metadata": {},
   "outputs": [],
   "source": [
    "We have to provide the password to decrypt the pdf file\n",
    "\n",
    "file = PyPDF2.PdfFileReader(\"myfile_encrypted.pdf\")\n",
    "  \n",
    "#Store correct password in a variable password.\n",
    "password = \"swordfish\"\n",
    "  \n",
    "#decrypt it with the password\n",
    "file.decrypt(password)\n",
    "\n",
    "# creating a page object\n",
    "pageObj = file.getPage(1)\n",
    " \n",
    "# extracting text from page\n",
    "print(pageObj.extractText())"
   ]
  },
  {
   "cell_type": "markdown",
   "id": "f9c279d4",
   "metadata": {},
   "source": [
    "### 5. What methods do you use to rotate a page?"
   ]
  },
  {
   "cell_type": "code",
   "execution_count": null,
   "id": "baeda132",
   "metadata": {},
   "outputs": [],
   "source": [
    "writer = PyPDF2.PdfFileWriter('example.pdf', 'wb')\n",
    "page = reader.getPage(0)\n",
    "page.rotateCounterClockwise(90)"
   ]
  },
  {
   "cell_type": "markdown",
   "id": "c754d879",
   "metadata": {},
   "source": [
    "### 6. What is the difference between a Run object and a Paragraph object?"
   ]
  },
  {
   "cell_type": "markdown",
   "id": "2b8835eb",
   "metadata": {},
   "source": [
    "Word documents contain formatted text wrapped within three object levels. \n",
    "\n",
    "1) The Lowest level- run objects, \n",
    "\n",
    "2) middle level- paragraph objects and \n",
    "\n",
    "3) highest level- document object."
   ]
  },
  {
   "cell_type": "markdown",
   "id": "60f2a8f9",
   "metadata": {},
   "source": [
    "### 7. How do you obtain a list of Paragraph objects for a Document object that’s stored in a variable named doc?"
   ]
  },
  {
   "cell_type": "code",
   "execution_count": null,
   "id": "c94e79d2",
   "metadata": {},
   "outputs": [],
   "source": [
    "import docx\n",
    "\n",
    "doc = docx.Document('example.docx')\n",
    "\n",
    "for para in doc.paragraphs:\n",
    "    print(para)"
   ]
  },
  {
   "cell_type": "markdown",
   "id": "98cbd472",
   "metadata": {},
   "source": [
    "### 8. What type of object has bold, underline, italic, strike, and outline variables?"
   ]
  },
  {
   "cell_type": "markdown",
   "id": "2dfd1a9e",
   "metadata": {},
   "source": [
    "A Run object has these variables"
   ]
  },
  {
   "cell_type": "markdown",
   "id": "d92e2b85",
   "metadata": {},
   "source": [
    "### 9. What is the difference between False, True, and None for the bold variable?"
   ]
  },
  {
   "cell_type": "markdown",
   "id": "22dee5fe",
   "metadata": {},
   "source": [
    "True always makes the Run object bolded and False makes it always not bolded, no matter what the style's bold setting is. None will make the Run object just use the style's bold setting."
   ]
  },
  {
   "cell_type": "markdown",
   "id": "cbb9c90a",
   "metadata": {},
   "source": [
    "### 10. How do you create a Document object for a new Word document?"
   ]
  },
  {
   "cell_type": "code",
   "execution_count": null,
   "id": "36b190dd",
   "metadata": {},
   "outputs": [],
   "source": [
    "docx.Document()\n",
    "doc.save('example.docx')"
   ]
  },
  {
   "cell_type": "markdown",
   "id": "c565e681",
   "metadata": {},
   "source": [
    "### 11. How do you add a paragraph with the text 'Hello, there!' to a Document object stored in a variable named doc?"
   ]
  },
  {
   "cell_type": "markdown",
   "id": "edd2d432",
   "metadata": {},
   "source": [
    "doc.add_paragraph('Hello there!')"
   ]
  },
  {
   "cell_type": "markdown",
   "id": "8a984537",
   "metadata": {},
   "source": [
    "### 12. What integers represent the levels of headings available in Word documents?"
   ]
  },
  {
   "cell_type": "markdown",
   "id": "05cc5b6c",
   "metadata": {},
   "source": [
    "The integers 0,1,2,3, and 4"
   ]
  },
  {
   "cell_type": "code",
   "execution_count": null,
   "id": "b714585b",
   "metadata": {},
   "outputs": [],
   "source": []
  }
 ],
 "metadata": {
  "kernelspec": {
   "display_name": "Python 3 (ipykernel)",
   "language": "python",
   "name": "python3"
  },
  "language_info": {
   "codemirror_mode": {
    "name": "ipython",
    "version": 3
   },
   "file_extension": ".py",
   "mimetype": "text/x-python",
   "name": "python",
   "nbconvert_exporter": "python",
   "pygments_lexer": "ipython3",
   "version": "3.9.7"
  }
 },
 "nbformat": 4,
 "nbformat_minor": 5
}
