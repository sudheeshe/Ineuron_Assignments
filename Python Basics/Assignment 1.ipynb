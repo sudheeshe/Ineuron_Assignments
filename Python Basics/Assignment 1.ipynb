{
 "cells": [
  {
   "cell_type": "markdown",
   "id": "c50c163a",
   "metadata": {},
   "source": [
    "1. In the below elements which of them are values or an expression? eg:- values can be integer or string and expressions will be mathematical operators.\n",
    "\n",
    "\"*\"\n",
    " \n",
    "'hello'\n",
    "\n",
    "-87.8\n",
    "\n",
    " \"-\"\n",
    " \n",
    "\"/\"\n",
    "\n",
    "\"+\"\n",
    "\n",
    " \"6\"\n"
   ]
  },
  {
   "cell_type": "markdown",
   "id": "77cbe013",
   "metadata": {},
   "source": [
    "Answer:\n",
    "\n",
    "Operators are \"*\", \"/\", \"-\", \"+\"\n",
    "\n",
    "Values are \"hello\", \"-87.8\", \"6\""
   ]
  },
  {
   "cell_type": "code",
   "execution_count": null,
   "id": "8b25367d",
   "metadata": {},
   "outputs": [],
   "source": []
  },
  {
   "cell_type": "markdown",
   "id": "13c64ef0",
   "metadata": {},
   "source": [
    "2. What is the difference between string and variable?"
   ]
  },
  {
   "cell_type": "markdown",
   "id": "d486bc72",
   "metadata": {},
   "source": [
    "Answer:\n",
    "\n",
    "String: is a type of data format representing unicode characters\n",
    "\n",
    "Variables: are container used to store values "
   ]
  },
  {
   "cell_type": "code",
   "execution_count": null,
   "id": "60a0504c",
   "metadata": {},
   "outputs": [],
   "source": []
  },
  {
   "cell_type": "markdown",
   "id": "802090d3",
   "metadata": {},
   "source": [
    "3. Describe three different data types."
   ]
  },
  {
   "cell_type": "markdown",
   "id": "216d2a30",
   "metadata": {},
   "source": [
    " Answer:\n",
    " \n",
    " Text, Numeric, Sequence (list, tuple), Mapping (dict), Set, Boolean, Binary, None"
   ]
  },
  {
   "cell_type": "code",
   "execution_count": null,
   "id": "99b72b6a",
   "metadata": {},
   "outputs": [],
   "source": []
  },
  {
   "cell_type": "markdown",
   "id": "6f0ab506",
   "metadata": {},
   "source": [
    "4. What is an expression made up of? What do all expressions do?"
   ]
  },
  {
   "cell_type": "markdown",
   "id": "9560ef52",
   "metadata": {},
   "source": [
    "Answer:\n",
    "\n",
    "Expressions are made up of operators and operands\n",
    "\n",
    "Expresiions are interpreted to produce some values as the output"
   ]
  },
  {
   "cell_type": "code",
   "execution_count": null,
   "id": "e7bca56c",
   "metadata": {},
   "outputs": [],
   "source": []
  },
  {
   "cell_type": "markdown",
   "id": "03fffd61",
   "metadata": {},
   "source": [
    "5. This assignment statements, like spam = 10. What is the difference between an expression and a statement?"
   ]
  },
  {
   "cell_type": "markdown",
   "id": "dc9af550",
   "metadata": {},
   "source": [
    "“expression”: is a combination of values and functions that are combined and interpreted by the compiler to create a new value, \n",
    "\n",
    "“statement”:  which is just a standalone unit of execution and doesn’t return anything."
   ]
  },
  {
   "cell_type": "code",
   "execution_count": null,
   "id": "b7c47224",
   "metadata": {},
   "outputs": [],
   "source": []
  },
  {
   "cell_type": "markdown",
   "id": "80721f52",
   "metadata": {},
   "source": [
    "6. After running the following code, what does the variable bacon contain?\n",
    "\n",
    "bacon = 22\n",
    "\n",
    "bacon + 1\n"
   ]
  },
  {
   "cell_type": "markdown",
   "id": "285b1046",
   "metadata": {},
   "source": [
    "22"
   ]
  },
  {
   "cell_type": "code",
   "execution_count": null,
   "id": "0d65fbd5",
   "metadata": {},
   "outputs": [],
   "source": []
  },
  {
   "cell_type": "markdown",
   "id": "85e5f0a8",
   "metadata": {},
   "source": [
    "7. What should the values of the following two terms be?\n",
    "\n",
    "'spam' + 'spamspam'\n",
    "\n",
    "'spam' * 3\n"
   ]
  },
  {
   "cell_type": "code",
   "execution_count": 5,
   "id": "bb8605d9",
   "metadata": {},
   "outputs": [
    {
     "data": {
      "text/plain": [
       "'spamspamspam'"
      ]
     },
     "execution_count": 5,
     "metadata": {},
     "output_type": "execute_result"
    }
   ],
   "source": [
    "'spamspamspam'"
   ]
  },
  {
   "cell_type": "code",
   "execution_count": null,
   "id": "7627a2e4",
   "metadata": {},
   "outputs": [],
   "source": []
  },
  {
   "cell_type": "markdown",
   "id": "4ca61c54",
   "metadata": {},
   "source": [
    "8. Why is eggs a valid variable name while 100 is invalid?"
   ]
  },
  {
   "cell_type": "markdown",
   "id": "15dd5485",
   "metadata": {},
   "source": [
    "Rules for Python variables:\n",
    "\n",
    "A variable name must start with a letter or the underscore character\n",
    "\n",
    "A variable name cannot start with a number\n",
    "\n",
    "A variable name can only contain alpha-numeric characters and underscores (A-z, 0-9, and _ )\n",
    "\n",
    "Variable names are case-sensitive (age, Age and AGE are three different variables)"
   ]
  },
  {
   "cell_type": "code",
   "execution_count": null,
   "id": "9bcff791",
   "metadata": {},
   "outputs": [],
   "source": []
  },
  {
   "cell_type": "markdown",
   "id": "6fbaad47",
   "metadata": {},
   "source": [
    "9. What three functions can be used to get the integer, floating-point number, or string version of a value?"
   ]
  },
  {
   "cell_type": "markdown",
   "id": "3befa2a7",
   "metadata": {},
   "source": [
    "str(), int(), float()"
   ]
  },
  {
   "cell_type": "code",
   "execution_count": null,
   "id": "12c5fcc7",
   "metadata": {},
   "outputs": [],
   "source": []
  },
  {
   "cell_type": "markdown",
   "id": "50ab55f1",
   "metadata": {},
   "source": [
    "10. Why does this expression cause an error? How can you fix it?\n",
    "\n",
    "'I have eaten ' + 99 + ' burritos.'\n"
   ]
  },
  {
   "cell_type": "markdown",
   "id": "7ac977bf",
   "metadata": {},
   "source": [
    "its basically a concatinating operation we aredoing, But String type abnd integer data type cannot to concatinate.\n",
    "\n",
    "So we can convert int datat type to str and then concatinate\n"
   ]
  },
  {
   "cell_type": "code",
   "execution_count": 6,
   "id": "b5f790fd",
   "metadata": {},
   "outputs": [
    {
     "data": {
      "text/plain": [
       "'I have eaten 99 burritos.'"
      ]
     },
     "execution_count": 6,
     "metadata": {},
     "output_type": "execute_result"
    }
   ],
   "source": [
    "'I have eaten ' + str(99) + ' burritos.'"
   ]
  },
  {
   "cell_type": "code",
   "execution_count": null,
   "id": "89bd0bba",
   "metadata": {},
   "outputs": [],
   "source": []
  }
 ],
 "metadata": {
  "kernelspec": {
   "display_name": "Python 3 (ipykernel)",
   "language": "python",
   "name": "python3"
  },
  "language_info": {
   "codemirror_mode": {
    "name": "ipython",
    "version": 3
   },
   "file_extension": ".py",
   "mimetype": "text/x-python",
   "name": "python",
   "nbconvert_exporter": "python",
   "pygments_lexer": "ipython3",
   "version": "3.9.7"
  }
 },
 "nbformat": 4,
 "nbformat_minor": 5
}
