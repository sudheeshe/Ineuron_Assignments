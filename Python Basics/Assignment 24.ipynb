{
 "cells": [
  {
   "cell_type": "markdown",
   "id": "c33eed32",
   "metadata": {},
   "source": [
    "### 1. What is the relationship between def statements and lambda expressions ?"
   ]
  },
  {
   "cell_type": "markdown",
   "id": "212b176b",
   "metadata": {},
   "source": [
    "def statements are callable functions once made.\n",
    "\n",
    "but lambda functions are anonymous functions since we dont need to any function name."
   ]
  },
  {
   "cell_type": "markdown",
   "id": "ff83b4e6",
   "metadata": {},
   "source": [
    "### 2. What is the benefit of lambda?"
   ]
  },
  {
   "cell_type": "markdown",
   "id": "07ea117e",
   "metadata": {},
   "source": [
    "it allow you to create small, single-use functions that can save time and space in your code"
   ]
  },
  {
   "cell_type": "markdown",
   "id": "77808004",
   "metadata": {},
   "source": [
    "### 3. Compare and contrast map, filter, and reduce."
   ]
  },
  {
   "cell_type": "markdown",
   "id": "fa25655e",
   "metadata": {},
   "source": [
    "`Map` operation takes a mapping function and a vector of data as arguments and returns a new vector, which is the result of applying the mapping function on each element of the vector independently. The returned value from map() (map object) then can be passed to functions like list() (to create a list), set() (to create a set) and so on.\n",
    "\n",
    "\n",
    "The `filter` function operates on a list and returns a subset of that list after applying the filtering rule.\n",
    "\n",
    "The `reduce` function will transform a given list into a single value by applying a given function continuously to all the elements. It basically keeps operating on pairs of elements until there are no more elements left."
   ]
  },
  {
   "cell_type": "markdown",
   "id": "885b1abe",
   "metadata": {},
   "source": [
    "### 4. What are function annotations, and how are they used?"
   ]
  },
  {
   "cell_type": "markdown",
   "id": "f12cd210",
   "metadata": {},
   "source": [
    "It allows you to add arbitrary metadata to function parameters and return value\n",
    "\n",
    "**Basics of Function Annotations\n",
    "\n",
    "\n",
    "* Function annotations are completely optional both for parameters and return value.\n",
    "\n",
    "* Function annotations provide a way of associating various parts of a function with arbitrary python expressions at compile time.\n",
    "\n",
    "* The PEP-3107 makes no attempt to introduce any kind of standard semantics, even for the built-in types. All this work left to the third-party libraries."
   ]
  },
  {
   "cell_type": "markdown",
   "id": "0af618f3",
   "metadata": {},
   "source": [
    "### 5. What are recursive functions, and how are they used?"
   ]
  },
  {
   "cell_type": "markdown",
   "id": "8b11ef4c",
   "metadata": {},
   "source": [
    "* A recursive function is a function in code that refers to itself for execution. \n",
    "\n",
    "* They allow for more efficient code writing, for instance, in the listing or compiling of sets of numbers, strings or other variables through a single reiterated process.\n",
    "\n",
    "\n",
    "* Recursive functions in code often rely on loop setups, where the initial variable is called on multiple times while being altered by the loop. \n",
    "\n",
    "* Simple examples of a recursive function include the factorial, where an integer is multiplied by itself while being incrementally lowered. \n",
    "\n",
    "* Many other self-referencing functions in a loop could be called recursive functions, for example, where n = n + 1 given an operating range."
   ]
  },
  {
   "cell_type": "markdown",
   "id": "f091d85e",
   "metadata": {},
   "source": [
    "### 6. What are some general design guidelines for coding functions?"
   ]
  },
  {
   "cell_type": "markdown",
   "id": "8dc106ee",
   "metadata": {},
   "source": [
    "* Documentation of a Method\n",
    "* Use of regular and updated comments are valuable to both the coders and users\n",
    "* Naming Conventions\n",
    "* Exception Handling\n",
    "* Use DRY (Don’t Repeat Yourself)"
   ]
  },
  {
   "cell_type": "markdown",
   "id": "096cd730",
   "metadata": {},
   "source": [
    "### 7. Name three or more ways that functions can communicate results to a caller."
   ]
  },
  {
   "cell_type": "code",
   "execution_count": null,
   "id": "cc2afb8d",
   "metadata": {},
   "outputs": [],
   "source": []
  }
 ],
 "metadata": {
  "kernelspec": {
   "display_name": "Python 3 (ipykernel)",
   "language": "python",
   "name": "python3"
  },
  "language_info": {
   "codemirror_mode": {
    "name": "ipython",
    "version": 3
   },
   "file_extension": ".py",
   "mimetype": "text/x-python",
   "name": "python",
   "nbconvert_exporter": "python",
   "pygments_lexer": "ipython3",
   "version": "3.9.7"
  }
 },
 "nbformat": 4,
 "nbformat_minor": 5
}
