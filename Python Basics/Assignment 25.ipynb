{
 "cells": [
  {
   "cell_type": "markdown",
   "id": "147e57e8",
   "metadata": {},
   "source": [
    "### 1) . What is the difference between enclosing a list comprehension in square brackets and parentheses?"
   ]
  },
  {
   "cell_type": "markdown",
   "id": "7917f9b5",
   "metadata": {},
   "source": [
    "[ ] will be list comprehension\n",
    "\n",
    "( ) will be Generator comprehension"
   ]
  },
  {
   "cell_type": "markdown",
   "id": "1fb23d24",
   "metadata": {},
   "source": [
    "### 2) What is the relationship between generators and iterators?"
   ]
  },
  {
   "cell_type": "markdown",
   "id": "adaacd48",
   "metadata": {},
   "source": [
    "Every iterator is not a generator. but Every generator is an iterator."
   ]
  },
  {
   "cell_type": "markdown",
   "id": "bd8bb759",
   "metadata": {},
   "source": [
    "### 3) What are the signs that a function is a generator function?"
   ]
  },
  {
   "cell_type": "markdown",
   "id": "9ded6a61",
   "metadata": {},
   "source": [
    "the function will we using `yield` keyword"
   ]
  },
  {
   "cell_type": "code",
   "execution_count": 1,
   "id": "d307c7f3",
   "metadata": {},
   "outputs": [],
   "source": [
    "def sq_numbers(n):\n",
    "    for i in range(1, n+1):\n",
    "        yield i*i"
   ]
  },
  {
   "cell_type": "markdown",
   "id": "85ed608e",
   "metadata": {},
   "source": [
    "### 4) What is the purpose of a yield statement?"
   ]
  },
  {
   "cell_type": "markdown",
   "id": "323171ec",
   "metadata": {},
   "source": [
    "yield makes the function as a generator\n",
    "\n",
    " The yield statement returns a generator object to the one who calls the function which contains yield, instead of simply returning a value"
   ]
  },
  {
   "cell_type": "markdown",
   "id": "8649a5e8",
   "metadata": {},
   "source": [
    "### 5) What is the relationship between map calls and list comprehensions? Make a comparison and contrast between the two."
   ]
  },
  {
   "cell_type": "markdown",
   "id": "475c9fdb",
   "metadata": {},
   "source": [
    "List Comprehension is a substitute for the lambda function, map(). It follows the form of the mathematical set-builder notation. It provide a concise way to create lists.\n",
    "\n"
   ]
  },
  {
   "cell_type": "markdown",
   "id": "611eaba9",
   "metadata": {},
   "source": [
    "Map VS List Comprehension\n",
    "\n",
    "\n",
    "* List comprehension is more concise and easier to read as compared to map.\n",
    "\n",
    "* List comprehension allows filtering. In map, we have no such facility. For example, to print all even numbers in range of 100, we can write \n",
    "\n",
    "  [n for n in range(100) if n%2 == 0]. There is no alternate for it in map\n",
    "  \n",
    "  \n",
    "\n",
    "* List comprehension are used when a list of results is required as map only returns a map object and does not return any list.\n",
    "\n",
    "* List comprehension is faster than map when we need to evaluate expressions that are too long or complicated to express\n",
    "\n",
    "* Map is faster in case of calling an already defined function (as no lambda is required)."
   ]
  },
  {
   "cell_type": "code",
   "execution_count": null,
   "id": "df9a47a3",
   "metadata": {},
   "outputs": [],
   "source": []
  }
 ],
 "metadata": {
  "kernelspec": {
   "display_name": "Python 3 (ipykernel)",
   "language": "python",
   "name": "python3"
  },
  "language_info": {
   "codemirror_mode": {
    "name": "ipython",
    "version": 3
   },
   "file_extension": ".py",
   "mimetype": "text/x-python",
   "name": "python",
   "nbconvert_exporter": "python",
   "pygments_lexer": "ipython3",
   "version": "3.9.7"
  }
 },
 "nbformat": 4,
 "nbformat_minor": 5
}
