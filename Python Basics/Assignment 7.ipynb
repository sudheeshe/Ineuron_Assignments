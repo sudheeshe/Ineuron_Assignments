{
 "cells": [
  {
   "cell_type": "markdown",
   "id": "4c143824",
   "metadata": {},
   "source": [
    "### 1. What is the name of the feature responsible for generating Regex objects?"
   ]
  },
  {
   "cell_type": "markdown",
   "id": "976ab482",
   "metadata": {},
   "source": [
    "`re.compile()` function returns Regex objects"
   ]
  },
  {
   "cell_type": "markdown",
   "id": "59bc6c1a",
   "metadata": {},
   "source": [
    "### 2. Why do raw strings often appear in Regex objects?"
   ]
  },
  {
   "cell_type": "markdown",
   "id": "8360154e",
   "metadata": {},
   "source": [
    "Raw strings are used so that backslashes do not have to be escaped."
   ]
  },
  {
   "cell_type": "code",
   "execution_count": 7,
   "id": "a75bb491",
   "metadata": {},
   "outputs": [
    {
     "name": "stdout",
     "output_type": "stream",
     "text": [
      "D:\\Ineuron\\Assignments\\Python Basics\n"
     ]
    }
   ],
   "source": [
    "txt = r\"D:\\Ineuron\\Assignments\\Python Basics\"\n",
    "\n",
    "print(txt)\n"
   ]
  },
  {
   "cell_type": "markdown",
   "id": "71ec5d2f",
   "metadata": {},
   "source": [
    "### 3. What is the return value of the search() method?"
   ]
  },
  {
   "cell_type": "markdown",
   "id": "9d9fd347",
   "metadata": {},
   "source": [
    "`re.search()` is returning match object and implies that first match with the index number"
   ]
  },
  {
   "cell_type": "markdown",
   "id": "da5e58ee",
   "metadata": {},
   "source": [
    "### 4. From a Match item, how do you get the actual strings that match the pattern?"
   ]
  },
  {
   "cell_type": "markdown",
   "id": "156184db",
   "metadata": {},
   "source": [
    "`re.search()`\n",
    "\n",
    "The method looks for the first location where the RegEx pattern produces a match with the string.\n",
    "\n",
    "If the search is successful, re.search() returns a match object; if not, it returns None."
   ]
  },
  {
   "cell_type": "markdown",
   "id": "2fa12fd3",
   "metadata": {},
   "source": [
    "### 5. In the regex which created from the r'(\\d\\d\\d)-(\\d\\d\\d-\\d\\d\\d\\d)', what does group zero cover? Group 2? Group 1?"
   ]
  },
  {
   "cell_type": "markdown",
   "id": "58e9576a",
   "metadata": {},
   "source": [
    "Group1 covers 3 digits\n",
    "\n",
    "Group2 covers total 7 digits 3 in the left side and 4 in the right seperated by '-'"
   ]
  },
  {
   "cell_type": "markdown",
   "id": "5be6d4b1",
   "metadata": {},
   "source": [
    "### 6. In standard expression syntax, parentheses and intervals have distinct meanings. How can you tell a regex that you want it to fit real parentheses and periods?"
   ]
  },
  {
   "cell_type": "code",
   "execution_count": null,
   "id": "f221a49d",
   "metadata": {},
   "outputs": [],
   "source": []
  }
 ],
 "metadata": {
  "kernelspec": {
   "display_name": "Python 3 (ipykernel)",
   "language": "python",
   "name": "python3"
  },
  "language_info": {
   "codemirror_mode": {
    "name": "ipython",
    "version": 3
   },
   "file_extension": ".py",
   "mimetype": "text/x-python",
   "name": "python",
   "nbconvert_exporter": "python",
   "pygments_lexer": "ipython3",
   "version": "3.9.7"
  }
 },
 "nbformat": 4,
 "nbformat_minor": 5
}
