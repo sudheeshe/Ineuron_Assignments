{
 "cells": [
  {
   "cell_type": "markdown",
   "id": "7f8d2639",
   "metadata": {},
   "source": [
    "### 1. Set the variable test1 to the string 'This is a test of the emergency text system,' and save test1 to a file named test.txt."
   ]
  },
  {
   "cell_type": "code",
   "execution_count": 1,
   "id": "ce26be0d",
   "metadata": {},
   "outputs": [],
   "source": [
    "test1 = 'This is a test of the emergency text system,'\n",
    "\n",
    "with open('test.txt', 'w') as f:\n",
    "    f.write(test1)\n",
    "    "
   ]
  },
  {
   "cell_type": "markdown",
   "id": "ae482621",
   "metadata": {},
   "source": [
    "### 2. Read the contents of the file test.txt into the variable test2. Is there a difference between test 1 and test 2?"
   ]
  },
  {
   "cell_type": "code",
   "execution_count": 2,
   "id": "2fcf652b",
   "metadata": {},
   "outputs": [],
   "source": [
    "with open('test.txt', 'r') as f:\n",
    "    test2 = f.read()"
   ]
  },
  {
   "cell_type": "code",
   "execution_count": 3,
   "id": "81974571",
   "metadata": {},
   "outputs": [
    {
     "data": {
      "text/plain": [
       "'This is a test of the emergency text system,'"
      ]
     },
     "execution_count": 3,
     "metadata": {},
     "output_type": "execute_result"
    }
   ],
   "source": [
    "test2"
   ]
  },
  {
   "cell_type": "markdown",
   "id": "a995260c",
   "metadata": {},
   "source": [
    "There is no difference between test1 and test2"
   ]
  },
  {
   "cell_type": "markdown",
   "id": "07cd3422",
   "metadata": {},
   "source": [
    "### 3. Create a CSV file called books.csv by using these lines:\n",
    "title,author,year\n",
    "\n",
    "The Weirdstone of Brisingamen,Alan Garner,1960\n",
    "\n",
    "Perdido Street Station,China Miéville,2000\n",
    "\n",
    "Thud!,Terry Pratchett,2005\n",
    "\n",
    "The Spellman Files,Lisa Lutz,2007\n",
    "\n",
    "Small Gods,Terry Pratchett,1992\n"
   ]
  },
  {
   "cell_type": "code",
   "execution_count": 12,
   "id": "dd5458ce",
   "metadata": {},
   "outputs": [],
   "source": [
    "head = [\"title\",\"author\",\"year\"]\n",
    "\n",
    "rows = [[\"The Weirdstone of Brisingamen\",\"Alan Garner\",1960],\n",
    "\n",
    "        [\"Perdido Street Station\",\"China Miéville\",2000],\n",
    "\n",
    "        [\"Thud!\",\"Terry Pratchett\",2005],\n",
    "\n",
    "        [\"The Spellman Files\",\"Lisa Lutz\",2007],\n",
    "\n",
    "        [\"Small Gods\",\"Terry Pratchett\",1992]]"
   ]
  },
  {
   "cell_type": "code",
   "execution_count": 13,
   "id": "6b78f715",
   "metadata": {},
   "outputs": [],
   "source": [
    "import csv\n",
    "\n",
    "with open(\"book.csv\", 'w', encoding = 'utf-8') as f:\n",
    "    \n",
    "    csv_write = csv.writer(f, )\n",
    "    csv_write.writerow(head)\n",
    "    csv_write.writerows(rows)\n",
    "    "
   ]
  },
  {
   "cell_type": "markdown",
   "id": "3ae7a89b",
   "metadata": {},
   "source": [
    "### 4. Use the sqlite3 module to create a SQLite database called books.db, and a table called books with these fields: title (text), author (text), and year (integer)."
   ]
  },
  {
   "cell_type": "code",
   "execution_count": 14,
   "id": "3e0b1e6e",
   "metadata": {},
   "outputs": [],
   "source": [
    "import sqlite3"
   ]
  },
  {
   "cell_type": "code",
   "execution_count": 31,
   "id": "870f21c1",
   "metadata": {},
   "outputs": [
    {
     "data": {
      "text/plain": [
       "<sqlite3.Cursor at 0x246cbf6e420>"
      ]
     },
     "execution_count": 31,
     "metadata": {},
     "output_type": "execute_result"
    }
   ],
   "source": [
    "connection_obj = sqlite3.connect('books.db')\n",
    "cursor_obj = connection_obj.cursor()\n",
    "\n",
    "cursor_obj.execute(\"DROP TABLE IF EXISTS books\")"
   ]
  },
  {
   "cell_type": "code",
   "execution_count": 32,
   "id": "dd4153bb",
   "metadata": {},
   "outputs": [
    {
     "data": {
      "text/plain": [
       "<sqlite3.Cursor at 0x246cbf6e420>"
      ]
     },
     "execution_count": 32,
     "metadata": {},
     "output_type": "execute_result"
    }
   ],
   "source": [
    "cursor_obj.execute('''CREATE TABLE books\n",
    "         (title INT PRIMARY KEY     NOT NULL,\n",
    "         author           TEXT    NOT NULL,\n",
    "         year            INT     NOT NULL);''')"
   ]
  },
  {
   "cell_type": "markdown",
   "id": "499b2f56",
   "metadata": {},
   "source": [
    "### 5. Read books.csv and insert its data into the book table."
   ]
  },
  {
   "cell_type": "code",
   "execution_count": 52,
   "id": "2491032b",
   "metadata": {},
   "outputs": [
    {
     "name": "stdout",
     "output_type": "stream",
     "text": [
      "Records created successfully\n"
     ]
    }
   ],
   "source": [
    "with open('book.csv', 'r') as f:\n",
    "    \n",
    "    connection_obj = sqlite3.connect('books.db')\n",
    "    cursor_obj = connection_obj.cursor()\n",
    "    \n",
    "    cursor_obj.execute(\"INSERT INTO books (title,author,year) VALUES ('The Weirdstone of Brisingamen', 'Alan Garner', 1960)\");\n",
    "\n",
    "    cursor_obj.execute(\"INSERT INTO books (title,author,year) VALUES ('Perdido Street Station', 'China Miéville', 2000)\");\n",
    "\n",
    "    cursor_obj.execute(\"INSERT INTO books (title,author,year) VALUES ('Thud!', 'Terry Pratchett' ,2005)\");\n",
    "    \n",
    "    cursor_obj.execute(\"INSERT INTO books (title,author,year) VALUES ('The Spellman Files', 'Lisa Lutz',2007)\");\n",
    "    \n",
    "    cursor_obj.execute(\"INSERT INTO books (title,author,year) VALUES ('Small Gods', 'Terry Pratchett' ,1992)\");\n",
    "    \n",
    "    connection_obj.commit()\n",
    "\n",
    "print (\"Records created successfully\")\n",
    "cursor_obj.close()"
   ]
  },
  {
   "cell_type": "markdown",
   "id": "8b717c61",
   "metadata": {},
   "source": [
    "### 6. Select and print the title column from the book table in alphabetical order."
   ]
  },
  {
   "cell_type": "code",
   "execution_count": 58,
   "id": "d90cdf92",
   "metadata": {},
   "outputs": [],
   "source": [
    "connection_obj = sqlite3.connect('books.db')\n",
    "cursor_obj = connection_obj.cursor()\n",
    "\n",
    "cursor_obj.execute(\"SELECT title FROM books\");"
   ]
  },
  {
   "cell_type": "code",
   "execution_count": 59,
   "id": "ab9b3739",
   "metadata": {},
   "outputs": [
    {
     "name": "stdout",
     "output_type": "stream",
     "text": [
      "('Perdido Street Station',)\n",
      "('Small Gods',)\n",
      "('The Spellman Files',)\n",
      "('The Weirdstone of Brisingamen',)\n",
      "('Thud!',)\n"
     ]
    }
   ],
   "source": [
    "output = cursor_obj.fetchall()\n",
    "for row in output:\n",
    "  print(row)\n",
    "\n",
    "cursor_obj.close()"
   ]
  },
  {
   "cell_type": "markdown",
   "id": "db73c285",
   "metadata": {},
   "source": [
    "### 7. From the book table, select and print all columns in the order of publication."
   ]
  },
  {
   "cell_type": "code",
   "execution_count": 61,
   "id": "4e7d0b81",
   "metadata": {},
   "outputs": [],
   "source": [
    "connection_obj = sqlite3.connect('books.db')\n",
    "cursor_obj = connection_obj.cursor()\n",
    "\n",
    "cursor_obj.execute(\"SELECT * FROM books ORDER BY year\");"
   ]
  },
  {
   "cell_type": "code",
   "execution_count": 62,
   "id": "7e30a7db",
   "metadata": {},
   "outputs": [
    {
     "name": "stdout",
     "output_type": "stream",
     "text": [
      "('The Weirdstone of Brisingamen', 'Alan Garner', 1960)\n",
      "('Small Gods', 'Terry Pratchett', 1992)\n",
      "('Perdido Street Station', 'China Miéville', 2000)\n",
      "('Thud!', 'Terry Pratchett', 2005)\n",
      "('The Spellman Files', 'Lisa Lutz', 2007)\n"
     ]
    }
   ],
   "source": [
    "output = cursor_obj.fetchall()\n",
    "for row in output:\n",
    "  print(row)\n",
    "\n",
    "cursor_obj.close()"
   ]
  },
  {
   "cell_type": "markdown",
   "id": "9b5a1abe",
   "metadata": {},
   "source": [
    "### 8. Use the sqlalchemy module to connect to the sqlite3 database books.db that you just made in exercise 6."
   ]
  },
  {
   "cell_type": "code",
   "execution_count": null,
   "id": "70092791",
   "metadata": {},
   "outputs": [],
   "source": [
    "import pandas as pd\n",
    "from sqlalchemy import create_engine\n",
    "\n",
    "engine = create_engine('sqlite:///books.db')\n",
    "\n",
    "pd.read_sql('select * from books',engine)"
   ]
  },
  {
   "cell_type": "markdown",
   "id": "28708483",
   "metadata": {},
   "source": [
    "### 9. Install the Redis server and the Python redis library (pip install redis) on your computer. Create a Redis hash called test with the fields count (1) and name ('Fester Bestertester'). Print all the fields for test."
   ]
  },
  {
   "cell_type": "code",
   "execution_count": 81,
   "id": "7aa9a872",
   "metadata": {},
   "outputs": [],
   "source": [
    "#pip install redis"
   ]
  },
  {
   "cell_type": "markdown",
   "id": "55727806",
   "metadata": {},
   "source": [
    "### 10. Increment the count field of test and print it."
   ]
  },
  {
   "cell_type": "code",
   "execution_count": null,
   "id": "6bbf7422",
   "metadata": {},
   "outputs": [],
   "source": []
  }
 ],
 "metadata": {
  "kernelspec": {
   "display_name": "Python 3 (ipykernel)",
   "language": "python",
   "name": "python3"
  },
  "language_info": {
   "codemirror_mode": {
    "name": "ipython",
    "version": 3
   },
   "file_extension": ".py",
   "mimetype": "text/x-python",
   "name": "python",
   "nbconvert_exporter": "python",
   "pygments_lexer": "ipython3",
   "version": "3.9.7"
  }
 },
 "nbformat": 4,
 "nbformat_minor": 5
}
