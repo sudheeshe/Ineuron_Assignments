{
 "cells": [
  {
   "cell_type": "markdown",
   "id": "6047262e",
   "metadata": {},
   "source": [
    "### 1. Make a class called Thing with no contents and print it. Then, create an object called example from this class and also print it. Are the printed values the same or different?"
   ]
  },
  {
   "cell_type": "code",
   "execution_count": 1,
   "id": "b874e9ad",
   "metadata": {},
   "outputs": [],
   "source": [
    "class Thing:\n",
    "    pass"
   ]
  },
  {
   "cell_type": "markdown",
   "id": "35e357cf",
   "metadata": {},
   "source": [
    "No, They print different"
   ]
  },
  {
   "cell_type": "code",
   "execution_count": 4,
   "id": "3ae7b135",
   "metadata": {},
   "outputs": [
    {
     "name": "stdout",
     "output_type": "stream",
     "text": [
      "<class '__main__.Thing'>\n"
     ]
    }
   ],
   "source": [
    "print(Thing)"
   ]
  },
  {
   "cell_type": "code",
   "execution_count": 2,
   "id": "8d1425ce",
   "metadata": {},
   "outputs": [],
   "source": [
    "example = Thing()"
   ]
  },
  {
   "cell_type": "code",
   "execution_count": 3,
   "id": "e2cfa544",
   "metadata": {},
   "outputs": [
    {
     "name": "stdout",
     "output_type": "stream",
     "text": [
      "<__main__.Thing object at 0x0000026A874C2F40>\n"
     ]
    }
   ],
   "source": [
    "print(example)"
   ]
  },
  {
   "cell_type": "markdown",
   "id": "7588e77d",
   "metadata": {},
   "source": [
    "### 2. Create a new class called Thing2 and add the value 'abc' to the letters class attribute. Letters should be printed."
   ]
  },
  {
   "cell_type": "code",
   "execution_count": 5,
   "id": "ba93cf44",
   "metadata": {},
   "outputs": [],
   "source": [
    "class Thing2:\n",
    "    letters = 'abc'"
   ]
  },
  {
   "cell_type": "code",
   "execution_count": 6,
   "id": "4729b972",
   "metadata": {},
   "outputs": [
    {
     "name": "stdout",
     "output_type": "stream",
     "text": [
      "abc\n"
     ]
    }
   ],
   "source": [
    "obj = Thing2.letters\n",
    "print(obj)"
   ]
  },
  {
   "cell_type": "markdown",
   "id": "927b6b6b",
   "metadata": {},
   "source": [
    "### 3. Make yet another class called, of course, Thing3. This time, assign the value 'xyz' to an instance (object) attribute called letters. Print letters. Do you need to make an object from the class to do this?"
   ]
  },
  {
   "cell_type": "markdown",
   "id": "9a8cb830",
   "metadata": {},
   "source": [
    "Not necessarly"
   ]
  },
  {
   "cell_type": "code",
   "execution_count": 9,
   "id": "96aa8c8e",
   "metadata": {},
   "outputs": [],
   "source": [
    "class Thing3:\n",
    "    letters = 'xyz'"
   ]
  },
  {
   "cell_type": "code",
   "execution_count": 10,
   "id": "ef5aa3fd",
   "metadata": {},
   "outputs": [
    {
     "data": {
      "text/plain": [
       "'xyz'"
      ]
     },
     "execution_count": 10,
     "metadata": {},
     "output_type": "execute_result"
    }
   ],
   "source": [
    "Thing3.letters"
   ]
  },
  {
   "cell_type": "markdown",
   "id": "4f8a7b3a",
   "metadata": {},
   "source": [
    "### 4. Create an Element class with the instance attributes name, symbol, and number. Create a class object with the values 'Hydrogen,' 'H,' and 1."
   ]
  },
  {
   "cell_type": "code",
   "execution_count": 14,
   "id": "e13b92dc",
   "metadata": {},
   "outputs": [],
   "source": [
    "class Element:\n",
    "    def __init__(self, name, symbol, number):\n",
    "        self.name = name\n",
    "        self.symbol = symbol\n",
    "        self.number = number"
   ]
  },
  {
   "cell_type": "code",
   "execution_count": 15,
   "id": "93811f0c",
   "metadata": {},
   "outputs": [],
   "source": [
    "obj = Element('Hydrogen', 'H', 1)"
   ]
  },
  {
   "cell_type": "markdown",
   "id": "bf45626a",
   "metadata": {},
   "source": [
    "### 5. Make a dictionary with these keys and values: 'name': 'Hydrogen', 'symbol': 'H', 'number': 1. Then, create an object called hydrogen from class Element using this dictionary."
   ]
  },
  {
   "cell_type": "code",
   "execution_count": 16,
   "id": "df3aeddb",
   "metadata": {},
   "outputs": [],
   "source": [
    "dict_ = {'name': 'Hydrogen', 'symbol': 'H', 'number': 1}"
   ]
  },
  {
   "cell_type": "code",
   "execution_count": 17,
   "id": "be48a786",
   "metadata": {},
   "outputs": [],
   "source": [
    "obj = Element(name = dict_['name'], symbol = dict_['symbol'], number = dict_['number'])"
   ]
  },
  {
   "cell_type": "markdown",
   "id": "1c35cd08",
   "metadata": {},
   "source": [
    "### 6. For the Element class, define a method called dump() that prints the values of the object’s attributes (name, symbol, and number). Create the hydrogen object from this new definition and use dump() to print its attributes."
   ]
  },
  {
   "cell_type": "code",
   "execution_count": 23,
   "id": "1fc6e38f",
   "metadata": {},
   "outputs": [],
   "source": [
    "class Element:\n",
    "    def __init__(self, name, symbol, number):\n",
    "        self.name = name\n",
    "        self.symbol = symbol\n",
    "        self.number = number\n",
    "        \n",
    "    \n",
    "    def dump(self):\n",
    "        print(f\"Name: {self.name}\")\n",
    "        print(f\"Symbol: {self.symbol}\")\n",
    "        print(f\"Number: {self.number}\")"
   ]
  },
  {
   "cell_type": "code",
   "execution_count": 24,
   "id": "2a455b96",
   "metadata": {},
   "outputs": [],
   "source": [
    "hydrogen = Element('Hydrogen', 'H', 1)"
   ]
  },
  {
   "cell_type": "code",
   "execution_count": 25,
   "id": "b834649b",
   "metadata": {},
   "outputs": [
    {
     "name": "stdout",
     "output_type": "stream",
     "text": [
      "Name: Hydrogen\n",
      "Symbol: H\n",
      "Number: 1\n"
     ]
    }
   ],
   "source": [
    "hydrogen.dump()"
   ]
  },
  {
   "cell_type": "markdown",
   "id": "5bd03060",
   "metadata": {},
   "source": [
    "### 7. Call print(hydrogen). In the definition of Element, change the name of method dump to __str__, create a new hydrogen object, and call print(hydrogen) again."
   ]
  },
  {
   "cell_type": "code",
   "execution_count": 26,
   "id": "269654a0",
   "metadata": {},
   "outputs": [
    {
     "name": "stdout",
     "output_type": "stream",
     "text": [
      "<__main__.Element object at 0x0000026A887FB7F0>\n"
     ]
    }
   ],
   "source": [
    "print(hydrogen)"
   ]
  },
  {
   "cell_type": "code",
   "execution_count": 27,
   "id": "1053d36a",
   "metadata": {},
   "outputs": [],
   "source": [
    "class Element:\n",
    "    def __init__(self, name, symbol, number):\n",
    "        self.name = name\n",
    "        self.symbol = symbol\n",
    "        self.number = number\n",
    "        \n",
    "    \n",
    "    def str_(self):\n",
    "        print(f\"Name: {self.name}\")\n",
    "        print(f\"Symbol: {self.symbol}\")\n",
    "        print(f\"Number: {self.number}\")"
   ]
  },
  {
   "cell_type": "code",
   "execution_count": 28,
   "id": "f74099bc",
   "metadata": {},
   "outputs": [
    {
     "name": "stdout",
     "output_type": "stream",
     "text": [
      "<__main__.Element object at 0x0000026A8886CA90>\n"
     ]
    }
   ],
   "source": [
    "hydrogen = Element('Hydrogen', 'H', 1)\n",
    "\n",
    "print(hydrogen)"
   ]
  },
  {
   "cell_type": "markdown",
   "id": "5f9282bc",
   "metadata": {},
   "source": [
    "### 8. Modify Element to make the attributes name, symbol, and number private. Define a getter property for each to return its value."
   ]
  },
  {
   "cell_type": "code",
   "execution_count": 42,
   "id": "22c5c45b",
   "metadata": {},
   "outputs": [],
   "source": [
    "class Element:\n",
    "    def __init__(self, name, symbol, number):\n",
    "        self.name = name\n",
    "        self._symbol = symbol\n",
    "        self.__number = number\n",
    "        "
   ]
  },
  {
   "cell_type": "code",
   "execution_count": 44,
   "id": "05cf6b01",
   "metadata": {},
   "outputs": [
    {
     "data": {
      "text/plain": [
       "'Hydrogen'"
      ]
     },
     "execution_count": 44,
     "metadata": {},
     "output_type": "execute_result"
    }
   ],
   "source": [
    "hydrogen = Element('Hydrogen', 'H', 1)\n",
    "\n",
    "hydrogen.name "
   ]
  },
  {
   "cell_type": "code",
   "execution_count": 45,
   "id": "b451268a",
   "metadata": {},
   "outputs": [
    {
     "data": {
      "text/plain": [
       "'H'"
      ]
     },
     "execution_count": 45,
     "metadata": {},
     "output_type": "execute_result"
    }
   ],
   "source": [
    "hydrogen._symbol"
   ]
  },
  {
   "cell_type": "code",
   "execution_count": 41,
   "id": "2c3f94c4",
   "metadata": {},
   "outputs": [
    {
     "data": {
      "text/plain": [
       "1"
      ]
     },
     "execution_count": 41,
     "metadata": {},
     "output_type": "execute_result"
    }
   ],
   "source": [
    "hydrogen._Element__number"
   ]
  },
  {
   "cell_type": "markdown",
   "id": "19b9cabf",
   "metadata": {},
   "source": [
    "### 9. Define three classes: Bear, Rabbit, and Octothorpe. For each, define only one method: eats(). This should return 'berries' (Bear), 'clover' (Rabbit), or 'campers' (Octothorpe). Create one object from each and print what it eats."
   ]
  },
  {
   "cell_type": "code",
   "execution_count": 54,
   "id": "b32b0bc5",
   "metadata": {},
   "outputs": [],
   "source": [
    "class Bear:\n",
    "    \n",
    "    def eats(self):\n",
    "        print(\"Berries\")\n",
    "        \n",
    "class Rabbit:\n",
    "    \n",
    "    def eats(self):\n",
    "        print(\"clover\")\n",
    "        \n",
    "class Octothorpe:\n",
    "    \n",
    "    def eats(self):\n",
    "        print(\"campers\")"
   ]
  },
  {
   "cell_type": "code",
   "execution_count": 55,
   "id": "fd8eca72",
   "metadata": {},
   "outputs": [],
   "source": [
    "bear = Bear()\n",
    "rabbit = Rabbit()\n",
    "octo = Octothorpe()"
   ]
  },
  {
   "cell_type": "code",
   "execution_count": 56,
   "id": "988049d3",
   "metadata": {},
   "outputs": [
    {
     "name": "stdout",
     "output_type": "stream",
     "text": [
      "Berries\n"
     ]
    }
   ],
   "source": [
    "bear.eats()"
   ]
  },
  {
   "cell_type": "code",
   "execution_count": 58,
   "id": "7786d7e2",
   "metadata": {},
   "outputs": [
    {
     "name": "stdout",
     "output_type": "stream",
     "text": [
      "clover\n"
     ]
    }
   ],
   "source": [
    "rabbit.eats()"
   ]
  },
  {
   "cell_type": "code",
   "execution_count": 59,
   "id": "b88fb730",
   "metadata": {},
   "outputs": [
    {
     "name": "stdout",
     "output_type": "stream",
     "text": [
      "campers\n"
     ]
    }
   ],
   "source": [
    "octo.eats()"
   ]
  },
  {
   "cell_type": "markdown",
   "id": "bcbd454d",
   "metadata": {},
   "source": [
    "### 10. Define these classes: Laser, Claw, and SmartPhone. Each has only one method: does(). This returns 'disintegrate' (Laser), 'crush' (Claw), or 'ring' (SmartPhone). Then, define the class Robot that has one instance (object) of each of these. Define a does() method for the Robot that prints what its component objects do."
   ]
  },
  {
   "cell_type": "code",
   "execution_count": 60,
   "id": "8f343b98",
   "metadata": {},
   "outputs": [],
   "source": [
    "class Laser:\n",
    "    \n",
    "    def does(self):\n",
    "        print(\"disintegrate\")\n",
    "\n",
    "class Claw:\n",
    "    def does(self):\n",
    "        print(\"crush\")\n",
    "\n",
    "\n",
    "class SmartPhone:\n",
    "    def does(self):\n",
    "        print(\"ring\")"
   ]
  },
  {
   "cell_type": "code",
   "execution_count": 63,
   "id": "8b17aac6",
   "metadata": {},
   "outputs": [],
   "source": [
    "class Robot:\n",
    "    \n",
    "    def __init__(self):\n",
    "        self.obj1 = Laser()\n",
    "        self.obj2 = Claw()\n",
    "        self.obj3 = SmartPhone()\n",
    "        \n",
    "    def does(self):\n",
    "        self.obj1.does()\n",
    "        self.obj2.does()\n",
    "        self.obj3.does()"
   ]
  },
  {
   "cell_type": "code",
   "execution_count": 64,
   "id": "10beaff7",
   "metadata": {},
   "outputs": [],
   "source": [
    "robo = Robot()"
   ]
  },
  {
   "cell_type": "code",
   "execution_count": 65,
   "id": "c419260c",
   "metadata": {},
   "outputs": [
    {
     "name": "stdout",
     "output_type": "stream",
     "text": [
      "disintegrate\n",
      "crush\n",
      "ring\n"
     ]
    }
   ],
   "source": [
    "robo.does()"
   ]
  },
  {
   "cell_type": "code",
   "execution_count": null,
   "id": "80c8d82e",
   "metadata": {},
   "outputs": [],
   "source": []
  }
 ],
 "metadata": {
  "kernelspec": {
   "display_name": "Python 3 (ipykernel)",
   "language": "python",
   "name": "python3"
  },
  "language_info": {
   "codemirror_mode": {
    "name": "ipython",
    "version": 3
   },
   "file_extension": ".py",
   "mimetype": "text/x-python",
   "name": "python",
   "nbconvert_exporter": "python",
   "pygments_lexer": "ipython3",
   "version": "3.9.7"
  }
 },
 "nbformat": 4,
 "nbformat_minor": 5
}
