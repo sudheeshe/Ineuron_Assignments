{
 "cells": [
  {
   "cell_type": "markdown",
   "id": "ace6b35c",
   "metadata": {},
   "source": [
    "## 1. Why are functions advantageous to have in your programs?"
   ]
  },
  {
   "cell_type": "markdown",
   "id": "9f5867e6",
   "metadata": {},
   "source": [
    "1) Reusable Code \n",
    "\n",
    "2) Easy to debug\n",
    "\n",
    "3) Readability"
   ]
  },
  {
   "cell_type": "code",
   "execution_count": null,
   "id": "ffe105b7",
   "metadata": {},
   "outputs": [],
   "source": []
  },
  {
   "cell_type": "markdown",
   "id": "47fa56c7",
   "metadata": {},
   "source": [
    "## 2. When does the code in a function run: when it's specified or when it's called?"
   ]
  },
  {
   "cell_type": "markdown",
   "id": "5703a057",
   "metadata": {},
   "source": [
    "Function runs only when its called"
   ]
  },
  {
   "cell_type": "code",
   "execution_count": null,
   "id": "56ac74e1",
   "metadata": {},
   "outputs": [],
   "source": []
  },
  {
   "cell_type": "markdown",
   "id": "1de9264b",
   "metadata": {},
   "source": [
    "## 3. What statement creates a function?"
   ]
  },
  {
   "cell_type": "markdown",
   "id": "577398e2",
   "metadata": {},
   "source": [
    " def followed by the function name and parentheses ( ( ) )"
   ]
  },
  {
   "cell_type": "code",
   "execution_count": null,
   "id": "d0ffefb0",
   "metadata": {},
   "outputs": [],
   "source": []
  },
  {
   "cell_type": "markdown",
   "id": "2f3f778d",
   "metadata": {},
   "source": [
    "## 4. What is the difference between a function and a function call?"
   ]
  },
  {
   "cell_type": "markdown",
   "id": "5b0a3735",
   "metadata": {},
   "source": [
    "A `function` is a block of code that does a particular operation and returns a result.\n",
    "\n",
    "A `function call` is the code used to pass control to a function."
   ]
  },
  {
   "cell_type": "code",
   "execution_count": null,
   "id": "f1d87167",
   "metadata": {},
   "outputs": [],
   "source": []
  },
  {
   "cell_type": "markdown",
   "id": "d6fa285f",
   "metadata": {},
   "source": [
    "## 5. How many global scopes are there in a Python program? How many local scopes?"
   ]
  },
  {
   "cell_type": "code",
   "execution_count": null,
   "id": "924a4015",
   "metadata": {},
   "outputs": [],
   "source": []
  },
  {
   "cell_type": "markdown",
   "id": "f2d16b09",
   "metadata": {},
   "source": [
    "## 6. What happens to variables in a local scope when the function call returns?"
   ]
  },
  {
   "cell_type": "markdown",
   "id": "bfd67eea",
   "metadata": {},
   "source": [
    "A local variable retains its value until the next time the function is called\n",
    "\n",
    "A local variable becomes undefined after the function call completes"
   ]
  },
  {
   "cell_type": "code",
   "execution_count": null,
   "id": "3d42c07e",
   "metadata": {},
   "outputs": [],
   "source": []
  },
  {
   "cell_type": "markdown",
   "id": "2140d93c",
   "metadata": {},
   "source": [
    "## 7. What is the concept of a return value? Is it possible to have a return value in an expression?"
   ]
  },
  {
   "cell_type": "markdown",
   "id": "cb75a6ad",
   "metadata": {},
   "source": [
    "A return is a value that a function returns to the calling script or function when it completes its task. A return value can be any one of the four variable types: handle, integer, object, or string. The type of value your function returns depends largely on the task it performs.\n",
    "\n",
    "\n",
    "we can use return value in an expression\n",
    "\n",
    "eg:"
   ]
  },
  {
   "cell_type": "code",
   "execution_count": 1,
   "id": "7dac6aa0",
   "metadata": {},
   "outputs": [
    {
     "data": {
      "text/plain": [
       "16"
      ]
     },
     "execution_count": 1,
     "metadata": {},
     "output_type": "execute_result"
    }
   ],
   "source": [
    "def sum_(a,b):\n",
    "    return a+b\n",
    "\n",
    "sum_(2,4) + 10"
   ]
  },
  {
   "cell_type": "code",
   "execution_count": null,
   "id": "d2fb45ce",
   "metadata": {},
   "outputs": [],
   "source": []
  },
  {
   "cell_type": "markdown",
   "id": "59e9f33c",
   "metadata": {},
   "source": [
    "## 8. If a function does not have a return statement, what is the return value of a call to that function?"
   ]
  },
  {
   "cell_type": "markdown",
   "id": "a530f3de",
   "metadata": {},
   "source": [
    "it will be None"
   ]
  },
  {
   "cell_type": "code",
   "execution_count": null,
   "id": "c568c1d1",
   "metadata": {},
   "outputs": [],
   "source": []
  },
  {
   "cell_type": "markdown",
   "id": "5af02549",
   "metadata": {},
   "source": [
    "## 9. How do you make a function variable refer to the global variable?"
   ]
  },
  {
   "cell_type": "markdown",
   "id": "ffdcec1e",
   "metadata": {},
   "source": [
    "There is two ways \n",
    "\n",
    "1) To access a global variable inside a function there is no need to use global keyword.\n",
    "\n"
   ]
  },
  {
   "cell_type": "code",
   "execution_count": 5,
   "id": "e1ea758c",
   "metadata": {},
   "outputs": [
    {
     "name": "stdout",
     "output_type": "stream",
     "text": [
      "25\n"
     ]
    }
   ],
   "source": [
    "a = 15\n",
    "b = 10\n",
    "  \n",
    "def add():\n",
    "    c = a + b\n",
    "    print(c)\n",
    "\n",
    "add()"
   ]
  },
  {
   "cell_type": "markdown",
   "id": "e1c72c85",
   "metadata": {},
   "source": [
    "2) If we need to assign a new value to a global variable then we can do that by declaring the variable as global."
   ]
  },
  {
   "cell_type": "code",
   "execution_count": 3,
   "id": "d4da889d",
   "metadata": {},
   "outputs": [
    {
     "name": "stdout",
     "output_type": "stream",
     "text": [
      "Value of x inside a function : 20\n",
      "Value of x outside a function : 20\n"
     ]
    }
   ],
   "source": [
    "x = 15\n",
    "def change():\n",
    "  \n",
    "    global x\n",
    "  \n",
    "    x = x + 5 \n",
    "    \n",
    "    print(\"Value of x inside a function :\", x)\n",
    "\n",
    "change()\n",
    "print(\"Value of x outside a function :\", x)"
   ]
  },
  {
   "cell_type": "code",
   "execution_count": null,
   "id": "1eb2c2af",
   "metadata": {},
   "outputs": [],
   "source": []
  },
  {
   "cell_type": "markdown",
   "id": "48030b9b",
   "metadata": {},
   "source": [
    "## 10. What is the data type of None?"
   ]
  },
  {
   "cell_type": "markdown",
   "id": "a38f2893",
   "metadata": {},
   "source": [
    "The None keyword is used to define a null value, or no value at all. \n",
    "\n",
    "None is not the same as 0, False, or an empty string. \n"
   ]
  },
  {
   "cell_type": "code",
   "execution_count": null,
   "id": "7aca5953",
   "metadata": {},
   "outputs": [],
   "source": []
  },
  {
   "cell_type": "markdown",
   "id": "0fa958c2",
   "metadata": {},
   "source": [
    "## 11. What does the sentence import areallyourpetsnamederic do?"
   ]
  },
  {
   "cell_type": "markdown",
   "id": "756912b8",
   "metadata": {},
   "source": [
    "it imports the module named areallyourpetsnamederic,\n",
    "\n",
    "and we can create an object with the module and start use the methods the module which it can offer"
   ]
  },
  {
   "cell_type": "code",
   "execution_count": null,
   "id": "a6479fe8",
   "metadata": {},
   "outputs": [],
   "source": []
  },
  {
   "cell_type": "markdown",
   "id": "bf4d092f",
   "metadata": {},
   "source": [
    "## 12. If you had a bacon() feature in a spam module, what would you call it after importing spam?"
   ]
  },
  {
   "cell_type": "markdown",
   "id": "925d9923",
   "metadata": {},
   "source": [
    "obj= spam()\n",
    "\n",
    "obj.bacon()"
   ]
  },
  {
   "cell_type": "code",
   "execution_count": null,
   "id": "6c6f0382",
   "metadata": {},
   "outputs": [],
   "source": []
  },
  {
   "cell_type": "markdown",
   "id": "bf009305",
   "metadata": {},
   "source": [
    "## 13. What can you do to save a programme from crashing if it encounters an error?"
   ]
  },
  {
   "cell_type": "markdown",
   "id": "b6ba57f1",
   "metadata": {},
   "source": [
    "we can use `try` and `expect`\n",
    "\n",
    "The `try` block lets you test a block of code for errors.\n",
    "\n",
    "The `except` block lets you handle the error.\n",
    "\n",
    "The `else` block lets you execute code when there is no error.\n",
    "\n",
    "The `finally` block lets you execute code, regardless of the result of the try- and except blocks."
   ]
  },
  {
   "cell_type": "code",
   "execution_count": null,
   "id": "2f7cd6a9",
   "metadata": {},
   "outputs": [],
   "source": []
  },
  {
   "cell_type": "markdown",
   "id": "c66a2aac",
   "metadata": {},
   "source": [
    "## 14. What is the purpose of the try clause? What is the purpose of the except clause?"
   ]
  },
  {
   "cell_type": "markdown",
   "id": "44751f15",
   "metadata": {},
   "source": [
    "The `try` block lets you test a block of code for errors.\n",
    "\n",
    "The `except` block lets you handle the error."
   ]
  },
  {
   "cell_type": "code",
   "execution_count": null,
   "id": "4923eff9",
   "metadata": {},
   "outputs": [],
   "source": []
  }
 ],
 "metadata": {
  "kernelspec": {
   "display_name": "Python 3 (ipykernel)",
   "language": "python",
   "name": "python3"
  },
  "language_info": {
   "codemirror_mode": {
    "name": "ipython",
    "version": 3
   },
   "file_extension": ".py",
   "mimetype": "text/x-python",
   "name": "python",
   "nbconvert_exporter": "python",
   "pygments_lexer": "ipython3",
   "version": "3.9.7"
  }
 },
 "nbformat": 4,
 "nbformat_minor": 5
}
