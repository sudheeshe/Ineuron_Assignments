{
 "cells": [
  {
   "cell_type": "markdown",
   "id": "08bc3843",
   "metadata": {},
   "source": [
    "### 1. What is the result of the code, and why?\n",
    "def func(a, b=6, c=8):\n",
    "\n",
    "print(a, b, c)\n",
    "\n",
    "func(1, 2)\n"
   ]
  },
  {
   "cell_type": "code",
   "execution_count": 2,
   "id": "61ee86f5",
   "metadata": {},
   "outputs": [
    {
     "name": "stdout",
     "output_type": "stream",
     "text": [
      "1 2 8\n"
     ]
    }
   ],
   "source": [
    "def func(a, b=6, c=8):\n",
    "    print(a, b, c)\n",
    "\n",
    "func(1, 2)\n",
    "\n",
    "\n",
    "# a,b,c are the parameters to the func() function, b and c have default values.\n",
    "# Even if we didn't give any value to b and c the default will be assigned\n",
    "# value 6 to parameter 'b' is over written by '2' since we explictly given value to b"
   ]
  },
  {
   "cell_type": "markdown",
   "id": "ebd0b4de",
   "metadata": {},
   "source": [
    "### 2. What is the result of this code, and why?\n",
    "\n",
    "def func(a, b, c=5):\n",
    "\n",
    "print(a, b, c)\n",
    "\n",
    "func(1, c=3, b=2)\n"
   ]
  },
  {
   "cell_type": "code",
   "execution_count": 4,
   "id": "e5d809bb",
   "metadata": {},
   "outputs": [
    {
     "name": "stdout",
     "output_type": "stream",
     "text": [
      "1 2 3\n"
     ]
    }
   ],
   "source": [
    "def func(a, b, c=5):\n",
    "    print(a, b, c)\n",
    "\n",
    "func(1, c=3, b=2)\n",
    "\n",
    "# the oder of parameter doesn't matter if we are using key and value"
   ]
  },
  {
   "cell_type": "markdown",
   "id": "e11df6f3",
   "metadata": {},
   "source": [
    "### 3. How about this code: what is its result, and why?\n",
    "\n",
    "def func(a, *pargs):\n",
    "\n",
    "print(a, pargs)\n",
    "\n",
    "func(1, 2, 3)\n"
   ]
  },
  {
   "cell_type": "code",
   "execution_count": 6,
   "id": "db5e4b23",
   "metadata": {},
   "outputs": [
    {
     "name": "stdout",
     "output_type": "stream",
     "text": [
      "1 (2, 3)\n"
     ]
    }
   ],
   "source": [
    "def func(a, *pargs):\n",
    "    print(a, pargs)\n",
    "\n",
    "func(1, 2, 3)\n",
    "\n",
    "## by using *args we can pass n number of argumets to a fuction without explicitly declaring in the function"
   ]
  },
  {
   "cell_type": "markdown",
   "id": "20217beb",
   "metadata": {},
   "source": [
    "### 4. What does this code print, and why?\n",
    "\n",
    "def func(a, **kargs):\n",
    "    \n",
    "print(a, kargs)\n",
    "\n",
    "func(a=1, c=3, b=2)\n"
   ]
  },
  {
   "cell_type": "code",
   "execution_count": 9,
   "id": "1340127c",
   "metadata": {},
   "outputs": [
    {
     "name": "stdout",
     "output_type": "stream",
     "text": [
      "1 {'c': 3, 'b': 2}\n"
     ]
    }
   ],
   "source": [
    "def func(a, **kargs):\n",
    "    print(a, kargs)\n",
    "    \n",
    "func(a=1, c=3, b=2)\n",
    "\n",
    "## by using *kwargs we can pass n number of key and value argumets to a fuction without explicitly declaring in the function"
   ]
  },
  {
   "cell_type": "markdown",
   "id": "440bf642",
   "metadata": {},
   "source": [
    "### 5. What gets printed by this, and explain?\n",
    "def func(a, b, c=8, d=5): \n",
    "\n",
    "print(a, b, c, d)\n",
    "\n",
    "func(1, *(5, 6))\n"
   ]
  },
  {
   "cell_type": "code",
   "execution_count": 18,
   "id": "b7648250",
   "metadata": {},
   "outputs": [
    {
     "name": "stdout",
     "output_type": "stream",
     "text": [
      "1 5 6 5\n"
     ]
    }
   ],
   "source": [
    "\n",
    "def func(a, b, c=8, d=5): \n",
    "    print(a, b, c, d)\n",
    "\n",
    "func(1, *(5, 6))\n",
    "\n",
    "# the * idiom is to unpack argument tuple when calling a function and assign to parameters"
   ]
  },
  {
   "cell_type": "markdown",
   "id": "15c4f18c",
   "metadata": {},
   "source": [
    "### 6. what is the result of this, and explain?\n",
    "\n",
    "def func(a, b, c): \n",
    "a = 2; b[0] = 'x'; c['a'] = 'y'\n",
    "\n",
    "l=1; m=[1]; n={'a':0}\n",
    "\n",
    "func(l, m, n)\n",
    "\n",
    "l, m, n\n"
   ]
  },
  {
   "cell_type": "code",
   "execution_count": 20,
   "id": "e0cd571f",
   "metadata": {},
   "outputs": [
    {
     "data": {
      "text/plain": [
       "(1, ['x'], {'a': 'y'})"
      ]
     },
     "execution_count": 20,
     "metadata": {},
     "output_type": "execute_result"
    }
   ],
   "source": [
    "def func(a, b, c): \n",
    "    a = 2; \n",
    "    b[0] = 'x'; \n",
    "    c['a'] = 'y'\n",
    "    \n",
    "l=1; m=[1]; n={'a':0}\n",
    "    \n",
    "func(l, m, n)\n",
    "\n",
    "l, m, n\n",
    "\n",
    "\n",
    "# The arguments a , b, c are passed as int list, and dict  using l,mn variables respectively\n",
    "\n",
    "# the values are modified using the func()"
   ]
  },
  {
   "cell_type": "code",
   "execution_count": null,
   "id": "c61665a8",
   "metadata": {},
   "outputs": [],
   "source": []
  }
 ],
 "metadata": {
  "kernelspec": {
   "display_name": "Python 3 (ipykernel)",
   "language": "python",
   "name": "python3"
  },
  "language_info": {
   "codemirror_mode": {
    "name": "ipython",
    "version": 3
   },
   "file_extension": ".py",
   "mimetype": "text/x-python",
   "name": "python",
   "nbconvert_exporter": "python",
   "pygments_lexer": "ipython3",
   "version": "3.9.7"
  }
 },
 "nbformat": 4,
 "nbformat_minor": 5
}
