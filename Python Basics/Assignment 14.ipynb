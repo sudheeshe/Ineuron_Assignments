{
 "cells": [
  {
   "cell_type": "markdown",
   "id": "9d83fcb9",
   "metadata": {},
   "source": [
    "### 1. What does RGBA stand for?"
   ]
  },
  {
   "cell_type": "markdown",
   "id": "2b489ab7",
   "metadata": {},
   "source": [
    "RGBA(Red-Green-Blue-Alpha)\n",
    "\n",
    "The RGB color model is extended in this specification to include “alpha” to allow specification of the opacity of a color."
   ]
  },
  {
   "cell_type": "markdown",
   "id": "f1b64f68",
   "metadata": {},
   "source": [
    "### 2. From the Pillow module, how do you get the RGBA value of any images?"
   ]
  },
  {
   "cell_type": "code",
   "execution_count": null,
   "id": "705f0828",
   "metadata": {},
   "outputs": [],
   "source": [
    "filename = \"sample.jpg\"\n",
    "img = Image.open(filename)\n",
    "\n",
    "colors = img.getpixel((320,240))\n",
    "print(colors)"
   ]
  },
  {
   "cell_type": "markdown",
   "id": "c9b7ecb1",
   "metadata": {},
   "source": [
    "### 3. What is a box tuple, and how does it work?"
   ]
  },
  {
   "cell_type": "markdown",
   "id": "c029db09",
   "metadata": {},
   "source": [
    "`box tuple` : a tuple of four integer coordinates that represent a rectangular region in an image. The four integers are, in order, as follows:\n",
    "\n",
    "`Left` The x-coordinate of the leftmost edge of the box.\n",
    "\n",
    "`Top` The y-coordinate of the top edge of the box.\n",
    "\n",
    "`Right` The x-coordinate of one pixel to the right of the rightmost edge of the box. This integer must be greater than the left integer.\n",
    "\n",
    "`Bottom` The y-coordinate of one pixel lower than the bottom edge of the box. This integer must be greater than the top integer."
   ]
  },
  {
   "cell_type": "markdown",
   "id": "c7cf11d4",
   "metadata": {},
   "source": [
    "### 4. Use your image and load in notebook then, How can you find out the width and height of an Image object?"
   ]
  },
  {
   "cell_type": "code",
   "execution_count": null,
   "id": "79e54310",
   "metadata": {},
   "outputs": [],
   "source": [
    "image = PIL.Image.open(\"sample.png\")\n",
    "width, height = image.size\n",
    "\n",
    "print(width, height)"
   ]
  },
  {
   "cell_type": "markdown",
   "id": "525fc89c",
   "metadata": {},
   "source": [
    "### 5. What method would you call to get Image object for a 100×100 image, excluding the lower-left quarter of it?"
   ]
  },
  {
   "cell_type": "code",
   "execution_count": null,
   "id": "956b850a",
   "metadata": {},
   "outputs": [],
   "source": [
    "from PIL import Image\n",
    "import numpy as np      \n",
    "  \n",
    "img = Image.open('x.png').convert('RGB')\n",
    "  \n",
    "img_arr = np.array(img)\n",
    "  \n",
    "# Turning the pixel values of the 400x400 pixels to black \n",
    "img_arr[0 : 50, 0 : 50] = (0, 0, 0)\n",
    "  \n",
    "# Creating an image out of the previously modified array\n",
    "img = Image.fromarray(img_arr)\n",
    "  \n",
    "# Displaying the image\n",
    "img.show()"
   ]
  },
  {
   "cell_type": "markdown",
   "id": "e0aaa49c",
   "metadata": {},
   "source": [
    "### 6. After making changes to an Image object, how could you save it as an image file?"
   ]
  },
  {
   "cell_type": "code",
   "execution_count": null,
   "id": "1b306a36",
   "metadata": {},
   "outputs": [],
   "source": [
    "from PIL import Image \n",
    "import PIL \n",
    "  \n",
    "im1 = Image.open(r\"C:\\Users\\System-Pc\\Desktop\\flower1.jpg\") \n",
    "  \n",
    "# save a image using extension\n",
    "im1 = im1.save(\"sample.jpg\")"
   ]
  },
  {
   "cell_type": "markdown",
   "id": "dd1db2a2",
   "metadata": {},
   "source": [
    "### 7. What module contains Pillow’s shape-drawing code?"
   ]
  },
  {
   "cell_type": "markdown",
   "id": "9b4450a2",
   "metadata": {},
   "source": [
    "ImageDraw module"
   ]
  },
  {
   "cell_type": "markdown",
   "id": "43ef0fc9",
   "metadata": {},
   "source": [
    "### 8. Image objects do not have drawing methods. What kind of object does? How do you get this kind of object?"
   ]
  },
  {
   "cell_type": "code",
   "execution_count": null,
   "id": "c82a6ea8",
   "metadata": {},
   "outputs": [],
   "source": [
    "by importing :\n",
    "    \n",
    "from PIL import Image, ImageDraw\n",
    "\n",
    "w, h = 220, 190\n",
    "shape = [(40, 40), (w - 10, h - 10)]\n",
    "  \n",
    "# creating new Image object\n",
    "img = Image.new(\"RGB\", (w, h))\n",
    "  \n",
    "# create rectangle image\n",
    "img1 = ImageDraw.Draw(img)  \n",
    "img1.rectangle(shape, fill =\"# ffff33\", outline =\"red\")\n",
    "img.show()"
   ]
  }
 ],
 "metadata": {
  "kernelspec": {
   "display_name": "Python 3 (ipykernel)",
   "language": "python",
   "name": "python3"
  },
  "language_info": {
   "codemirror_mode": {
    "name": "ipython",
    "version": 3
   },
   "file_extension": ".py",
   "mimetype": "text/x-python",
   "name": "python",
   "nbconvert_exporter": "python",
   "pygments_lexer": "ipython3",
   "version": "3.9.7"
  }
 },
 "nbformat": 4,
 "nbformat_minor": 5
}
